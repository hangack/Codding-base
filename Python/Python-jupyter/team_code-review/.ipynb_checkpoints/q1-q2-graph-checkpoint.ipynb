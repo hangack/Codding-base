{
 "cells": [
  {
   "cell_type": "code",
   "execution_count": 9,
   "metadata": {
    "_cell_guid": "b1076dfc-b9ad-4769-8c92-a6c4dae69d19",
    "_uuid": "8f2839f25d086af736a60e9eeb907d3b93b6e0e5",
    "execution": {
     "iopub.execute_input": "2021-11-16T00:11:15.969904Z",
     "iopub.status.busy": "2021-11-16T00:11:15.969484Z",
     "iopub.status.idle": "2021-11-16T00:11:15.983984Z",
     "shell.execute_reply": "2021-11-16T00:11:15.983116Z",
     "shell.execute_reply.started": "2021-11-16T00:11:15.969871Z"
    }
   },
   "outputs": [],
   "source": [
    "# This Python 3 environment comes with many helpful analytics libraries installed\n",
    "# It is defined by the kaggle/python Docker image: https://github.com/kaggle/docker-python\n",
    "# For example, here's several helpful packages to load\n",
    "\n",
    "import numpy as np # linear algebra\n",
    "import pandas as pd # data processing, CSV file I/O (e.g. pd.read_csv)\n",
    "\n",
    "# Input data files are available in the read-only \"../input/\" directory\n",
    "# For example, running this (by clicking run or pressing Shift+Enter) will list all files under the input directory\n",
    "\n",
    "import os\n",
    "for dirname, _, filenames in os.walk('/kaggle/input'):\n",
    "    for filename in filenames:\n",
    "        print(os.path.join(dirname, filename))\n",
    "\n",
    "# You can write up to 20GB to the current directory (/kaggle/working/) that gets preserved as output when you create a version using \"Save & Run All\" \n",
    "# You can also write temporary files to /kaggle/temp/, but they won't be saved outside of the current session"
   ]
  },
  {
   "cell_type": "code",
   "execution_count": 10,
   "metadata": {
    "execution": {
     "iopub.execute_input": "2021-11-16T00:11:15.985688Z",
     "iopub.status.busy": "2021-11-16T00:11:15.985220Z",
     "iopub.status.idle": "2021-11-16T00:11:15.990542Z",
     "shell.execute_reply": "2021-11-16T00:11:15.989622Z",
     "shell.execute_reply.started": "2021-11-16T00:11:15.985653Z"
    }
   },
   "outputs": [],
   "source": [
    "from plotly.offline import plot, iplot, init_notebook_mode\n",
    "init_notebook_mode(connected=True)"
   ]
  },
  {
   "cell_type": "code",
   "execution_count": 11,
   "metadata": {
    "execution": {
     "iopub.execute_input": "2021-11-16T00:11:15.991844Z",
     "iopub.status.busy": "2021-11-16T00:11:15.991589Z",
     "iopub.status.idle": "2021-11-16T00:11:17.519115Z",
     "shell.execute_reply": "2021-11-16T00:11:17.518185Z",
     "shell.execute_reply.started": "2021-11-16T00:11:15.991814Z"
    }
   },
   "outputs": [],
   "source": [
    "import matplotlib.pyplot as plt\n",
    "import plotly.express as px\n",
    "import plotly.graph_objects as go\n",
    "from warnings import filterwarnings\n",
    "from plotly.subplots import make_subplots\n",
    "filterwarnings('ignore')\n",
    "\n",
    "colors = ['#B1EDED','#B1B2ED','#1DE7ED','#1DA5ED','#1D50ED','#16548E']\n",
    "gen_colors = ['#4169E1','#B2182B','#81007F','#D1B2FF','#EFE4E2']\n",
    "JP_colors = ['#D90B0B','#F24444','#EFE4E2','#FCCE88','#64807F']\n",
    "CN_colors = ['#E0201B','#FFCE3F','#A63F03','#04BF33','#F2E6D8']\n",
    "\n",
    "\n",
    "df21 = pd.read_csv('../input/kaggle-survey-2021/kaggle_survey_2021_responses.csv')\n",
    "df19 = pd.read_csv('../input/kaggle-survey-2019/multiple_choice_responses.csv')\n",
    "\n",
    "df19.head()"
   ]
  },
  {
   "cell_type": "code",
   "execution_count": 12,
   "metadata": {
    "execution": {
     "iopub.execute_input": "2021-11-16T00:11:17.521932Z",
     "iopub.status.busy": "2021-11-16T00:11:17.521576Z",
     "iopub.status.idle": "2021-11-16T00:11:17.549599Z",
     "shell.execute_reply": "2021-11-16T00:11:17.548968Z",
     "shell.execute_reply.started": "2021-11-16T00:11:17.521888Z"
    }
   },
   "outputs": [],
   "source": [
    "JP_ndarray = df19[df19['Q3'] == 'Japan']['Q2'].values\n",
    "CN_ndarray = df19[df19['Q3'] == 'China']['Q2'].values\n",
    "JP_age_list = [] # 'Male'을 'Man'으로 바꿔담을 빈 리스트 생성\n",
    "CN_age_list = []\n",
    "\n",
    "for item in JP_ndarray:\n",
    "    if item == 'Male':\n",
    "        # 문자열 치환\n",
    "        item_mod = item.replace('Male','Man')\n",
    "        # 새로운 리스트에 추가\n",
    "        JP_age_list.append(item_mod)\n",
    "    elif item == 'Female':\n",
    "        item_mod2 = item.replace('Female','Woman')\n",
    "        JP_age_list.append(item_mod2)\n",
    "    else :\n",
    "        JP_age_list.append(item)\n",
    "\n",
    "for item in CN_ndarray:\n",
    "    if item == 'Male':\n",
    "        # 문자열 치환\n",
    "        item_mod = item.replace('Male','Man')\n",
    "        # 새로운 리스트에 추가\n",
    "        CN_age_list.append(item_mod)\n",
    "    elif item == 'Female':\n",
    "        item_mod2 = item.replace('Female','Woman')\n",
    "        CN_age_list.append(item_mod2)\n",
    "    else :\n",
    "        CN_age_list.append(item)\n",
    "\n",
    "JP_age_series = pd.Series(JP_age_list)\n",
    "CN_age_series = pd.Series(CN_age_list)\n",
    "#함수 필"
   ]
  },
  {
   "cell_type": "code",
   "execution_count": 13,
   "metadata": {
    "execution": {
     "iopub.execute_input": "2021-11-16T00:11:17.551447Z",
     "iopub.status.busy": "2021-11-16T00:11:17.550720Z",
     "iopub.status.idle": "2021-11-16T00:11:17.556296Z",
     "shell.execute_reply": "2021-11-16T00:11:17.555665Z",
     "shell.execute_reply.started": "2021-11-16T00:11:17.551415Z"
    }
   },
   "outputs": [],
   "source": [
    "def group(data, country, question_num):\n",
    "    return data[data['Q3'] == country][question_num].value_counts()\n",
    "\n",
    "def go_Bar(name_input, axis, color):\n",
    "    return go.Bar( \n",
    "                name=name_input,\n",
    "                x=axis.index,\n",
    "                y=axis.values,\n",
    "                marker_color=color)\n",
    "\n",
    "def go_Pie(country, label_value):\n",
    "    return go.Pie(title = country,\n",
    "                  labels = label_value.index,\n",
    "                  values = label_value.values,\n",
    "                  textinfo = 'label+percent',\n",
    "                  rotation=315,\n",
    "                  hole = .3,)\n"
   ]
  },
  {
   "cell_type": "code",
   "execution_count": 14,
   "metadata": {
    "execution": {
     "iopub.execute_input": "2021-11-16T00:11:17.557489Z",
     "iopub.status.busy": "2021-11-16T00:11:17.557260Z",
     "iopub.status.idle": "2021-11-16T00:11:17.644641Z",
     "shell.execute_reply": "2021-11-16T00:11:17.643850Z",
     "shell.execute_reply.started": "2021-11-16T00:11:17.557458Z"
    }
   },
   "outputs": [],
   "source": [
    "JP_age_19 =  group(df19,'Japan','Q1').sort_index()\n",
    "JP_age_21 =  group(df21,'Japan','Q1').sort_index()\n",
    "CN_age_19 =  group(df19,'China','Q1').sort_index()\n",
    "CN_age_21 =  group(df21,'China','Q1').sort_index()\n",
    "\n",
    "\n",
    "fig_19_age = go.Figure(data=[ \n",
    "                        go_Bar('Japan', JP_age_19, JP_colors[0]),\n",
    "                        go_Bar('China', CN_age_19, CN_colors[1])\n",
    "])\n",
    "\n",
    "fig_21_age = go.Figure(data=[ \n",
    "                        go_Bar('Japan', JP_age_21, JP_colors[0]),\n",
    "                        go_Bar('China', CN_age_21, CN_colors[1])\n",
    "])\n",
    "\n",
    "fig_19_age.update_layout(\n",
    "                    barmode='group',\n",
    "                    title_text='2019 China and Japan age distribution',\n",
    "                    xaxis_title='Age',\n",
    "                    yaxis_title='Counts')\n",
    "\n",
    "fig_21_age.update_layout(\n",
    "                    barmode='group',\n",
    "                    title_text='2021 China and Japan age distribution',\n",
    "                    xaxis_title='Age',\n",
    "                    yaxis_title='Counts')\n",
    "fig_19_age.show()\n",
    "fig_21_age.show()"
   ]
  },
  {
   "cell_type": "code",
   "execution_count": 18,
   "metadata": {
    "_kg_hide-output": true,
    "execution": {
     "iopub.execute_input": "2021-11-16T00:12:09.018027Z",
     "iopub.status.busy": "2021-11-16T00:12:09.017710Z",
     "iopub.status.idle": "2021-11-16T00:12:09.082015Z",
     "shell.execute_reply": "2021-11-16T00:12:09.081362Z",
     "shell.execute_reply.started": "2021-11-16T00:12:09.017987Z"
    }
   },
   "outputs": [],
   "source": [
    "fig = make_subplots(rows=2, cols=2, specs=[[{'type':'domain'}, {'type':'domain'}],\n",
    "                                           [{'type':'domain'}, {'type':'domain'}]])\n",
    "'''\n",
    "def group(data, country, question_num):\n",
    "    return data[data['Q3'] == country][question_num].value_counts()\n",
    "\n",
    "def go_Pie(country, label_value):\n",
    "    return go.Pie(title = country,\n",
    "                  labels = label_value.index,\n",
    "                  values = label_value.values,\n",
    "                  textinfo = 'label+percent',\n",
    "                  hole = .3,)\n",
    "'''\n",
    "fig.add_trace(go_Pie('2019_Japan', JP_age_series.value_counts()),1,1)\n",
    "              \n",
    "fig.add_trace(go_Pie('2019_China', CN_age_series.value_counts()),1,2)\n",
    "\n",
    "fig.add_trace(go_Pie('2021_Japan', group(df21,'Japan','Q2')),2,1)\n",
    "\n",
    "fig.add_trace(go_Pie('2021_China', group(df21,'China','Q2')),2,2)\n",
    "\n",
    "fig.update_traces(marker=dict(colors=gen_colors[0:]))\n",
    "fig.update_layout(title_text='Gender Distribution',\n",
    "                  paper_bgcolor='ivory',\n",
    "                  showlegend=True,\n",
    "                  autosize=True,\n",
    "                  height=700)\n",
    "fig.show()"
   ]
  },
  {
   "cell_type": "code",
   "execution_count": 16,
   "metadata": {
    "execution": {
     "iopub.execute_input": "2021-11-16T00:11:17.713014Z",
     "iopub.status.busy": "2021-11-16T00:11:17.712781Z",
     "iopub.status.idle": "2021-11-16T00:11:17.728488Z",
     "shell.execute_reply": "2021-11-16T00:11:17.726733Z",
     "shell.execute_reply.started": "2021-11-16T00:11:17.712986Z"
    }
   },
   "outputs": [],
   "source": [
    "print(len(ndarray))"
   ]
  },
  {
   "cell_type": "code",
   "execution_count": null,
   "metadata": {
    "execution": {
     "iopub.status.busy": "2021-11-16T00:11:17.729495Z",
     "iopub.status.idle": "2021-11-16T00:11:17.730447Z",
     "shell.execute_reply": "2021-11-16T00:11:17.730255Z",
     "shell.execute_reply.started": "2021-11-16T00:11:17.730229Z"
    }
   },
   "outputs": [],
   "source": [
    "df19[df19['Q3'] == 'Japan']['Q2']"
   ]
  },
  {
   "cell_type": "code",
   "execution_count": null,
   "metadata": {
    "execution": {
     "iopub.status.busy": "2021-11-16T00:11:17.731658Z",
     "iopub.status.idle": "2021-11-16T00:11:17.732499Z",
     "shell.execute_reply": "2021-11-16T00:11:17.732307Z",
     "shell.execute_reply.started": "2021-11-16T00:11:17.732278Z"
    }
   },
   "outputs": [],
   "source": [
    "print(type(df21[df21['Q3'] == 'Japan']['Q2']))"
   ]
  },
  {
   "cell_type": "code",
   "execution_count": null,
   "metadata": {
    "execution": {
     "iopub.status.busy": "2021-11-16T00:11:17.733444Z",
     "iopub.status.idle": "2021-11-16T00:11:17.733732Z",
     "shell.execute_reply": "2021-11-16T00:11:17.733596Z",
     "shell.execute_reply.started": "2021-11-16T00:11:17.733581Z"
    }
   },
   "outputs": [],
   "source": [
    "df21[df21['Q3'] == 'Japan']['Q2'].value_counts()"
   ]
  },
  {
   "cell_type": "code",
   "execution_count": null,
   "metadata": {
    "execution": {
     "iopub.status.busy": "2021-11-16T00:11:17.735550Z",
     "iopub.status.idle": "2021-11-16T00:11:17.736034Z",
     "shell.execute_reply": "2021-11-16T00:11:17.735815Z",
     "shell.execute_reply.started": "2021-11-16T00:11:17.735788Z"
    }
   },
   "outputs": [],
   "source": [
    "df19[df19['Q3'] == 'Japan']['Q1'].value_counts()"
   ]
  },
  {
   "cell_type": "code",
   "execution_count": null,
   "metadata": {
    "execution": {
     "iopub.status.busy": "2021-11-16T00:11:17.737438Z",
     "iopub.status.idle": "2021-11-16T00:11:17.738056Z",
     "shell.execute_reply": "2021-11-16T00:11:17.737885Z",
     "shell.execute_reply.started": "2021-11-16T00:11:17.737861Z"
    }
   },
   "outputs": [],
   "source": [
    "(df19[df19['Q3'] == 'Japan']['Q1'].value_counts()).sort_index()"
   ]
  },
  {
   "cell_type": "code",
   "execution_count": null,
   "metadata": {
    "execution": {
     "iopub.status.busy": "2021-11-16T00:11:17.739174Z",
     "iopub.status.idle": "2021-11-16T00:11:17.739984Z",
     "shell.execute_reply": "2021-11-16T00:11:17.739818Z",
     "shell.execute_reply.started": "2021-11-16T00:11:17.739789Z"
    }
   },
   "outputs": [],
   "source": [
    "JP_age_19 =  group(df19,'Japan','Q1').sort_index()\n",
    "JP_age_21 =  group(df21,'Japan','Q1').sort_index()\n",
    "CN_age_19 =  group(df19,'China','Q1').sort_index()\n",
    "CN_age_21 =  group(df21,'China','Q1').sort_index()\n",
    "\n",
    "fig = make_subplots(rows=1, cols=2, specs=[[{'type':'domain'}, {'type':'domain'}]])\n",
    "\n",
    "fig.add_trace(go_Bar('Japan', JP_age_19, JP_colors[0]),\n",
    "              go_Bar('China', CN_age_19, CN_colors[1]),1,1)\n",
    "fig.add_trace(go_Bar('Japan', JP_age_21, JP_colors[0]),\n",
    "              go_Bar('China', CN_age_21, CN_colors[1]),1,2)\n",
    "\n",
    "fig.update_layout(\n",
    "                    barmode='group',\n",
    "                    title_text='Age distribution of China & Japan',\n",
    "                    xaxis_title='Age',\n",
    "                    yaxis_title='Counts')\n",
    "fig.show()"
   ]
  },
  {
   "cell_type": "code",
   "execution_count": null,
   "metadata": {
    "execution": {
     "iopub.status.busy": "2021-11-16T00:11:17.740933Z",
     "iopub.status.idle": "2021-11-16T00:11:17.741242Z",
     "shell.execute_reply": "2021-11-16T00:11:17.741104Z",
     "shell.execute_reply.started": "2021-11-16T00:11:17.741082Z"
    }
   },
   "outputs": [],
   "source": [
    "JP_age_19 =  group(df19,'Japan','Q1').sort_index()\n",
    "JP_age_21 =  group(df21,'Japan','Q1').sort_index()\n",
    "CN_age_19 =  group(df19,'China','Q1').sort_index()\n",
    "CN_age_21 =  group(df21,'China','Q1').sort_index()\n",
    "\n",
    "fig = make_subplots(rows=1, cols=2)\n",
    "\n",
    "fig.add_bar(y=[2, 1, 3],\n",
    "            marker=dict(color=\"MediumPurple\"),\n",
    "            name=\"b\", row=1, col=1)\n",
    "\n",
    "fig.add_bar(y=[1, 3, 2],\n",
    "            marker=dict(color=\"LightSeaGreen\"),\n",
    "            name=\"d\", row=1, col=2)\n",
    "\n",
    "'''\n",
    "fig.add_trace(go_Bar('Japan', JP_age_19, JP_age_19, JP_colors[0]),\n",
    "              go_Bar('China', CN_age_19, CN_age_19, CN_colors[1]),1,1)\n",
    "fig.add_trace(go_Bar('Japan', JP_age_21, JP_age_21, JP_colors[0]),\n",
    "              go_Bar('China', CN_age_21, CN_age_21, CN_colors[1]),1,2)\n",
    "'''\n",
    "fig.update_layout(\n",
    "                    barmode='group',\n",
    "                    title_text='Age distribution of China & Japan',\n",
    "                    xaxis_title='Age',\n",
    "                    yaxis_title='Counts')\n",
    "fig.show()"
   ]
  }
 ],
 "metadata": {
  "kernelspec": {
   "display_name": "Python 3",
   "language": "python",
   "name": "python3"
  },
  "language_info": {
   "codemirror_mode": {
    "name": "ipython",
    "version": 3
   },
   "file_extension": ".py",
   "mimetype": "text/x-python",
   "name": "python",
   "nbconvert_exporter": "python",
   "pygments_lexer": "ipython3",
   "version": "3.8.8"
  }
 },
 "nbformat": 4,
 "nbformat_minor": 4
}
