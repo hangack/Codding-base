{
 "cells": [
  {
   "cell_type": "code",
   "execution_count": 26,
   "metadata": {
    "_cell_guid": "b1076dfc-b9ad-4769-8c92-a6c4dae69d19",
    "_uuid": "8f2839f25d086af736a60e9eeb907d3b93b6e0e5",
    "execution": {
     "iopub.execute_input": "2021-11-19T02:26:41.519420Z",
     "iopub.status.busy": "2021-11-19T02:26:41.518356Z",
     "iopub.status.idle": "2021-11-19T02:26:41.535301Z",
     "shell.execute_reply": "2021-11-19T02:26:41.534457Z",
     "shell.execute_reply.started": "2021-11-19T02:26:41.519346Z"
    }
   },
   "outputs": [],
   "source": [
    "# This Python 3 environment comes with many helpful analytics libraries installed\n",
    "# It is defined by the kaggle/python Docker image: https://github.com/kaggle/docker-python\n",
    "# For example, here's several helpful packages to load\n",
    "\n",
    "import numpy as np # linear algebra\n",
    "import pandas as pd # data processing, CSV file I/O (e.g. pd.read_csv)\n",
    "\n",
    "# Input data files are available in the read-only \"../input/\" directory\n",
    "# For example, running this (by clicking run or pressing Shift+Enter) will list all files under the input directory\n",
    "\n",
    "import os\n",
    "for dirname, _, filenames in os.walk('/kaggle/input'):\n",
    "    for filename in filenames:\n",
    "        print(os.path.join(dirname, filename))\n",
    "\n",
    "# You can write up to 20GB to the current directory (/kaggle/working/) that gets preserved as output when you create a version using \"Save & Run All\" \n",
    "# You can also write temporary files to /kaggle/temp/, but they won't be saved outside of the current session"
   ]
  },
  {
   "cell_type": "code",
   "execution_count": 27,
   "metadata": {
    "execution": {
     "iopub.execute_input": "2021-11-19T02:26:41.537984Z",
     "iopub.status.busy": "2021-11-19T02:26:41.537260Z",
     "iopub.status.idle": "2021-11-19T02:26:43.243474Z",
     "shell.execute_reply": "2021-11-19T02:26:43.242874Z",
     "shell.execute_reply.started": "2021-11-19T02:26:41.537938Z"
    }
   },
   "outputs": [],
   "source": [
    "import plotly.express as px\n",
    "import plotly.graph_objects as go\n",
    "from warnings import filterwarnings\n",
    "from plotly.subplots import make_subplots\n",
    "from plotly.offline import plot, iplot, init_notebook_mode\n",
    "init_notebook_mode(connected=True)\n",
    "filterwarnings('ignore')\n",
    "\n",
    "colors = ['#B1EDED','#B1B2ED','#1DE7ED','#1DA5ED','#1D50ED','#16548E']\n",
    "gen_colors = ['#4169E1','#B2182B','#81007F','#D1B2FF','#EFE4E2']\n",
    "JP_colors = ['#D90B0B','#F24444','#EFE4E2','#FCCE88','#64807F']\n",
    "CN_colors = ['#E0201B','#FFCE3F','#A63F03','#04BF33','#F2E6D8']\n",
    "coun_years_colors = ['#FDB0C0','#FFDB81','#FD4659','#FFAB0F']\n",
    "\n",
    "coun_years = ['2019_JP','2019_CN','2021_JP','2021_CN']\n",
    "\n",
    "\n",
    "df19 = pd.read_csv('../input/kaggle-survey-2019/multiple_choice_responses.csv')\n",
    "df21 = pd.read_csv('../input/kaggle-survey-2021/kaggle_survey_2021_responses.csv')\n",
    "\n",
    "df21.head()"
   ]
  },
  {
   "cell_type": "code",
   "execution_count": 28,
   "metadata": {
    "execution": {
     "iopub.execute_input": "2021-11-19T02:26:43.245185Z",
     "iopub.status.busy": "2021-11-19T02:26:43.244687Z",
     "iopub.status.idle": "2021-11-19T02:26:43.587023Z",
     "shell.execute_reply": "2021-11-19T02:26:43.586144Z",
     "shell.execute_reply.started": "2021-11-19T02:26:43.245150Z"
    },
    "jupyter": {
     "source_hidden": true
    }
   },
   "outputs": [],
   "source": [
    "# define\n",
    "def group(data, country, question_num):\n",
    "    return data[data['Q3'] == country][question_num].value_counts()\n",
    "\n",
    "\n",
    "def go_Pie(country, label_value):\n",
    "    return go.Pie(title = country,\n",
    "                  labels = label_value.index,\n",
    "                  values = label_value.values,\n",
    "                  textinfo = 'label+percent',\n",
    "                  rotation=315,\n",
    "                  hole = .3,)\n",
    "\n",
    "# -----------------------------------------------------------\n",
    "\n",
    "# Q1\n",
    "JP_age_19 = group(df19,'Japan','Q1').sort_index()\n",
    "\n",
    "JP_age_21 = group(df21,'Japan','Q1').sort_index()\n",
    "\n",
    "CN_age_19 = group(df19,'China','Q1')\n",
    "CN_age_19.loc['55-59'] = 0\n",
    "CN_age_19.loc['60-69'] = 0\n",
    "CN_age_19 = CN_age_19.sort_index()\n",
    "\n",
    "CN_age_21 = group(df21,'China','Q1')\n",
    "CN_age_21.loc['60-69'] = 0\n",
    "CN_age_21 = CN_age_21.sort_index()\n",
    "\n",
    "# -----------------------------------------------------------\n",
    "\n",
    "# Q3\n",
    "JP_ndarray = df19[df19['Q3'] == 'Japan']['Q2'].values\n",
    "CN_ndarray = df19[df19['Q3'] == 'China']['Q2'].values\n",
    "JP_age_list = [] # 'Male'을 'Man'으로 바꿔담을 빈 리스트 생성\n",
    "CN_age_list = []\n",
    "\n",
    "for item in JP_ndarray:\n",
    "    if item == 'Male':\n",
    "        # 문자열 치환\n",
    "        item_mod = item.replace('Male','Man')\n",
    "        # 새로운 리스트에 추가\n",
    "        JP_age_list.append(item_mod)\n",
    "    elif item == 'Female':\n",
    "        item_mod2 = item.replace('Female','Woman')\n",
    "        JP_age_list.append(item_mod2)\n",
    "    else :\n",
    "        JP_age_list.append(item)\n",
    "\n",
    "for item in CN_ndarray:\n",
    "    if item == 'Male':\n",
    "        # 문자열 치환\n",
    "        item_mod = item.replace('Male','Man')\n",
    "        # 새로운 리스트에 추가\n",
    "        CN_age_list.append(item_mod)\n",
    "    elif item == 'Female':\n",
    "        item_mod2 = item.replace('Female','Woman')\n",
    "        CN_age_list.append(item_mod2)\n",
    "    else :\n",
    "        CN_age_list.append(item)\n",
    "\n",
    "JP_age_series = pd.Series(JP_age_list)\n",
    "CN_age_series = pd.Series(CN_age_list)\n",
    "\n",
    "\n",
    "years = ['2019', '2021']\n",
    "JP_country_count_19 = (df19[df19['Q3'] == 'Japan']['Q3']).count()\n",
    "CN_country_count_19 = (df19[df19['Q3'] == 'China']['Q3']).count()\n",
    "JP_country_count_21 = (df21[df21['Q3'] == 'Japan']['Q3']).count()\n",
    "CN_country_count_21 = (df21[df21['Q3'] == 'China']['Q3']).count()\n",
    "\n",
    "JP_country_count_19_21 = [JP_country_count_19, JP_country_count_21]\n",
    "CN_country_count_19_21 = [CN_country_count_19, CN_country_count_21]\n",
    "\n",
    "# -----------------------------------------------------------\n",
    "\n",
    "# Q14\n",
    "df19_JP = df19[df19.Q3.isin(['Japan'])]\n",
    "df19_CN = df19[df19.Q3.isin(['China'])]\n",
    "df21_JP = df21[df21.Q3.isin(['Japan'])]\n",
    "df21_CN = df21[df21.Q3.isin(['China'])]\n",
    "df19_JP_Q14 = pd.DataFrame()\n",
    "df19_CN_Q14 = pd.DataFrame()\n",
    "df21_JP_Q14 = pd.DataFrame()\n",
    "df21_CN_Q14 = pd.DataFrame()\n",
    "df19_JP_Q14['Q20'] = [df19_JP[col][1:].value_counts().index[0] for col in df19_JP.columns[97:109]]\n",
    "df19_CN_Q14['Q20'] = [df19_CN[col][1:].value_counts().index[0] for col in df19_CN.columns[97:109]]\n",
    "df21_JP_Q14['Q14'] = [df21_JP[col][1:].value_counts().index[0] for col in df21_JP.columns[59:71]]\n",
    "df21_CN_Q14['Q14'] = [df21_CN[col][1:].value_counts().index[0] for col in df21_CN.columns[59:71]]\n",
    "df19_JP_Q14['counts'] = [df19_JP[col][1:].value_counts().values[0] for col in df19_JP.columns[97:109]]\n",
    "df19_CN_Q14['counts'] = [df19_CN[col][1:].value_counts().values[0] for col in df19_CN.columns[97:109]]\n",
    "df21_JP_Q14['counts'] = [df21_JP[col][1:].value_counts().values[0] for col in df21_JP.columns[59:71]]\n",
    "df21_CN_Q14['counts'] = [df21_CN[col][1:].value_counts().values[0] for col in df21_CN.columns[59:71]]\n",
    "\n",
    "\n",
    "df19_JP_Q14.index = [3,0,6,4,5,2,7,1,8,9,10,11]\n",
    "df19_CN_Q14.index = [3,0,6,4,5,2,7,1,8,9,10,11]\n",
    "df19_JP_Q14 = df19_JP_Q14.sort_index()\n",
    "df19_CN_Q14 = df19_CN_Q14.sort_index()\n",
    "df21_JP_Q14['Q14'].index = [0,1,2,3,4,5,6,7,8,9,10,11]\n",
    "df21_CN_Q14['Q14'].index = [0,1,2,3,4,5,6,7,8,9,10,11]\n",
    "df19_JP_Q14.replace(regex = 'D3.js', value = 'D3 js', inplace = True)\n",
    "df19_CN_Q14.replace(regex = 'D3.js', value = 'D3 js', inplace = True)\n",
    "\n",
    "# Q16\n",
    "df19_JP_Q16 = pd.DataFrame()\n",
    "df19_CN_Q16 = pd.DataFrame()\n",
    "df21_JP_Q16 = pd.DataFrame()\n",
    "df21_CN_Q16 = pd.DataFrame()\n",
    "df19_JP_Q16['Q28'] = [df19_JP[col][1:].value_counts().index[0] for col in df19_JP.columns[155:166]]\n",
    "df19_CN_Q16['Q28'] = [df19_CN[col][1:].value_counts().index[0] for col in df19_CN.columns[155:166]]\n",
    "df21_JP_Q16['Q16'] = [df21_JP[col][1:].value_counts().index[0] for col in df21_JP.columns[72:89]]\n",
    "df21_CN_Q16['Q16'] = [df21_CN[col][1:].value_counts().index[0] for col in df21_CN.columns[72:89]]\n",
    "df19_JP_Q16['counts'] = [df19_JP[col][1:].value_counts().values[0] for col in df19_JP.columns[155:166]]\n",
    "df19_CN_Q16['counts'] = [df19_CN[col][1:].value_counts().values[0] for col in df19_CN.columns[155:166]]\n",
    "df21_JP_Q16['counts'] = [df21_JP[col][1:].value_counts().values[0] for col in df21_JP.columns[72:89]]\n",
    "df21_CN_Q16['counts'] = [df21_CN[col][1:].value_counts().values[0] for col in df21_CN.columns[72:89]]\n",
    "df19_JP_Q16 = df19_JP_Q16.sort_index()\n",
    "df19_CN_Q16 = df19_CN_Q16.sort_index()"
   ]
  },
  {
   "cell_type": "markdown",
   "metadata": {},
   "source": [
    "## JAPAN & CHINA AGE Distribution"
   ]
  },
  {
   "cell_type": "code",
   "execution_count": 29,
   "metadata": {
    "execution": {
     "iopub.execute_input": "2021-11-19T02:26:43.588923Z",
     "iopub.status.busy": "2021-11-19T02:26:43.588689Z",
     "iopub.status.idle": "2021-11-19T02:26:43.635743Z",
     "shell.execute_reply": "2021-11-19T02:26:43.634768Z",
     "shell.execute_reply.started": "2021-11-19T02:26:43.588895Z"
    }
   },
   "outputs": [],
   "source": [
    "fig_age = make_subplots(rows=1, cols=2, specs=[[{'type':'xy'}, {'type':'xy'}]])\n",
    "\n",
    "fig_age.add_trace(go.Bar(name=coun_years[0], x=JP_age_19.index, y=JP_age_19.values, marker_color='#FDB0C0'),1,1)\n",
    "fig_age.add_trace(go.Bar(name=coun_years[2], x=JP_age_21.index, y=JP_age_21.values, marker_color='#FD4659'),1,1)\n",
    "fig_age.add_trace(go.Bar(name=coun_years[1], x=CN_age_19.index, y=CN_age_19.values, marker_color='#FFDB81'),1,2)\n",
    "fig_age.add_trace(go.Bar(name=coun_years[3], x=CN_age_21.index, y=CN_age_21.values, marker_color='#FFAB0F'),1,2)\n",
    "\n",
    "fig_age.update_layout(barmode='group', title_text='2019 & 2021, Japan and China age distribution', showlegend=True)\n",
    "\n",
    "fig_age.update_xaxes(title_text='Japan Age distribution', row=1, col=1)\n",
    "fig_age.update_yaxes(title_text='Counts', row=1, col=1)\n",
    "fig_age.update_xaxes(title_text='China Age distribution', row=1, col=2)\n",
    "fig_age.update_yaxes(title_text='Counts', row=1, col=2)\n",
    "\n",
    "fig_age.show()"
   ]
  },
  {
   "cell_type": "code",
   "execution_count": 30,
   "metadata": {
    "execution": {
     "iopub.execute_input": "2021-11-19T02:26:43.638092Z",
     "iopub.status.busy": "2021-11-19T02:26:43.637588Z",
     "iopub.status.idle": "2021-11-19T02:26:43.726941Z",
     "shell.execute_reply": "2021-11-19T02:26:43.726067Z",
     "shell.execute_reply.started": "2021-11-19T02:26:43.638048Z"
    }
   },
   "outputs": [],
   "source": [
    "fig = make_subplots(rows=2, cols=2, specs=[[{'type':'domain'}, {'type':'domain'}],\n",
    "                                           [{'type':'domain'}, {'type':'domain'}]])\n",
    "\n",
    "fig.add_trace(go_Pie('2019_Japan', JP_age_series.value_counts()),1,1)\n",
    "fig.add_trace(go_Pie('2019_China', CN_age_series.value_counts()),1,2)\n",
    "fig.add_trace(go_Pie('2021_Japan', group(df21,'Japan','Q2')),2,1)\n",
    "fig.add_trace(go_Pie('2021_China', group(df21,'China','Q2')),2,2)\n",
    "\n",
    "fig.update_traces(marker=dict(colors=gen_colors[0:]))\n",
    "fig.update_layout(title_text='Gender Distribution',\n",
    "                  showlegend=True,\n",
    "                  autosize=True,\n",
    "                  height=700)\n",
    "fig.show()"
   ]
  },
  {
   "cell_type": "code",
   "execution_count": 31,
   "metadata": {
    "execution": {
     "iopub.execute_input": "2021-11-19T02:26:43.728282Z",
     "iopub.status.busy": "2021-11-19T02:26:43.728057Z",
     "iopub.status.idle": "2021-11-19T02:26:43.743557Z",
     "shell.execute_reply": "2021-11-19T02:26:43.742605Z",
     "shell.execute_reply.started": "2021-11-19T02:26:43.728255Z"
    }
   },
   "outputs": [],
   "source": [
    "fig_country = go.Figure(data=[\n",
    "    go.Bar(name='Japan', x=years, y=JP_country_count_19_21, marker_color=JP_colors[0]),\n",
    "    go.Bar(name='China', x=years, y=CN_country_count_19_21, marker_color=CN_colors[1])\n",
    "])\n",
    "\n",
    "fig_country.update_layout(\n",
    "                    barmode='group',\n",
    "                    title_text='2019 & 2021, the number of Kaggler living in Japan and China',\n",
    "                    xaxis_title='Years',\n",
    "                    yaxis_title='Counts')\n",
    "fig_country.show()\n"
   ]
  },
  {
   "cell_type": "code",
   "execution_count": 32,
   "metadata": {
    "execution": {
     "iopub.execute_input": "2021-11-19T02:26:43.745015Z",
     "iopub.status.busy": "2021-11-19T02:26:43.744773Z",
     "iopub.status.idle": "2021-11-19T02:26:43.794621Z",
     "shell.execute_reply": "2021-11-19T02:26:43.793809Z",
     "shell.execute_reply.started": "2021-11-19T02:26:43.744976Z"
    }
   },
   "outputs": [],
   "source": [
    "fig_T = make_subplots(rows=1, cols=2, specs=[[{'type':'xy'}, {'type':'xy'}]])\n",
    "\n",
    "fig_T.add_trace(go.Bar(name=coun_years[0], x=df19_JP_Q14['Q20'].values, y=df19_JP_Q14['counts'].values, marker_color=coun_years_colors[0]),1,1)\n",
    "fig_T.add_trace(go.Bar(name=coun_years[1], x=df19_CN_Q14['Q20'].values, y=df19_CN_Q14['counts'].values, marker_color=coun_years_colors[1]),1,1)\n",
    "fig_T.add_trace(go.Bar(name=coun_years[2], x=df21_JP_Q14['Q14'].values, y=df21_JP_Q14['counts'].values, marker_color=coun_years_colors[2]),1,2)\n",
    "fig_T.add_trace(go.Bar(name=coun_years[3], x=df21_CN_Q14['Q14'].values, y=df21_CN_Q14['counts'].values, marker_color=coun_years_colors[3]),1,2)\n",
    "\n",
    "fig_T.update_layout(title_text='2019 & 2021, Visualization Library and Tools in Use',\n",
    "                    showlegend=True,\n",
    "                    autosize=True)\n",
    "\n",
    "fig_T.update_xaxes(title_text='2019 Library and Tools', row=1, col=1)\n",
    "fig_T.update_yaxes(title_text='Counts', row=1, col=1)\n",
    "fig_T.update_xaxes(title_text='2021 Library and Tools', row=1, col=2)\n",
    "fig_T.update_yaxes(title_text='Counts', row=1, col=2)\n",
    "\n",
    "fig_T.show()"
   ]
  },
  {
   "cell_type": "markdown",
   "metadata": {},
   "source": [
    "## Japan & China: Programming_Languages"
   ]
  },
  {
   "cell_type": "markdown",
   "metadata": {},
   "source": [
    "### 2021 Japan & China total"
   ]
  },
  {
   "cell_type": "code",
   "execution_count": 33,
   "metadata": {
    "execution": {
     "iopub.execute_input": "2021-11-19T02:26:43.796382Z",
     "iopub.status.busy": "2021-11-19T02:26:43.796069Z",
     "iopub.status.idle": "2021-11-19T02:26:43.836732Z",
     "shell.execute_reply": "2021-11-19T02:26:43.835878Z",
     "shell.execute_reply.started": "2021-11-19T02:26:43.796345Z"
    }
   },
   "outputs": [],
   "source": [
    "df21_ChJp = df21[df21.Q3.isin([\"Japan\",\"China\"])]\n",
    "\n",
    "df21_ChJp_total_PL = pd.DataFrame()\n",
    "df21_ChJp_total_PL['Program_Language'] = [df21_ChJp[col][1:].value_counts().index[0] for col in df21_ChJp.columns[7:20]]\n",
    "df21_ChJp_total_PL['counts'] = [df21_ChJp[col][1:].value_counts().values[0] for col in df21_ChJp.columns[7:20]]"
   ]
  },
  {
   "cell_type": "markdown",
   "metadata": {},
   "source": [
    "### 2019 Japan & China total"
   ]
  },
  {
   "cell_type": "code",
   "execution_count": 34,
   "metadata": {
    "execution": {
     "iopub.execute_input": "2021-11-19T02:26:43.839276Z",
     "iopub.status.busy": "2021-11-19T02:26:43.839054Z",
     "iopub.status.idle": "2021-11-19T02:26:43.867299Z",
     "shell.execute_reply": "2021-11-19T02:26:43.866702Z",
     "shell.execute_reply.started": "2021-11-19T02:26:43.839251Z"
    }
   },
   "outputs": [],
   "source": [
    "df19_ChJp = df19[df19.Q3.isin([\"Japan\",\"China\"])]\n",
    "\n",
    "df19_ChJp_total_PL = pd.DataFrame()\n",
    "df19_ChJp_total_PL['Program_Language'] = [df19_ChJp[col][1:].value_counts().index[0] for col in df19_ChJp.columns[82:94]]\n",
    "df19_ChJp_total_PL['counts'] = [df19_ChJp[col][1:].value_counts().values[0] for col in df19_ChJp.columns[82:94]]"
   ]
  },
  {
   "cell_type": "markdown",
   "metadata": {},
   "source": [
    "### Split Country"
   ]
  },
  {
   "cell_type": "markdown",
   "metadata": {},
   "source": [
    "#### 2021"
   ]
  },
  {
   "cell_type": "code",
   "execution_count": 35,
   "metadata": {
    "execution": {
     "iopub.execute_input": "2021-11-19T02:26:43.868877Z",
     "iopub.status.busy": "2021-11-19T02:26:43.868623Z",
     "iopub.status.idle": "2021-11-19T02:26:43.919547Z",
     "shell.execute_reply": "2021-11-19T02:26:43.918970Z",
     "shell.execute_reply.started": "2021-11-19T02:26:43.868848Z"
    }
   },
   "outputs": [],
   "source": [
    "df21_Ch = df21_ChJp[df21_ChJp.Q3.isin([\"China\"])]\n",
    "df21_Jp = df21_ChJp[df21_ChJp.Q3.isin([\"Japan\"])]\n",
    "\n",
    "\n",
    "\n",
    "df21_Jp_PL = pd.DataFrame()\n",
    "df21_Jp_PL['Program_Language'] = [df21_Jp[col][1:].value_counts().index[0] for col in df21_Jp.columns[7:20]]\n",
    "df21_Jp_PL['counts'] = [df21_Jp[col][1:].value_counts().values[0] for col in df21_Jp.columns[7:20]]\n",
    "\n",
    "\n",
    "## 2021 Ch: Q7_Part12 결측값 제거\n",
    "df21_Ch_rmQ07P12 = df21_Ch.drop(['Q7_Part_12'], axis='columns')\n",
    "\n",
    "df21_Ch_PL = pd.DataFrame()\n",
    "df21_Ch_PL['Program_Language'] = [df21_Ch_rmQ07P12[col][1:].value_counts() .index[0] for col in df21_Ch_rmQ07P12.columns[7:20]]\n",
    "df21_Ch_PL['counts'] = [df21_Ch_rmQ07P12[col][1:].value_counts() .values[0] for col in df21_Ch_rmQ07P12.columns[7:20]]\n",
    "\n",
    "\n",
    "\n",
    "df21_Jp_PL.insert(0, 'Country',  'Japan')\n",
    "df21_Ch_PL.insert(0, 'Country',  'China')\n",
    "\n",
    "df21_PL_JnC = pd.concat([df21_Jp_PL,df21_Ch_PL], ignore_index=True)"
   ]
  },
  {
   "cell_type": "markdown",
   "metadata": {},
   "source": [
    "#### 2019"
   ]
  },
  {
   "cell_type": "code",
   "execution_count": 36,
   "metadata": {
    "execution": {
     "iopub.execute_input": "2021-11-19T02:26:43.920852Z",
     "iopub.status.busy": "2021-11-19T02:26:43.920614Z",
     "iopub.status.idle": "2021-11-19T02:26:43.962109Z",
     "shell.execute_reply": "2021-11-19T02:26:43.961033Z",
     "shell.execute_reply.started": "2021-11-19T02:26:43.920824Z"
    }
   },
   "outputs": [],
   "source": [
    "df19_Ch = df19_ChJp[df19_ChJp.Q3.isin([\"China\"])]\n",
    "df19_Jp = df19_ChJp[df19_ChJp.Q3.isin([\"Japan\"])]\n",
    "\n",
    "\n",
    "\n",
    "df19_Jp_PL = pd.DataFrame()\n",
    "df19_Jp_PL['Program_Language'] = [df19_Jp[col][1:].value_counts().index[0] for col in df19_Jp.columns[82:94]]\n",
    "df19_Jp_PL['counts'] = [df19_Jp[col][1:].value_counts().values[0] for col in df19_Jp.columns[82:94]]\n",
    "\n",
    "\n",
    "## 19년도 Ch Q18_Part11 결측값 제거\n",
    "df19_Ch_rmQ18P11 = df19_Ch.drop(['Q18_Part_11'], axis='columns')\n",
    "\n",
    "df19_Ch_PL = pd.DataFrame()\n",
    "df19_Ch_PL['Program_Language'] = [df19_Ch_rmQ18P11[col][1:].value_counts() .index[0] for col in df19_Ch_rmQ18P11.columns[82:93]]\n",
    "df19_Ch_PL['counts'] = [df19_Ch_rmQ18P11[col][1:].value_counts() .values[0] for col in df19_Ch_rmQ18P11.columns[82:93]]\n",
    "\n",
    "\n",
    "\n",
    "df19_Jp_PL.insert(0, 'Country',  'Japan')\n",
    "df19_Ch_PL.insert(0, 'Country',  'China')\n",
    "\n",
    "df19_PL_JnC = pd.concat([df19_Jp_PL,df19_Ch_PL], ignore_index=True)"
   ]
  },
  {
   "cell_type": "markdown",
   "metadata": {},
   "source": [
    "### Split year{Country}"
   ]
  },
  {
   "cell_type": "code",
   "execution_count": 37,
   "metadata": {
    "execution": {
     "iopub.execute_input": "2021-11-19T02:26:43.965129Z",
     "iopub.status.busy": "2021-11-19T02:26:43.964889Z",
     "iopub.status.idle": "2021-11-19T02:26:43.971038Z",
     "shell.execute_reply": "2021-11-19T02:26:43.970443Z",
     "shell.execute_reply.started": "2021-11-19T02:26:43.965102Z"
    }
   },
   "outputs": [],
   "source": [
    "df21_PL_JnC.insert(0, 'year',  '2021')\n",
    "df19_PL_JnC.insert(0, 'year',  '2019')\n",
    "\n",
    "df_PL_JnC_21n19 = pd.concat([df21_PL_JnC,df19_PL_JnC], ignore_index=True)"
   ]
  },
  {
   "cell_type": "code",
   "execution_count": 38,
   "metadata": {
    "execution": {
     "iopub.execute_input": "2021-11-19T02:26:43.972739Z",
     "iopub.status.busy": "2021-11-19T02:26:43.972352Z",
     "iopub.status.idle": "2021-11-19T02:26:44.102883Z",
     "shell.execute_reply": "2021-11-19T02:26:44.102327Z",
     "shell.execute_reply.started": "2021-11-19T02:26:43.972710Z"
    }
   },
   "outputs": [],
   "source": [
    "fig = px.treemap(df_PL_JnC_21n19, path=[px.Constant(\"2019n2021\"),'year','Program_Language','Country'],\n",
    "                values='counts', color='Country',\n",
    "                  color_discrete_map={'(?)':'lightgrey', 'China':'gold', 'Japan':'darkblue'})\n",
    "\n",
    "fig.data[0].textinfo = 'label+percent parent+value'\n",
    "\n",
    "fig.update_layout(margin = dict(t=50, l=25, r=25, b=25))\n",
    "\n",
    "fig.show()"
   ]
  },
  {
   "cell_type": "markdown",
   "metadata": {},
   "source": [
    "## Japan & China: IDE's"
   ]
  },
  {
   "cell_type": "markdown",
   "metadata": {},
   "source": [
    "### Split Country"
   ]
  },
  {
   "cell_type": "markdown",
   "metadata": {},
   "source": [
    "#### 2021"
   ]
  },
  {
   "cell_type": "code",
   "execution_count": 39,
   "metadata": {
    "execution": {
     "iopub.execute_input": "2021-11-19T02:26:44.104339Z",
     "iopub.status.busy": "2021-11-19T02:26:44.103976Z",
     "iopub.status.idle": "2021-11-19T02:26:44.140476Z",
     "shell.execute_reply": "2021-11-19T02:26:44.139758Z",
     "shell.execute_reply.started": "2021-11-19T02:26:44.104299Z"
    }
   },
   "outputs": [],
   "source": [
    "#df21_Ch = df21_ChJp[df21.Q3.isin([\"China\"])]\n",
    "#df21_Jp = df21_ChJp[df21.Q3.isin([\"Japan\"])]\n",
    "\n",
    "\n",
    "\n",
    "df21_Jp_IDEs = pd.DataFrame()\n",
    "df21_Jp_IDEs['IDE\\'s'] = [df21_Jp[col][1:].value_counts().index[0] for col in df21_Jp.columns[21:34]]\n",
    "df21_Jp_IDEs['counts'] = [df21_Jp[col][1:].value_counts().values[0] for col in df21_Jp.columns[21:34]]\n",
    "\n",
    "\n",
    "df21_Ch_IDEs = pd.DataFrame()\n",
    "df21_Ch_IDEs['IDE\\'s'] = [df21_Ch[col][1:].value_counts().index[0] for col in df21_Ch.columns[21:34]]\n",
    "df21_Ch_IDEs['counts'] = [df21_Ch[col][1:].value_counts().values[0] for col in df21_Ch.columns[21:34]]\n",
    "\n",
    "\n",
    "\n",
    "#$df21_CQ9.loc['Q3',:] = ['China','China','China','China','China','China','China','China','China','China','China','China','China']\n",
    "df21_Ch_IDEs.insert(0, 'Country',  'China')\n",
    "df21_Jp_IDEs.insert(0, 'Country',  'Japan')\n",
    "\n",
    "df21_IDEs_JnC = pd.concat([df21_Jp_IDEs,df21_Ch_IDEs], ignore_index=True)"
   ]
  },
  {
   "cell_type": "markdown",
   "metadata": {},
   "source": [
    "#### 2019"
   ]
  },
  {
   "cell_type": "code",
   "execution_count": 40,
   "metadata": {
    "execution": {
     "iopub.execute_input": "2021-11-19T02:26:44.142083Z",
     "iopub.status.busy": "2021-11-19T02:26:44.141818Z",
     "iopub.status.idle": "2021-11-19T02:26:44.184173Z",
     "shell.execute_reply": "2021-11-19T02:26:44.183078Z",
     "shell.execute_reply.started": "2021-11-19T02:26:44.142054Z"
    }
   },
   "outputs": [],
   "source": [
    "#df19_Ch = df19_ChJp[df19.Q3.isin([\"China\"])]\n",
    "#df19_Jp = df19_ChJp[df19.Q3.isin([\"Japan\"])]\n",
    "\n",
    "\n",
    "df19_Jp_IDEs = pd.DataFrame()\n",
    "df19_Jp_IDEs['IDE\\'s'] = [df19_Jp[col][1:].value_counts().index[0] for col in df19_Jp.columns[56:68]]\n",
    "df19_Jp_IDEs['counts'] = [df19_Jp[col][1:].value_counts().values[0] for col in df19_Jp.columns[56:68]]\n",
    "\n",
    "\n",
    "df19_Ch_IDEs = pd.DataFrame()\n",
    "df19_Ch_IDEs['IDE\\'s'] = [df19_Ch[col][1:].value_counts().index[0] for col in df19_Ch.columns[56:68]]\n",
    "df19_Ch_IDEs['counts'] = [df19_Ch[col][1:].value_counts().values[0] for col in df19_Ch.columns[56:68]]\n",
    "\n",
    "\n",
    "\n",
    "df19_Jp_IDEs.insert(0, 'Country',  'China')\n",
    "df19_Ch_IDEs.insert(0, 'Country',  'Japan')\n",
    "\n",
    "df19_IDEs_JnC = pd.concat([df19_Jp_IDEs,df19_Ch_IDEs], ignore_index=True)"
   ]
  },
  {
   "cell_type": "markdown",
   "metadata": {},
   "source": [
    "### Split year{Country}"
   ]
  },
  {
   "cell_type": "code",
   "execution_count": 41,
   "metadata": {
    "execution": {
     "iopub.execute_input": "2021-11-19T02:26:44.186284Z",
     "iopub.status.busy": "2021-11-19T02:26:44.185557Z",
     "iopub.status.idle": "2021-11-19T02:26:44.194433Z",
     "shell.execute_reply": "2021-11-19T02:26:44.193575Z",
     "shell.execute_reply.started": "2021-11-19T02:26:44.186234Z"
    }
   },
   "outputs": [],
   "source": [
    "df21_IDEs_JnC.insert(0, 'year',  '2021')\n",
    "#df21_JCQ9.rename(columns={'Q9':'IDE'}, inplace = True)\n",
    "df19_IDEs_JnC.insert(0, 'year',  '2019')\n",
    "#df19_JCQ9.rename(columns={'Q16':'IDE'}, inplace = True)\n",
    "\n",
    "df_IDEs_JnC_21n19 = pd.concat([df21_IDEs_JnC,df19_IDEs_JnC], ignore_index=True)"
   ]
  },
  {
   "cell_type": "code",
   "execution_count": 42,
   "metadata": {
    "execution": {
     "iopub.execute_input": "2021-11-19T02:26:44.196172Z",
     "iopub.status.busy": "2021-11-19T02:26:44.195852Z",
     "iopub.status.idle": "2021-11-19T02:26:44.322589Z",
     "shell.execute_reply": "2021-11-19T02:26:44.321745Z",
     "shell.execute_reply.started": "2021-11-19T02:26:44.196134Z"
    }
   },
   "outputs": [],
   "source": [
    "fig = px.treemap(df_IDEs_JnC_21n19, path=[px.Constant(\"2019n2021\"),'year','IDE\\'s','Country'],\n",
    "                values='counts', color='Country',\n",
    "                  color_discrete_map={'(?)':'lightgrey', 'China':'gold', 'Japan':'darkblue'})\n",
    "\n",
    "fig.data[0].textinfo = 'label+percent parent+value'\n",
    "\n",
    "fig.update_layout(margin = dict(t=50, l=25, r=25, b=25))\n",
    "\n",
    "fig.show()"
   ]
  },
  {
   "cell_type": "markdown",
   "metadata": {},
   "source": [
    "## FRAMEWORKS"
   ]
  },
  {
   "cell_type": "code",
   "execution_count": 43,
   "metadata": {
    "execution": {
     "iopub.execute_input": "2021-11-19T02:26:44.323785Z",
     "iopub.status.busy": "2021-11-19T02:26:44.323583Z",
     "iopub.status.idle": "2021-11-19T02:26:44.370000Z",
     "shell.execute_reply": "2021-11-19T02:26:44.369160Z",
     "shell.execute_reply.started": "2021-11-19T02:26:44.323752Z"
    }
   },
   "outputs": [],
   "source": [
    "fig_F = make_subplots(rows=1, cols=2, specs=[[{'type':'xy'}, {'type':'xy'}]])\n",
    " \n",
    "fig_F.add_trace(go.Bar(name=coun_years[0], x=df19_JP_Q16['Q28'].values, y=df19_JP_Q16['counts'].sort_values(ascending=False).values, marker_color=coun_years_colors[0]),1,1)\n",
    "fig_F.add_trace(go.Bar(name=coun_years[1], x=df19_CN_Q16['Q28'].values, y=df19_CN_Q16['counts'].sort_values(ascending=False).values, marker_color=coun_years_colors[1]),1,1)\n",
    "fig_F.add_trace(go.Bar(name=coun_years[2], x=df21_JP_Q16['Q16'].values, y=df21_JP_Q16['counts'].sort_values(ascending=False).values, marker_color=coun_years_colors[2]),1,2)\n",
    "fig_F.add_trace(go.Bar(name=coun_years[3], x=df21_CN_Q16['Q16'].values, y=df21_CN_Q16['counts'].sort_values(ascending=False).values, marker_color=coun_years_colors[3]),1,2)\n",
    " \n",
    "fig_F.update_layout(title_text='2019 & 2021, Machine Learning Frameworks in Use',\n",
    "                    showlegend=True,\n",
    "                    autosize=True)\n",
    "\n",
    "fig_F.update_xaxes(title_text='2019 Machine Learning Frameworks', row=1, col=1)\n",
    "fig_F.update_yaxes(title_text='Counts', row=1, col=1)\n",
    "fig_F.update_xaxes(title_text='2021 Machine Learning Frameworks', row=1, col=2)\n",
    "fig_F.update_yaxes(title_text='Counts', row=1, col=2)\n",
    "\n",
    "fig_F.show()"
   ]
  },
  {
   "cell_type": "markdown",
   "metadata": {},
   "source": [
    "### REFERENCE\n",
    "\n",
    " - [데이터프레임 합치기](https://yganalyst.github.io/data_handling/Pd_12/)\n",
    " - [행열 이름 변경](https://mizykk.tistory.com/131)\n",
    " - [pd insert](https://pandas.pydata.org/docs/reference/api/pandas.DataFrame.insert.html)\n",
    "     - [Ex1](https://www.delftstack.com/ko/howto/python-pandas/how-to-add-new-column-to-existing-dataframe-in-python-pandas/)\n",
    "     - [Ex2](https://m.blog.naver.com/PostView.naver?isHttpsRedirect=true&blogId=rising_n_falling&logNo=221631637822)"
   ]
  }
 ],
 "metadata": {
  "kernelspec": {
   "display_name": "Python 3",
   "language": "python",
   "name": "python3"
  },
  "language_info": {
   "codemirror_mode": {
    "name": "ipython",
    "version": 3
   },
   "file_extension": ".py",
   "mimetype": "text/x-python",
   "name": "python",
   "nbconvert_exporter": "python",
   "pygments_lexer": "ipython3",
   "version": "3.8.8"
  }
 },
 "nbformat": 4,
 "nbformat_minor": 4
}
