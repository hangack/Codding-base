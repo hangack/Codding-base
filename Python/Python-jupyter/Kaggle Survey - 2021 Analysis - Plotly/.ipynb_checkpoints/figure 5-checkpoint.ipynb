{
 "cells": [
  {
   "cell_type": "code",
   "execution_count": 1,
   "metadata": {
    "_cell_guid": "b1076dfc-b9ad-4769-8c92-a6c4dae69d19",
    "_uuid": "8f2839f25d086af736a60e9eeb907d3b93b6e0e5",
    "execution": {
     "iopub.execute_input": "2021-11-08T00:56:03.631148Z",
     "iopub.status.busy": "2021-11-08T00:56:03.630521Z",
     "iopub.status.idle": "2021-11-08T00:56:03.668069Z",
     "shell.execute_reply": "2021-11-08T00:56:03.667447Z",
     "shell.execute_reply.started": "2021-11-08T00:56:03.631040Z"
    }
   },
   "outputs": [],
   "source": [
    "# This Python 3 environment comes with many helpful analytics libraries installed\n",
    "# It is defined by the kaggle/python Docker image: https://github.com/kaggle/docker-python\n",
    "# For example, here's several helpful packages to load\n",
    "\n",
    "import numpy as np # linear algebra\n",
    "import pandas as pd # data processing, CSV file I/O (e.g. pd.read_csv)\n",
    "\n",
    "# Input data files are available in the read-only \"../input/\" directory\n",
    "# For example, running this (by clicking run or pressing Shift+Enter) will list all files under the input directory\n",
    "\n",
    "import os\n",
    "for dirname, _, filenames in os.walk('/kaggle/input'):\n",
    "    for filename in filenames:\n",
    "        print(os.path.join(dirname, filename))\n",
    "\n",
    "# You can write up to 20GB to the current directory (/kaggle/working/) that gets preserved as output when you create a version using \"Save & Run All\" \n",
    "# You can also write temporary files to /kaggle/temp/, but they won't be saved outside of the current session"
   ]
  },
  {
   "cell_type": "code",
   "execution_count": 31,
   "metadata": {
    "execution": {
     "iopub.execute_input": "2021-11-08T02:49:15.110579Z",
     "iopub.status.busy": "2021-11-08T02:49:15.109873Z",
     "iopub.status.idle": "2021-11-08T02:49:16.240317Z",
     "shell.execute_reply": "2021-11-08T02:49:16.239388Z",
     "shell.execute_reply.started": "2021-11-08T02:49:15.110528Z"
    }
   },
   "outputs": [],
   "source": [
    "import numpy as np\n",
    "import pandas as pd\n",
    "import matplotlib.pyplot as plt\n",
    "import plotly.express as px\n",
    "import plotly.graph_objects as go\n",
    "from warnings import filterwarnings\n",
    "filterwarnings('ignore')\n",
    "\n",
    "colors = ['#B1EDED','#B1B2ED','#1DE7ED','#1DA5ED','#1D50ED','#16548E']\n",
    "df = pd.read_csv('../input/kwdoku145/kaggle_survey_2021_responses.csv')\n",
    "df.head()"
   ]
  },
  {
   "cell_type": "code",
   "execution_count": 32,
   "metadata": {
    "execution": {
     "iopub.execute_input": "2021-11-08T02:49:26.854655Z",
     "iopub.status.busy": "2021-11-08T02:49:26.854340Z",
     "iopub.status.idle": "2021-11-08T02:49:26.883834Z",
     "shell.execute_reply": "2021-11-08T02:49:26.882525Z",
     "shell.execute_reply.started": "2021-11-08T02:49:26.854625Z"
    }
   },
   "outputs": [],
   "source": [
    "##fig > go.Figure > data: 그래프가 그려지는 데이터 담기\n",
    "\n",
    "fig = go.Figure(data=[go.Pie(labels=df['Q4'][1:].value_counts().index,\n",
    "                             values=df['Q4'][1:].value_counts().values, textinfo='label+percent')]) \n",
    "## go.Pie 원형그래프 \n",
    "## Q4의 데이터 값을 가져옴 index 내용 / valuses 값\n",
    "## textinfo='label+percent 표안에 퍼센트와 내용기입\n",
    "\n",
    "fig.update_traces(marker=dict(colors=colors[2:]))\n",
    "## 형성된 fig에 추가적인 시각적요소 삽입  /색깔입히기\n",
    "\n",
    "\n",
    "fig.update_layout(title_text='Formal Education attained or plan to attain in next 2 year', showlegend=False)\n",
    "## fig > go.Figure > layout: 그래프의 부가정보 기입, 그래프 크기 등 조절 \n",
    "## 형성된 fig에 레이아웃 계속 업데이트 가능\n",
    "## title_text=''그래프 제목 / showlegend='False' 범례숨기기\n",
    "fig.show()\n",
    "\n",
    "## Reference Pie\n",
    "## URL:https://plotly.com/python/reference/pie/\n",
    "## URL:https://github.com/plotly/plotly.py/blob/master/doc/python/pie-charts.md"
   ]
  },
  {
   "cell_type": "code",
   "execution_count": null,
   "metadata": {},
   "outputs": [],
   "source": []
  }
 ],
 "metadata": {
  "kernelspec": {
   "display_name": "Python 3",
   "language": "python",
   "name": "python3"
  },
  "language_info": {
   "codemirror_mode": {
    "name": "ipython",
    "version": 3
   },
   "file_extension": ".py",
   "mimetype": "text/x-python",
   "name": "python",
   "nbconvert_exporter": "python",
   "pygments_lexer": "ipython3",
   "version": "3.8.8"
  }
 },
 "nbformat": 4,
 "nbformat_minor": 4
}
