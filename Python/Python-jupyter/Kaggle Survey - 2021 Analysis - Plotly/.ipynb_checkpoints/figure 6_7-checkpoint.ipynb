{
 "cells": [
  {
   "cell_type": "code",
   "execution_count": 40,
   "metadata": {
    "execution": {
     "iopub.execute_input": "2021-11-08T07:07:10.421324Z",
     "iopub.status.busy": "2021-11-08T07:07:10.420772Z",
     "iopub.status.idle": "2021-11-08T07:07:10.424964Z",
     "shell.execute_reply": "2021-11-08T07:07:10.424227Z",
     "shell.execute_reply.started": "2021-11-08T07:07:10.421279Z"
    }
   },
   "outputs": [],
   "source": [
    "# Kaggle Survey - 2021 Analysis Plotly"
   ]
  },
  {
   "cell_type": "markdown",
   "metadata": {},
   "source": [
    "![](https://miro.medium.com/max/846/1*vdNc_eV8fY9OxikxGW9nWg.png)"
   ]
  },
  {
   "cell_type": "code",
   "execution_count": 41,
   "metadata": {
    "_cell_guid": "b1076dfc-b9ad-4769-8c92-a6c4dae69d19",
    "_uuid": "8f2839f25d086af736a60e9eeb907d3b93b6e0e5",
    "execution": {
     "iopub.execute_input": "2021-11-08T07:07:10.426876Z",
     "iopub.status.busy": "2021-11-08T07:07:10.426459Z",
     "iopub.status.idle": "2021-11-08T07:07:10.438064Z",
     "shell.execute_reply": "2021-11-08T07:07:10.437283Z",
     "shell.execute_reply.started": "2021-11-08T07:07:10.426848Z"
    }
   },
   "outputs": [],
   "source": [
    "import numpy as np\n",
    "import pandas as pd\n",
    "import matplotlib.pyplot as plt\n",
    "import plotly.express as px\n",
    "import plotly.graph_objects as go\n",
    "from warnings import filterwarnings\n",
    "filterwarnings('ignore')\n",
    "\n",
    "colors = ['#B1EDED','#B1B2ED','#1DE7ED','#1DA5ED','#1D50ED','#16548E']"
   ]
  },
  {
   "cell_type": "markdown",
   "metadata": {},
   "source": [
    "## Load Data"
   ]
  },
  {
   "cell_type": "code",
   "execution_count": 42,
   "metadata": {
    "execution": {
     "iopub.execute_input": "2021-11-08T07:07:10.439772Z",
     "iopub.status.busy": "2021-11-08T07:07:10.439369Z",
     "iopub.status.idle": "2021-11-08T07:07:11.483207Z",
     "shell.execute_reply": "2021-11-08T07:07:11.482418Z",
     "shell.execute_reply.started": "2021-11-08T07:07:10.439734Z"
    }
   },
   "outputs": [],
   "source": [
    "df = pd.read_csv('../input/kaggle-survey-2021/kaggle_survey_2021_responses.csv')\n",
    "df.head()"
   ]
  },
  {
   "cell_type": "code",
   "execution_count": 43,
   "metadata": {
    "execution": {
     "iopub.execute_input": "2021-11-08T07:07:11.485102Z",
     "iopub.status.busy": "2021-11-08T07:07:11.484651Z",
     "iopub.status.idle": "2021-11-08T07:07:11.533093Z",
     "shell.execute_reply": "2021-11-08T07:07:11.532248Z",
     "shell.execute_reply.started": "2021-11-08T07:07:11.485061Z"
    }
   },
   "outputs": [],
   "source": [
    "fig = px.funnel_area(names=df['Q6'][1:].value_counts().index,\n",
    "                     values=df['Q6'][1:].value_counts().values, title='Coding Experince')\n",
    "\"\"\" 피규어 모형: funnel_area 깔때기형 차트, 데이터프레임 Q6 불러오기 및 (index)값 출력, [배열순서 1번행부터 시작], \n",
    "피규어 모형: funnel_area 깔때기형 차트, 데이터프레임 Q6 불러오기 및 (values)값 출력, [배열순서 1번행부터 시작], 제목 'Coding Experince' \"\"\"\n",
    "fig.update_traces(marker=dict(colors=colors[::-1]))\n",
    "# 모형 업데이트: 모형 지정, 색 한칸당 -1 단계씩 변하도록 변경\n",
    "fig.show()\n",
    "# 모형 작동"
   ]
  },
  {
   "cell_type": "markdown",
   "metadata": {},
   "source": [
    "#### Most of the kagglers (30%) have 1-3 years of coding experience and 22% kaggler's have less than 1 year of experince."
   ]
  },
  {
   "cell_type": "code",
   "execution_count": 72,
   "metadata": {
    "execution": {
     "iopub.execute_input": "2021-11-08T07:14:03.709992Z",
     "iopub.status.busy": "2021-11-08T07:14:03.709199Z",
     "iopub.status.idle": "2021-11-08T07:14:03.728749Z",
     "shell.execute_reply": "2021-11-08T07:14:03.728144Z",
     "shell.execute_reply.started": "2021-11-08T07:14:03.709948Z"
    }
   },
   "outputs": [],
   "source": [
    "#퍼센트 표기 예시용코드\n",
    "df1 = df['Q1'].value_counts()\n",
    "df2 = df['Q1'].value_counts(normalize = True)\n",
    "val_pnt_df = pd.DataFrame({\"count\":df1,\"%\":df2*100})\n",
    "\n",
    "fig = go.Figure()\n",
    "# [str(x) + ' %' for x in np.round(val_pnt_df[\"%\"].values, 1).tolist()]\n",
    "# Add Traces\n",
    "fig.add_bar(x = val_pnt_df.index,\n",
    "            y = val_pnt_df['count'].values, \n",
    "            text = [str(x) + ' %' for x in np.round(val_pnt_df[\"%\"].values, 1).tolist()], \n",
    "            textposition=\"auto\")\n",
    "\n",
    "fig.update_layout(title_text = \"Q1. questions[1]\")\n",
    "fig.show()"
   ]
  },
  {
   "cell_type": "code",
   "execution_count": 76,
   "metadata": {
    "execution": {
     "iopub.execute_input": "2021-11-08T07:14:39.382633Z",
     "iopub.status.busy": "2021-11-08T07:14:39.382031Z",
     "iopub.status.idle": "2021-11-08T07:14:39.556833Z",
     "shell.execute_reply": "2021-11-08T07:14:39.556012Z",
     "shell.execute_reply.started": "2021-11-08T07:14:39.382583Z"
    }
   },
   "outputs": [],
   "source": [
    "df_py = df[(df['Q7_Part_1'] == 'Python')]\n",
    "df_r = df[(df['Q7_Part_2'] == 'R')]\n",
    "\"\"\"데이터프레임 파이썬 Q7_Part_1 불러오기\n",
    "데이터프레임 R Q7_Part_2 불러오기\"\"\"\n",
    "\n",
    "fig = go.Figure(data=[\n",
    "    go.Bar(name='Python', x=df_py['Q1'].value_counts().index, y=df_py['Q1'].value_counts().values, marker_color=colors[2]),\n",
    "    go.Bar(name='R', x=df_r['Q1'].value_counts().index, y=df_r['Q1'].value_counts().values, marker_color=colors[3])\n",
    "])\n",
    "\"\"\"피규어 생성, 바 이름: 파이썬, x축 파이썬 데이터프레임에 Q1 불러오기, index 고유값 출력\n",
    "y축 파이썬 데이터프레임에 Q1 불러오기, values 고유값 출력\n",
    "마커색 2번 (하늘색)\n",
    "바 이름: R, x축 R 데이터프레임에 Q1 불러오기, index 고유값 출력\n",
    "y축 R 데이터프레임에 Q1 불러오기, values 고유값 출력\n",
    "마커색 3번 (파랑색)\"\"\"\n",
    "\n",
    "fig.update_layout(barmode='group', title='Kagglers using Python and R on regular basis by Age', xaxis_title='Age', yaxis_title='Counts')\n",
    "fig.show()\n",
    "\n",
    "\"\"\" 그래프 그룹형, 피규어 타이틀 'Kagglers using Python and R on regular basis by Age', X축 소제목 'Age', Y축 소제목 'Counts'\n",
    "피규어 작동\"\"\""
   ]
  },
  {
   "cell_type": "markdown",
   "metadata": {},
   "source": [
    "#### Most of the python users are between age 18-21 and R users are between age 25-29."
   ]
  },
  {
   "cell_type": "markdown",
   "metadata": {},
   "source": [
    "# Work in progress"
   ]
  },
  {
   "cell_type": "code",
   "execution_count": null,
   "metadata": {
    "execution": {
     "iopub.status.busy": "2021-11-08T07:07:11.565559Z",
     "iopub.status.idle": "2021-11-08T07:07:11.566269Z",
     "shell.execute_reply": "2021-11-08T07:07:11.566011Z",
     "shell.execute_reply.started": "2021-11-08T07:07:11.565983Z"
    }
   },
   "outputs": [],
   "source": [
    "참조자료\n",
    "\n",
    "value_counts(): https://re-thought.com/pandas-value_counts/\n",
    "+ .values --->https://pandas.pydata.org/pandas-docs/stable/reference/api/pandas.DataFrame.values.html?highlight=values#pandas.DataFrame.values\n",
    ".index-->https://pandas.pydata.org/pandas-docs/stable/reference/api/pandas.Index.html?highlight=index#pandas.Index\n",
    "funnel_area: https://docs.elixirtech.com/Ambience/2020/dashboards/designer/views/funnelAreaChart.html\n",
    "update_traces: https://plotly.com/python/creating-and-updating-figures/\n",
    "plotly(Fig): https://plotly.com/python/creating-and-updating-figures/\n",
    "\n"
   ]
  },
  {
   "cell_type": "code",
   "execution_count": null,
   "metadata": {},
   "outputs": [],
   "source": []
  }
 ],
 "metadata": {
  "kernelspec": {
   "display_name": "Python 3",
   "language": "python",
   "name": "python3"
  },
  "language_info": {
   "codemirror_mode": {
    "name": "ipython",
    "version": 3
   },
   "file_extension": ".py",
   "mimetype": "text/x-python",
   "name": "python",
   "nbconvert_exporter": "python",
   "pygments_lexer": "ipython3",
   "version": "3.8.8"
  }
 },
 "nbformat": 4,
 "nbformat_minor": 4
}
