{
 "cells": [
  {
   "cell_type": "markdown",
   "id": "7e35f5b3",
   "metadata": {},
   "source": [
    "## 간단한 설명\n",
    "의사결정트리는 여러 객체가 모인 집단에서 절차적 \"Yes\"||\"No\" 혹은 간단한 문답문을 이용해 원하는 특성을 가진 객체를 분류해내는 과정이다."
   ]
  },
  {
   "cell_type": "markdown",
   "id": "6d19262b",
   "metadata": {},
   "source": [
    "주변에서 한가지 예시를 살펴본다면 법률로 경차를 정의해서 고속도로 / 보험 등 각종 형식으로 혜택을 주는 경우가 있다."
   ]
  },
  {
   "cell_type": "markdown",
   "id": "b486b11c",
   "metadata": {},
   "source": [
    "한국에서의 경차를 보자면\n",
    "- 배기량 1,000cc 이하, 길이 3.6m, 너비 1.6m, 높이 2.0m 이하인 자동차\n",
    "를 의미한다."
   ]
  },
  {
   "cell_type": "markdown",
   "id": "729a0604",
   "metadata": {},
   "source": [
    "### 그러면 의사결정트리는 어떻게 만들어질까?\n",
    "우선 나라마다 정의한 경차에 대한 포멧이 다르기 때문에 간단한 문답문을 이용해 어느 나라의 포멧을 불러올지 결정한다."
   ]
  },
  {
   "cell_type": "markdown",
   "id": "ebaba4b7",
   "metadata": {},
   "source": [
    "![나라포멧]()"
   ]
  },
  {
   "cell_type": "markdown",
   "id": "cf17d53f",
   "metadata": {},
   "source": [
    "다음으로 배기량이나 차량의 크기같은 포멧이 만족하는지 하나씩 Y/N 문답을 절차적으로 진행해야한다. 이 때, 발생하는 효율성에 관해선 다음에 설명하고 이번엔 배기량부터 순차적으로 진행한다."
   ]
  },
  {
   "cell_type": "markdown",
   "id": "da22c2b8",
   "metadata": {},
   "source": [
    "![배기량]()"
   ]
  },
  {
   "cell_type": "markdown",
   "id": "ab5a6673",
   "metadata": {},
   "source": [
    "![길이]()"
   ]
  },
  {
   "cell_type": "markdown",
   "id": "27ac56d2",
   "metadata": {},
   "source": [
    "![너비]()"
   ]
  },
  {
   "cell_type": "markdown",
   "id": "6ba6ce07",
   "metadata": {},
   "source": [
    "![높이]()"
   ]
  },
  {
   "cell_type": "markdown",
   "id": "e53e3dce",
   "metadata": {},
   "source": [
    "다음의 과정을 통해 한국의 법률에서 경차로 정의되는 차량을 나눌 수 있다.\n",
    "객체의 종류가 적다면 큰 문제는 없겠지만, 차량 객체마다 데이터를 가지고 있고 법률적인 포멧이 있다면 수 많은 차량의 포멧을 컴퓨터 작업을 통해 간단히 나눌 수 있을것이다."
   ]
  },
  {
   "cell_type": "markdown",
   "id": "c73b7e00",
   "metadata": {},
   "source": [
    "\n",
    "$MAE=\\sum_{i=1}^n\\vert\\hat{X_{i}}-X_{i}\\vert$\n",
    "\n",
    "$MSE=\\sum_{i=1}^n\\frac{(\\hat{X_{i}}-X_{i})^2}{N}$\n",
    "\n",
    "$RMSE=\\sqrt{\\sum_{i=1}^n\\frac{(\\hat{X_{i}}-X_{i})^2}{N}}$"
   ]
  }
 ],
 "metadata": {
  "kernelspec": {
   "display_name": "Python 3",
   "language": "python",
   "name": "python3"
  },
  "language_info": {
   "codemirror_mode": {
    "name": "ipython",
    "version": 3
   },
   "file_extension": ".py",
   "mimetype": "text/x-python",
   "name": "python",
   "nbconvert_exporter": "python",
   "pygments_lexer": "ipython3",
   "version": "3.8.8"
  }
 },
 "nbformat": 4,
 "nbformat_minor": 5
}
