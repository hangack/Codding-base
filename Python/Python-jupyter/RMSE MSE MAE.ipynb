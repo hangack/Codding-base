{
 "cells": [
  {
   "cell_type": "code",
   "execution_count": 2,
   "id": "dcdba79d",
   "metadata": {},
   "outputs": [],
   "source": [
    "import numpy as np\n",
    "\n",
    "def mean_absolute_error(y_true, y_pred):\n",
    "\n",
    "    error = 0\n",
    "    for yt, yp in zip(y_true, y_pred):\n",
    "        error = error + np.abs(yt-yp)\n",
    "  \n",
    "    mae = error / len(y_true)\n",
    "    return mae"
   ]
  },
  {
   "cell_type": "code",
   "execution_count": 3,
   "id": "35d036d4",
   "metadata": {},
   "outputs": [],
   "source": [
    "import numpy as np\n",
    "\n",
    "def mean_squared_error(y_true, y_pred):\n",
    "\n",
    "    error = 0\n",
    "    for yt, yp in zip(y_true, y_pred):\n",
    "        error = error + (yt - yp) ** 2\n",
    "  \n",
    "    mse = error / len(y_true)\n",
    "    return mse"
   ]
  },
  {
   "cell_type": "code",
   "execution_count": 7,
   "id": "3dd2cda7",
   "metadata": {},
   "outputs": [],
   "source": [
    "import numpy as np\n",
    "\n",
    "def root_rmse_squared_error(y_true, y_pred):\n",
    "    error = 0\n",
    "  \n",
    "    for yt, yp in zip(y_true, y_pred):\n",
    "        error = error + (yt - yp) ** 2\n",
    "  \n",
    "    mse = error / len(y_true)\n",
    "    rmse = np.round(np.sqrt(mse), 3)\n",
    "    return rmse"
   ]
  },
  {
   "cell_type": "code",
   "execution_count": 5,
   "id": "f72c529e",
   "metadata": {},
   "outputs": [],
   "source": [
    "y1_true = [400, 300, 800]\n",
    "y1_pred = [380, 320, 777]\n",
    "\n",
    "y2_true = [400, 300, 800, 900]\n",
    "y2_pred = [380, 320, 777, 600]"
   ]
  },
  {
   "cell_type": "code",
   "execution_count": 8,
   "id": "8c56b9b4",
   "metadata": {},
   "outputs": [
    {
     "name": "stdout",
     "output_type": "stream",
     "text": [
      "MAE: 21.0\n",
      "MSE: 443.0\n",
      "RMSE: 21.048\n"
     ]
    }
   ],
   "source": [
    "print(\"MAE:\", mean_absolute_error(y1_true, y1_pred))\n",
    "print(\"MSE:\", mean_squared_error(y1_true, y1_pred))\n",
    "print(\"RMSE:\", root_rmse_squared_error(y1_true, y1_pred))"
   ]
  },
  {
   "cell_type": "code",
   "execution_count": 9,
   "id": "e07e2406",
   "metadata": {},
   "outputs": [
    {
     "name": "stdout",
     "output_type": "stream",
     "text": [
      "MAE: 90.75\n",
      "MSE: 22832.25\n",
      "RMSE: 151.103\n"
     ]
    }
   ],
   "source": [
    "print(\"MAE:\", mean_absolute_error(y2_true, y2_pred))\n",
    "print(\"MSE:\", mean_squared_error(y2_true, y2_pred))\n",
    "print(\"RMSE:\", root_rmse_squared_error(y2_true, y2_pred))"
   ]
  }
 ],
 "metadata": {
  "kernelspec": {
   "display_name": "Python 3",
   "language": "python",
   "name": "python3"
  },
  "language_info": {
   "codemirror_mode": {
    "name": "ipython",
    "version": 3
   },
   "file_extension": ".py",
   "mimetype": "text/x-python",
   "name": "python",
   "nbconvert_exporter": "python",
   "pygments_lexer": "ipython3",
   "version": "3.8.8"
  }
 },
 "nbformat": 4,
 "nbformat_minor": 5
}
