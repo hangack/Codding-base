{
 "cells": [
  {
   "cell_type": "code",
   "execution_count": 21,
   "metadata": {},
   "outputs": [
    {
     "name": "stdout",
     "output_type": "stream",
     "text": [
      "            entity code  year        co2\n",
      "0      Afghanistan  AFG  1949   0.014656\n",
      "1      Afghanistan  AFG  1950   0.084272\n",
      "2      Afghanistan  AFG  1951   0.091600\n",
      "3      Afghanistan  AFG  1952   0.091600\n",
      "4      Afghanistan  AFG  1953   0.106256\n",
      "...            ...  ...   ...        ...\n",
      "23367     Zimbabwe  ZWE  2014  11.961612\n",
      "23368     Zimbabwe  ZWE  2015  12.163132\n",
      "23369     Zimbabwe  ZWE  2016  10.807433\n",
      "23370     Zimbabwe  ZWE  2017  12.025880\n",
      "23371     Zimbabwe  ZWE  2018  12.262698\n",
      "\n",
      "[23372 rows x 4 columns]\n",
      "            entity code  year  pm10   pm2.5\n",
      "0   United Kingdom  GBR  1970   639   498.0\n",
      "1   United Kingdom  GBR  1971   592   444.0\n",
      "2   United Kingdom  GBR  1972   528   394.0\n",
      "3   United Kingdom  GBR  1973   553   402.0\n",
      "4   United Kingdom  GBR  1974   503   374.0\n",
      "..             ...  ...   ...   ...     ...\n",
      "73   United States  USA  2012  2705  1806.0\n",
      "74   United States  USA  2013  2702  1800.0\n",
      "75   United States  USA  2014  2700  1795.0\n",
      "76   United States  USA  2015  2669  1766.0\n",
      "77   United States  USA  2016  2639  1737.0\n",
      "\n",
      "[78 rows x 5 columns]\n"
     ]
    }
   ],
   "source": [
    "import numpy as np\n",
    "import pandas as pd\n",
    "import matplotlib.pyplot as plt\n",
    "\n",
    "\n",
    "f = \"E:\\\\Fear\\\\Univ\\\\4-2\\\\대기정보전산학\\\\실습\\\\annual-co2-emissions-per-country.csv\"\n",
    "f2 = \"E:\\\\Fear\\\\Univ\\\\4-2\\\\대기정보전산학\\\\실습\\\\emissions-of-particulate-matter.csv\"\n",
    "\n",
    "data = pd.read_csv(f, engine='python', header = 0, names = ['entity','code','year','co2'])\n",
    "data2 = pd.read_csv(f2, engine='python', header = 0, names = ['entity','code','year','pm10','pm2.5'])\n",
    "\n",
    "print(data)\n",
    "print(data2)"
   ]
  },
  {
   "cell_type": "code",
   "execution_count": 22,
   "metadata": {},
   "outputs": [
    {
     "name": "stdout",
     "output_type": "stream",
     "text": [
      "              entity code  year          co2\n",
      "22026  United States  USA  1751     0.000000\n",
      "22027  United States  USA  1752     0.000000\n",
      "22028  United States  USA  1753     0.000000\n",
      "22029  United States  USA  1754     0.000000\n",
      "22030  United States  USA  1755     0.000000\n",
      "...              ...  ...   ...          ...\n",
      "22289  United States  USA  2014  5572.106312\n",
      "22290  United States  USA  2015  5422.965677\n",
      "22291  United States  USA  2016  5306.662457\n",
      "22292  United States  USA  2017  5270.748525\n",
      "22293  United States  USA  2018  5416.277883\n",
      "\n",
      "[268 rows x 4 columns]\n",
      "           entity code  year   pm10   pm2.5\n",
      "47  United States  USA  1970  12183     NaN\n",
      "48  United States  USA  1975   6986     NaN\n",
      "49  United States  USA  1980   6161     NaN\n",
      "50  United States  USA  1985   3587     NaN\n",
      "51  United States  USA  1990   3217  2327.0\n",
      "52  United States  USA  1991   3112  2317.0\n",
      "53  United States  USA  1992   3140  2344.0\n",
      "54  United States  USA  1993   3036  2223.0\n",
      "55  United States  USA  1994   2989  2183.0\n",
      "56  United States  USA  1995   3055  2203.0\n",
      "57  United States  USA  1996   2638  2003.0\n",
      "58  United States  USA  1997   2656  2012.0\n",
      "59  United States  USA  1998   2585  1981.0\n",
      "60  United States  USA  1999   3198  2700.0\n",
      "61  United States  USA  2000   3098  2600.0\n",
      "62  United States  USA  2001   3127  2606.0\n",
      "63  United States  USA  2002   3693  2549.0\n",
      "64  United States  USA  2003   3679  2542.0\n",
      "65  United States  USA  2004   3660  2533.0\n",
      "66  United States  USA  2005   3639  2523.0\n",
      "67  United States  USA  2006   3461  2353.0\n",
      "68  United States  USA  2007   3283  2184.0\n",
      "69  United States  USA  2008   3084  2003.0\n",
      "70  United States  USA  2009   2913  1927.0\n",
      "71  United States  USA  2010   2747  1853.0\n",
      "72  United States  USA  2011   2708  1812.0\n",
      "73  United States  USA  2012   2705  1806.0\n",
      "74  United States  USA  2013   2702  1800.0\n",
      "75  United States  USA  2014   2700  1795.0\n",
      "76  United States  USA  2015   2669  1766.0\n",
      "77  United States  USA  2016   2639  1737.0\n"
     ]
    }
   ],
   "source": [
    "usa = data['code'] == 'USA'   ## pandas 기능\n",
    "USA = data[usa]               ## 일치하는 변수를 지정해서 하나의 행렬로 묶어내기\n",
    "\n",
    "print(USA)\n",
    "\n",
    "usa2 = data2['code'] == 'USA'\n",
    "USA2 = data2[usa2]\n",
    "\n",
    "print(USA2)"
   ]
  },
  {
   "cell_type": "code",
   "execution_count": 35,
   "metadata": {},
   "outputs": [
    {
     "name": "stdout",
     "output_type": "stream",
     "text": [
      "              entity code  year          co2\n",
      "22265  United States  USA  1990  5121.179440\n",
      "22266  United States  USA  1991  5071.563914\n",
      "22267  United States  USA  1992  5174.670601\n",
      "22268  United States  USA  1993  5281.386608\n",
      "22269  United States  USA  1994  5375.033803\n",
      "22270  United States  USA  1995  5436.697986\n",
      "22271  United States  USA  1996  5625.041885\n",
      "22272  United States  USA  1997  5701.920919\n",
      "22273  United States  USA  1998  5749.893056\n",
      "22274  United States  USA  1999  5829.519951\n",
      "22275  United States  USA  2000  5997.298912\n",
      "22276  United States  USA  2001  5899.855485\n",
      "22277  United States  USA  2002  5942.421410\n",
      "22278  United States  USA  2003  5991.190935\n",
      "22279  United States  USA  2004  6105.444110\n",
      "22280  United States  USA  2005  6130.552417\n",
      "22281  United States  USA  2006  6050.384604\n",
      "22282  United States  USA  2007  6127.888221\n",
      "22283  United States  USA  2008  5928.256329\n",
      "22284  United States  USA  2009  5493.547908\n",
      "22285  United States  USA  2010  5700.108337\n",
      "22286  United States  USA  2011  5572.584775\n",
      "22287  United States  USA  2012  5371.777170\n",
      "22288  United States  USA  2013  5522.908365\n",
      "22289  United States  USA  2014  5572.106312\n",
      "22290  United States  USA  2015  5422.965677\n",
      "22291  United States  USA  2016  5306.662457\n",
      "           entity code  year  pm10   pm2.5\n",
      "51  United States  USA  1990  3217  2327.0\n",
      "52  United States  USA  1991  3112  2317.0\n",
      "53  United States  USA  1992  3140  2344.0\n",
      "54  United States  USA  1993  3036  2223.0\n",
      "55  United States  USA  1994  2989  2183.0\n",
      "56  United States  USA  1995  3055  2203.0\n",
      "57  United States  USA  1996  2638  2003.0\n",
      "58  United States  USA  1997  2656  2012.0\n",
      "59  United States  USA  1998  2585  1981.0\n",
      "60  United States  USA  1999  3198  2700.0\n",
      "61  United States  USA  2000  3098  2600.0\n",
      "62  United States  USA  2001  3127  2606.0\n",
      "63  United States  USA  2002  3693  2549.0\n",
      "64  United States  USA  2003  3679  2542.0\n",
      "65  United States  USA  2004  3660  2533.0\n",
      "66  United States  USA  2005  3639  2523.0\n",
      "67  United States  USA  2006  3461  2353.0\n",
      "68  United States  USA  2007  3283  2184.0\n",
      "69  United States  USA  2008  3084  2003.0\n",
      "70  United States  USA  2009  2913  1927.0\n",
      "71  United States  USA  2010  2747  1853.0\n",
      "72  United States  USA  2011  2708  1812.0\n",
      "73  United States  USA  2012  2705  1806.0\n",
      "74  United States  USA  2013  2702  1800.0\n",
      "75  United States  USA  2014  2700  1795.0\n",
      "76  United States  USA  2015  2669  1766.0\n",
      "77  United States  USA  2016  2639  1737.0\n"
     ]
    }
   ],
   "source": [
    "# 다수의 필터링 조건\n",
    "\n",
    "usa = data['code'] == 'USA'\n",
    "yy11 = data['year'] >= 1990\n",
    "yy12 = data['year'] <= 2016\n",
    "USA_co2 = data[usa & yy11 & yy12] \n",
    "\n",
    "print(USA_co2)\n",
    "\n",
    "usa2 = data2['code'] == 'USA'\n",
    "yy21 = data2['year'] >= 1990\n",
    "yy22 = data2['year'] <= 2016\n",
    "USA_pm = data2[usa2 & yy21 & yy22]\n",
    "\n",
    "print(USA_pm)"
   ]
  },
  {
   "cell_type": "code",
   "execution_count": 41,
   "metadata": {},
   "outputs": [
    {
     "name": "stdout",
     "output_type": "stream",
     "text": [
      "               entity code  year         co2\n",
      "21961  United Kingdom  GBR  1990  600.772869\n",
      "21962  United Kingdom  GBR  1991  608.620900\n",
      "21963  United Kingdom  GBR  1992  593.094781\n",
      "21964  United Kingdom  GBR  1993  579.035585\n",
      "21965  United Kingdom  GBR  1994  575.166272\n",
      "21966  United Kingdom  GBR  1995  566.657195\n",
      "21967  United Kingdom  GBR  1996  588.369719\n",
      "21968  United Kingdom  GBR  1997  562.299491\n",
      "21969  United Kingdom  GBR  1998  567.449514\n",
      "21970  United Kingdom  GBR  1999  560.498588\n",
      "21971  United Kingdom  GBR  2000  567.185702\n",
      "21972  United Kingdom  GBR  2001  575.989121\n",
      "21973  United Kingdom  GBR  2002  560.056165\n",
      "21974  United Kingdom  GBR  2003  571.520579\n",
      "21975  United Kingdom  GBR  2004  573.007766\n",
      "21976  United Kingdom  GBR  2005  569.699843\n",
      "21977  United Kingdom  GBR  2006  567.235743\n",
      "21978  United Kingdom  GBR  2007  558.958769\n",
      "21979  United Kingdom  GBR  2008  544.541359\n",
      "21980  United Kingdom  GBR  2009  494.064942\n",
      "21981  United Kingdom  GBR  2010  511.831409\n",
      "21982  United Kingdom  GBR  2011  469.609468\n",
      "21983  United Kingdom  GBR  2012  487.633418\n",
      "21984  United Kingdom  GBR  2013  477.751331\n",
      "21985  United Kingdom  GBR  2014  438.874167\n",
      "21986  United Kingdom  GBR  2015  422.412773\n",
      "21987  United Kingdom  GBR  2016  399.838872\n",
      "            entity code  year  pm10  pm2.5\n",
      "0   United Kingdom  GBR  1970   639  498.0\n",
      "1   United Kingdom  GBR  1971   592  444.0\n",
      "2   United Kingdom  GBR  1972   528  394.0\n",
      "3   United Kingdom  GBR  1973   553  402.0\n",
      "4   United Kingdom  GBR  1974   503  374.0\n",
      "5   United Kingdom  GBR  1975   476  332.0\n",
      "6   United Kingdom  GBR  1976   465  326.0\n",
      "7   United Kingdom  GBR  1977   461  323.0\n",
      "8   United Kingdom  GBR  1978   451  311.0\n",
      "9   United Kingdom  GBR  1979   455  318.0\n",
      "10  United Kingdom  GBR  1980   423  284.0\n",
      "11  United Kingdom  GBR  1981   407  272.0\n",
      "12  United Kingdom  GBR  1982   399  268.0\n",
      "13  United Kingdom  GBR  1983   395  259.0\n",
      "14  United Kingdom  GBR  1984   354  235.0\n",
      "15  United Kingdom  GBR  1985   391  258.0\n",
      "16  United Kingdom  GBR  1986   401  268.0\n",
      "17  United Kingdom  GBR  1987   396  250.0\n",
      "18  United Kingdom  GBR  1988   385  243.0\n",
      "19  United Kingdom  GBR  1989   390  242.0\n",
      "20  United Kingdom  GBR  1990   376  237.0\n",
      "21  United Kingdom  GBR  1991   372  236.0\n",
      "22  United Kingdom  GBR  1992   349  226.0\n",
      "23  United Kingdom  GBR  1993   325  211.0\n",
      "24  United Kingdom  GBR  1994   308  202.0\n",
      "25  United Kingdom  GBR  1995   284  184.0\n",
      "26  United Kingdom  GBR  1996   283  182.0\n",
      "27  United Kingdom  GBR  1997   266  173.0\n",
      "28  United Kingdom  GBR  1998   252  165.0\n",
      "29  United Kingdom  GBR  1999   245  162.0\n",
      "30  United Kingdom  GBR  2000   229  148.0\n",
      "31  United Kingdom  GBR  2001   231  146.0\n",
      "32  United Kingdom  GBR  2002   203  130.0\n",
      "33  United Kingdom  GBR  2003   211  131.0\n",
      "34  United Kingdom  GBR  2004   203  129.0\n",
      "35  United Kingdom  GBR  2005   199  127.0\n",
      "36  United Kingdom  GBR  2006   196  125.0\n",
      "37  United Kingdom  GBR  2007   188  120.0\n",
      "38  United Kingdom  GBR  2008   180  119.0\n",
      "39  United Kingdom  GBR  2009   169  113.0\n",
      "40  United Kingdom  GBR  2010   184  121.0\n",
      "41  United Kingdom  GBR  2011   170  110.0\n",
      "42  United Kingdom  GBR  2012   172  115.0\n",
      "43  United Kingdom  GBR  2013   180  117.0\n",
      "44  United Kingdom  GBR  2014   172  111.0\n",
      "45  United Kingdom  GBR  2015   174  112.0\n",
      "46  United Kingdom  GBR  2016   170  108.0\n"
     ]
    }
   ],
   "source": [
    "gbr1 = data['code'] == 'GBR'\n",
    "yy11 = data['year'] >= 1990\n",
    "yy12 = data['year'] <= 2016\n",
    "GBR_co2 = data[gbr1 & yy11 & yy12] \n",
    "\n",
    "print(GBR_co2)\n",
    "\n",
    "gbr2 = data2['entity'] == 'United Kingdom'\n",
    "GBR_pm = data2[gbr2]\n",
    "\n",
    "print(GBR_pm)"
   ]
  },
  {
   "cell_type": "code",
   "execution_count": 42,
   "metadata": {},
   "outputs": [
    {
     "data": {
      "text/plain": [
       "<function matplotlib.pyplot.show(close=None, block=None)>"
      ]
     },
     "execution_count": 42,
     "metadata": {},
     "output_type": "execute_result"
    },
    {
     "data": {
      "image/png": "[encoded data removed]",
      "text/plain": [
       "<Figure size 432x288 with 2 Axes>"
      ]
     },
     "metadata": {
      "needs_background": "light"
     },
     "output_type": "display_data"
    }
   ],
   "source": [
    "fig, ax1 = plt.subplots()   # plt.subplots 와 plt.subplot 차이 : s가 붙은 경우 동일한 설정이 붙지만 여러 플롯의 그래프를 그릴 수 있다\n",
    "ax2 = ax1.twinx()           # @@.twinx  @@와 같은 설정을 갖는다\n",
    "\n",
    "ax1.set_ylabel('PM10')\n",
    "ax2.set_ylabel('CO2')\n",
    "ax1.set_xlabel('time(year)')\n",
    "\n",
    "line1 = ax1.plot(USA_pm['year'],USA_pm['pm10'],color='crimson',label='PM10',linewidth=1.5)\n",
    "line2 = ax2.plot(USA_co2['year'],USA_co2['co2'],color='blue',label='co2',linewidth=1.5)\n",
    "\n",
    "lines = line1+line2\n",
    "labels=[l.get_label() for l in lines]\n",
    "ax1.legend(lines,labels,loc='upper left')\n",
    "\n",
    "plt.show"
   ]
  },
  {
   "cell_type": "code",
   "execution_count": 45,
   "metadata": {},
   "outputs": [
    {
     "data": {
      "image/png": "[encoded data removed]",
      "text/plain": [
       "<Figure size 432x288 with 4 Axes>"
      ]
     },
     "metadata": {
      "needs_background": "light"
     },
     "output_type": "display_data"
    }
   ],
   "source": [
    "ax0 = plt.subplot(2,1,1) # subplot(행,열,index)\n",
    "ax1 = ax0.twinx()\n",
    "\n",
    "ax2 = plt.subplot(2,1,2)\n",
    "ax3 = ax2.twinx()\n",
    "\n",
    "ax1.set_xlim([1990,2016])\n",
    "ax2.set_xlim([1990,2016])\n",
    "\n",
    "ax0.set_ylabel('United States')\n",
    "ax2.set_ylabel('United Kingdom')\n",
    "\n",
    "ax1.get_shared_y_axes().join(ax1,ax3)          ## 축 범위 통합\n",
    "ax1.get_shared_y_axes().join(ax0,ax2)\n",
    "\n",
    "ax0.plot(USA_pm['year'],USA_pm['pm10'],color='crimson',label='PM10',linewidth=1.5)\n",
    "ax1.plot(USA_co2['year'],USA_co2['co2'],color='steelblue',label='CO2',linewidth=1.5)\n",
    "\n",
    "ax2.plot(GBR_pm['year'],GBR_pm['pm10'],color='crimson',label='PM10',linewidth=1.5)\n",
    "ax3.plot(GBR_co2['year'],GBR_co2['co2'],color='steelblue',label='CO2',linewidth=1.5)\n",
    "\n",
    "plt.show()"
   ]
  },
  {
   "cell_type": "code",
   "execution_count": 50,
   "metadata": {},
   "outputs": [
    {
     "name": "stdout",
     "output_type": "stream",
     "text": [
      "     entity code  year          co2\n",
      "4503  China  CHN  1970   770.167190\n",
      "4504  China  CHN  1971   874.016311\n",
      "4505  China  CHN  1972   928.893995\n",
      "4506  China  CHN  1973   965.646559\n",
      "4507  China  CHN  1974   985.085216\n",
      "4508  China  CHN  1975  1142.101906\n",
      "4509  China  CHN  1976  1190.964598\n",
      "4510  China  CHN  1977  1304.402788\n",
      "4511  China  CHN  1978  1455.257506\n",
      "4512  China  CHN  1979  1487.113010\n",
      "4513  China  CHN  1980  1458.886738\n",
      "4514  China  CHN  1981  1442.782385\n",
      "4515  China  CHN  1982  1570.468325\n",
      "4516  China  CHN  1983  1655.810483\n",
      "4517  China  CHN  1984  1802.317096\n",
      "4518  China  CHN  1985  1951.773228\n",
      "4519  China  CHN  1986  2052.242128\n",
      "4520  China  CHN  1987  2191.053006\n",
      "4521  China  CHN  1988  2347.763494\n",
      "4522  China  CHN  1989  2386.885125\n",
      "4523  China  CHN  1990  2420.302108\n",
      "4524  China  CHN  1991  2538.923968\n",
      "4525  China  CHN  1992  2657.112406\n",
      "4526  China  CHN  1993  2835.795473\n",
      "4527  China  CHN  1994  3010.242208\n",
      "4528  China  CHN  1995  3265.056964\n",
      "4529  China  CHN  1996  3408.346591\n",
      "4530  China  CHN  1997  3414.549286\n",
      "4531  China  CHN  1998  3265.902621\n",
      "4532  China  CHN  1999  3258.134887\n",
      "4533  China  CHN  2000  3349.294776\n",
      "4534  China  CHN  2001  3426.144062\n",
      "4535  China  CHN  2002  3782.439297\n",
      "4536  China  CHN  2003  4452.310296\n",
      "4537  China  CHN  2004  5125.894416\n",
      "4538  China  CHN  2005  5771.168440\n",
      "4539  China  CHN  2006  6377.748016\n",
      "4540  China  CHN  2007  6861.750652\n",
      "4541  China  CHN  2008  7375.189907\n",
      "4542  China  CHN  2009  7758.811768\n",
      "4543  China  CHN  2010  8500.542695\n",
      "4544  China  CHN  2011  9388.199234\n",
      "4545  China  CHN  2012  9633.899303\n",
      "4546  China  CHN  2013  9796.527160\n",
      "4547  China  CHN  2014  9820.360492\n",
      "4548  China  CHN  2015  9716.467840\n",
      "4549  China  CHN  2016  9704.479432\n"
     ]
    }
   ],
   "source": [
    "# China\n",
    "\n",
    "chn = data['entity'] == 'China'\n",
    "\n",
    "yy1 = data['year'] >= 1970\n",
    "yy2 = data['year'] <= 2016\n",
    "\n",
    "CHN_co2 = data[chn&yy1&yy2]\n",
    "print(CHN_co2)"
   ]
  },
  {
   "cell_type": "code",
   "execution_count": 57,
   "metadata": {},
   "outputs": [
    {
     "data": {
      "image/png": "[encoded data removed]",
      "text/plain": [
       "<Figure size 432x288 with 6 Axes>"
      ]
     },
     "metadata": {
      "needs_background": "light"
     },
     "output_type": "display_data"
    }
   ],
   "source": [
    "ax0 = plt.subplot(3,1,1) # 3행 1열 첫번째 그림\n",
    "ax1 = ax0.twinx()\n",
    "\n",
    "ax2 = plt.subplot(3,1,2)\n",
    "ax3 = ax2.twinx()\n",
    "\n",
    "ax4 = plt.subplot(3,1,3)\n",
    "ax5 = ax4.twinx()\n",
    "\n",
    "ax1.set_xlim([1970,2016])\n",
    "ax2.set_xlim([1970,2016])\n",
    "ax4.set_xlim([1970,2016])\n",
    "\n",
    "ax0.set_ylabel('United States')\n",
    "ax2.set_ylabel('United Kingdom')\n",
    "ax4.set_ylabel('China')\n",
    "\n",
    "ax1.get_shared_y_axes().join(ax1,ax3,ax5)          ## 축 범위 통합\n",
    "ax1.get_shared_y_axes().join(ax0,ax2,ax4)\n",
    "\n",
    "ax0.plot(USA_pm['year'],USA_pm['pm10'],color='crimson',label='PM10',linewidth=1.5)\n",
    "ax1.plot(USA_co2['year'],USA_co2['co2'],color='steelblue',label='CO2',linewidth=1.5)\n",
    "\n",
    "ax2.plot(GBR_pm['year'],GBR_pm['pm10'],color='crimson',label='PM10',linewidth=1.5)\n",
    "ax3.plot(GBR_co2['year'],GBR_co2['co2'],color='steelblue',label='CO2',linewidth=1.5)\n",
    "\n",
    "ax5.plot(CHN_co2['year'],CHN_co2['co2'],color='steelblue',label='CO2',linewidth=1.5)\n",
    "\n",
    "\n",
    "plt.tight_layout()   # 그림간 간격 자동조정\n",
    "plt.show()"
   ]
  },
  {
   "cell_type": "code",
   "execution_count": null,
   "metadata": {},
   "outputs": [],
   "source": []
  }
 ],
 "metadata": {
  "kernelspec": {
   "display_name": "Python 3",
   "language": "python",
   "name": "python3"
  },
  "language_info": {
   "codemirror_mode": {
    "name": "ipython",
    "version": 3
   },
   "file_extension": ".py",
   "mimetype": "text/x-python",
   "name": "python",
   "nbconvert_exporter": "python",
   "pygments_lexer": "ipython3",
   "version": "3.8.8"
  }
 },
 "nbformat": 4,
 "nbformat_minor": 4
}
