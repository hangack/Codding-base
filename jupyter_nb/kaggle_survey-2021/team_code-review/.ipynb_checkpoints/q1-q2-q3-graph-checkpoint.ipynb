{
 "cells": [
  {
   "cell_type": "code",
   "execution_count": null,
   "metadata": {
    "_cell_guid": "b1076dfc-b9ad-4769-8c92-a6c4dae69d19",
    "_uuid": "8f2839f25d086af736a60e9eeb907d3b93b6e0e5",
    "execution": {
     "iopub.execute_input": "2021-11-16T07:49:33.515208Z",
     "iopub.status.busy": "2021-11-16T07:49:33.514895Z",
     "iopub.status.idle": "2021-11-16T07:49:33.530576Z",
     "shell.execute_reply": "2021-11-16T07:49:33.529876Z",
     "shell.execute_reply.started": "2021-11-16T07:49:33.515177Z"
    }
   },
   "outputs": [],
   "source": [
    "# This Python 3 environment comes with many helpful analytics libraries installed\n",
    "# It is defined by the kaggle/python Docker image: https://github.com/kaggle/docker-python\n",
    "# For example, here's several helpful packages to load\n",
    "\n",
    "import numpy as np # linear algebra\n",
    "import pandas as pd # data processing, CSV file I/O (e.g. pd.read_csv)\n",
    "\n",
    "# Input data files are available in the read-only \"../input/\" directory\n",
    "# For example, running this (by clicking run or pressing Shift+Enter) will list all files under the input directory\n",
    "\n",
    "import os\n",
    "for dirname, _, filenames in os.walk('/kaggle/input'):\n",
    "    for filename in filenames:\n",
    "        print(os.path.join(dirname, filename))\n",
    "\n",
    "# You can write up to 20GB to the current directory (/kaggle/working/) that gets preserved as output when you create a version using \"Save & Run All\" \n",
    "# You can also write temporary files to /kaggle/temp/, but they won't be saved outside of the current session"
   ]
  },
  {
   "cell_type": "code",
   "execution_count": null,
   "metadata": {
    "execution": {
     "iopub.execute_input": "2021-11-16T07:49:33.532388Z",
     "iopub.status.busy": "2021-11-16T07:49:33.532039Z",
     "iopub.status.idle": "2021-11-16T07:49:33.538389Z",
     "shell.execute_reply": "2021-11-16T07:49:33.537981Z",
     "shell.execute_reply.started": "2021-11-16T07:49:33.532359Z"
    }
   },
   "outputs": [],
   "source": [
    "from plotly.offline import plot, iplot, init_notebook_mode\n",
    "init_notebook_mode(connected=True)"
   ]
  },
  {
   "cell_type": "code",
   "execution_count": null,
   "metadata": {
    "execution": {
     "iopub.execute_input": "2021-11-16T07:49:33.539467Z",
     "iopub.status.busy": "2021-11-16T07:49:33.53923Z",
     "iopub.status.idle": "2021-11-16T07:49:35.030094Z",
     "shell.execute_reply": "2021-11-16T07:49:35.029413Z",
     "shell.execute_reply.started": "2021-11-16T07:49:33.539446Z"
    }
   },
   "outputs": [],
   "source": [
    "import matplotlib.pyplot as plt\n",
    "import plotly.express as px\n",
    "import plotly.graph_objects as go\n",
    "from warnings import filterwarnings\n",
    "from plotly.subplots import make_subplots\n",
    "filterwarnings('ignore')\n",
    "\n",
    "colors = ['#B1EDED','#B1B2ED','#1DE7ED','#1DA5ED','#1D50ED','#16548E']\n",
    "gen_colors = ['#4169E1','#B2182B','#81007F','#D1B2FF','#EFE4E2']\n",
    "JP_colors = ['#D90B0B','#F24444','#EFE4E2','#FCCE88','#64807F']\n",
    "CN_colors = ['#E0201B','#FFCE3F','#A63F03','#04BF33','#F2E6D8']\n",
    "\n",
    "\n",
    "df21 = pd.read_csv('../input/kaggle-survey-2021/kaggle_survey_2021_responses.csv')\n",
    "df19 = pd.read_csv('../input/kaggle-survey-2019/multiple_choice_responses.csv')\n",
    "\n",
    "df19.head()"
   ]
  },
  {
   "cell_type": "code",
   "execution_count": null,
   "metadata": {
    "execution": {
     "iopub.execute_input": "2021-11-16T07:49:35.032124Z",
     "iopub.status.busy": "2021-11-16T07:49:35.031872Z",
     "iopub.status.idle": "2021-11-16T07:49:35.074222Z",
     "shell.execute_reply": "2021-11-16T07:49:35.073061Z",
     "shell.execute_reply.started": "2021-11-16T07:49:35.032096Z"
    }
   },
   "outputs": [],
   "source": [
    "JP_ndarray = df19[df19['Q3'] == 'Japan']['Q2'].values\n",
    "CN_ndarray = df19[df19['Q3'] == 'China']['Q2'].values\n",
    "JP_age_list = [] # 'Male'을 'Man'으로 바꿔담을 빈 리스트 생성\n",
    "CN_age_list = []\n",
    "\n",
    "for item in JP_ndarray:\n",
    "    if item == 'Male':\n",
    "        # 문자열 치환\n",
    "        item_mod = item.replace('Male','Man')\n",
    "        # 새로운 리스트에 추가\n",
    "        JP_age_list.append(item_mod)\n",
    "    elif item == 'Female':\n",
    "        item_mod2 = item.replace('Female','Woman')\n",
    "        JP_age_list.append(item_mod2)\n",
    "    else :\n",
    "        JP_age_list.append(item)\n",
    "\n",
    "for item in CN_ndarray:\n",
    "    if item == 'Male':\n",
    "        # 문자열 치환\n",
    "        item_mod = item.replace('Male','Man')\n",
    "        # 새로운 리스트에 추가\n",
    "        CN_age_list.append(item_mod)\n",
    "    elif item == 'Female':\n",
    "        item_mod2 = item.replace('Female','Woman')\n",
    "        CN_age_list.append(item_mod2)\n",
    "    else :\n",
    "        CN_age_list.append(item)\n",
    "\n",
    "JP_age_series = pd.Series(JP_age_list)\n",
    "CN_age_series = pd.Series(CN_age_list)\n",
    "#함수 고려"
   ]
  },
  {
   "cell_type": "code",
   "execution_count": null,
   "metadata": {
    "execution": {
     "iopub.execute_input": "2021-11-16T07:49:35.076334Z",
     "iopub.status.busy": "2021-11-16T07:49:35.076024Z",
     "iopub.status.idle": "2021-11-16T07:49:35.08442Z",
     "shell.execute_reply": "2021-11-16T07:49:35.08358Z",
     "shell.execute_reply.started": "2021-11-16T07:49:35.076303Z"
    }
   },
   "outputs": [],
   "source": [
    "def group(data, country, question_num):\n",
    "    return data[data['Q3'] == country][question_num].value_counts()\n",
    "\n",
    "def go_Bar(name_input, xaxis, yaxis, color, OSgroup):\n",
    "    return go.Bar( \n",
    "                name=name_input,\n",
    "                x=xaxis,\n",
    "                y=yaxis,\n",
    "                marker_color=color,\n",
    "                offsetgroup=OSgroup)\n",
    "\n",
    "def go_Pie(country, label_value):\n",
    "    return go.Pie(title = country,\n",
    "                  labels = label_value.index,\n",
    "                  values = label_value.values,\n",
    "                  textinfo = 'label+percent',\n",
    "                  rotation=315,\n",
    "                  hole = .3,)\n"
   ]
  },
  {
   "cell_type": "code",
   "execution_count": null,
   "metadata": {
    "execution": {
     "iopub.execute_input": "2021-11-16T07:49:35.086597Z",
     "iopub.status.busy": "2021-11-16T07:49:35.085903Z",
     "iopub.status.idle": "2021-11-16T07:49:35.229757Z",
     "shell.execute_reply": "2021-11-16T07:49:35.228659Z",
     "shell.execute_reply.started": "2021-11-16T07:49:35.086569Z"
    }
   },
   "outputs": [],
   "source": [
    "JP_age_19 =  group(df19,'Japan','Q1').sort_index()\n",
    "JP_age_21 =  group(df21,'Japan','Q1').sort_index()\n",
    "CN_age_19 =  group(df19,'China','Q1').sort_index()\n",
    "CN_age_21 =  group(df21,'China','Q1').sort_index()\n",
    "\n",
    "\n",
    "fig_age_19 = go.Figure(data=[ \n",
    "                        go_Bar('Japan', JP_age_19.index, JP_age_19.values, JP_colors[0], 0),\n",
    "                        go_Bar('China', CN_age_19.index, CN_age_19.values, CN_colors[1], 1)\n",
    "])\n",
    "\n",
    "fig_age_21 = go.Figure(data=[ \n",
    "                        go_Bar('Japan', JP_age_21.index, JP_age_21.values, JP_colors[0], 0),\n",
    "                        go_Bar('China', CN_age_21.index, CN_age_21.values, CN_colors[1], 1)\n",
    "])\n",
    "\n",
    "fig_age_19.update_layout(\n",
    "                    barmode='group',\n",
    "                    title_text='2019 China and Japan age distribution',\n",
    "                    xaxis_title='Age',\n",
    "                    yaxis_title='Counts')\n",
    "\n",
    "fig_age_21.update_layout(\n",
    "                    barmode='group',\n",
    "                    title_text='2021 China and Japan age distribution',\n",
    "                    xaxis_title='Age',\n",
    "                    yaxis_title='Counts')\n",
    "fig_age_19.show()\n",
    "fig_age_21.show()"
   ]
  },
  {
   "cell_type": "code",
   "execution_count": null,
   "metadata": {
    "_kg_hide-output": true,
    "execution": {
     "iopub.execute_input": "2021-11-16T07:49:35.23179Z",
     "iopub.status.busy": "2021-11-16T07:49:35.231254Z",
     "iopub.status.idle": "2021-11-16T07:49:35.325652Z",
     "shell.execute_reply": "2021-11-16T07:49:35.325244Z",
     "shell.execute_reply.started": "2021-11-16T07:49:35.231744Z"
    }
   },
   "outputs": [],
   "source": [
    "fig = make_subplots(rows=2, cols=2, specs=[[{'type':'domain'}, {'type':'domain'}],\n",
    "                                           [{'type':'domain'}, {'type':'domain'}]])\n",
    "'''\n",
    "def group(data, country, question_num):\n",
    "    return data[data['Q3'] == country][question_num].value_counts()\n",
    "\n",
    "def go_Pie(country, label_value):\n",
    "    return go.Pie(title = country,\n",
    "                  labels = label_value.index,\n",
    "                  values = label_value.values,\n",
    "                  textinfo = 'label+percent',\n",
    "                  hole = .3,)\n",
    "'''\n",
    "fig.add_trace(go_Pie('2019_Japan', JP_age_series.value_counts()),1,1)\n",
    "              \n",
    "fig.add_trace(go_Pie('2019_China', CN_age_series.value_counts()),1,2)\n",
    "\n",
    "fig.add_trace(go_Pie('2021_Japan', group(df21,'Japan','Q2')),2,1)\n",
    "\n",
    "fig.add_trace(go_Pie('2021_China', group(df21,'China','Q2')),2,2)\n",
    "\n",
    "fig.update_traces(marker=dict(colors=gen_colors[0:]))\n",
    "fig.update_layout(title_text='Gender Distribution',\n",
    "                  paper_bgcolor='ivory',\n",
    "                  showlegend=True,\n",
    "                  autosize=True,\n",
    "                  height=700)\n",
    "fig.show()"
   ]
  },
  {
   "cell_type": "code",
   "execution_count": null,
   "metadata": {
    "execution": {
     "iopub.execute_input": "2021-11-16T07:49:35.326984Z",
     "iopub.status.busy": "2021-11-16T07:49:35.326507Z",
     "iopub.status.idle": "2021-11-16T07:49:35.429164Z",
     "shell.execute_reply": "2021-11-16T07:49:35.428111Z",
     "shell.execute_reply.started": "2021-11-16T07:49:35.326951Z"
    }
   },
   "outputs": [],
   "source": [
    "years = ['2019', '2021']\n",
    "JP_country_count_19 = (df19[df19['Q3'] == 'Japan']['Q3']).count()\n",
    "CN_country_count_19 = (df19[df19['Q3'] == 'China']['Q3']).count()\n",
    "JP_country_count_21 = (df21[df21['Q3'] == 'Japan']['Q3']).count()\n",
    "CN_country_count_21 = (df21[df21['Q3'] == 'China']['Q3']).count()\n",
    "\n",
    "JP_country_count_19_21 = [JP_country_count_19, JP_country_count_21]\n",
    "CN_country_count_19_21 = [CN_country_count_19, CN_country_count_21]\n",
    "\n",
    "fig_country = go.Figure(data=[\n",
    "                        go_Bar('Japan', years, JP_country_count_19_21, JP_colors[0], 0),\n",
    "                        go_Bar('China', years, CN_country_count_19_21, CN_colors[1], 1)\n",
    "])\n",
    "\n",
    "fig_country.update_layout(\n",
    "                    barmode='group',\n",
    "                    title_text='2019 & 2021, the number of Kaggler living in Japan and China',\n",
    "                    xaxis_title='years',\n",
    "                    yaxis_title='Counts')\n",
    "fig_country.show()"
   ]
  },
  {
   "cell_type": "code",
   "execution_count": null,
   "metadata": {
    "execution": {
     "iopub.execute_input": "2021-11-16T07:49:35.430582Z",
     "iopub.status.busy": "2021-11-16T07:49:35.430391Z",
     "iopub.status.idle": "2021-11-16T07:49:35.513782Z",
     "shell.execute_reply": "2021-11-16T07:49:35.512632Z",
     "shell.execute_reply.started": "2021-11-16T07:49:35.430557Z"
    }
   },
   "outputs": [],
   "source": [
    "tool_list = ['Matplotlib', 'Seaborn', 'Plotly / Plotly Express', 'Ggplot / ggplot2', 'Shiny', 'D3 js', 'Altair', 'Bokeh', 'Geoplotlib', 'Leaflet / Folium', 'None', 'Other']\n",
    "df19_JPCN = df19[df19.Q3.isin(['Japna','China'])]\n",
    "df21_JPCN = df21[df21.Q3.isin(['Japan','China'])]\n",
    "df19_JPCN_Q14 = pd.DataFrame()\n",
    "df21_JPCN_Q14 = pd.DataFrame()\n",
    "df19_JPCN_Q14['Q20'] = [df19_JPCN[col][1:].value_counts().index[0] for col in df19_JPCN.columns[97:109]]\n",
    "df21_JPCN_Q14['Q14'] = [df21_JPCN[col][1:].value_counts().index[0] for col in df21_JPCN.columns[59:71]]\n",
    "df19_JPCN_Q14['counts'] = [df19_JPCN[col][1:].value_counts().values[0] for col in df19_JPCN.columns[97:109]]\n",
    "df21_JPCN_Q14['counts'] = [df21_JPCN[col][1:].value_counts().values[0] for col in df21_JPCN.columns[59:71]]\n",
    "\n",
    "df19_JPCN_Q14['Q20'].sort_values(ascending=True)"
   ]
  },
  {
   "cell_type": "code",
   "execution_count": null,
   "metadata": {
    "execution": {
     "iopub.execute_input": "2021-11-16T07:49:35.517996Z",
     "iopub.status.busy": "2021-11-16T07:49:35.517615Z",
     "iopub.status.idle": "2021-11-16T07:49:35.527846Z",
     "shell.execute_reply": "2021-11-16T07:49:35.526358Z",
     "shell.execute_reply.started": "2021-11-16T07:49:35.517957Z"
    }
   },
   "outputs": [],
   "source": [
    "df21_JPCN_Q14"
   ]
  },
  {
   "cell_type": "code",
   "execution_count": null,
   "metadata": {
    "execution": {
     "iopub.execute_input": "2021-11-16T07:49:35.530241Z",
     "iopub.status.busy": "2021-11-16T07:49:35.529736Z",
     "iopub.status.idle": "2021-11-16T07:49:35.548468Z",
     "shell.execute_reply": "2021-11-16T07:49:35.547578Z",
     "shell.execute_reply.started": "2021-11-16T07:49:35.530198Z"
    }
   },
   "outputs": [],
   "source": [
    "df19_JPCN_Q14"
   ]
  },
  {
   "cell_type": "code",
   "execution_count": null,
   "metadata": {
    "execution": {
     "iopub.status.busy": "2021-11-16T07:49:35.569488Z",
     "iopub.status.idle": "2021-11-16T07:49:35.569728Z",
     "shell.execute_reply": "2021-11-16T07:49:35.569614Z",
     "shell.execute_reply.started": "2021-11-16T07:49:35.569598Z"
    }
   },
   "outputs": [],
   "source": [
    "print(tool_list)\n",
    "print(df19_JPCN_Q14['Q20'].sort_values(ascending=True).values)\n",
    "print(df21_JPCN_Q14['Q14'].sort_values(ascending=True).values)\n",
    "print(type(df21_JPCN_Q14['Q14'].sort_values(ascending=True).values))"
   ]
  },
  {
   "cell_type": "code",
   "execution_count": null,
   "metadata": {
    "execution": {
     "iopub.status.busy": "2021-11-16T07:49:35.573302Z",
     "iopub.status.idle": "2021-11-16T07:49:35.573623Z",
     "shell.execute_reply": "2021-11-16T07:49:35.573467Z",
     "shell.execute_reply.started": "2021-11-16T07:49:35.57345Z"
    }
   },
   "outputs": [],
   "source": [
    "series1 = df19_JPCN_Q14['Q20']\n",
    "series1.replace('D3.js','D3 js')"
   ]
  },
  {
   "cell_type": "code",
   "execution_count": null,
   "metadata": {},
   "outputs": [],
   "source": [
    "tool_list = ['Matplotlib', 'Seaborn', 'Plotly / Plotly Express', 'Ggplot / ggplot2', 'Shiny', 'D3 js', 'Altair', 'Bokeh', 'Geoplotlib', 'Leaflet / Folium', 'None', 'Other']\n",
    "df19_JP = df19[df19.Q3.isin(['Japan'])]\n",
    "df19_CN = df19[df19.Q3.isin(['China'])]\n",
    "df21_JP = df21[df21.Q3.isin(['Japan'])]\n",
    "df21_CN = df21[df21.Q3.isin(['China'])]\n",
    "df19_JP_Q14 = pd.DataFrame()\n",
    "df19_CN_Q14 = pd.DataFrame()\n",
    "df21_JP_Q14 = pd.DataFrame()\n",
    "df21_CN_Q14 = pd.DataFrame()\n",
    "df19_JP_Q14['Q20'] = [df19_JP[col][1:].value_counts().index[0] for col in df19_JP.columns[97:109]]\n",
    "df19_CN_Q14['Q20'] = [df19_CN[col][1:].value_counts().index[0] for col in df19_CN.columns[97:109]]\n",
    "df21_JP_Q14['Q14'] = [df21_JP[col][1:].value_counts().index[0] for col in df21_JP.columns[59:71]]\n",
    "df21_CN_Q14['Q14'] = [df21_CN[col][1:].value_counts().index[0] for col in df21_CN.columns[59:71]]\n",
    "df19_JP_Q14['counts'] = [df19_JP[col][1:].value_counts().values[0] for col in df19_JP.columns[97:109]]\n",
    "df19_CN_Q14['counts'] = [df19_CN[col][1:].value_counts().values[0] for col in df19_CN.columns[97:109]]\n",
    "df21_JP_Q14['counts'] = [df21_JP[col][1:].value_counts().values[0] for col in df21_JP.columns[59:71]]\n",
    "df21_CN_Q14['counts'] = [df21_CN[col][1:].value_counts().values[0] for col in df21_CN.columns[59:71]]\n",
    "\n",
    "\n",
    "df19_JP_Q14.index = [3,0,6,4,5,2,7,1,8,9,10,11]\n",
    "df19_CN_Q14.index = [3,0,6,4,5,2,7,1,8,9,10,11]\n",
    "df19_JP_Q14 = df19_JP_Q14.sort_index()\n",
    "df19_CN_Q14 = df19_CN_Q14.sort_index()\n",
    "df21_JP_Q14['Q14'].index = [0,1,2,3,4,5,6,7,8,9,10,11]\n",
    "df21_CN_Q14['Q14'].index = [0,1,2,3,4,5,6,7,8,9,10,11]\n",
    "df19_JP_Q14.replace(regex = 'D3.js', value = 'D3 js', inplace = True)\n",
    "df19_CN_Q14.replace(regex = 'D3.js', value = 'D3 js', inplace = True)\n",
    "\n",
    "\n",
    "fig_tool1 = go.Figure(data=[\n",
    "    go.Bar(name=years[0], x=df19_JP_Q14['Q20'].values, y=df19_JP_Q14['counts'].values, marker_color=JP_colors[0], offsetgroup=0),\n",
    "    go.Bar(name=years[0], x=df19_JP_Q14['Q20'].values, y=df19_JP_Q14['counts'].values, marker_color=CN_colors[1], offsetgroup=0)\n",
    "])\n",
    "fig_tool1 = go.Figure(data=[\n",
    "    go.Bar(name=years[1], x=df21_JP_Q14['Q14'].values, y=df21_JP_Q14['counts'].values, marker_color=JP_colors[1], offsetgroup=1),\n",
    "    go.Bar(name=years[1], x=df21_JP_Q14['Q14'].values, y=df21_JP_Q14['counts'].values, marker_color=CN_colors[2], offsetgroup=1)\n",
    "])\n",
    "    \n",
    "fig_tool1.update_layout(\n",
    "                    barmode = 'stack',\n",
    "                    title_text = 'title',\n",
    "                    xaxis_title = 'Visualization libraries or tool',\n",
    "                    yaxis_title = 'Counts')\n",
    "\n",
    "fig_tool2.update_layout(\n",
    "                    barmode = 'stack',\n",
    "                    title_text = 'title',\n",
    "                    xaxis_title = 'Visualization libraries or tool',\n",
    "                    yaxis_title = 'Counts')\n",
    "\n",
    "fig_tool1.show()\n",
    "fig_tool2.show()"
   ]
  },
  {
   "cell_type": "code",
   "execution_count": null,
   "metadata": {
    "execution": {
     "iopub.execute_input": "2021-11-16T07:52:03.664362Z",
     "iopub.status.busy": "2021-11-16T07:52:03.664116Z",
     "iopub.status.idle": "2021-11-16T07:52:03.852264Z",
     "shell.execute_reply": "2021-11-16T07:52:03.851128Z",
     "shell.execute_reply.started": "2021-11-16T07:52:03.664336Z"
    }
   },
   "outputs": [],
   "source": [
    "tool_list = ['Matplotlib', 'Seaborn', 'Plotly / Plotly Express', 'Ggplot / ggplot2', 'Shiny', 'D3 js', 'Altair', 'Bokeh', 'Geoplotlib', 'Leaflet / Folium', 'None', 'Other']\n",
    "df19_JP = df19[df19.Q3.isin(['Japan'])]\n",
    "df19_CN = df19[df19.Q3.isin(['China'])]\n",
    "df21_JP = df21[df21.Q3.isin(['Japan'])]\n",
    "df21_CN = df21[df21.Q3.isin(['China'])]\n",
    "df19_JP_Q14 = pd.DataFrame()\n",
    "df19_CN_Q14 = pd.DataFrame()\n",
    "df21_JP_Q14 = pd.DataFrame()\n",
    "df21_CN_Q14 = pd.DataFrame()\n",
    "df19_JP_Q14['Q20'] = [df19_JP[col][1:].value_counts().index[0] for col in df19_JP.columns[97:109]]\n",
    "df19_CN_Q14['Q20'] = [df19_CN[col][1:].value_counts().index[0] for col in df19_CN.columns[97:109]]\n",
    "df21_JP_Q14['Q14'] = [df21_JP[col][1:].value_counts().index[0] for col in df21_JP.columns[59:71]]\n",
    "df21_CN_Q14['Q14'] = [df21_CN[col][1:].value_counts().index[0] for col in df21_CN.columns[59:71]]\n",
    "df19_JP_Q14['counts'] = [df19_JP[col][1:].value_counts().values[0] for col in df19_JP.columns[97:109]]\n",
    "df19_CN_Q14['counts'] = [df19_CN[col][1:].value_counts().values[0] for col in df19_CN.columns[97:109]]\n",
    "df21_JP_Q14['counts'] = [df21_JP[col][1:].value_counts().values[0] for col in df21_JP.columns[59:71]]\n",
    "df21_CN_Q14['counts'] = [df21_CN[col][1:].value_counts().values[0] for col in df21_CN.columns[59:71]]\n",
    "\n",
    "\n",
    "df19_JP_Q14.index = [3,0,6,4,5,2,7,1,8,9,10,11]\n",
    "df19_CN_Q14.index = [3,0,6,4,5,2,7,1,8,9,10,11]\n",
    "df19_JP_Q14 = df19_JP_Q14.sort_index()\n",
    "df19_CN_Q14 = df19_CN_Q14.sort_index()\n",
    "df21_JP_Q14['Q14'].index = [0,1,2,3,4,5,6,7,8,9,10,11]\n",
    "df21_CN_Q14['Q14'].index = [0,1,2,3,4,5,6,7,8,9,10,11]\n",
    "df19_JP_Q14.replace(regex = 'D3.js', value = 'D3 js', inplace = True)\n",
    "df19_CN_Q14.replace(regex = 'D3.js', value = 'D3 js', inplace = True)\n",
    "\n",
    "\n",
    "fig_tool1 = go.Figure(data=[\n",
    "    go.Bar(name=years[0], x=df19_JP_Q14['Q20'].values, y=df19_JP_Q14['counts'].values, marker_color=JP_colors[0], offsetgroup=0),\n",
    "    go.Bar(name=years[0], x=df19_JP_Q14['Q20'].values, y=df19_JP_Q14['counts'].values, marker_color=CN_colors[1], offsetgroup=0)\n",
    "])\n",
    "fig_tool1 = go.Figure(data=[\n",
    "    go.Bar(name=years[1], x=df21_JP_Q14['Q14'].values, y=df21_JP_Q14['counts'].values, marker_color=JP_colors[1], offsetgroup=1),\n",
    "    go.Bar(name=years[1], x=df21_JP_Q14['Q14'].values, y=df21_JP_Q14['counts'].values, marker_color=CN_colors[2], offsetgroup=1)\n",
    "])\n",
    "    \n",
    "fig_tool1.update_layout(\n",
    "                    barmode = 'stack',\n",
    "                    title_text = 'title',\n",
    "                    xaxis_title = 'Visualization libraries or tool',\n",
    "                    yaxis_title = 'Counts')\n",
    "\n",
    "fig_tool2.update_layout(\n",
    "                    barmode = 'stack',\n",
    "                    title_text = 'title',\n",
    "                    xaxis_title = 'Visualization libraries or tool',\n",
    "                    yaxis_title = 'Counts')\n",
    "\n",
    "fig_tool1.show()\n",
    "fig_tool2.show()"
   ]
  },
  {
   "cell_type": "code",
   "execution_count": null,
   "metadata": {},
   "outputs": [],
   "source": []
  },
  {
   "cell_type": "code",
   "execution_count": null,
   "metadata": {
    "execution": {
     "iopub.status.busy": "2021-11-16T07:49:35.583535Z",
     "iopub.status.idle": "2021-11-16T07:49:35.584027Z",
     "shell.execute_reply": "2021-11-16T07:49:35.583836Z",
     "shell.execute_reply.started": "2021-11-16T07:49:35.583818Z"
    }
   },
   "outputs": [],
   "source": [
    "tool_list = ['Matplotlib', 'Seaborn', 'Plotly / Plotly Express', 'Ggplot / ggplot2', 'Shiny', 'D3 js', 'Altair', 'Bokeh', 'Geoplotlib', 'Leaflet / Folium', 'None', 'Other']\n",
    "df19_JPCN = df19[df19.Q3.isin(['Japna','China'])]\n",
    "df21_JPCN = df21[df21.Q3.isin(['Japan','China'])]\n",
    "df19_JPCN_Q14 = pd.DataFrame()\n",
    "df21_JPCN_Q14 = pd.DataFrame()\n",
    "df19_JPCN_Q14['Q20'] = [df19_JPCN[col][1:].value_counts().index[0] for col in df19_JPCN.columns[97:109]]\n",
    "df21_JPCN_Q14['Q14'] = [df21_JPCN[col][1:].value_counts().index[0] for col in df21_JPCN.columns[59:71]]\n",
    "df19_JPCN_Q14['counts'] = [df19_JPCN[col][1:].value_counts().values[0] for col in df19_JPCN.columns[97:109]]\n",
    "df21_JPCN_Q14['counts'] = [df21_JPCN[col][1:].value_counts().values[0] for col in df21_JPCN.columns[59:71]]\n",
    "\n",
    "df19_JPCN_Q14.index = [3,0,6,4,5,2,7,1,8,9,10,11]\n",
    "df19_JPCN_Q14 = df19_JPCN_Q14.sort_index()\n",
    "df21_JPCN_Q14['Q14'].index = [0,1,2,3,4,5,6,7,8,9,10,11]\n",
    "\n",
    "fig_tool = go.Figure(data=[go_Bar(years[0], df19_JPCN_Q14['Q20'].values[0], df19_JPCN_Q14['counts'].values[0], CN_colors[1]),\n",
    "                        go_Bar(years[0], df19_JPCN_Q14['Q20'].values[1], df19_JPCN_Q14['counts'].values[0], CN_colors[1]),\n",
    "                        go_Bar(years[0], df19_JPCN_Q14['Q20'].values[2], df19_JPCN_Q14['counts'].values[0], CN_colors[1]),\n",
    "                        go_Bar(years[0], df19_JPCN_Q14['Q20'].values[3], df19_JPCN_Q14['counts'].values[0], CN_colors[1]),\n",
    "                        go_Bar(years[0], df19_JPCN_Q14['Q20'].values[4], df19_JPCN_Q14['counts'].values[0], CN_colors[1]),\n",
    "                        go_Bar(years[0], df19_JPCN_Q14['Q20'].values[5], df19_JPCN_Q14['counts'].values[0], CN_colors[1]),\n",
    "                        go_Bar(years[0], df19_JPCN_Q14['Q20'].values[6], df19_JPCN_Q14['counts'].values[0], CN_colors[1]),\n",
    "                        go_Bar(years[0], df19_JPCN_Q14['Q20'].values[7], df19_JPCN_Q14['counts'].values[0], CN_colors[1]),\n",
    "                        go_Bar(years[0], df19_JPCN_Q14['Q20'].values[8], df19_JPCN_Q14['counts'].values[0], CN_colors[1]),\n",
    "                        go_Bar(years[0], df19_JPCN_Q14['Q20'].values[9], df19_JPCN_Q14['counts'].values[0], CN_colors[1]),\n",
    "                        go_Bar(years[0], df19_JPCN_Q14['Q20'].values[10], df19_JPCN_Q14['counts'].values[0], CN_colors[1]),\n",
    "                        go_Bar(years[0], df19_JPCN_Q14['Q20'].values[11], df19_JPCN_Q14['counts'].values[0], CN_colors[1])\n",
    "])\n",
    "fig_tool.show()"
   ]
  },
  {
   "cell_type": "code",
   "execution_count": null,
   "metadata": {
    "execution": {
     "iopub.status.busy": "2021-11-16T07:49:35.584849Z",
     "iopub.status.idle": "2021-11-16T07:49:35.585182Z",
     "shell.execute_reply": "2021-11-16T07:49:35.585036Z",
     "shell.execute_reply.started": "2021-11-16T07:49:35.585018Z"
    }
   },
   "outputs": [],
   "source": [
    "df21_JPCN_Q14"
   ]
  },
  {
   "cell_type": "code",
   "execution_count": null,
   "metadata": {
    "execution": {
     "iopub.status.busy": "2021-11-16T07:49:35.586688Z",
     "iopub.status.idle": "2021-11-16T07:49:35.587138Z",
     "shell.execute_reply": "2021-11-16T07:49:35.586985Z",
     "shell.execute_reply.started": "2021-11-16T07:49:35.586967Z"
    }
   },
   "outputs": [],
   "source": [
    "years = ['2019', '2021']\n",
    "JP_country_count_19 = (df19[df19['Q3'] == 'Japan']['Q3']).count()\n",
    "CN_country_count_19 = (df19[df19['Q3'] == 'China']['Q3']).count()\n",
    "JP_country_count_21 = (df21[df21['Q3'] == 'Japan']['Q3']).count()\n",
    "CN_country_count_21 = (df21[df21['Q3'] == 'China']['Q3']).count()\n",
    "\n",
    "fig_country = go.Figure(data=[\n",
    "                        go_Bar('Japan', years[0], JP_country_count_19, JP_colors[0]),\n",
    "                        go_Bar('China', years[0], CN_country_count_19, CN_colors[1])\n",
    "])\n",
    "\n",
    "fig_country.update_layodfut(\n",
    "                    barmode='group',\n",
    "                    title_text='2019 & 2021, the number of Kaggler living in Japan and China',\n",
    "                    xaxis_title='years',\n",
    "                    yaxis_title='Counts')\n",
    "fig_country.show()"
   ]
  },
  {
   "cell_type": "code",
   "execution_count": null,
   "metadata": {
    "execution": {
     "iopub.status.busy": "2021-11-16T07:49:35.58797Z",
     "iopub.status.idle": "2021-11-16T07:49:35.588383Z",
     "shell.execute_reply": "2021-11-16T07:49:35.588232Z",
     "shell.execute_reply.started": "2021-11-16T07:49:35.588214Z"
    }
   },
   "outputs": [],
   "source": [
    "(df19[df19['Q3'] == 'Japan']['Q3']).count()"
   ]
  },
  {
   "cell_type": "code",
   "execution_count": null,
   "metadata": {
    "execution": {
     "iopub.status.busy": "2021-11-16T07:49:35.589218Z",
     "iopub.status.idle": "2021-11-16T07:49:35.589622Z",
     "shell.execute_reply": "2021-11-16T07:49:35.589473Z",
     "shell.execute_reply.started": "2021-11-16T07:49:35.589455Z"
    }
   },
   "outputs": [],
   "source": [
    "print(len(ndarray))"
   ]
  },
  {
   "cell_type": "code",
   "execution_count": null,
   "metadata": {
    "execution": {
     "iopub.status.busy": "2021-11-16T07:49:35.590496Z",
     "iopub.status.idle": "2021-11-16T07:49:35.591506Z",
     "shell.execute_reply": "2021-11-16T07:49:35.591122Z",
     "shell.execute_reply.started": "2021-11-16T07:49:35.590962Z"
    }
   },
   "outputs": [],
   "source": [
    "df19[df19['Q3'] == 'Japan']['Q2']"
   ]
  },
  {
   "cell_type": "code",
   "execution_count": null,
   "metadata": {
    "execution": {
     "iopub.status.busy": "2021-11-16T07:49:35.592966Z",
     "iopub.status.idle": "2021-11-16T07:49:35.593361Z",
     "shell.execute_reply": "2021-11-16T07:49:35.593241Z",
     "shell.execute_reply.started": "2021-11-16T07:49:35.593226Z"
    }
   },
   "outputs": [],
   "source": [
    "print(type(df21[df21['Q3'] == 'Japan']['Q2']))"
   ]
  },
  {
   "cell_type": "code",
   "execution_count": null,
   "metadata": {
    "execution": {
     "iopub.status.busy": "2021-11-16T07:49:35.594049Z",
     "iopub.status.idle": "2021-11-16T07:49:35.594361Z",
     "shell.execute_reply": "2021-11-16T07:49:35.594249Z",
     "shell.execute_reply.started": "2021-11-16T07:49:35.594236Z"
    }
   },
   "outputs": [],
   "source": [
    "df21[df21['Q3'] == 'Japan']['Q2'].value_counts()"
   ]
  },
  {
   "cell_type": "code",
   "execution_count": null,
   "metadata": {
    "execution": {
     "iopub.status.busy": "2021-11-16T07:49:35.595001Z",
     "iopub.status.idle": "2021-11-16T07:49:35.595322Z",
     "shell.execute_reply": "2021-11-16T07:49:35.59521Z",
     "shell.execute_reply.started": "2021-11-16T07:49:35.595197Z"
    }
   },
   "outputs": [],
   "source": [
    "df19[df19['Q3'] == 'Japan']['Q1'].value_counts()"
   ]
  },
  {
   "cell_type": "code",
   "execution_count": null,
   "metadata": {
    "execution": {
     "iopub.status.busy": "2021-11-16T07:49:35.595952Z",
     "iopub.status.idle": "2021-11-16T07:49:35.59628Z",
     "shell.execute_reply": "2021-11-16T07:49:35.59617Z",
     "shell.execute_reply.started": "2021-11-16T07:49:35.596156Z"
    }
   },
   "outputs": [],
   "source": [
    "(df19[df19['Q3'] == 'Japan']['Q1'].value_counts()).sort_index()"
   ]
  },
  {
   "cell_type": "code",
   "execution_count": null,
   "metadata": {
    "execution": {
     "iopub.status.busy": "2021-11-16T07:49:35.596903Z",
     "iopub.status.idle": "2021-11-16T07:49:35.59724Z",
     "shell.execute_reply": "2021-11-16T07:49:35.59713Z",
     "shell.execute_reply.started": "2021-11-16T07:49:35.597118Z"
    }
   },
   "outputs": [],
   "source": [
    "JP_age_19 =  group(df19,'Japan','Q1').sort_index()\n",
    "JP_age_21 =  group(df21,'Japan','Q1').sort_index()\n",
    "CN_age_19 =  group(df19,'China','Q1').sort_index()\n",
    "CN_age_21 =  group(df21,'China','Q1').sort_index()\n",
    "\n",
    "fig = make_subplots(rows=1, cols=2, specs=[[{'type':'domain'}, {'type':'domain'}]])\n",
    "\n",
    "fig.add_trace(go_Bar('Japan', JP_age_19, JP_colors[0]),\n",
    "              go_Bar('China', CN_age_19, CN_colors[1]),1,1)\n",
    "fig.add_trace(go_Bar('Japan', JP_age_21, JP_colors[0]),\n",
    "              go_Bar('China', CN_age_21, CN_colors[1]),1,2)\n",
    "\n",
    "fig.update_layout(\n",
    "                    barmode='group',\n",
    "                    title_text='Age distribution of China & Japan',\n",
    "                    xaxis_title='Age',\n",
    "                    yaxis_title='Counts')\n",
    "fig.show()"
   ]
  },
  {
   "cell_type": "code",
   "execution_count": null,
   "metadata": {
    "execution": {
     "iopub.status.busy": "2021-11-16T07:49:35.597848Z",
     "iopub.status.idle": "2021-11-16T07:49:35.598176Z",
     "shell.execute_reply": "2021-11-16T07:49:35.598066Z",
     "shell.execute_reply.started": "2021-11-16T07:49:35.598053Z"
    }
   },
   "outputs": [],
   "source": [
    "JP_age_19 =  group(df19,'Japan','Q1').sort_index()\n",
    "JP_age_21 =  group(df21,'Japan','Q1').sort_index()\n",
    "CN_age_19 =  group(df19,'China','Q1').sort_index()\n",
    "CN_age_21 =  group(df21,'China','Q1').sort_index()\n",
    "\n",
    "fig = make_subplots(rows=1, cols=2)\n",
    "\n",
    "fig.add_bar(y=[2, 1, 3],\n",
    "            marker=dict(color=\"MediumPurple\"),\n",
    "            name=\"b\", row=1, col=1)\n",
    "\n",
    "fig.add_bar(y=[1, 3, 2],\n",
    "            marker=dict(color=\"LightSeaGreen\"),\n",
    "            name=\"d\", row=1, col=2)\n",
    "\n",
    "'''\n",
    "fig.add_trace(go_Bar('Japan', JP_age_19, JP_age_19, JP_colors[0]),\n",
    "              go_Bar('China', CN_age_19, CN_age_19, CN_colors[1]),1,1)\n",
    "fig.add_trace(go_Bar('Japan', JP_age_21, JP_age_21, JP_colors[0]),\n",
    "              go_Bar('China', CN_age_21, CN_age_21, CN_colors[1]),1,2)\n",
    "'''\n",
    "fig.update_layout(\n",
    "                    barmode='group',\n",
    "                    title_text='Age distribution of China & Japan',\n",
    "                    xaxis_title='Age',\n",
    "                    yaxis_title='Counts')\n",
    "fig.show()"
   ]
  }
 ],
 "metadata": {
  "kernelspec": {
   "display_name": "Python 3",
   "language": "python",
   "name": "python3"
  },
  "language_info": {
   "codemirror_mode": {
    "name": "ipython",
    "version": 3
   },
   "file_extension": ".py",
   "mimetype": "text/x-python",
   "name": "python",
   "nbconvert_exporter": "python",
   "pygments_lexer": "ipython3",
   "version": "3.8.8"
  }
 },
 "nbformat": 4,
 "nbformat_minor": 4
}
