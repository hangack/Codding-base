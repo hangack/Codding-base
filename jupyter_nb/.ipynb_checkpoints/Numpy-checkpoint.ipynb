{
 "cells": [
  {
   "cell_type": "markdown",
   "id": "9ab1316f",
   "metadata": {},
   "source": [
    "# 수학 작업 라이브러리\n",
    "## 라이브러리 불러오기\n",
    "파이썬에서 기본 문법으로 표현하기 힘든 계산들을 간단히 사용하기 위해 라이브러리라는 method를 불러와야하는데, 이 때 사용하는 명령어가 'import'이다."
   ]
  },
  {
   "cell_type": "code",
   "execution_count": null,
   "id": "68779eae",
   "metadata": {},
   "outputs": [],
   "source": [
    "import [라이브러리명]"
   ]
  },
  {
   "cell_type": "markdown",
   "id": "6d5c6d4f",
   "metadata": {},
   "source": [
    "[파이썬 모듈 기초](https://hangack.github.io/2021/11/02/Codding/Python/python14-%EB%AA%A8%EB%93%88/)"
   ]
  },
  {
   "cell_type": "markdown",
   "id": "aa1140f2",
   "metadata": {},
   "source": [
    "## 내장 라이브러리 Math\n",
    "파이썬에는 기본적으로 수학 관련 작업을 위해 자주 사용되는 Math 내장 라이브러리가 존재한다."
   ]
  },
  {
   "cell_type": "code",
   "execution_count": 2,
   "id": "aac34b8e",
   "metadata": {},
   "outputs": [],
   "source": [
    "import math    # math 라이브러리를 불러오는 명령어.\n",
    "            ''' 라이브러리 명령어는 [라이브러리명(혹은 as로 지정한 임의의 명칭)].[명령어]로 사용할 수 있으며.\n",
    "                명령어 자동완성(혹은 명령어 목록)은 tap 키로 사용 및 확인 가능하다.\n",
    "            '''"
   ]
  },
  {
   "cell_type": "markdown",
   "id": "5ad2ca9a",
   "metadata": {},
   "source": [
    "math 라이브러리는 수학 연산을 도와주는 라이브러리로 삼각함수부터 1~N까지 값을 곱해주는 factorial 함수 등 다양한 작업이 가능한 기본 함수들을 제공한다."
   ]
  },
  {
   "cell_type": "code",
   "execution_count": 35,
   "id": "bfdccfb2",
   "metadata": {},
   "outputs": [
    {
     "name": "stdout",
     "output_type": "stream",
     "text": [
      "0.5000000000000001\n",
      "24\n"
     ]
    }
   ],
   "source": [
    "print(math.cos( (300 / 180) * math.pi ))\n",
    "print(math.factorial(4))"
   ]
  },
  {
   "cell_type": "markdown",
   "id": "278f8286",
   "metadata": {},
   "source": [
    "파이썬에서 기본적으로 제공하는 List 형식의 행은 사용할 수 있으나 Math 라이브러리가 추가해주는 method 및 상수는 기본적인 식과 pi 등의 상수 뿐으로 다차원 연산으로 인해 행렬이 필요한 vector나 선형대수 등의 작업 형식에 대해선 복잡해지는 불편함이 있다."
   ]
  },
  {
   "cell_type": "markdown",
   "id": "70502716",
   "metadata": {},
   "source": [
    "## 외부 라이브러리 Numpy\n",
    "위 문제를 해결해주는 라이브러리가 C언어 기반으로 만들어진 Numpy 외부 라이브러리로 특정 수식 외에도 작업 공간에서 행렬 형식의 변수를 사용할 수 있게 도와준다.\n",
    "\n",
    "[numpy 명령어 튜토리얼](https://numpy.org/doc/stable/user/quickstart.html)"
   ]
  },
  {
   "cell_type": "code",
   "execution_count": 39,
   "id": "5017b994",
   "metadata": {},
   "outputs": [
    {
     "name": "stdout",
     "output_type": "stream",
     "text": [
      "1.20.1\n"
     ]
    }
   ],
   "source": [
    "import numpy as np\n",
    "print(np.__version__)"
   ]
  }
 ],
 "metadata": {
  "kernelspec": {
   "display_name": "Python 3",
   "language": "python",
   "name": "python3"
  },
  "language_info": {
   "codemirror_mode": {
    "name": "ipython",
    "version": 3
   },
   "file_extension": ".py",
   "mimetype": "text/x-python",
   "name": "python",
   "nbconvert_exporter": "python",
   "pygments_lexer": "ipython3",
   "version": "3.8.8"
  }
 },
 "nbformat": 4,
 "nbformat_minor": 5
}
