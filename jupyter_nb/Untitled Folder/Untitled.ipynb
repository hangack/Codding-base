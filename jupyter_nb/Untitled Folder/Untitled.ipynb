{
 "cells": [
  {
   "cell_type": "code",
   "execution_count": 1,
   "id": "1a7dc00d-90aa-45b5-98c4-eb3c67898fab",
   "metadata": {},
   "outputs": [],
   "source": [
    "import numpy as np\n",
    "import pandas as pd\n",
    "import matplotlib.pyplot as plt\n",
    "import seaborn as sns\n",
    "import plotly.express as px\n",
    "\n",
    "\n",
    "from sklearn.model_selection import StratifiedKFold\n",
    "from sklearn.preprocessing import StandardScaler , LabelEncoder\n",
    "from sklearn.metrics import accuracy_score\n",
    "from sklearn.model_selection import train_test_split\n",
    "from scipy.stats import mode\n",
    "\n",
    "\n",
    "from xgboost import XGBClassifier\n",
    "from catboost import CatBoostClassifier\n",
    "from lightgbm import LGBMClassifier\n",
    "\n",
    "import tensorflow as tf\n",
    "from tensorflow.keras import layers\n",
    "from tensorflow.keras import callbacks\n",
    "from tensorflow.keras.utils import to_categorical\n",
    "\n",
    "from matplotlib import ticker\n",
    "import time"
   ]
  },
  {
   "cell_type": "code",
   "execution_count": 2,
   "id": "f4e4edf9-f1e9-41b7-babe-9e95359cfcee",
   "metadata": {},
   "outputs": [],
   "source": [
    "train = pd.read_csv(\"E:/Fear/Univ/Big_data/Training/python/tabular-playground-series-dec-2021/train.csv\")\n",
    "test = pd.read_csv(\"E:/Fear/Univ/Big_data/Training/python/tabular-playground-series-dec-2021/test.csv\")\n",
    "submission = pd.read_csv(\"E:/Fear/Univ/Big_data/Training/python/tabular-playground-series-dec-2021/sample_submission.csv\")"
   ]
  },
  {
   "cell_type": "code",
   "execution_count": 3,
   "id": "e0f7104f-48e3-4521-b040-81e0e176570f",
   "metadata": {},
   "outputs": [],
   "source": [
    "train.drop([\"Id\"] , axis = 1 , inplace = True)\n",
    "test.drop([\"Id\"] , axis = 1 , inplace = True)\n",
    "TARGET = 'Cover_Type'\n",
    "FEATURES = [col for col in train.columns if col not in ['id', TARGET]]\n",
    "RANDOM_STATE = 12 "
   ]
  },
  {
   "cell_type": "code",
   "execution_count": 4,
   "id": "8d89a1f9-7970-4691-b94e-b91cc42cb173",
   "metadata": {},
   "outputs": [],
   "source": [
    "train = train.drop(index = int(np.where(train[\"Cover_Type\"] == 5 )[0]))\n",
    "train = train.drop(train[train[\"Cover_Type\"] == 4].index[0])\n",
    "\n",
    "#train = train.reset_index(drop=True)"
   ]
  },
  {
   "cell_type": "code",
   "execution_count": 5,
   "id": "842cc004-a8ec-4bc2-b043-1ba057b786be",
   "metadata": {},
   "outputs": [],
   "source": [
    "train = train.drop(labels = [\"Soil_Type7\" , \"Soil_Type15\", \"Soil_Type8\", \"Soil_Type25\"] ,axis = 1)\n",
    "FEATURES.remove('Soil_Type7')\n",
    "FEATURES.remove('Soil_Type8')\n",
    "FEATURES.remove('Soil_Type15')\n",
    "FEATURES.remove('Soil_Type25')"
   ]
  },
  {
   "cell_type": "code",
   "execution_count": 6,
   "id": "041ecd98-c52f-4ee5-b974-84b049ec0993",
   "metadata": {},
   "outputs": [],
   "source": [
    "scaler = StandardScaler()\n",
    "for col in FEATURES:\n",
    "    train[col] = scaler.fit_transform(train[col].to_numpy().reshape(-1,1))\n",
    "    test[col] = scaler.transform(test[col].to_numpy().reshape(-1,1))\n",
    "    \n",
    "X = train[FEATURES].to_numpy().astype(np.float32)\n",
    "y = train[TARGET].to_numpy().astype(np.float32)\n",
    "X_test = test[FEATURES].to_numpy().astype(np.float32)\n",
    "\n",
    "del train, test"
   ]
  },
  {
   "cell_type": "code",
   "execution_count": null,
   "id": "54789a86-761d-4c05-87a4-1b446b11d44f",
   "metadata": {},
   "outputs": [
    {
     "name": "stdout",
     "output_type": "stream",
     "text": [
      "Epoch 1/100\n",
      "1856/1856 [==============================] - 339s 182ms/step - loss: 0.1899 - acc: 0.9338 - val_loss: 0.1296 - val_acc: 0.9489 - lr: 1.0000e-04\n",
      "Epoch 2/100\n",
      "1856/1856 [==============================] - 337s 181ms/step - loss: 0.1194 - acc: 0.9513 - val_loss: 0.1134 - val_acc: 0.9532 - lr: 1.0000e-04\n",
      "Epoch 3/100\n",
      "1856/1856 [==============================] - 333s 179ms/step - loss: 0.1061 - acc: 0.9548 - val_loss: 0.1030 - val_acc: 0.9561 - lr: 1.0000e-04\n",
      "Epoch 4/100\n",
      "1856/1856 [==============================] - 332s 179ms/step - loss: 0.0992 - acc: 0.9569 - val_loss: 0.0980 - val_acc: 0.9570 - lr: 1.0000e-04\n",
      "Epoch 5/100\n",
      "1856/1856 [==============================] - 331s 179ms/step - loss: 0.0948 - acc: 0.9581 - val_loss: 0.0950 - val_acc: 0.9580 - lr: 1.0000e-04\n",
      "Epoch 6/100\n",
      "1856/1856 [==============================] - 342s 184ms/step - loss: 0.0917 - acc: 0.9590 - val_loss: 0.0918 - val_acc: 0.9592 - lr: 1.0000e-04\n",
      "Epoch 7/100\n",
      "1856/1856 [==============================] - 366s 197ms/step - loss: 0.0896 - acc: 0.9596 - val_loss: 0.0906 - val_acc: 0.9586 - lr: 1.0000e-04\n",
      "Epoch 8/100\n",
      "1856/1856 [==============================] - 368s 199ms/step - loss: 0.0880 - acc: 0.9600 - val_loss: 0.0904 - val_acc: 0.9587 - lr: 1.0000e-04\n",
      "Epoch 9/100\n",
      "1856/1856 [==============================] - 378s 204ms/step - loss: 0.0865 - acc: 0.9604 - val_loss: 0.0892 - val_acc: 0.9590 - lr: 1.0000e-04\n",
      "Epoch 10/100\n",
      "1856/1856 [==============================] - 354s 190ms/step - loss: 0.0854 - acc: 0.9608 - val_loss: 0.0876 - val_acc: 0.9597 - lr: 1.0000e-04\n",
      "Epoch 11/100\n",
      "  66/1856 [>.............................] - ETA: 5:31 - loss: 0.0835 - acc: 0.9613"
     ]
    }
   ],
   "source": [
    "LEARNING_RATE = 0.0001\n",
    "BATCH_SIZE = 2048\n",
    "EPOCHS = 100\n",
    "VALIDATION_RATIO = 0.05\n",
    "\n",
    "LE = LabelEncoder()\n",
    "y = to_categorical(LE.fit_transform(y))\n",
    "X_train , X_valid ,y_train ,y_valid  = train_test_split(X,y , test_size = VALIDATION_RATIO , random_state=RANDOM_STATE)\n",
    "\n",
    "\n",
    "def load_model(): \n",
    "    model = tf.keras.Sequential([\n",
    "        tf.keras.layers.Dense(2048, activation = 'swish', input_shape = [X.shape[1]]),\n",
    "        tf.keras.layers.Dense(1024, activation ='swish'),\n",
    "        tf.keras.layers.Dense(512, activation ='swish'),\n",
    "        tf.keras.layers.Dense(6, activation='softmax'),\n",
    "    ])\n",
    "    model.compile(\n",
    "        optimizer= tf.keras.optimizers.Adam(learning_rate = LEARNING_RATE),\n",
    "        loss='categorical_crossentropy',\n",
    "        metrics=['acc'],\n",
    "    )\n",
    "    return model\n",
    "    \n",
    "    \n",
    "early_stopping = callbacks.EarlyStopping(\n",
    "        patience=10,\n",
    "        min_delta=0,\n",
    "        monitor='val_loss',\n",
    "        restore_best_weights=True,\n",
    "        verbose=0,\n",
    "        mode='min', \n",
    "        baseline=None,\n",
    "    )\n",
    "plateau = callbacks.ReduceLROnPlateau(\n",
    "            monitor='val_loss', \n",
    "            factor=0.2, \n",
    "            patience=4, \n",
    "            verbose=0,\n",
    "            mode='min')\n",
    "\n",
    "nn_model = load_model()\n",
    "history = nn_model.fit(  X_train , y_train,\n",
    "                validation_data = (X_valid , y_valid),\n",
    "                batch_size = BATCH_SIZE, \n",
    "                epochs = EPOCHS,\n",
    "                callbacks = [early_stopping , plateau],\n",
    "              )\n",
    "nn_preds = nn_model.predict(X_test , batch_size=BATCH_SIZE)"
   ]
  }
 ],
 "metadata": {
  "kernelspec": {
   "display_name": "Python(python_ml)",
   "language": "python",
   "name": "python_ml"
  },
  "language_info": {
   "codemirror_mode": {
    "name": "ipython",
    "version": 3
   },
   "file_extension": ".py",
   "mimetype": "text/x-python",
   "name": "python",
   "nbconvert_exporter": "python",
   "pygments_lexer": "ipython3",
   "version": "3.8.8"
  }
 },
 "nbformat": 4,
 "nbformat_minor": 5
}
