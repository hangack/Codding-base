{
 "cells": [
  {
   "cell_type": "markdown",
   "id": "f1a3b518-9851-45a8-8cc0-9ae2884192fc",
   "metadata": {},
   "source": [
    "## 결측치 확인(missing values)"
   ]
  },
  {
   "cell_type": "code",
   "execution_count": 1,
   "id": "ae25162f-1062-454e-9e62-5c8b81477423",
   "metadata": {},
   "outputs": [],
   "source": [
    "import pandas as pd\n",
    "covidtotals = pd.read_csv(\"data/covidtotalswithmissings.csv\")"
   ]
  },
  {
   "cell_type": "code",
   "execution_count": 2,
   "id": "2f2d5b88-b5c8-43b1-9f15-187eacdcda66",
   "metadata": {},
   "outputs": [
    {
     "data": {
      "text/html": [
       "<div>\n",
       "<style scoped>\n",
       "    .dataframe tbody tr th:only-of-type {\n",
       "        vertical-align: middle;\n",
       "    }\n",
       "\n",
       "    .dataframe tbody tr th {\n",
       "        vertical-align: top;\n",
       "    }\n",
       "\n",
       "    .dataframe thead th {\n",
       "        text-align: right;\n",
       "    }\n",
       "</style>\n",
       "<table border=\"1\" class=\"dataframe\">\n",
       "  <thead>\n",
       "    <tr style=\"text-align: right;\">\n",
       "      <th></th>\n",
       "      <th>iso_code</th>\n",
       "      <th>lastdate</th>\n",
       "      <th>location</th>\n",
       "      <th>total_cases</th>\n",
       "      <th>total_deaths</th>\n",
       "      <th>total_cases_pm</th>\n",
       "      <th>total_deaths_pm</th>\n",
       "      <th>population</th>\n",
       "      <th>pop_density</th>\n",
       "      <th>median_age</th>\n",
       "      <th>gdp_per_capita</th>\n",
       "      <th>hosp_beds</th>\n",
       "    </tr>\n",
       "  </thead>\n",
       "  <tbody>\n",
       "    <tr>\n",
       "      <th>0</th>\n",
       "      <td>AFG</td>\n",
       "      <td>2020-06-01</td>\n",
       "      <td>Afghanistan</td>\n",
       "      <td>15205</td>\n",
       "      <td>257</td>\n",
       "      <td>390.589</td>\n",
       "      <td>6.602</td>\n",
       "      <td>38928341.0</td>\n",
       "      <td>54.422</td>\n",
       "      <td>18.6</td>\n",
       "      <td>1803.987</td>\n",
       "      <td>0.50</td>\n",
       "    </tr>\n",
       "    <tr>\n",
       "      <th>1</th>\n",
       "      <td>ALB</td>\n",
       "      <td>2020-06-01</td>\n",
       "      <td>Albania</td>\n",
       "      <td>1137</td>\n",
       "      <td>33</td>\n",
       "      <td>395.093</td>\n",
       "      <td>11.467</td>\n",
       "      <td>2877800.0</td>\n",
       "      <td>104.871</td>\n",
       "      <td>38.0</td>\n",
       "      <td>11803.431</td>\n",
       "      <td>2.89</td>\n",
       "    </tr>\n",
       "    <tr>\n",
       "      <th>2</th>\n",
       "      <td>DZA</td>\n",
       "      <td>2020-06-01</td>\n",
       "      <td>Algeria</td>\n",
       "      <td>9394</td>\n",
       "      <td>653</td>\n",
       "      <td>214.225</td>\n",
       "      <td>14.891</td>\n",
       "      <td>43851043.0</td>\n",
       "      <td>17.348</td>\n",
       "      <td>29.1</td>\n",
       "      <td>13913.839</td>\n",
       "      <td>1.90</td>\n",
       "    </tr>\n",
       "    <tr>\n",
       "      <th>3</th>\n",
       "      <td>AND</td>\n",
       "      <td>2020-06-01</td>\n",
       "      <td>Andorra</td>\n",
       "      <td>764</td>\n",
       "      <td>51</td>\n",
       "      <td>9888.048</td>\n",
       "      <td>660.066</td>\n",
       "      <td>77265.0</td>\n",
       "      <td>163.755</td>\n",
       "      <td>NaN</td>\n",
       "      <td>NaN</td>\n",
       "      <td>NaN</td>\n",
       "    </tr>\n",
       "    <tr>\n",
       "      <th>4</th>\n",
       "      <td>AGO</td>\n",
       "      <td>2020-06-01</td>\n",
       "      <td>Angola</td>\n",
       "      <td>86</td>\n",
       "      <td>4</td>\n",
       "      <td>2.617</td>\n",
       "      <td>0.122</td>\n",
       "      <td>32866268.0</td>\n",
       "      <td>23.890</td>\n",
       "      <td>16.8</td>\n",
       "      <td>5819.495</td>\n",
       "      <td>NaN</td>\n",
       "    </tr>\n",
       "  </tbody>\n",
       "</table>\n",
       "</div>"
      ],
      "text/plain": [
       "  iso_code    lastdate     location  total_cases  total_deaths  \\\n",
       "0      AFG  2020-06-01  Afghanistan        15205           257   \n",
       "1      ALB  2020-06-01      Albania         1137            33   \n",
       "2      DZA  2020-06-01      Algeria         9394           653   \n",
       "3      AND  2020-06-01      Andorra          764            51   \n",
       "4      AGO  2020-06-01       Angola           86             4   \n",
       "\n",
       "   total_cases_pm  total_deaths_pm  population  pop_density  median_age  \\\n",
       "0         390.589            6.602  38928341.0       54.422        18.6   \n",
       "1         395.093           11.467   2877800.0      104.871        38.0   \n",
       "2         214.225           14.891  43851043.0       17.348        29.1   \n",
       "3        9888.048          660.066     77265.0      163.755         NaN   \n",
       "4           2.617            0.122  32866268.0       23.890        16.8   \n",
       "\n",
       "   gdp_per_capita  hosp_beds  \n",
       "0        1803.987       0.50  \n",
       "1       11803.431       2.89  \n",
       "2       13913.839       1.90  \n",
       "3             NaN        NaN  \n",
       "4        5819.495        NaN  "
      ]
     },
     "execution_count": 2,
     "metadata": {},
     "output_type": "execute_result"
    }
   ],
   "source": [
    "covidtotals.head()"
   ]
  },
  {
   "cell_type": "markdown",
   "id": "e36f853a-581b-41dc-8e2e-0ee1dfb77892",
   "metadata": {},
   "source": [
    "- Missing Values 확인"
   ]
  },
  {
   "cell_type": "code",
   "execution_count": 3,
   "id": "9c1063f2-8d3f-4715-9322-d1e6a78acac2",
   "metadata": {},
   "outputs": [
    {
     "name": "stdout",
     "output_type": "stream",
     "text": [
      "<class 'pandas.core.frame.DataFrame'>\n",
      "RangeIndex: 210 entries, 0 to 209\n",
      "Data columns (total 12 columns):\n",
      " #   Column           Non-Null Count  Dtype  \n",
      "---  ------           --------------  -----  \n",
      " 0   iso_code         210 non-null    object \n",
      " 1   lastdate         210 non-null    object \n",
      " 2   location         210 non-null    object \n",
      " 3   total_cases      210 non-null    int64  \n",
      " 4   total_deaths     210 non-null    int64  \n",
      " 5   total_cases_pm   209 non-null    float64\n",
      " 6   total_deaths_pm  209 non-null    float64\n",
      " 7   population       210 non-null    float64\n",
      " 8   pop_density      198 non-null    float64\n",
      " 9   median_age       186 non-null    float64\n",
      " 10  gdp_per_capita   182 non-null    float64\n",
      " 11  hosp_beds        164 non-null    float64\n",
      "dtypes: float64(7), int64(2), object(3)\n",
      "memory usage: 19.8+ KB\n"
     ]
    }
   ],
   "source": [
    "covidtotals.info()"
   ]
  },
  {
   "cell_type": "markdown",
   "id": "b90dcfb1-5a4b-4d94-b186-2453ec3bb225",
   "metadata": {},
   "source": [
    "- 리스트 작성\n",
    "    - 인구통계 관련 column\n",
    "    - Covid 관련 column"
   ]
  },
  {
   "cell_type": "code",
   "execution_count": 4,
   "id": "d285e915-bedc-407f-a67f-4a57ab619a58",
   "metadata": {},
   "outputs": [],
   "source": [
    "case_vars = [\"location\", \"total_cases\", \"total_deaths\", \"total_cases_pm\", \"total_deaths_pm\"]\n",
    "demo_vars = [\"population\", \"pop_density\", \"median_age\", \"gdp_per_capita\", \"hosp_beds\"]"
   ]
  },
  {
   "cell_type": "code",
   "execution_count": 5,
   "id": "80ac0c37-e5ed-4b2a-9099-fb354d29cc85",
   "metadata": {},
   "outputs": [
    {
     "data": {
      "text/plain": [
       "population         0\n",
       "pop_density       12\n",
       "median_age        24\n",
       "gdp_per_capita    28\n",
       "hosp_beds         46\n",
       "dtype: int64"
      ]
     },
     "execution_count": 5,
     "metadata": {},
     "output_type": "execute_result"
    }
   ],
   "source": [
    "covidtotals[demo_vars].isnull().sum(axis = 0) # column별로 결측치 측정"
   ]
  },
  {
   "cell_type": "code",
   "execution_count": 6,
   "id": "8913e86a-0154-4ec3-a448-19c4cad93e7b",
   "metadata": {},
   "outputs": [
    {
     "data": {
      "text/plain": [
       "location           0\n",
       "total_cases        0\n",
       "total_deaths       0\n",
       "total_cases_pm     1\n",
       "total_deaths_pm    1\n",
       "dtype: int64"
      ]
     },
     "execution_count": 6,
     "metadata": {},
     "output_type": "execute_result"
    }
   ],
   "source": [
    "covidtotals[case_vars].isnull().sum(axis = 0)"
   ]
  },
  {
   "cell_type": "markdown",
   "id": "09bce911-1f1d-406f-8623-b0bc7f070568",
   "metadata": {},
   "source": [
    "- 행 방향으로 발생한 결측치 확인"
   ]
  },
  {
   "cell_type": "code",
   "execution_count": 7,
   "id": "5600343e-eca9-4c33-a1fc-611123f3e5ea",
   "metadata": {},
   "outputs": [
    {
     "data": {
      "text/plain": [
       "0      0\n",
       "1      0\n",
       "2      0\n",
       "3      3\n",
       "4      1\n",
       "      ..\n",
       "205    0\n",
       "206    3\n",
       "207    0\n",
       "208    0\n",
       "209    0\n",
       "Length: 210, dtype: int64"
      ]
     },
     "execution_count": 7,
     "metadata": {},
     "output_type": "execute_result"
    }
   ],
   "source": [
    "demovars_misscnt = covidtotals[demo_vars].isnull().sum(axis = 1)\n",
    "demovars_misscnt"
   ]
  },
  {
   "cell_type": "code",
   "execution_count": 8,
   "id": "11fdc085-c658-4bb5-baf5-8d85dac6d287",
   "metadata": {},
   "outputs": [
    {
     "data": {
      "text/plain": [
       "0    156\n",
       "1     24\n",
       "2     12\n",
       "3     10\n",
       "4      8\n",
       "dtype: int64"
      ]
     },
     "execution_count": 8,
     "metadata": {},
     "output_type": "execute_result"
    }
   ],
   "source": [
    "demovars_misscnt.value_counts()"
   ]
  },
  {
   "cell_type": "code",
   "execution_count": 9,
   "id": "b2748070-17a7-45f4-a4ec-6774c1b4460b",
   "metadata": {},
   "outputs": [
    {
     "data": {
      "text/plain": [
       "0    209\n",
       "2      1\n",
       "dtype: int64"
      ]
     },
     "execution_count": 9,
     "metadata": {},
     "output_type": "execute_result"
    }
   ],
   "source": [
    "covidtotals[case_vars].isnull().sum(axis = 1).value_counts()"
   ]
  },
  {
   "cell_type": "markdown",
   "id": "85544638-0883-4512-9892-61a198616824",
   "metadata": {},
   "source": [
    "- 인구통계 데이터가 3가지 이상 누락된 국가를 나열"
   ]
  },
  {
   "cell_type": "code",
   "execution_count": 10,
   "id": "dd2c0ddd-7adc-4497-9efa-b31a9be4915b",
   "metadata": {},
   "outputs": [
    {
     "data": {
      "text/html": [
       "<div>\n",
       "<style scoped>\n",
       "    .dataframe tbody tr th:only-of-type {\n",
       "        vertical-align: middle;\n",
       "    }\n",
       "\n",
       "    .dataframe tbody tr th {\n",
       "        vertical-align: top;\n",
       "    }\n",
       "\n",
       "    .dataframe thead th {\n",
       "        text-align: right;\n",
       "    }\n",
       "</style>\n",
       "<table border=\"1\" class=\"dataframe\">\n",
       "  <thead>\n",
       "    <tr style=\"text-align: right;\">\n",
       "      <th></th>\n",
       "      <th>location</th>\n",
       "      <th>population</th>\n",
       "      <th>pop_density</th>\n",
       "      <th>median_age</th>\n",
       "      <th>gdp_per_capita</th>\n",
       "      <th>hosp_beds</th>\n",
       "    </tr>\n",
       "  </thead>\n",
       "  <tbody>\n",
       "    <tr>\n",
       "      <th>3</th>\n",
       "      <td>Andorra</td>\n",
       "      <td>77265.0</td>\n",
       "      <td>163.755</td>\n",
       "      <td>NaN</td>\n",
       "      <td>NaN</td>\n",
       "      <td>NaN</td>\n",
       "    </tr>\n",
       "    <tr>\n",
       "      <th>5</th>\n",
       "      <td>Anguilla</td>\n",
       "      <td>15002.0</td>\n",
       "      <td>NaN</td>\n",
       "      <td>NaN</td>\n",
       "      <td>NaN</td>\n",
       "      <td>NaN</td>\n",
       "    </tr>\n",
       "    <tr>\n",
       "      <th>24</th>\n",
       "      <td>Bonaire Sint Eustatius and Saba</td>\n",
       "      <td>26221.0</td>\n",
       "      <td>NaN</td>\n",
       "      <td>NaN</td>\n",
       "      <td>NaN</td>\n",
       "      <td>NaN</td>\n",
       "    </tr>\n",
       "    <tr>\n",
       "      <th>28</th>\n",
       "      <td>British Virgin Islands</td>\n",
       "      <td>30237.0</td>\n",
       "      <td>207.973</td>\n",
       "      <td>NaN</td>\n",
       "      <td>NaN</td>\n",
       "      <td>NaN</td>\n",
       "    </tr>\n",
       "    <tr>\n",
       "      <th>64</th>\n",
       "      <td>Faeroe Islands</td>\n",
       "      <td>48865.0</td>\n",
       "      <td>35.308</td>\n",
       "      <td>NaN</td>\n",
       "      <td>NaN</td>\n",
       "      <td>NaN</td>\n",
       "    </tr>\n",
       "  </tbody>\n",
       "</table>\n",
       "</div>"
      ],
      "text/plain": [
       "                           location  population  pop_density  median_age  \\\n",
       "3                           Andorra     77265.0      163.755         NaN   \n",
       "5                          Anguilla     15002.0          NaN         NaN   \n",
       "24  Bonaire Sint Eustatius and Saba     26221.0          NaN         NaN   \n",
       "28           British Virgin Islands     30237.0      207.973         NaN   \n",
       "64                   Faeroe Islands     48865.0       35.308         NaN   \n",
       "\n",
       "    gdp_per_capita  hosp_beds  \n",
       "3              NaN        NaN  \n",
       "5              NaN        NaN  \n",
       "24             NaN        NaN  \n",
       "28             NaN        NaN  \n",
       "64             NaN        NaN  "
      ]
     },
     "execution_count": 10,
     "metadata": {},
     "output_type": "execute_result"
    }
   ],
   "source": [
    "covidtotals.loc[demovars_misscnt >= 3, [\"location\"] + demo_vars].head(5)"
   ]
  },
  {
   "cell_type": "code",
   "execution_count": 11,
   "id": "da45ad85-2c4a-4112-952e-f13c7ac0c190",
   "metadata": {},
   "outputs": [
    {
     "data": {
      "text/html": [
       "<div>\n",
       "<style scoped>\n",
       "    .dataframe tbody tr th:only-of-type {\n",
       "        vertical-align: middle;\n",
       "    }\n",
       "\n",
       "    .dataframe tbody tr th {\n",
       "        vertical-align: top;\n",
       "    }\n",
       "\n",
       "    .dataframe thead th {\n",
       "        text-align: right;\n",
       "    }\n",
       "</style>\n",
       "<table border=\"1\" class=\"dataframe\">\n",
       "  <thead>\n",
       "    <tr style=\"text-align: right;\">\n",
       "      <th></th>\n",
       "      <th>3</th>\n",
       "      <th>5</th>\n",
       "      <th>24</th>\n",
       "      <th>28</th>\n",
       "      <th>64</th>\n",
       "      <th>65</th>\n",
       "      <th>75</th>\n",
       "      <th>77</th>\n",
       "      <th>81</th>\n",
       "      <th>95</th>\n",
       "      <th>100</th>\n",
       "      <th>104</th>\n",
       "      <th>130</th>\n",
       "      <th>142</th>\n",
       "      <th>185</th>\n",
       "      <th>194</th>\n",
       "      <th>203</th>\n",
       "      <th>206</th>\n",
       "    </tr>\n",
       "  </thead>\n",
       "  <tbody>\n",
       "    <tr>\n",
       "      <th>location</th>\n",
       "      <td>Andorra</td>\n",
       "      <td>Anguilla</td>\n",
       "      <td>Bonaire Sint Eustatius and Saba</td>\n",
       "      <td>British Virgin Islands</td>\n",
       "      <td>Faeroe Islands</td>\n",
       "      <td>Falkland Islands</td>\n",
       "      <td>Gibraltar</td>\n",
       "      <td>Greenland</td>\n",
       "      <td>Guernsey</td>\n",
       "      <td>Isle of Man</td>\n",
       "      <td>Jersey</td>\n",
       "      <td>Kosovo</td>\n",
       "      <td>Montserrat</td>\n",
       "      <td>Northern Mariana Islands</td>\n",
       "      <td>Taiwan</td>\n",
       "      <td>Turks and Caicos Islands</td>\n",
       "      <td>Vatican</td>\n",
       "      <td>Western Sahara</td>\n",
       "    </tr>\n",
       "    <tr>\n",
       "      <th>population</th>\n",
       "      <td>77265.0</td>\n",
       "      <td>15002.0</td>\n",
       "      <td>26221.0</td>\n",
       "      <td>30237.0</td>\n",
       "      <td>48865.0</td>\n",
       "      <td>3483.0</td>\n",
       "      <td>33691.0</td>\n",
       "      <td>56772.0</td>\n",
       "      <td>67052.0</td>\n",
       "      <td>85032.0</td>\n",
       "      <td>101073.0</td>\n",
       "      <td>1932774.0</td>\n",
       "      <td>4999.0</td>\n",
       "      <td>57557.0</td>\n",
       "      <td>23816775.0</td>\n",
       "      <td>38718.0</td>\n",
       "      <td>809.0</td>\n",
       "      <td>597330.0</td>\n",
       "    </tr>\n",
       "    <tr>\n",
       "      <th>pop_density</th>\n",
       "      <td>163.755</td>\n",
       "      <td>NaN</td>\n",
       "      <td>NaN</td>\n",
       "      <td>207.973</td>\n",
       "      <td>35.308</td>\n",
       "      <td>NaN</td>\n",
       "      <td>3457.1</td>\n",
       "      <td>0.137</td>\n",
       "      <td>NaN</td>\n",
       "      <td>147.872</td>\n",
       "      <td>NaN</td>\n",
       "      <td>NaN</td>\n",
       "      <td>NaN</td>\n",
       "      <td>119.878</td>\n",
       "      <td>NaN</td>\n",
       "      <td>37.312</td>\n",
       "      <td>NaN</td>\n",
       "      <td>NaN</td>\n",
       "    </tr>\n",
       "    <tr>\n",
       "      <th>median_age</th>\n",
       "      <td>NaN</td>\n",
       "      <td>NaN</td>\n",
       "      <td>NaN</td>\n",
       "      <td>NaN</td>\n",
       "      <td>NaN</td>\n",
       "      <td>NaN</td>\n",
       "      <td>NaN</td>\n",
       "      <td>NaN</td>\n",
       "      <td>NaN</td>\n",
       "      <td>NaN</td>\n",
       "      <td>NaN</td>\n",
       "      <td>NaN</td>\n",
       "      <td>NaN</td>\n",
       "      <td>NaN</td>\n",
       "      <td>42.2</td>\n",
       "      <td>NaN</td>\n",
       "      <td>NaN</td>\n",
       "      <td>28.4</td>\n",
       "    </tr>\n",
       "    <tr>\n",
       "      <th>gdp_per_capita</th>\n",
       "      <td>NaN</td>\n",
       "      <td>NaN</td>\n",
       "      <td>NaN</td>\n",
       "      <td>NaN</td>\n",
       "      <td>NaN</td>\n",
       "      <td>NaN</td>\n",
       "      <td>NaN</td>\n",
       "      <td>NaN</td>\n",
       "      <td>NaN</td>\n",
       "      <td>NaN</td>\n",
       "      <td>NaN</td>\n",
       "      <td>NaN</td>\n",
       "      <td>NaN</td>\n",
       "      <td>NaN</td>\n",
       "      <td>NaN</td>\n",
       "      <td>NaN</td>\n",
       "      <td>NaN</td>\n",
       "      <td>NaN</td>\n",
       "    </tr>\n",
       "    <tr>\n",
       "      <th>hosp_beds</th>\n",
       "      <td>NaN</td>\n",
       "      <td>NaN</td>\n",
       "      <td>NaN</td>\n",
       "      <td>NaN</td>\n",
       "      <td>NaN</td>\n",
       "      <td>NaN</td>\n",
       "      <td>NaN</td>\n",
       "      <td>NaN</td>\n",
       "      <td>NaN</td>\n",
       "      <td>NaN</td>\n",
       "      <td>NaN</td>\n",
       "      <td>NaN</td>\n",
       "      <td>NaN</td>\n",
       "      <td>NaN</td>\n",
       "      <td>NaN</td>\n",
       "      <td>NaN</td>\n",
       "      <td>NaN</td>\n",
       "      <td>NaN</td>\n",
       "    </tr>\n",
       "  </tbody>\n",
       "</table>\n",
       "</div>"
      ],
      "text/plain": [
       "                    3         5                                24   \\\n",
       "location        Andorra  Anguilla  Bonaire Sint Eustatius and Saba   \n",
       "population      77265.0   15002.0                          26221.0   \n",
       "pop_density     163.755       NaN                              NaN   \n",
       "median_age          NaN       NaN                              NaN   \n",
       "gdp_per_capita      NaN       NaN                              NaN   \n",
       "hosp_beds           NaN       NaN                              NaN   \n",
       "\n",
       "                                   28              64                65   \\\n",
       "location        British Virgin Islands  Faeroe Islands  Falkland Islands   \n",
       "population                     30237.0         48865.0            3483.0   \n",
       "pop_density                    207.973          35.308               NaN   \n",
       "median_age                         NaN             NaN               NaN   \n",
       "gdp_per_capita                     NaN             NaN               NaN   \n",
       "hosp_beds                          NaN             NaN               NaN   \n",
       "\n",
       "                      75         77        81           95        100  \\\n",
       "location        Gibraltar  Greenland  Guernsey  Isle of Man    Jersey   \n",
       "population        33691.0    56772.0   67052.0      85032.0  101073.0   \n",
       "pop_density        3457.1      0.137       NaN      147.872       NaN   \n",
       "median_age            NaN        NaN       NaN          NaN       NaN   \n",
       "gdp_per_capita        NaN        NaN       NaN          NaN       NaN   \n",
       "hosp_beds             NaN        NaN       NaN          NaN       NaN   \n",
       "\n",
       "                      104         130                       142         185  \\\n",
       "location           Kosovo  Montserrat  Northern Mariana Islands      Taiwan   \n",
       "population      1932774.0      4999.0                   57557.0  23816775.0   \n",
       "pop_density           NaN         NaN                   119.878         NaN   \n",
       "median_age            NaN         NaN                       NaN        42.2   \n",
       "gdp_per_capita        NaN         NaN                       NaN         NaN   \n",
       "hosp_beds             NaN         NaN                       NaN         NaN   \n",
       "\n",
       "                                     194      203             206  \n",
       "location        Turks and Caicos Islands  Vatican  Western Sahara  \n",
       "population                       38718.0    809.0        597330.0  \n",
       "pop_density                       37.312      NaN             NaN  \n",
       "median_age                           NaN      NaN            28.4  \n",
       "gdp_per_capita                       NaN      NaN             NaN  \n",
       "hosp_beds                            NaN      NaN             NaN  "
      ]
     },
     "execution_count": 11,
     "metadata": {},
     "output_type": "execute_result"
    }
   ],
   "source": [
    "covidtotals.loc[demovars_misscnt >= 3, [\"location\"] + demo_vars].T # T: 행과 열을 바꿔줌"
   ]
  },
  {
   "cell_type": "markdown",
   "id": "da108183-97ab-4ec5-9f77-1381be05d6f6",
   "metadata": {},
   "source": [
    "- case 관련 누락국가 확인"
   ]
  },
  {
   "cell_type": "code",
   "execution_count": 12,
   "id": "85cb51bb-97ec-4472-9568-f708bc3c90b6",
   "metadata": {},
   "outputs": [
    {
     "data": {
      "text/plain": [
       "0    209\n",
       "2      1\n",
       "dtype: int64"
      ]
     },
     "execution_count": 12,
     "metadata": {},
     "output_type": "execute_result"
    }
   ],
   "source": [
    "casevars_misscnt = covidtotals[case_vars].isnull().sum(axis = 1)\n",
    "casevars_misscnt.value_counts()"
   ]
  },
  {
   "cell_type": "code",
   "execution_count": 13,
   "id": "28f14276-602b-4188-94e2-25d1e8a52795",
   "metadata": {},
   "outputs": [
    {
     "data": {
      "text/html": [
       "<div>\n",
       "<style scoped>\n",
       "    .dataframe tbody tr th:only-of-type {\n",
       "        vertical-align: middle;\n",
       "    }\n",
       "\n",
       "    .dataframe tbody tr th {\n",
       "        vertical-align: top;\n",
       "    }\n",
       "\n",
       "    .dataframe thead th {\n",
       "        text-align: right;\n",
       "    }\n",
       "</style>\n",
       "<table border=\"1\" class=\"dataframe\">\n",
       "  <thead>\n",
       "    <tr style=\"text-align: right;\">\n",
       "      <th></th>\n",
       "      <th>location</th>\n",
       "      <th>location</th>\n",
       "      <th>total_cases</th>\n",
       "      <th>total_deaths</th>\n",
       "      <th>total_cases_pm</th>\n",
       "      <th>total_deaths_pm</th>\n",
       "    </tr>\n",
       "  </thead>\n",
       "  <tbody>\n",
       "    <tr>\n",
       "      <th>87</th>\n",
       "      <td>Hong Kong</td>\n",
       "      <td>Hong Kong</td>\n",
       "      <td>0</td>\n",
       "      <td>0</td>\n",
       "      <td>NaN</td>\n",
       "      <td>NaN</td>\n",
       "    </tr>\n",
       "  </tbody>\n",
       "</table>\n",
       "</div>"
      ],
      "text/plain": [
       "     location   location  total_cases  total_deaths  total_cases_pm  \\\n",
       "87  Hong Kong  Hong Kong            0             0             NaN   \n",
       "\n",
       "    total_deaths_pm  \n",
       "87              NaN  "
      ]
     },
     "execution_count": 13,
     "metadata": {},
     "output_type": "execute_result"
    }
   ],
   "source": [
    "covidtotals.loc[casevars_misscnt >= 1, [\"location\"] + case_vars]"
   ]
  },
  {
   "cell_type": "code",
   "execution_count": 14,
   "id": "21f74df1-9fc3-41ca-a8a5-6e47764459eb",
   "metadata": {},
   "outputs": [
    {
     "data": {
      "text/html": [
       "<div>\n",
       "<style scoped>\n",
       "    .dataframe tbody tr th:only-of-type {\n",
       "        vertical-align: middle;\n",
       "    }\n",
       "\n",
       "    .dataframe tbody tr th {\n",
       "        vertical-align: top;\n",
       "    }\n",
       "\n",
       "    .dataframe thead th {\n",
       "        text-align: right;\n",
       "    }\n",
       "</style>\n",
       "<table border=\"1\" class=\"dataframe\">\n",
       "  <thead>\n",
       "    <tr style=\"text-align: right;\">\n",
       "      <th></th>\n",
       "      <th>iso_code</th>\n",
       "      <th>lastdate</th>\n",
       "      <th>location</th>\n",
       "      <th>total_cases</th>\n",
       "      <th>total_deaths</th>\n",
       "      <th>total_cases_pm</th>\n",
       "      <th>total_deaths_pm</th>\n",
       "      <th>population</th>\n",
       "      <th>pop_density</th>\n",
       "      <th>median_age</th>\n",
       "      <th>gdp_per_capita</th>\n",
       "      <th>hosp_beds</th>\n",
       "    </tr>\n",
       "  </thead>\n",
       "  <tbody>\n",
       "    <tr>\n",
       "      <th>87</th>\n",
       "      <td>HKG</td>\n",
       "      <td>2020-05-26</td>\n",
       "      <td>Hong Kong</td>\n",
       "      <td>0</td>\n",
       "      <td>0</td>\n",
       "      <td>NaN</td>\n",
       "      <td>NaN</td>\n",
       "      <td>7496988.0</td>\n",
       "      <td>7039.714</td>\n",
       "      <td>44.8</td>\n",
       "      <td>56054.92</td>\n",
       "      <td>NaN</td>\n",
       "    </tr>\n",
       "  </tbody>\n",
       "</table>\n",
       "</div>"
      ],
      "text/plain": [
       "   iso_code    lastdate   location  total_cases  total_deaths  total_cases_pm  \\\n",
       "87      HKG  2020-05-26  Hong Kong            0             0             NaN   \n",
       "\n",
       "    total_deaths_pm  population  pop_density  median_age  gdp_per_capita  \\\n",
       "87              NaN   7496988.0     7039.714        44.8        56054.92   \n",
       "\n",
       "    hosp_beds  \n",
       "87        NaN  "
      ]
     },
     "execution_count": 14,
     "metadata": {},
     "output_type": "execute_result"
    }
   ],
   "source": [
    "covidtotals[covidtotals[\"location\"] == \"Hong Kong\"]"
   ]
  },
  {
   "cell_type": "code",
   "execution_count": 15,
   "id": "3bba2611-3c98-43fd-b205-f22341854616",
   "metadata": {},
   "outputs": [
    {
     "data": {
      "text/html": [
       "<div>\n",
       "<style scoped>\n",
       "    .dataframe tbody tr th:only-of-type {\n",
       "        vertical-align: middle;\n",
       "    }\n",
       "\n",
       "    .dataframe tbody tr th {\n",
       "        vertical-align: top;\n",
       "    }\n",
       "\n",
       "    .dataframe thead th {\n",
       "        text-align: right;\n",
       "    }\n",
       "</style>\n",
       "<table border=\"1\" class=\"dataframe\">\n",
       "  <thead>\n",
       "    <tr style=\"text-align: right;\">\n",
       "      <th></th>\n",
       "      <th>iso_code</th>\n",
       "      <th>lastdate</th>\n",
       "      <th>location</th>\n",
       "      <th>total_cases</th>\n",
       "      <th>total_deaths</th>\n",
       "      <th>total_cases_pm</th>\n",
       "      <th>total_deaths_pm</th>\n",
       "      <th>population</th>\n",
       "      <th>pop_density</th>\n",
       "      <th>median_age</th>\n",
       "      <th>gdp_per_capita</th>\n",
       "      <th>hosp_beds</th>\n",
       "    </tr>\n",
       "  </thead>\n",
       "  <tbody>\n",
       "    <tr>\n",
       "      <th>0</th>\n",
       "      <td>AFG</td>\n",
       "      <td>2020-06-01</td>\n",
       "      <td>Afghanistan</td>\n",
       "      <td>15205</td>\n",
       "      <td>257</td>\n",
       "      <td>390.589</td>\n",
       "      <td>6.602</td>\n",
       "      <td>38928341.0</td>\n",
       "      <td>54.422</td>\n",
       "      <td>18.6</td>\n",
       "      <td>1803.987</td>\n",
       "      <td>0.50</td>\n",
       "    </tr>\n",
       "    <tr>\n",
       "      <th>1</th>\n",
       "      <td>ALB</td>\n",
       "      <td>2020-06-01</td>\n",
       "      <td>Albania</td>\n",
       "      <td>1137</td>\n",
       "      <td>33</td>\n",
       "      <td>395.093</td>\n",
       "      <td>11.467</td>\n",
       "      <td>2877800.0</td>\n",
       "      <td>104.871</td>\n",
       "      <td>38.0</td>\n",
       "      <td>11803.431</td>\n",
       "      <td>2.89</td>\n",
       "    </tr>\n",
       "    <tr>\n",
       "      <th>2</th>\n",
       "      <td>DZA</td>\n",
       "      <td>2020-06-01</td>\n",
       "      <td>Algeria</td>\n",
       "      <td>9394</td>\n",
       "      <td>653</td>\n",
       "      <td>214.225</td>\n",
       "      <td>14.891</td>\n",
       "      <td>43851043.0</td>\n",
       "      <td>17.348</td>\n",
       "      <td>29.1</td>\n",
       "      <td>13913.839</td>\n",
       "      <td>1.90</td>\n",
       "    </tr>\n",
       "    <tr>\n",
       "      <th>3</th>\n",
       "      <td>AND</td>\n",
       "      <td>2020-06-01</td>\n",
       "      <td>Andorra</td>\n",
       "      <td>764</td>\n",
       "      <td>51</td>\n",
       "      <td>9888.048</td>\n",
       "      <td>660.066</td>\n",
       "      <td>77265.0</td>\n",
       "      <td>163.755</td>\n",
       "      <td>NaN</td>\n",
       "      <td>NaN</td>\n",
       "      <td>NaN</td>\n",
       "    </tr>\n",
       "    <tr>\n",
       "      <th>4</th>\n",
       "      <td>AGO</td>\n",
       "      <td>2020-06-01</td>\n",
       "      <td>Angola</td>\n",
       "      <td>86</td>\n",
       "      <td>4</td>\n",
       "      <td>2.617</td>\n",
       "      <td>0.122</td>\n",
       "      <td>32866268.0</td>\n",
       "      <td>23.890</td>\n",
       "      <td>16.8</td>\n",
       "      <td>5819.495</td>\n",
       "      <td>NaN</td>\n",
       "    </tr>\n",
       "    <tr>\n",
       "      <th>...</th>\n",
       "      <td>...</td>\n",
       "      <td>...</td>\n",
       "      <td>...</td>\n",
       "      <td>...</td>\n",
       "      <td>...</td>\n",
       "      <td>...</td>\n",
       "      <td>...</td>\n",
       "      <td>...</td>\n",
       "      <td>...</td>\n",
       "      <td>...</td>\n",
       "      <td>...</td>\n",
       "      <td>...</td>\n",
       "    </tr>\n",
       "    <tr>\n",
       "      <th>205</th>\n",
       "      <td>VNM</td>\n",
       "      <td>2020-06-01</td>\n",
       "      <td>Vietnam</td>\n",
       "      <td>328</td>\n",
       "      <td>0</td>\n",
       "      <td>3.370</td>\n",
       "      <td>0.000</td>\n",
       "      <td>97338583.0</td>\n",
       "      <td>308.127</td>\n",
       "      <td>32.6</td>\n",
       "      <td>6171.884</td>\n",
       "      <td>2.60</td>\n",
       "    </tr>\n",
       "    <tr>\n",
       "      <th>206</th>\n",
       "      <td>ESH</td>\n",
       "      <td>2020-06-01</td>\n",
       "      <td>Western Sahara</td>\n",
       "      <td>23</td>\n",
       "      <td>1</td>\n",
       "      <td>38.505</td>\n",
       "      <td>1.674</td>\n",
       "      <td>597330.0</td>\n",
       "      <td>NaN</td>\n",
       "      <td>28.4</td>\n",
       "      <td>NaN</td>\n",
       "      <td>NaN</td>\n",
       "    </tr>\n",
       "    <tr>\n",
       "      <th>207</th>\n",
       "      <td>YEM</td>\n",
       "      <td>2020-06-01</td>\n",
       "      <td>Yemen</td>\n",
       "      <td>323</td>\n",
       "      <td>80</td>\n",
       "      <td>10.829</td>\n",
       "      <td>2.682</td>\n",
       "      <td>29825968.0</td>\n",
       "      <td>53.508</td>\n",
       "      <td>20.3</td>\n",
       "      <td>1479.147</td>\n",
       "      <td>0.70</td>\n",
       "    </tr>\n",
       "    <tr>\n",
       "      <th>208</th>\n",
       "      <td>ZMB</td>\n",
       "      <td>2020-06-01</td>\n",
       "      <td>Zambia</td>\n",
       "      <td>1057</td>\n",
       "      <td>7</td>\n",
       "      <td>57.496</td>\n",
       "      <td>0.381</td>\n",
       "      <td>18383956.0</td>\n",
       "      <td>22.995</td>\n",
       "      <td>17.7</td>\n",
       "      <td>3689.251</td>\n",
       "      <td>2.00</td>\n",
       "    </tr>\n",
       "    <tr>\n",
       "      <th>209</th>\n",
       "      <td>ZWE</td>\n",
       "      <td>2020-06-01</td>\n",
       "      <td>Zimbabwe</td>\n",
       "      <td>178</td>\n",
       "      <td>4</td>\n",
       "      <td>11.976</td>\n",
       "      <td>0.269</td>\n",
       "      <td>14862927.0</td>\n",
       "      <td>42.729</td>\n",
       "      <td>19.6</td>\n",
       "      <td>1899.775</td>\n",
       "      <td>1.70</td>\n",
       "    </tr>\n",
       "  </tbody>\n",
       "</table>\n",
       "<p>210 rows × 12 columns</p>\n",
       "</div>"
      ],
      "text/plain": [
       "    iso_code    lastdate        location  total_cases  total_deaths  \\\n",
       "0        AFG  2020-06-01     Afghanistan        15205           257   \n",
       "1        ALB  2020-06-01         Albania         1137            33   \n",
       "2        DZA  2020-06-01         Algeria         9394           653   \n",
       "3        AND  2020-06-01         Andorra          764            51   \n",
       "4        AGO  2020-06-01          Angola           86             4   \n",
       "..       ...         ...             ...          ...           ...   \n",
       "205      VNM  2020-06-01         Vietnam          328             0   \n",
       "206      ESH  2020-06-01  Western Sahara           23             1   \n",
       "207      YEM  2020-06-01           Yemen          323            80   \n",
       "208      ZMB  2020-06-01          Zambia         1057             7   \n",
       "209      ZWE  2020-06-01        Zimbabwe          178             4   \n",
       "\n",
       "     total_cases_pm  total_deaths_pm  population  pop_density  median_age  \\\n",
       "0           390.589            6.602  38928341.0       54.422        18.6   \n",
       "1           395.093           11.467   2877800.0      104.871        38.0   \n",
       "2           214.225           14.891  43851043.0       17.348        29.1   \n",
       "3          9888.048          660.066     77265.0      163.755         NaN   \n",
       "4             2.617            0.122  32866268.0       23.890        16.8   \n",
       "..              ...              ...         ...          ...         ...   \n",
       "205           3.370            0.000  97338583.0      308.127        32.6   \n",
       "206          38.505            1.674    597330.0          NaN        28.4   \n",
       "207          10.829            2.682  29825968.0       53.508        20.3   \n",
       "208          57.496            0.381  18383956.0       22.995        17.7   \n",
       "209          11.976            0.269  14862927.0       42.729        19.6   \n",
       "\n",
       "     gdp_per_capita  hosp_beds  \n",
       "0          1803.987       0.50  \n",
       "1         11803.431       2.89  \n",
       "2         13913.839       1.90  \n",
       "3               NaN        NaN  \n",
       "4          5819.495        NaN  \n",
       "..              ...        ...  \n",
       "205        6171.884       2.60  \n",
       "206             NaN        NaN  \n",
       "207        1479.147       0.70  \n",
       "208        3689.251       2.00  \n",
       "209        1899.775       1.70  \n",
       "\n",
       "[210 rows x 12 columns]"
      ]
     },
     "execution_count": 15,
     "metadata": {},
     "output_type": "execute_result"
    }
   ],
   "source": [
    "temp = covidtotals.copy()\n",
    "temp"
   ]
  },
  {
   "cell_type": "code",
   "execution_count": 16,
   "id": "f60c2b89-706e-44ae-b653-7d8ac024812e",
   "metadata": {},
   "outputs": [],
   "source": [
    "temp.total_cases_pm.fillna(temp.total_cases / (temp.population/10000000), inplace = True)\n",
    "temp.total_deaths_pm.fillna(temp.total_cases / (temp.population/10000000), inplace = True)"
   ]
  },
  {
   "cell_type": "code",
   "execution_count": 17,
   "id": "ad3749a4-47d0-4581-b2f0-53e57943090e",
   "metadata": {},
   "outputs": [
    {
     "data": {
      "text/plain": [
       "location           0\n",
       "total_cases        0\n",
       "total_deaths       0\n",
       "total_cases_pm     0\n",
       "total_deaths_pm    0\n",
       "dtype: int64"
      ]
     },
     "execution_count": 17,
     "metadata": {},
     "output_type": "execute_result"
    }
   ],
   "source": [
    "temp[case_vars].isnull().sum(axis = 0)"
   ]
  },
  {
   "cell_type": "markdown",
   "id": "9d5f6bc9-ef16-49e2-b434-198a91b4bcb5",
   "metadata": {},
   "source": [
    "## 이상치 판별(outlier_detction)"
   ]
  },
  {
   "cell_type": "markdown",
   "id": "a9255dbb-ba00-4b9b-99e9-b2aea61e2392",
   "metadata": {},
   "source": [
    "- statsmodels: https://www.statsmodels.org/stable/install.html\n",
    "- scipy: https://anaconda.org/anaconda/scipy or https://scipy.org/install/"
   ]
  },
  {
   "cell_type": "code",
   "execution_count": 1,
   "id": "e2198304-ed7a-4db5-aabf-8deb6f32f802",
   "metadata": {},
   "outputs": [
    {
     "name": "stdout",
     "output_type": "stream",
     "text": [
      "            lastdate     location  total_cases  total_deaths  total_cases_pm  \\\n",
      "iso_code                                                                       \n",
      "AFG       2020-06-01  Afghanistan        15205           257         390.589   \n",
      "ALB       2020-06-01      Albania         1137            33         395.093   \n",
      "DZA       2020-06-01      Algeria         9394           653         214.225   \n",
      "AND       2020-06-01      Andorra          764            51        9888.048   \n",
      "AGO       2020-06-01       Angola           86             4           2.617   \n",
      "\n",
      "          total_deaths_pm  population  pop_density  median_age  \\\n",
      "iso_code                                                         \n",
      "AFG                 6.602  38928341.0       54.422        18.6   \n",
      "ALB                11.467   2877800.0      104.871        38.0   \n",
      "DZA                14.891  43851043.0       17.348        29.1   \n",
      "AND               660.066     77265.0      163.755         NaN   \n",
      "AGO                 0.122  32866268.0       23.890        16.8   \n",
      "\n",
      "          gdp_per_capita  hosp_beds  \n",
      "iso_code                             \n",
      "AFG             1803.987       0.50  \n",
      "ALB            11803.431       2.89  \n",
      "DZA            13913.839       1.90  \n",
      "AND                  NaN        NaN  \n",
      "AGO             5819.495        NaN  \n"
     ]
    }
   ],
   "source": [
    "import numpy as np\n",
    "import matplotlib.pyplot as plt\n",
    "import pandas as pd\n",
    "import statsmodels.api as sm\n",
    "import scipy.stats as scistat\n",
    "\n",
    "covidtotals = pd.read_csv(\"data/covidtotals.csv\")\n",
    "covidtotals.set_index(\"iso_code\", inplace = True)\n",
    "\n",
    "case_vars = [\"location\", \"total_cases\", \"total_deaths\", \"total_cases_pm\", \"total_deaths_pm\"]\n",
    "demo_vars = [\"population\", \"pop_density\", \"median_age\", \"gdp_per_capita\", \"hosp_beds\"]\n",
    "\n",
    "print(covidtotals.head())"
   ]
  },
  {
   "cell_type": "markdown",
   "id": "4e8fd354-bc21-4b0f-ac0b-9545cf14f6f4",
   "metadata": {},
   "source": [
    "- 상황에 따라 주관적으로 판별할 수 있음\n",
    "- 통계에서의 이상값은\n",
    "    + 정규분포를 이루고 있지 않을 경우 -> 이상값이 존재할 것\n",
    "    + 왜도 또는 첨도가 발생할 경우 존재\n",
    "- 균등분포(Unlform Distribution)\n",
    "    +이상값이 존재하지 않음"
   ]
  },
  {
   "cell_type": "markdown",
   "id": "0a008c82-1d99-4bd5-b898-20fe9a883239",
   "metadata": {},
   "source": [
    "### 변수 1개만 활용해서 이상값 찾기"
   ]
  },
  {
   "cell_type": "code",
   "execution_count": 2,
   "id": "f13f299a-70ab-460a-9b9f-b4165a94bd36",
   "metadata": {},
   "outputs": [
    {
     "data": {
      "text/html": [
       "<div>\n",
       "<style scoped>\n",
       "    .dataframe tbody tr th:only-of-type {\n",
       "        vertical-align: middle;\n",
       "    }\n",
       "\n",
       "    .dataframe tbody tr th {\n",
       "        vertical-align: top;\n",
       "    }\n",
       "\n",
       "    .dataframe thead th {\n",
       "        text-align: right;\n",
       "    }\n",
       "</style>\n",
       "<table border=\"1\" class=\"dataframe\">\n",
       "  <thead>\n",
       "    <tr style=\"text-align: right;\">\n",
       "      <th></th>\n",
       "      <th>total_cases</th>\n",
       "      <th>total_deaths</th>\n",
       "      <th>total_cases_pm</th>\n",
       "      <th>total_deaths_pm</th>\n",
       "    </tr>\n",
       "  </thead>\n",
       "  <tbody>\n",
       "    <tr>\n",
       "      <th>count</th>\n",
       "      <td>2.100000e+02</td>\n",
       "      <td>210.000000</td>\n",
       "      <td>210.000000</td>\n",
       "      <td>210.000000</td>\n",
       "    </tr>\n",
       "    <tr>\n",
       "      <th>mean</th>\n",
       "      <td>2.921614e+04</td>\n",
       "      <td>1770.714286</td>\n",
       "      <td>1355.357943</td>\n",
       "      <td>55.659129</td>\n",
       "    </tr>\n",
       "    <tr>\n",
       "      <th>std</th>\n",
       "      <td>1.363978e+05</td>\n",
       "      <td>8705.565857</td>\n",
       "      <td>2625.277497</td>\n",
       "      <td>144.785816</td>\n",
       "    </tr>\n",
       "    <tr>\n",
       "      <th>min</th>\n",
       "      <td>0.000000e+00</td>\n",
       "      <td>0.000000</td>\n",
       "      <td>0.000000</td>\n",
       "      <td>0.000000</td>\n",
       "    </tr>\n",
       "    <tr>\n",
       "      <th>25%</th>\n",
       "      <td>1.757500e+02</td>\n",
       "      <td>4.000000</td>\n",
       "      <td>92.541500</td>\n",
       "      <td>0.884750</td>\n",
       "    </tr>\n",
       "    <tr>\n",
       "      <th>50%</th>\n",
       "      <td>1.242500e+03</td>\n",
       "      <td>25.500000</td>\n",
       "      <td>280.928500</td>\n",
       "      <td>6.154000</td>\n",
       "    </tr>\n",
       "    <tr>\n",
       "      <th>75%</th>\n",
       "      <td>1.011700e+04</td>\n",
       "      <td>241.250000</td>\n",
       "      <td>1801.394750</td>\n",
       "      <td>31.777250</td>\n",
       "    </tr>\n",
       "    <tr>\n",
       "      <th>max</th>\n",
       "      <td>1.790191e+06</td>\n",
       "      <td>104383.000000</td>\n",
       "      <td>19771.348000</td>\n",
       "      <td>1237.551000</td>\n",
       "    </tr>\n",
       "  </tbody>\n",
       "</table>\n",
       "</div>"
      ],
      "text/plain": [
       "        total_cases   total_deaths  total_cases_pm  total_deaths_pm\n",
       "count  2.100000e+02     210.000000      210.000000       210.000000\n",
       "mean   2.921614e+04    1770.714286     1355.357943        55.659129\n",
       "std    1.363978e+05    8705.565857     2625.277497       144.785816\n",
       "min    0.000000e+00       0.000000        0.000000         0.000000\n",
       "25%    1.757500e+02       4.000000       92.541500         0.884750\n",
       "50%    1.242500e+03      25.500000      280.928500         6.154000\n",
       "75%    1.011700e+04     241.250000     1801.394750        31.777250\n",
       "max    1.790191e+06  104383.000000    19771.348000      1237.551000"
      ]
     },
     "execution_count": 2,
     "metadata": {},
     "output_type": "execute_result"
    }
   ],
   "source": [
    "covid_case_df = covidtotals.loc[:,case_vars]\n",
    "covid_case_df.describe()"
   ]
  },
  {
   "cell_type": "markdown",
   "id": "0c5f5c4f-fa7c-4639-b991-d2fe727a69f1",
   "metadata": {},
   "source": [
    "백분위수(quantile)로 데이터를 표시"
   ]
  },
  {
   "cell_type": "code",
   "execution_count": 3,
   "id": "254bb9e3-3ea7-4279-916b-5e7a3f5ed549",
   "metadata": {},
   "outputs": [
    {
     "data": {
      "text/html": [
       "<div>\n",
       "<style scoped>\n",
       "    .dataframe tbody tr th:only-of-type {\n",
       "        vertical-align: middle;\n",
       "    }\n",
       "\n",
       "    .dataframe tbody tr th {\n",
       "        vertical-align: top;\n",
       "    }\n",
       "\n",
       "    .dataframe thead th {\n",
       "        text-align: right;\n",
       "    }\n",
       "</style>\n",
       "<table border=\"1\" class=\"dataframe\">\n",
       "  <thead>\n",
       "    <tr style=\"text-align: right;\">\n",
       "      <th></th>\n",
       "      <th>total_cases</th>\n",
       "      <th>total_deaths</th>\n",
       "      <th>total_cases_pm</th>\n",
       "      <th>total_deaths_pm</th>\n",
       "    </tr>\n",
       "  </thead>\n",
       "  <tbody>\n",
       "    <tr>\n",
       "      <th>0.0</th>\n",
       "      <td>0.0</td>\n",
       "      <td>0.0</td>\n",
       "      <td>0.0000</td>\n",
       "      <td>0.0000</td>\n",
       "    </tr>\n",
       "    <tr>\n",
       "      <th>0.1</th>\n",
       "      <td>22.9</td>\n",
       "      <td>0.0</td>\n",
       "      <td>17.9986</td>\n",
       "      <td>0.0000</td>\n",
       "    </tr>\n",
       "    <tr>\n",
       "      <th>0.2</th>\n",
       "      <td>105.2</td>\n",
       "      <td>2.0</td>\n",
       "      <td>56.2910</td>\n",
       "      <td>0.3752</td>\n",
       "    </tr>\n",
       "    <tr>\n",
       "      <th>0.3</th>\n",
       "      <td>302.0</td>\n",
       "      <td>6.7</td>\n",
       "      <td>115.4341</td>\n",
       "      <td>1.7183</td>\n",
       "    </tr>\n",
       "    <tr>\n",
       "      <th>0.4</th>\n",
       "      <td>762.0</td>\n",
       "      <td>12.0</td>\n",
       "      <td>213.9734</td>\n",
       "      <td>3.9566</td>\n",
       "    </tr>\n",
       "    <tr>\n",
       "      <th>0.5</th>\n",
       "      <td>1242.5</td>\n",
       "      <td>25.5</td>\n",
       "      <td>280.9285</td>\n",
       "      <td>6.1540</td>\n",
       "    </tr>\n",
       "    <tr>\n",
       "      <th>0.6</th>\n",
       "      <td>2514.6</td>\n",
       "      <td>54.6</td>\n",
       "      <td>543.9562</td>\n",
       "      <td>12.2452</td>\n",
       "    </tr>\n",
       "    <tr>\n",
       "      <th>0.7</th>\n",
       "      <td>6959.8</td>\n",
       "      <td>137.2</td>\n",
       "      <td>1071.2442</td>\n",
       "      <td>25.9459</td>\n",
       "    </tr>\n",
       "    <tr>\n",
       "      <th>0.8</th>\n",
       "      <td>16847.2</td>\n",
       "      <td>323.2</td>\n",
       "      <td>2206.2982</td>\n",
       "      <td>49.9658</td>\n",
       "    </tr>\n",
       "    <tr>\n",
       "      <th>0.9</th>\n",
       "      <td>46513.1</td>\n",
       "      <td>1616.9</td>\n",
       "      <td>3765.1363</td>\n",
       "      <td>138.9045</td>\n",
       "    </tr>\n",
       "    <tr>\n",
       "      <th>1.0</th>\n",
       "      <td>1790191.0</td>\n",
       "      <td>104383.0</td>\n",
       "      <td>19771.3480</td>\n",
       "      <td>1237.5510</td>\n",
       "    </tr>\n",
       "  </tbody>\n",
       "</table>\n",
       "</div>"
      ],
      "text/plain": [
       "     total_cases  total_deaths  total_cases_pm  total_deaths_pm\n",
       "0.0          0.0           0.0          0.0000           0.0000\n",
       "0.1         22.9           0.0         17.9986           0.0000\n",
       "0.2        105.2           2.0         56.2910           0.3752\n",
       "0.3        302.0           6.7        115.4341           1.7183\n",
       "0.4        762.0          12.0        213.9734           3.9566\n",
       "0.5       1242.5          25.5        280.9285           6.1540\n",
       "0.6       2514.6          54.6        543.9562          12.2452\n",
       "0.7       6959.8         137.2       1071.2442          25.9459\n",
       "0.8      16847.2         323.2       2206.2982          49.9658\n",
       "0.9      46513.1        1616.9       3765.1363         138.9045\n",
       "1.0    1790191.0      104383.0      19771.3480        1237.5510"
      ]
     },
     "execution_count": 3,
     "metadata": {},
     "output_type": "execute_result"
    }
   ],
   "source": [
    "covid_case_df.quantile(np.arange(0.0,1.1,0.1))"
   ]
  },
  {
   "cell_type": "markdown",
   "id": "a503ad96-4271-4c05-a244-5c011a7f44ca",
   "metadata": {},
   "source": [
    "- 왜도 & 첨도 구하기\n",
    "- pandas에 관련 함수 존재"
   ]
  },
  {
   "cell_type": "code",
   "execution_count": 4,
   "id": "df06e510-a424-4feb-abf8-34c2b185878f",
   "metadata": {},
   "outputs": [
    {
     "data": {
      "text/plain": [
       "total_cases        10.804275\n",
       "total_deaths        8.929816\n",
       "total_cases_pm      4.396091\n",
       "total_deaths_pm     4.674417\n",
       "dtype: float64"
      ]
     },
     "execution_count": 4,
     "metadata": {},
     "output_type": "execute_result"
    }
   ],
   "source": [
    "covid_case_df.skew(axis = 0)"
   ]
  },
  {
   "cell_type": "code",
   "execution_count": 6,
   "id": "fe8d5a58-9bf5-4df4-834c-0035806d7794",
   "metadata": {},
   "outputs": [
    {
     "data": {
      "text/plain": [
       "total_cases        134.979577\n",
       "total_deaths        95.737841\n",
       "total_cases_pm      25.242790\n",
       "total_deaths_pm     27.238232\n",
       "dtype: float64"
      ]
     },
     "execution_count": 6,
     "metadata": {},
     "output_type": "execute_result"
    }
   ],
   "source": [
    "covid_case_df.kurtosis(axis = 0)"
   ]
  },
  {
   "cell_type": "markdown",
   "id": "5145bbe1-0fbd-478e-ac6b-21c646692130",
   "metadata": {},
   "source": [
    "- 정규성 검정 테스트\n",
    "- [샤피로 윌크 검정]\n",
    "    + 귀무가설: 표본의 모집단이 정규분포를 이루고 있다.\n",
    "    + 대립가설: 표본의 모집단이 정규분포를 이루고 있지 않다.\n",
    "    만약, p.value < 0.05 일 경우 대립가설을 채택"
   ]
  },
  {
   "cell_type": "code",
   "execution_count": 8,
   "id": "5cfb5b93-c659-4048-9b60-1d1b89f67bdd",
   "metadata": {},
   "outputs": [
    {
     "data": {
      "text/plain": [
       "ShapiroResult(statistic=0.19379639625549316, pvalue=3.753789128593843e-29)"
      ]
     },
     "execution_count": 8,
     "metadata": {},
     "output_type": "execute_result"
    }
   ],
   "source": [
    "scistat.shapiro(covid_case_df['total_cases'])"
   ]
  },
  {
   "cell_type": "code",
   "execution_count": 9,
   "id": "de4aef60-e16f-4826-85d9-53931b83df1d",
   "metadata": {},
   "outputs": [
    {
     "data": {
      "text/plain": [
       "ShapiroResult(statistic=0.19832086563110352, pvalue=4.3427896631016077e-29)"
      ]
     },
     "execution_count": 9,
     "metadata": {},
     "output_type": "execute_result"
    }
   ],
   "source": [
    "scistat.shapiro(covid_case_df['total_deaths'])"
   ]
  },
  {
   "cell_type": "code",
   "execution_count": 10,
   "id": "f89bd7ee-ff5f-4f27-bb13-45f305e8aaef",
   "metadata": {},
   "outputs": [
    {
     "data": {
      "text/plain": [
       "ShapiroResult(statistic=0.5220695734024048, pvalue=1.3972683006509067e-23)"
      ]
     },
     "execution_count": 10,
     "metadata": {},
     "output_type": "execute_result"
    }
   ],
   "source": [
    "scistat.shapiro(covid_case_df['total_cases_pm'])"
   ]
  },
  {
   "cell_type": "code",
   "execution_count": 11,
   "id": "6d9f598b-09f6-4be2-afd3-b8e175ddac89",
   "metadata": {},
   "outputs": [
    {
     "data": {
      "text/plain": [
       "ShapiroResult(statistic=0.41877639293670654, pvalue=1.361060423265974e-25)"
      ]
     },
     "execution_count": 11,
     "metadata": {},
     "output_type": "execute_result"
    }
   ],
   "source": [
    "scistat.shapiro(covid_case_df['total_deaths_pm'])"
   ]
  },
  {
   "cell_type": "markdown",
   "id": "d3f4bd24-874b-4b93-bfb8-8c5d9dd65060",
   "metadata": {},
   "source": [
    "- qqplot"
   ]
  },
  {
   "cell_type": "code",
   "execution_count": 15,
   "id": "53e330a5-f575-442b-884b-e8b55b6a5160",
   "metadata": {},
   "outputs": [
    {
     "data": {
      "text/plain": [
       "Text(0.5, 1.0, 'QQ Plot of Total Cases')"
      ]
     },
     "execution_count": 15,
     "metadata": {},
     "output_type": "execute_result"
    },
    {
     "data": {
      "image/png": "[encoded data removed]",
      "text/plain": [
       "<Figure size 432x288 with 1 Axes>"
      ]
     },
     "metadata": {
      "needs_background": "light"
     },
     "output_type": "display_data"
    }
   ],
   "source": [
    "sm.qqplot(covid_case_df[['total_cases']].sort_values([\"total_cases\"]), line='s')\n",
    "plt.title(\"QQ Plot of Total Cases\")"
   ]
  },
  {
   "cell_type": "markdown",
   "id": "7b736a8b-dbbc-43c1-89d6-88c33b2e9972",
   "metadata": {},
   "source": [
    "- 정규분포를 이루는 샘플 데이터 생성, 샹피로 윌크 테스 검정, qqplot 그래프"
   ]
  },
  {
   "cell_type": "code",
   "execution_count": 16,
   "id": "63593016-cd5e-47de-8e1b-7bee6782678a",
   "metadata": {},
   "outputs": [
    {
     "data": {
      "text/plain": [
       "ShapiroResult(statistic=0.9947549104690552, pvalue=0.7137323617935181)"
      ]
     },
     "execution_count": 16,
     "metadata": {},
     "output_type": "execute_result"
    }
   ],
   "source": [
    "random_normal_datapoints = pd.Series(np.random.normal(0,0.1,200))\n",
    "scistat.shapiro(random_normal_datapoints)"
   ]
  },
  {
   "cell_type": "code",
   "execution_count": 17,
   "id": "afb6280a-8ad9-4712-b55e-8101baf332ac",
   "metadata": {},
   "outputs": [
    {
     "data": {
      "text/plain": [
       "Text(0.5, 1.0, 'QQ Plot of Normal Datapoints')"
      ]
     },
     "execution_count": 17,
     "metadata": {},
     "output_type": "execute_result"
    },
    {
     "data": {
      "image/png": "[encoded data removed]",
      "text/plain": [
       "<Figure size 432x288 with 1 Axes>"
      ]
     },
     "metadata": {
      "needs_background": "light"
     },
     "output_type": "display_data"
    }
   ],
   "source": [
    "sm.qqplot(random_normal_datapoints, line =\"s\")\n",
    "plt.title(\"QQ Plot of Normal Datapoints\")"
   ]
  },
  {
   "cell_type": "markdown",
   "id": "c3746dad-d9f9-4be4-b9ea-02bced435a7d",
   "metadata": {},
   "source": [
    "### 이상값 범위 나타내기\n",
    "- 이상값 범위를 정의\n",
    "- 통계적으로, 이상값 범위는 1사분위(25%), 3사분위(75%) 사이의 거리가 1.5배를 넘으면 이상값으로 간주"
   ]
  },
  {
   "cell_type": "code",
   "execution_count": 20,
   "id": "e39cc770-0aa5-464c-9fbf-ad6d6838a3f3",
   "metadata": {},
   "outputs": [
    {
     "name": "stdout",
     "output_type": "stream",
     "text": [
      "-14736.125 <-----> 25028.875\n"
     ]
    }
   ],
   "source": [
    "thirdq = covid_case_df[\"total_cases\"].quantile(0.75)\n",
    "firstq = covid_case_df[\"total_cases\"].quantile(0.25)\n",
    "\n",
    "interquantile_range = 1.5 * (thirdq-firstq)\n",
    "outlier_high = interquantile_range + thirdq\n",
    "outlier_low = firstq - interquantile_range\n",
    "\n",
    "print(outlier_low, outlier_high, sep = \" <-----> \")"
   ]
  },
  {
   "cell_type": "markdown",
   "id": "361590d1-c504-47ab-8a1a-8f294fce4fb5",
   "metadata": {},
   "source": [
    "- 이상치를 제거한 데이터 가져오기"
   ]
  },
  {
   "cell_type": "code",
   "execution_count": 27,
   "id": "a12b9a30-7eed-4379-a965-992ee9f52955",
   "metadata": {},
   "outputs": [
    {
     "name": "stdout",
     "output_type": "stream",
     "text": [
      "<class 'pandas.core.frame.DataFrame'>\n",
      "Index: 177 entries, AFG to ZWE\n",
      "Data columns (total 5 columns):\n",
      " #   Column           Non-Null Count  Dtype  \n",
      "---  ------           --------------  -----  \n",
      " 0   location         177 non-null    object \n",
      " 1   total_cases      177 non-null    int64  \n",
      " 2   total_deaths     177 non-null    int64  \n",
      " 3   total_cases_pm   177 non-null    float64\n",
      " 4   total_deaths_pm  177 non-null    float64\n",
      "dtypes: float64(2), int64(2), object(1)\n",
      "memory usage: 8.3+ KB\n"
     ]
    }
   ],
   "source": [
    "remove_outlier_df = covid_case_df.loc[-(covid_case_df[\"total_cases\"] > outlier_high) | (covid_case_df[\"total_cases\"] < outlier_low)]\n",
    "remove_outlier_df.info()"
   ]
  },
  {
   "cell_type": "code",
   "execution_count": 1,
   "id": "a0d33e31-0fde-42bd-a027-1aea164c75ba",
   "metadata": {},
   "outputs": [
    {
     "ename": "NameError",
     "evalue": "name 'plt' is not defined",
     "output_type": "error",
     "traceback": [
      "\u001b[1;31m---------------------------------------------------------------------------\u001b[0m",
      "\u001b[1;31mNameError\u001b[0m                                 Traceback (most recent call last)",
      "\u001b[1;32m<ipython-input-1-f79b3193d6a1>\u001b[0m in \u001b[0;36m<module>\u001b[1;34m\u001b[0m\n\u001b[1;32m----> 1\u001b[1;33m \u001b[0mfig\u001b[0m\u001b[1;33m,\u001b[0m \u001b[0max\u001b[0m \u001b[1;33m=\u001b[0m \u001b[0mplt\u001b[0m\u001b[1;33m.\u001b[0m\u001b[0msubplots\u001b[0m\u001b[1;33m(\u001b[0m\u001b[0mfigsize\u001b[0m \u001b[1;33m=\u001b[0m \u001b[1;33m(\u001b[0m\u001b[1;36m16\u001b[0m\u001b[1;33m,\u001b[0m \u001b[1;36m6\u001b[0m\u001b[1;33m)\u001b[0m\u001b[1;33m,\u001b[0m \u001b[0mncols\u001b[0m \u001b[1;33m=\u001b[0m \u001b[1;36m2\u001b[0m\u001b[1;33m)\u001b[0m\u001b[1;33m\u001b[0m\u001b[1;33m\u001b[0m\u001b[0m\n\u001b[0m\u001b[0;32m      2\u001b[0m \u001b[0max\u001b[0m\u001b[1;33m[\u001b[0m\u001b[1;36m0\u001b[0m\u001b[1;33m]\u001b[0m\u001b[1;33m.\u001b[0m\u001b[0mhist\u001b[0m\u001b[1;33m(\u001b[0m\u001b[0mcovid_case_df\u001b[0m\u001b[1;33m[\u001b[0m\u001b[1;34m\"total_cases\"\u001b[0m\u001b[1;33m]\u001b[0m\u001b[1;33m/\u001b[0m\u001b[1;36m1000\u001b[0m\u001b[1;33m,\u001b[0m \u001b[0mbins\u001b[0m \u001b[1;33m=\u001b[0m \u001b[1;36m7\u001b[0m\u001b[1;33m)\u001b[0m\u001b[1;33m\u001b[0m\u001b[1;33m\u001b[0m\u001b[0m\n\u001b[0;32m      3\u001b[0m \u001b[0max\u001b[0m\u001b[1;33m[\u001b[0m\u001b[1;36m0\u001b[0m\u001b[1;33m]\u001b[0m\u001b[1;33m.\u001b[0m\u001b[0mset_title\u001b[0m\u001b[1;33m(\u001b[0m\u001b[1;34m\"Total Covid Cases (thousands) for all\"\u001b[0m\u001b[1;33m)\u001b[0m\u001b[1;33m\u001b[0m\u001b[1;33m\u001b[0m\u001b[0m\n\u001b[0;32m      4\u001b[0m \u001b[0max\u001b[0m\u001b[1;33m[\u001b[0m\u001b[1;36m0\u001b[0m\u001b[1;33m]\u001b[0m\u001b[1;33m.\u001b[0m\u001b[0mset_xlabel\u001b[0m\u001b[1;33m(\u001b[0m\u001b[1;34m\"Cases\"\u001b[0m\u001b[1;33m)\u001b[0m\u001b[1;33m\u001b[0m\u001b[1;33m\u001b[0m\u001b[0m\n\u001b[0;32m      5\u001b[0m \u001b[0max\u001b[0m\u001b[1;33m[\u001b[0m\u001b[1;36m0\u001b[0m\u001b[1;33m]\u001b[0m\u001b[1;33m.\u001b[0m\u001b[0mset_ylabel\u001b[0m\u001b[1;33m(\u001b[0m\u001b[1;34m\"Number of Countries\"\u001b[0m\u001b[1;33m)\u001b[0m\u001b[1;33m\u001b[0m\u001b[1;33m\u001b[0m\u001b[0m\n",
      "\u001b[1;31mNameError\u001b[0m: name 'plt' is not defined"
     ]
    }
   ],
   "source": [
    "fig, ax = plt.subplots(figsize = (16, 6), ncols = 2)\n",
    "ax[0].hist(covid_case_df[\"total_cases\"]/1000, bins = 7)\n",
    "ax[0].set_title(\"Total Covid Cases (thousands) for all\")\n",
    "ax[0].set_xlabel(\"Cases\")\n",
    "ax[0].set_ylabel(\"Number of Countries\")\n",
    "ax[1].hist(remove_outlier_df[\"total_cases\"]/1000, bins = 7)\n",
    "ax[1].set_title(\"Total Covid Cases (thousands) for removed outlier\")\n",
    "ax[1].set_xlabel(\"Cases\")\n",
    "ax[1].set_ylabel(\"Number of Countries\")\n",
    "plt.show()"
   ]
  },
  {
   "cell_type": "markdown",
   "id": "bc2635ad-86da-4aec-a266-3f793c7eb16e",
   "metadata": {},
   "source": [
    "## 이상치, 예상치 못한 값을 식별\n",
    "- 한 변수 범주형이거나, 다른 한 변수는 연속형인 경우\n",
    "- 회귀선을 그었을 때, 예상치 못한 이상값.."
   ]
  },
  {
   "cell_type": "code",
   "execution_count": 16,
   "id": "02b2a8e2-e5fc-4455-bf73-a06b8effd59c",
   "metadata": {},
   "outputs": [],
   "source": [
    "import pandas as pd\n",
    "import numpy as np\n",
    "import matplotlib.pyplot as plt\n",
    "import seaborn as sns\n",
    "\n",
    "covidtotals = pd.read_csv(\"data/covidtotals.csv\")\n",
    "covidtotals.set_index(\"iso_code\", inplace = True)\n",
    "\n",
    "case_vars = [\"location\", \"total_cases\", \"total_deaths\", \"total_cases_pm\", \"total_deaths_pm\"]\n",
    "demo_vars = [\"population\", \"pop_density\", \"median_age\", \"gdp_per_capita\", \"hosp_beds\"]"
   ]
  },
  {
   "cell_type": "markdown",
   "id": "7453267f-9f8e-4f33-bb95-1c2be10951d6",
   "metadata": {},
   "source": [
    "- 수치형 데이터에 대한 상관행렬\n",
    "- -0.2 ~ 0.2: 매우 약한 상관관계\n",
    "- |0.3| ~ |0.6|: "
   ]
  },
  {
   "cell_type": "code",
   "execution_count": 17,
   "id": "94024eb2-2888-45ef-8485-d9f7b4babe98",
   "metadata": {},
   "outputs": [
    {
     "data": {
      "text/html": [
       "<div>\n",
       "<style scoped>\n",
       "    .dataframe tbody tr th:only-of-type {\n",
       "        vertical-align: middle;\n",
       "    }\n",
       "\n",
       "    .dataframe tbody tr th {\n",
       "        vertical-align: top;\n",
       "    }\n",
       "\n",
       "    .dataframe thead th {\n",
       "        text-align: right;\n",
       "    }\n",
       "</style>\n",
       "<table border=\"1\" class=\"dataframe\">\n",
       "  <thead>\n",
       "    <tr style=\"text-align: right;\">\n",
       "      <th></th>\n",
       "      <th>total_cases</th>\n",
       "      <th>total_deaths</th>\n",
       "      <th>total_cases_pm</th>\n",
       "      <th>total_deaths_pm</th>\n",
       "      <th>population</th>\n",
       "      <th>pop_density</th>\n",
       "      <th>median_age</th>\n",
       "      <th>gdp_per_capita</th>\n",
       "      <th>hosp_beds</th>\n",
       "    </tr>\n",
       "  </thead>\n",
       "  <tbody>\n",
       "    <tr>\n",
       "      <th>total_cases</th>\n",
       "      <td>1.000000</td>\n",
       "      <td>0.932079</td>\n",
       "      <td>0.182246</td>\n",
       "      <td>0.247464</td>\n",
       "      <td>0.270030</td>\n",
       "      <td>-0.028737</td>\n",
       "      <td>0.162698</td>\n",
       "      <td>0.186835</td>\n",
       "      <td>0.027601</td>\n",
       "    </tr>\n",
       "    <tr>\n",
       "      <th>total_deaths</th>\n",
       "      <td>0.932079</td>\n",
       "      <td>1.000000</td>\n",
       "      <td>0.179812</td>\n",
       "      <td>0.394811</td>\n",
       "      <td>0.212619</td>\n",
       "      <td>-0.031645</td>\n",
       "      <td>0.205128</td>\n",
       "      <td>0.198729</td>\n",
       "      <td>0.019990</td>\n",
       "    </tr>\n",
       "    <tr>\n",
       "      <th>total_cases_pm</th>\n",
       "      <td>0.182246</td>\n",
       "      <td>0.179812</td>\n",
       "      <td>1.000000</td>\n",
       "      <td>0.586468</td>\n",
       "      <td>-0.056009</td>\n",
       "      <td>0.110043</td>\n",
       "      <td>0.313836</td>\n",
       "      <td>0.651200</td>\n",
       "      <td>0.081449</td>\n",
       "    </tr>\n",
       "    <tr>\n",
       "      <th>total_deaths_pm</th>\n",
       "      <td>0.247464</td>\n",
       "      <td>0.394811</td>\n",
       "      <td>0.586468</td>\n",
       "      <td>1.000000</td>\n",
       "      <td>-0.013902</td>\n",
       "      <td>0.030281</td>\n",
       "      <td>0.389595</td>\n",
       "      <td>0.383672</td>\n",
       "      <td>0.120488</td>\n",
       "    </tr>\n",
       "    <tr>\n",
       "      <th>population</th>\n",
       "      <td>0.270030</td>\n",
       "      <td>0.212619</td>\n",
       "      <td>-0.056009</td>\n",
       "      <td>-0.013902</td>\n",
       "      <td>1.000000</td>\n",
       "      <td>-0.023084</td>\n",
       "      <td>0.024395</td>\n",
       "      <td>-0.059555</td>\n",
       "      <td>-0.038329</td>\n",
       "    </tr>\n",
       "    <tr>\n",
       "      <th>pop_density</th>\n",
       "      <td>-0.028737</td>\n",
       "      <td>-0.031645</td>\n",
       "      <td>0.110043</td>\n",
       "      <td>0.030281</td>\n",
       "      <td>-0.023084</td>\n",
       "      <td>1.000000</td>\n",
       "      <td>0.178878</td>\n",
       "      <td>0.315199</td>\n",
       "      <td>0.314973</td>\n",
       "    </tr>\n",
       "    <tr>\n",
       "      <th>median_age</th>\n",
       "      <td>0.162698</td>\n",
       "      <td>0.205128</td>\n",
       "      <td>0.313836</td>\n",
       "      <td>0.389595</td>\n",
       "      <td>0.024395</td>\n",
       "      <td>0.178878</td>\n",
       "      <td>1.000000</td>\n",
       "      <td>0.648905</td>\n",
       "      <td>0.662222</td>\n",
       "    </tr>\n",
       "    <tr>\n",
       "      <th>gdp_per_capita</th>\n",
       "      <td>0.186835</td>\n",
       "      <td>0.198729</td>\n",
       "      <td>0.651200</td>\n",
       "      <td>0.383672</td>\n",
       "      <td>-0.059555</td>\n",
       "      <td>0.315199</td>\n",
       "      <td>0.648905</td>\n",
       "      <td>1.000000</td>\n",
       "      <td>0.296995</td>\n",
       "    </tr>\n",
       "    <tr>\n",
       "      <th>hosp_beds</th>\n",
       "      <td>0.027601</td>\n",
       "      <td>0.019990</td>\n",
       "      <td>0.081449</td>\n",
       "      <td>0.120488</td>\n",
       "      <td>-0.038329</td>\n",
       "      <td>0.314973</td>\n",
       "      <td>0.662222</td>\n",
       "      <td>0.296995</td>\n",
       "      <td>1.000000</td>\n",
       "    </tr>\n",
       "  </tbody>\n",
       "</table>\n",
       "</div>"
      ],
      "text/plain": [
       "                 total_cases  total_deaths  total_cases_pm  total_deaths_pm  \\\n",
       "total_cases         1.000000      0.932079        0.182246         0.247464   \n",
       "total_deaths        0.932079      1.000000        0.179812         0.394811   \n",
       "total_cases_pm      0.182246      0.179812        1.000000         0.586468   \n",
       "total_deaths_pm     0.247464      0.394811        0.586468         1.000000   \n",
       "population          0.270030      0.212619       -0.056009        -0.013902   \n",
       "pop_density        -0.028737     -0.031645        0.110043         0.030281   \n",
       "median_age          0.162698      0.205128        0.313836         0.389595   \n",
       "gdp_per_capita      0.186835      0.198729        0.651200         0.383672   \n",
       "hosp_beds           0.027601      0.019990        0.081449         0.120488   \n",
       "\n",
       "                 population  pop_density  median_age  gdp_per_capita  \\\n",
       "total_cases        0.270030    -0.028737    0.162698        0.186835   \n",
       "total_deaths       0.212619    -0.031645    0.205128        0.198729   \n",
       "total_cases_pm    -0.056009     0.110043    0.313836        0.651200   \n",
       "total_deaths_pm   -0.013902     0.030281    0.389595        0.383672   \n",
       "population         1.000000    -0.023084    0.024395       -0.059555   \n",
       "pop_density       -0.023084     1.000000    0.178878        0.315199   \n",
       "median_age         0.024395     0.178878    1.000000        0.648905   \n",
       "gdp_per_capita    -0.059555     0.315199    0.648905        1.000000   \n",
       "hosp_beds         -0.038329     0.314973    0.662222        0.296995   \n",
       "\n",
       "                 hosp_beds  \n",
       "total_cases       0.027601  \n",
       "total_deaths      0.019990  \n",
       "total_cases_pm    0.081449  \n",
       "total_deaths_pm   0.120488  \n",
       "population       -0.038329  \n",
       "pop_density       0.314973  \n",
       "median_age        0.662222  \n",
       "gdp_per_capita    0.296995  \n",
       "hosp_beds         1.000000  "
      ]
     },
     "execution_count": 17,
     "metadata": {},
     "output_type": "execute_result"
    }
   ],
   "source": [
    "covidtotals.corr(method = \"pearson\")"
   ]
  },
  {
   "cell_type": "markdown",
   "id": "46542c4c-9f7a-4afb-a753-f8f87e816927",
   "metadata": {},
   "source": [
    "- 총 확진자 수에 비해 총 사망자수가 예상을 벗어나는지 확인\n",
    "- 크로스탭 함수 활용\n",
    "- qcut() 사분위, 분위수, 5가지로 분리"
   ]
  },
  {
   "cell_type": "code",
   "execution_count": 18,
   "id": "2e79edac-1484-4333-9798-427344b8276e",
   "metadata": {},
   "outputs": [
    {
     "data": {
      "text/html": [
       "<div>\n",
       "<style scoped>\n",
       "    .dataframe tbody tr th:only-of-type {\n",
       "        vertical-align: middle;\n",
       "    }\n",
       "\n",
       "    .dataframe tbody tr th {\n",
       "        vertical-align: top;\n",
       "    }\n",
       "\n",
       "    .dataframe thead th {\n",
       "        text-align: right;\n",
       "    }\n",
       "</style>\n",
       "<table border=\"1\" class=\"dataframe\">\n",
       "  <thead>\n",
       "    <tr style=\"text-align: right;\">\n",
       "      <th></th>\n",
       "      <th>total_cases_q</th>\n",
       "      <th>total_deaths_q</th>\n",
       "    </tr>\n",
       "    <tr>\n",
       "      <th>iso_code</th>\n",
       "      <th></th>\n",
       "      <th></th>\n",
       "    </tr>\n",
       "  </thead>\n",
       "  <tbody>\n",
       "    <tr>\n",
       "      <th>AFG</th>\n",
       "      <td>high</td>\n",
       "      <td>high</td>\n",
       "    </tr>\n",
       "    <tr>\n",
       "      <th>ALB</th>\n",
       "      <td>medium</td>\n",
       "      <td>medium</td>\n",
       "    </tr>\n",
       "    <tr>\n",
       "      <th>DZA</th>\n",
       "      <td>high</td>\n",
       "      <td>very high</td>\n",
       "    </tr>\n",
       "    <tr>\n",
       "      <th>AND</th>\n",
       "      <td>medium</td>\n",
       "      <td>medium</td>\n",
       "    </tr>\n",
       "    <tr>\n",
       "      <th>AGO</th>\n",
       "      <td>very low</td>\n",
       "      <td>low</td>\n",
       "    </tr>\n",
       "  </tbody>\n",
       "</table>\n",
       "</div>"
      ],
      "text/plain": [
       "         total_cases_q total_deaths_q\n",
       "iso_code                             \n",
       "AFG               high           high\n",
       "ALB             medium         medium\n",
       "DZA               high      very high\n",
       "AND             medium         medium\n",
       "AGO           very low            low"
      ]
     },
     "execution_count": 18,
     "metadata": {},
     "output_type": "execute_result"
    }
   ],
   "source": [
    "covidtotalsonly = covidtotals.loc[:, case_vars]\n",
    "covidtotalsonly[\"total_cases_q\"] = pd.qcut(covidtotalsonly[\"total_cases\"], labels = [\"very low\", \"low\", \"medium\", \"high\", \"very high\"], q = 5, precision = 0)\n",
    "covidtotalsonly[\"total_deaths_q\"] = pd.qcut(covidtotalsonly[\"total_deaths\"], labels = [\"very low\", \"low\", \"medium\", \"high\", \"very high\"], q = 5, precision = 0)\n",
    "\n",
    "covidtotalsonly[[\"total_cases_q\",\"total_deaths_q\"]].head()"
   ]
  },
  {
   "cell_type": "code",
   "execution_count": 19,
   "id": "e510cb53-de78-4f05-a912-64c1e83b98ba",
   "metadata": {},
   "outputs": [
    {
     "data": {
      "text/html": [
       "<div>\n",
       "<style scoped>\n",
       "    .dataframe tbody tr th:only-of-type {\n",
       "        vertical-align: middle;\n",
       "    }\n",
       "\n",
       "    .dataframe tbody tr th {\n",
       "        vertical-align: top;\n",
       "    }\n",
       "\n",
       "    .dataframe thead th {\n",
       "        text-align: right;\n",
       "    }\n",
       "</style>\n",
       "<table border=\"1\" class=\"dataframe\">\n",
       "  <thead>\n",
       "    <tr style=\"text-align: right;\">\n",
       "      <th>total_deaths_q</th>\n",
       "      <th>very low</th>\n",
       "      <th>low</th>\n",
       "      <th>medium</th>\n",
       "      <th>high</th>\n",
       "      <th>very high</th>\n",
       "    </tr>\n",
       "    <tr>\n",
       "      <th>total_cases_q</th>\n",
       "      <th></th>\n",
       "      <th></th>\n",
       "      <th></th>\n",
       "      <th></th>\n",
       "      <th></th>\n",
       "    </tr>\n",
       "  </thead>\n",
       "  <tbody>\n",
       "    <tr>\n",
       "      <th>very low</th>\n",
       "      <td>34</td>\n",
       "      <td>7</td>\n",
       "      <td>1</td>\n",
       "      <td>0</td>\n",
       "      <td>0</td>\n",
       "    </tr>\n",
       "    <tr>\n",
       "      <th>low</th>\n",
       "      <td>12</td>\n",
       "      <td>19</td>\n",
       "      <td>10</td>\n",
       "      <td>1</td>\n",
       "      <td>0</td>\n",
       "    </tr>\n",
       "    <tr>\n",
       "      <th>medium</th>\n",
       "      <td>1</td>\n",
       "      <td>13</td>\n",
       "      <td>15</td>\n",
       "      <td>13</td>\n",
       "      <td>0</td>\n",
       "    </tr>\n",
       "    <tr>\n",
       "      <th>high</th>\n",
       "      <td>0</td>\n",
       "      <td>0</td>\n",
       "      <td>12</td>\n",
       "      <td>24</td>\n",
       "      <td>6</td>\n",
       "    </tr>\n",
       "    <tr>\n",
       "      <th>very high</th>\n",
       "      <td>0</td>\n",
       "      <td>0</td>\n",
       "      <td>2</td>\n",
       "      <td>4</td>\n",
       "      <td>36</td>\n",
       "    </tr>\n",
       "  </tbody>\n",
       "</table>\n",
       "</div>"
      ],
      "text/plain": [
       "total_deaths_q  very low  low  medium  high  very high\n",
       "total_cases_q                                         \n",
       "very low              34    7       1     0          0\n",
       "low                   12   19      10     1          0\n",
       "medium                 1   13      15    13          0\n",
       "high                   0    0      12    24          6\n",
       "very high              0    0       2     4         36"
      ]
     },
     "execution_count": 19,
     "metadata": {},
     "output_type": "execute_result"
    }
   ],
   "source": [
    "pd.crosstab(covidtotalsonly[\"total_cases_q\"],covidtotalsonly[\"total_deaths_q\"])"
   ]
  },
  {
   "cell_type": "code",
   "execution_count": 20,
   "id": "50f5939d-6aeb-4eea-8de8-ae9733dd5bdf",
   "metadata": {},
   "outputs": [
    {
     "data": {
      "text/html": [
       "<div>\n",
       "<style scoped>\n",
       "    .dataframe tbody tr th:only-of-type {\n",
       "        vertical-align: middle;\n",
       "    }\n",
       "\n",
       "    .dataframe tbody tr th {\n",
       "        vertical-align: top;\n",
       "    }\n",
       "\n",
       "    .dataframe thead th {\n",
       "        text-align: right;\n",
       "    }\n",
       "</style>\n",
       "<table border=\"1\" class=\"dataframe\">\n",
       "  <thead>\n",
       "    <tr style=\"text-align: right;\">\n",
       "      <th>iso_code</th>\n",
       "      <th>QAT</th>\n",
       "      <th>SGP</th>\n",
       "    </tr>\n",
       "  </thead>\n",
       "  <tbody>\n",
       "    <tr>\n",
       "      <th>lastdate</th>\n",
       "      <td>2020-06-01</td>\n",
       "      <td>2020-06-01</td>\n",
       "    </tr>\n",
       "    <tr>\n",
       "      <th>location</th>\n",
       "      <td>Qatar</td>\n",
       "      <td>Singapore</td>\n",
       "    </tr>\n",
       "    <tr>\n",
       "      <th>total_cases</th>\n",
       "      <td>56910</td>\n",
       "      <td>34884</td>\n",
       "    </tr>\n",
       "    <tr>\n",
       "      <th>total_deaths</th>\n",
       "      <td>38</td>\n",
       "      <td>23</td>\n",
       "    </tr>\n",
       "    <tr>\n",
       "      <th>total_cases_pm</th>\n",
       "      <td>19753.146</td>\n",
       "      <td>5962.727</td>\n",
       "    </tr>\n",
       "    <tr>\n",
       "      <th>total_deaths_pm</th>\n",
       "      <td>13.19</td>\n",
       "      <td>3.931</td>\n",
       "    </tr>\n",
       "    <tr>\n",
       "      <th>population</th>\n",
       "      <td>2881060.0</td>\n",
       "      <td>5850343.0</td>\n",
       "    </tr>\n",
       "    <tr>\n",
       "      <th>pop_density</th>\n",
       "      <td>227.322</td>\n",
       "      <td>7915.731</td>\n",
       "    </tr>\n",
       "    <tr>\n",
       "      <th>median_age</th>\n",
       "      <td>31.9</td>\n",
       "      <td>42.4</td>\n",
       "    </tr>\n",
       "    <tr>\n",
       "      <th>gdp_per_capita</th>\n",
       "      <td>116935.6</td>\n",
       "      <td>85535.383</td>\n",
       "    </tr>\n",
       "    <tr>\n",
       "      <th>hosp_beds</th>\n",
       "      <td>1.2</td>\n",
       "      <td>2.4</td>\n",
       "    </tr>\n",
       "  </tbody>\n",
       "</table>\n",
       "</div>"
      ],
      "text/plain": [
       "iso_code                QAT         SGP\n",
       "lastdate         2020-06-01  2020-06-01\n",
       "location              Qatar   Singapore\n",
       "total_cases           56910       34884\n",
       "total_deaths             38          23\n",
       "total_cases_pm    19753.146    5962.727\n",
       "total_deaths_pm       13.19       3.931\n",
       "population        2881060.0   5850343.0\n",
       "pop_density         227.322    7915.731\n",
       "median_age             31.9        42.4\n",
       "gdp_per_capita     116935.6   85535.383\n",
       "hosp_beds               1.2         2.4"
      ]
     },
     "execution_count": 20,
     "metadata": {},
     "output_type": "execute_result"
    }
   ],
   "source": [
    "covidtotals.loc[(covidtotalsonly[\"total_cases_q\"] == \"very high\") & (covidtotalsonly[\"total_deaths_q\"] == \"medium\")].T"
   ]
  },
  {
   "cell_type": "code",
   "execution_count": 21,
   "id": "b5cbcbc6-fc1f-488d-9469-33b0177a315e",
   "metadata": {},
   "outputs": [
    {
     "data": {
      "text/html": [
       "<div>\n",
       "<style scoped>\n",
       "    .dataframe tbody tr th:only-of-type {\n",
       "        vertical-align: middle;\n",
       "    }\n",
       "\n",
       "    .dataframe tbody tr th {\n",
       "        vertical-align: top;\n",
       "    }\n",
       "\n",
       "    .dataframe thead th {\n",
       "        text-align: right;\n",
       "    }\n",
       "</style>\n",
       "<table border=\"1\" class=\"dataframe\">\n",
       "  <thead>\n",
       "    <tr style=\"text-align: right;\">\n",
       "      <th>iso_code</th>\n",
       "      <th>YEM</th>\n",
       "    </tr>\n",
       "  </thead>\n",
       "  <tbody>\n",
       "    <tr>\n",
       "      <th>lastdate</th>\n",
       "      <td>2020-06-01</td>\n",
       "    </tr>\n",
       "    <tr>\n",
       "      <th>location</th>\n",
       "      <td>Yemen</td>\n",
       "    </tr>\n",
       "    <tr>\n",
       "      <th>total_cases</th>\n",
       "      <td>323</td>\n",
       "    </tr>\n",
       "    <tr>\n",
       "      <th>total_deaths</th>\n",
       "      <td>80</td>\n",
       "    </tr>\n",
       "    <tr>\n",
       "      <th>total_cases_pm</th>\n",
       "      <td>10.829</td>\n",
       "    </tr>\n",
       "    <tr>\n",
       "      <th>total_deaths_pm</th>\n",
       "      <td>2.682</td>\n",
       "    </tr>\n",
       "    <tr>\n",
       "      <th>population</th>\n",
       "      <td>29825968.0</td>\n",
       "    </tr>\n",
       "    <tr>\n",
       "      <th>pop_density</th>\n",
       "      <td>53.508</td>\n",
       "    </tr>\n",
       "    <tr>\n",
       "      <th>median_age</th>\n",
       "      <td>20.3</td>\n",
       "    </tr>\n",
       "    <tr>\n",
       "      <th>gdp_per_capita</th>\n",
       "      <td>1479.147</td>\n",
       "    </tr>\n",
       "    <tr>\n",
       "      <th>hosp_beds</th>\n",
       "      <td>0.7</td>\n",
       "    </tr>\n",
       "  </tbody>\n",
       "</table>\n",
       "</div>"
      ],
      "text/plain": [
       "iso_code                YEM\n",
       "lastdate         2020-06-01\n",
       "location              Yemen\n",
       "total_cases             323\n",
       "total_deaths             80\n",
       "total_cases_pm       10.829\n",
       "total_deaths_pm       2.682\n",
       "population       29825968.0\n",
       "pop_density          53.508\n",
       "median_age             20.3\n",
       "gdp_per_capita     1479.147\n",
       "hosp_beds               0.7"
      ]
     },
     "execution_count": 21,
     "metadata": {},
     "output_type": "execute_result"
    }
   ],
   "source": [
    "covidtotals.loc[(covidtotalsonly[\"total_cases_q\"] == \"low\") & (covidtotalsonly[\"total_deaths_q\"] == \"high\")].T"
   ]
  },
  {
   "cell_type": "code",
   "execution_count": 22,
   "id": "61fd69c4-dd7e-4c94-a351-8c9e1f3cb499",
   "metadata": {},
   "outputs": [
    {
     "data": {
      "text/html": [
       "<div>\n",
       "<style scoped>\n",
       "    .dataframe tbody tr th:only-of-type {\n",
       "        vertical-align: middle;\n",
       "    }\n",
       "\n",
       "    .dataframe tbody tr th {\n",
       "        vertical-align: top;\n",
       "    }\n",
       "\n",
       "    .dataframe thead th {\n",
       "        text-align: right;\n",
       "    }\n",
       "</style>\n",
       "<table border=\"1\" class=\"dataframe\">\n",
       "  <thead>\n",
       "    <tr style=\"text-align: right;\">\n",
       "      <th>iso_code</th>\n",
       "      <th>CAF</th>\n",
       "    </tr>\n",
       "  </thead>\n",
       "  <tbody>\n",
       "    <tr>\n",
       "      <th>lastdate</th>\n",
       "      <td>2020-06-01</td>\n",
       "    </tr>\n",
       "    <tr>\n",
       "      <th>location</th>\n",
       "      <td>Central African Republic</td>\n",
       "    </tr>\n",
       "    <tr>\n",
       "      <th>total_cases</th>\n",
       "      <td>1011</td>\n",
       "    </tr>\n",
       "    <tr>\n",
       "      <th>total_deaths</th>\n",
       "      <td>2</td>\n",
       "    </tr>\n",
       "    <tr>\n",
       "      <th>total_cases_pm</th>\n",
       "      <td>209.327</td>\n",
       "    </tr>\n",
       "    <tr>\n",
       "      <th>total_deaths_pm</th>\n",
       "      <td>0.414</td>\n",
       "    </tr>\n",
       "    <tr>\n",
       "      <th>population</th>\n",
       "      <td>4829764.0</td>\n",
       "    </tr>\n",
       "    <tr>\n",
       "      <th>pop_density</th>\n",
       "      <td>7.479</td>\n",
       "    </tr>\n",
       "    <tr>\n",
       "      <th>median_age</th>\n",
       "      <td>18.3</td>\n",
       "    </tr>\n",
       "    <tr>\n",
       "      <th>gdp_per_capita</th>\n",
       "      <td>661.24</td>\n",
       "    </tr>\n",
       "    <tr>\n",
       "      <th>hosp_beds</th>\n",
       "      <td>1.0</td>\n",
       "    </tr>\n",
       "  </tbody>\n",
       "</table>\n",
       "</div>"
      ],
      "text/plain": [
       "iso_code                              CAF\n",
       "lastdate                       2020-06-01\n",
       "location         Central African Republic\n",
       "total_cases                          1011\n",
       "total_deaths                            2\n",
       "total_cases_pm                    209.327\n",
       "total_deaths_pm                     0.414\n",
       "population                      4829764.0\n",
       "pop_density                         7.479\n",
       "median_age                           18.3\n",
       "gdp_per_capita                     661.24\n",
       "hosp_beds                             1.0"
      ]
     },
     "execution_count": 22,
     "metadata": {},
     "output_type": "execute_result"
    }
   ],
   "source": [
    "covidtotals.loc[(covidtotalsonly[\"total_cases_q\"] == \"medium\") & (covidtotalsonly[\"total_deaths_q\"] == \"very low\")].T"
   ]
  },
  {
   "cell_type": "code",
   "execution_count": 32,
   "id": "5405cb99-40e5-446f-9b91-12dd1006e636",
   "metadata": {},
   "outputs": [
    {
     "data": {
      "text/plain": [
       "3.012670731707318"
      ]
     },
     "execution_count": 32,
     "metadata": {},
     "output_type": "execute_result"
    }
   ],
   "source": [
    "covidtotals[\"hosp_beds\"].mean()"
   ]
  },
  {
   "cell_type": "markdown",
   "id": "5452c174-b7db-4f97-8374-6fd4687da97c",
   "metadata": {},
   "source": [
    "- 백만명당 확진자 수와 사망자수를 나타내는 산점도 & 회귀선"
   ]
  },
  {
   "cell_type": "code",
   "execution_count": 27,
   "id": "65163e24-be56-4edc-a58f-9150cbfa9ae6",
   "metadata": {},
   "outputs": [
    {
     "data": {
      "image/png": "[encoded data removed]",
      "text/plain": [
       "<Figure size 432x288 with 1 Axes>"
      ]
     },
     "metadata": {
      "needs_background": "light"
     },
     "output_type": "display_data"
    }
   ],
   "source": [
    "fig, ax = plt.subplots()\n",
    "sns.regplot(x = \"total_cases_pm\", y = \"total_deaths_pm\", data = covidtotals, ax = ax)\n",
    "ax.set(xlabel = \"Cases Per Million\", ylabel = \"Deaths Per Million\", title = \"Total Covid Cases and Deaths per Million by Country\")\n",
    "ax.ticklabel_format(axis = \"x\", useOffset=False, style = \"plain\")\n",
    "plt.xticks(rotation=90)\n",
    "plt.show()"
   ]
  },
  {
   "cell_type": "code",
   "execution_count": 34,
   "id": "90094c99-17a2-4b16-adeb-515cdc3eb189",
   "metadata": {},
   "outputs": [
    {
     "data": {
      "text/html": [
       "<div>\n",
       "<style scoped>\n",
       "    .dataframe tbody tr th:only-of-type {\n",
       "        vertical-align: middle;\n",
       "    }\n",
       "\n",
       "    .dataframe tbody tr th {\n",
       "        vertical-align: top;\n",
       "    }\n",
       "\n",
       "    .dataframe thead th {\n",
       "        text-align: right;\n",
       "    }\n",
       "</style>\n",
       "<table border=\"1\" class=\"dataframe\">\n",
       "  <thead>\n",
       "    <tr style=\"text-align: right;\">\n",
       "      <th></th>\n",
       "      <th>location</th>\n",
       "      <th>total_cases_pm</th>\n",
       "      <th>total_deaths_pm</th>\n",
       "      <th>hosp_beds</th>\n",
       "    </tr>\n",
       "    <tr>\n",
       "      <th>iso_code</th>\n",
       "      <th></th>\n",
       "      <th></th>\n",
       "      <th></th>\n",
       "      <th></th>\n",
       "    </tr>\n",
       "  </thead>\n",
       "  <tbody>\n",
       "    <tr>\n",
       "      <th>BEL</th>\n",
       "      <td>Belgium</td>\n",
       "      <td>5037.354</td>\n",
       "      <td>816.852</td>\n",
       "      <td>5.64</td>\n",
       "    </tr>\n",
       "    <tr>\n",
       "      <th>FRA</th>\n",
       "      <td>France</td>\n",
       "      <td>2324.879</td>\n",
       "      <td>441.251</td>\n",
       "      <td>5.98</td>\n",
       "    </tr>\n",
       "    <tr>\n",
       "      <th>IRL</th>\n",
       "      <td>Ireland</td>\n",
       "      <td>5060.962</td>\n",
       "      <td>334.562</td>\n",
       "      <td>2.96</td>\n",
       "    </tr>\n",
       "    <tr>\n",
       "      <th>ITA</th>\n",
       "      <td>Italy</td>\n",
       "      <td>3853.985</td>\n",
       "      <td>552.663</td>\n",
       "      <td>3.18</td>\n",
       "    </tr>\n",
       "    <tr>\n",
       "      <th>NLD</th>\n",
       "      <td>Netherlands</td>\n",
       "      <td>2710.379</td>\n",
       "      <td>347.595</td>\n",
       "      <td>3.32</td>\n",
       "    </tr>\n",
       "    <tr>\n",
       "      <th>SXM</th>\n",
       "      <td>Sint Maarten (Dutch part)</td>\n",
       "      <td>1795.625</td>\n",
       "      <td>349.797</td>\n",
       "      <td>NaN</td>\n",
       "    </tr>\n",
       "    <tr>\n",
       "      <th>ESP</th>\n",
       "      <td>Spain</td>\n",
       "      <td>5120.952</td>\n",
       "      <td>580.197</td>\n",
       "      <td>2.97</td>\n",
       "    </tr>\n",
       "    <tr>\n",
       "      <th>SWE</th>\n",
       "      <td>Sweden</td>\n",
       "      <td>3717.298</td>\n",
       "      <td>435.180</td>\n",
       "      <td>2.22</td>\n",
       "    </tr>\n",
       "    <tr>\n",
       "      <th>GBR</th>\n",
       "      <td>United Kingdom</td>\n",
       "      <td>4047.403</td>\n",
       "      <td>566.965</td>\n",
       "      <td>2.54</td>\n",
       "    </tr>\n",
       "    <tr>\n",
       "      <th>USA</th>\n",
       "      <td>United States</td>\n",
       "      <td>5408.389</td>\n",
       "      <td>315.354</td>\n",
       "      <td>2.77</td>\n",
       "    </tr>\n",
       "  </tbody>\n",
       "</table>\n",
       "</div>"
      ],
      "text/plain": [
       "                           location  total_cases_pm  total_deaths_pm  \\\n",
       "iso_code                                                               \n",
       "BEL                         Belgium        5037.354          816.852   \n",
       "FRA                          France        2324.879          441.251   \n",
       "IRL                         Ireland        5060.962          334.562   \n",
       "ITA                           Italy        3853.985          552.663   \n",
       "NLD                     Netherlands        2710.379          347.595   \n",
       "SXM       Sint Maarten (Dutch part)        1795.625          349.797   \n",
       "ESP                           Spain        5120.952          580.197   \n",
       "SWE                          Sweden        3717.298          435.180   \n",
       "GBR                  United Kingdom        4047.403          566.965   \n",
       "USA                   United States        5408.389          315.354   \n",
       "\n",
       "          hosp_beds  \n",
       "iso_code             \n",
       "BEL            5.64  \n",
       "FRA            5.98  \n",
       "IRL            2.96  \n",
       "ITA            3.18  \n",
       "NLD            3.32  \n",
       "SXM             NaN  \n",
       "ESP            2.97  \n",
       "SWE            2.22  \n",
       "GBR            2.54  \n",
       "USA            2.77  "
      ]
     },
     "execution_count": 34,
     "metadata": {},
     "output_type": "execute_result"
    }
   ],
   "source": [
    "covidtotals.loc[(covidtotals[\"total_cases_pm\"] < 7500) & (covidtotals[\"total_deaths_pm\"] > 300), [\"location\",\"total_cases_pm\",\"total_deaths_pm\",\"hosp_beds\"]]"
   ]
  }
 ],
 "metadata": {
  "kernelspec": {
   "display_name": "Python 3",
   "language": "python",
   "name": "python3"
  },
  "language_info": {
   "codemirror_mode": {
    "name": "ipython",
    "version": 3
   },
   "file_extension": ".py",
   "mimetype": "text/x-python",
   "name": "python",
   "nbconvert_exporter": "python",
   "pygments_lexer": "ipython3",
   "version": "3.8.8"
  }
 },
 "nbformat": 4,
 "nbformat_minor": 5
}
