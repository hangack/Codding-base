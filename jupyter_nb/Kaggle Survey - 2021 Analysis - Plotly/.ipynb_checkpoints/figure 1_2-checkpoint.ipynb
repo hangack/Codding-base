{
 "cells": [
  {
   "cell_type": "code",
   "execution_count": 76,
   "metadata": {
    "_cell_guid": "b1076dfc-b9ad-4769-8c92-a6c4dae69d19",
    "_uuid": "8f2839f25d086af736a60e9eeb907d3b93b6e0e5",
    "execution": {
     "iopub.execute_input": "2021-11-08T05:41:03.490096Z",
     "iopub.status.busy": "2021-11-08T05:41:03.489775Z",
     "iopub.status.idle": "2021-11-08T05:41:03.503339Z",
     "shell.execute_reply": "2021-11-08T05:41:03.502566Z",
     "shell.execute_reply.started": "2021-11-08T05:41:03.490062Z"
    }
   },
   "outputs": [],
   "source": [
    "# This Python 3 environment comes with many helpful analytics libraries installed\n",
    "# It is defined by the kaggle/python Docker image: https://github.com/kaggle/docker-python\n",
    "# For example, here's several helpful packages to load\n",
    "\n",
    "import numpy as np # linear algebra\n",
    "import pandas as pd # data processing, CSV file I/O (e.g. pd.read_csv)\n",
    "\n",
    "# Input data files are available in the read-only \"../input/\" directory\n",
    "# For example, running this (by clicking run or pressing Shift+Enter) will list all files under the input directory\n",
    "\n",
    "import os\n",
    "for dirname, _, filenames in os.walk('/kaggle/input'):\n",
    "    for filename in filenames:\n",
    "        print(os.path.join(dirname, filename))\n",
    "\n",
    "# You can write up to 20GB to the current directory (/kaggle/working/) that gets preserved as output when you create a version using \"Save & Run All\" \n",
    "# You can also write temporary files to /kaggle/temp/, but they won't be saved outside of the current session"
   ]
  },
  {
   "cell_type": "code",
   "execution_count": 77,
   "metadata": {
    "execution": {
     "iopub.execute_input": "2021-11-08T05:41:03.505127Z",
     "iopub.status.busy": "2021-11-08T05:41:03.504883Z",
     "iopub.status.idle": "2021-11-08T05:41:03.510796Z",
     "shell.execute_reply": "2021-11-08T05:41:03.510050Z",
     "shell.execute_reply.started": "2021-11-08T05:41:03.505099Z"
    }
   },
   "outputs": [],
   "source": [
    "from plotly.offline import plot, iplot, init_notebook_mode\n",
    "init_notebook_mode(connected=True)"
   ]
  },
  {
   "cell_type": "code",
   "execution_count": 78,
   "metadata": {
    "execution": {
     "iopub.execute_input": "2021-11-08T05:41:03.512220Z",
     "iopub.status.busy": "2021-11-08T05:41:03.511711Z",
     "iopub.status.idle": "2021-11-08T05:41:04.461891Z",
     "shell.execute_reply": "2021-11-08T05:41:04.461081Z",
     "shell.execute_reply.started": "2021-11-08T05:41:03.512193Z"
    }
   },
   "outputs": [],
   "source": [
    "import numpy as np\n",
    "import pandas as pd\n",
    "import matplotlib.pyplot as plt\n",
    "import plotly.express as px\n",
    "import plotly.graph_objects as go\n",
    "from warnings import filterwarnings\n",
    "filterwarnings('ignore')\n",
    "\n",
    "colors = ['#B1EDED','#B1B2ED','#1DE7ED','#1DA5ED','#1D50ED','#16548E']\n",
    "\n",
    "df = pd.read_csv('../input/kaggle-survey-2021/kaggle_survey_2021_responses.csv')\n",
    "df.head()"
   ]
  },
  {
   "cell_type": "code",
   "execution_count": 88,
   "metadata": {
    "execution": {
     "iopub.execute_input": "2021-11-08T05:49:06.682696Z",
     "iopub.status.busy": "2021-11-08T05:49:06.682403Z",
     "iopub.status.idle": "2021-11-08T05:49:06.702877Z",
     "shell.execute_reply": "2021-11-08T05:49:06.702049Z",
     "shell.execute_reply.started": "2021-11-08T05:49:06.682652Z"
    }
   },
   "outputs": [],
   "source": [
    "fig = go.Figure( data=[ # 그래프의 기본적인 틀을 나타냄\n",
    "                            go.Pie( # 원그래프 \n",
    "                                    labels = df['Q2'][1:].value_counts().index, # 값에 붙일 이름 - df['Q2'][1:].value_counts()의 인덱스\n",
    "                                    values = df['Q2'][1:].value_counts().values, # 나타낼 값 - df['Q2'][1:].value_counts()의 값\n",
    "                                    textinfo = 'label+percent')]) # 그래프 항목당 나타낼 텍스트 (여기서는 항목명, 비율)\n",
    "fig.update_traces( \n",
    "                    marker=dict(colors=colors[2:])) # 그래프를 어떤 색으로 표현할 것인가를 설정\n",
    "fig.update_layout( # 그래프의 부가정보 설정\n",
    "                    title_text='Gender Distribution', # 그래프 제목\n",
    "                    showlegend=False) # 범례표시여부\n",
    "fig.show()"
   ]
  },
  {
   "cell_type": "code",
   "execution_count": 112,
   "metadata": {
    "execution": {
     "iopub.execute_input": "2021-11-08T07:01:03.820403Z",
     "iopub.status.busy": "2021-11-08T07:01:03.820141Z",
     "iopub.status.idle": "2021-11-08T07:01:03.958809Z",
     "shell.execute_reply": "2021-11-08T07:01:03.958247Z",
     "shell.execute_reply.started": "2021-11-08T07:01:03.820375Z"
    }
   },
   "outputs": [],
   "source": [
    "man = df[df['Q2'] == 'Man']['Q1'].value_counts() # 성별이 남성[df['Q2'] == 'Man']인 행에서 나이['Q1']의 값을 카운트하여 시리즈로 만듦.\n",
    "woman = df[df['Q2'] == 'Woman']['Q1'].value_counts() # 성별이 여성[df['Q2'] == 'Woman']인 행에서 나이['Q1']의 값을 카운트하여 시리즈로 만듦.\n",
    "textonbar_man = [ # list comprehension = [(변수를 활용한 값) for (사용할 변수 이름) in (순회 할 수 있는 값)]\n",
    "                    round((m/(m+w))*100, 1) for m, w in zip(man.values, woman.values)] # for문을 사용하여 round함수의 계산을 하고 textonbar_man에 저장\n",
    "textonbar_woman = [ # list comprehension\n",
    "                    round((w/(m+w))*100, 1) for m, w in zip(man.values, woman.values)]\n",
    "\n",
    "fig = go.Figure(data=[ \n",
    "                        go.Bar( # 막대그래프\n",
    "                                name='Man', # 그래프로 나타낼 항목\n",
    "                                x=man.index, # x축에 man의 인덱스\n",
    "                                y=man.values, # y축에 man의 값\n",
    "                                text=textonbar_man, # 막대의 값을 작성해줄 텍스트\n",
    "                                marker_color=colors[2]), #막대 색\n",
    "                        go.Bar(\n",
    "                                name='Woman', \n",
    "                                x=woman.index, \n",
    "                                y=woman.values, \n",
    "                                text=textonbar_woman, \n",
    "                                marker_color=colors[3])\n",
    "])\n",
    "fig.update_traces(\n",
    "                    texttemplate='%{text:.3s}%', # fig(print(fig)로 출력가능)내부의 text 인자를 차례대로 출력 (그래프의 위의 텍스트를 표현)\n",
    "                    textposition='inside') # 그래프상에서 값의 위치\n",
    "fig.update_layout(\n",
    "                    barmode='stack', # 막대의 형태\n",
    "                    title_text='Age distribution by gender', # 그래프 제목\n",
    "                    xaxis_title='Age', # x축 제목\n",
    "                    yaxis_title='Counts') # y축 제목\n",
    "fig.show()"
   ]
  },
  {
   "cell_type": "markdown",
   "metadata": {},
   "source": [
    "# References\n",
    "\n",
    "[go.Figure() properties](https://plotly.com/python-api-reference/generated/plotly.graph_objects.Figure.html#id0)  \n",
    "[update_traces() properties](https://plotly.com/python-api-reference/generated/plotly.graph_objects.Figure.html#plotly.graph_objects.Figure.update_traces)  \n",
    "[update_layout() properties](https://plotly.com/python-api-reference/generated/plotly.graph_objects.Figure.html#plotly.graph_objects.Figure.update_layout)  \n",
    "[show() properties](https://plotly.com/python-api-reference/generated/plotly.graph_objects.Figure.html#plotly.graph_objects.Figure.show)   \n",
    "[go.Bar() properties](https://plotly.com/python-api-reference/generated/plotly.graph_objects.Bar.html)  "
   ]
  }
 ],
 "metadata": {
  "kernelspec": {
   "display_name": "Python 3",
   "language": "python",
   "name": "python3"
  },
  "language_info": {
   "codemirror_mode": {
    "name": "ipython",
    "version": 3
   },
   "file_extension": ".py",
   "mimetype": "text/x-python",
   "name": "python",
   "nbconvert_exporter": "python",
   "pygments_lexer": "ipython3",
   "version": "3.8.8"
  }
 },
 "nbformat": 4,
 "nbformat_minor": 4
}
