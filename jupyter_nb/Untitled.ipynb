{
 "cells": [
  {
   "cell_type": "markdown",
   "id": "b5cd205d-5714-483d-b696-7ef079cb1082",
   "metadata": {},
   "source": [
    "## 예측 정확도 측정하기"
   ]
  },
  {
   "cell_type": "code",
   "execution_count": 1,
   "id": "8f0f53c2-709c-41dd-8621-a97ad2bb743e",
   "metadata": {},
   "outputs": [],
   "source": [
    "from sklearn.datasets import load_iris\n",
    "from sklearn.tree import DecisionTreeClassifier\n",
    "from sklearn.metrics import accuracy_score"
   ]
  },
  {
   "cell_type": "code",
   "execution_count": 17,
   "id": "8242134c-39ed-464b-8d1f-a630df975da9",
   "metadata": {},
   "outputs": [],
   "source": [
    "iris = load_iris()\n",
    "dtc = DecisionTreeClassifier()\n",
    "train_data = iris.data\n",
    "train_label = iris.target"
   ]
  },
  {
   "cell_type": "code",
   "execution_count": 14,
   "id": "eaeeb160-18bd-4df3-9c84-49b7a3a81042",
   "metadata": {},
   "outputs": [
    {
     "name": "stdout",
     "output_type": "stream",
     "text": [
      "(150, 4)\n",
      "(150,)\n"
     ]
    }
   ],
   "source": [
    "print(train_data.shape)\n",
    "print(train_label.shape)"
   ]
  },
  {
   "cell_type": "code",
   "execution_count": 18,
   "id": "7983e196-fc7f-43f2-b7d3-0ac3038f4de6",
   "metadata": {},
   "outputs": [
    {
     "data": {
      "text/plain": [
       "DecisionTreeClassifier()"
      ]
     },
     "execution_count": 18,
     "metadata": {},
     "output_type": "execute_result"
    }
   ],
   "source": [
    "dtc.fit(train_data, train_label)"
   ]
  },
  {
   "cell_type": "code",
   "execution_count": 19,
   "id": "e43ee3a9-e78b-4883-8529-a5931a3f10b2",
   "metadata": {},
   "outputs": [
    {
     "name": "stdout",
     "output_type": "stream",
     "text": [
      "예측 정확도: 1.0\n"
     ]
    }
   ],
   "source": [
    "# 학습 데이터 세트로 예측 수행\n",
    "pred = dtc.predict(train_data)\n",
    "print(\"예측 정확도:\",accuracy_score(train_label,pred))"
   ]
  },
  {
   "cell_type": "markdown",
   "id": "87b1cdda-dc39-4821-b52c-5cd3de86f595",
   "metadata": {},
   "source": [
    "training 데이터로 accuracy를 측정해서 100%가 나옴"
   ]
  },
  {
   "cell_type": "markdown",
   "id": "3ddac365-619c-4816-831f-2f82a5a4cb41",
   "metadata": {},
   "source": [
    "### 학습/테스트 데이터 세트 분리\n",
    "- `train_test_split()`"
   ]
  },
  {
   "cell_type": "code",
   "execution_count": 20,
   "id": "87c3b883-e6ab-452f-b746-b7ba30ef2068",
   "metadata": {},
   "outputs": [],
   "source": [
    "from sklearn.model_selection import train_test_split"
   ]
  },
  {
   "cell_type": "code",
   "execution_count": 21,
   "id": "22205248-631b-4aee-b5ee-2ff31c77ed48",
   "metadata": {},
   "outputs": [],
   "source": [
    "x_train,x_test,y_train,y_test = train_test_split(iris.data, iris.target, \n",
    "                                                test_size = 0.3, random_state=121)"
   ]
  },
  {
   "cell_type": "code",
   "execution_count": 22,
   "id": "f4c13e85-9a98-472f-957c-93c9f556874c",
   "metadata": {},
   "outputs": [
    {
     "data": {
      "text/plain": [
       "DecisionTreeClassifier()"
      ]
     },
     "execution_count": 22,
     "metadata": {},
     "output_type": "execute_result"
    }
   ],
   "source": [
    "dtc.fit(x_train, y_train)"
   ]
  },
  {
   "cell_type": "code",
   "execution_count": 23,
   "id": "01b2dfa1-b206-4280-9be7-9271ffd1aee2",
   "metadata": {},
   "outputs": [
    {
     "name": "stdout",
     "output_type": "stream",
     "text": [
      "예측 정확도: 0.9555555555555556\n"
     ]
    }
   ],
   "source": [
    "pred = dtc.predict(x_test)\n",
    "print(\"예측 정확도:\",accuracy_score(y_test,pred))"
   ]
  },
  {
   "cell_type": "markdown",
   "id": "28d94440-fee3-419c-957f-54d94d57a4f9",
   "metadata": {},
   "source": [
    "## 교차 검증"
   ]
  },
  {
   "cell_type": "code",
   "execution_count": 24,
   "id": "525ecf3a-3da1-44e0-b912-b2425ed4230a",
   "metadata": {},
   "outputs": [],
   "source": [
    "from sklearn.model_selection import KFold\n",
    "import numpy as np"
   ]
  },
  {
   "cell_type": "code",
   "execution_count": 25,
   "id": "aeda5d16-4b6f-45f2-bb68-fa087f0eba49",
   "metadata": {},
   "outputs": [],
   "source": [
    "features = iris.data\n",
    "label = iris.target\n",
    "dtf = DecisionTreeClassifier(random_state=156)"
   ]
  },
  {
   "cell_type": "markdown",
   "id": "826606ac-5aa2-47b7-ad6a-eb6b8761c283",
   "metadata": {},
   "source": [
    "5개의 폴드 세트로 분리하는 `KFold` 객체와 폴드 세트별 정확도를 담을 리스트 객체 생성"
   ]
  },
  {
   "cell_type": "code",
   "execution_count": 30,
   "id": "c4330d9c-f652-4606-81c9-b534a974104c",
   "metadata": {},
   "outputs": [
    {
     "name": "stdout",
     "output_type": "stream",
     "text": [
      "붓꽃 데이터 세트 크기: 150\n"
     ]
    }
   ],
   "source": [
    "kfold = KFold(n_splits=5)\n",
    "cv_accuracy = []\n",
    "print(\"붓꽃 데이터 세트 크기:\",features.shape[0])"
   ]
  },
  {
   "cell_type": "markdown",
   "id": "c8de2454-a18e-4cb6-98f2-a8af9888681d",
   "metadata": {},
   "source": [
    "150개를 5개의 폴드로 분리했으니 학습 데이터는 120개, 검증 데이터는 30개"
   ]
  },
  {
   "cell_type": "code",
   "execution_count": 31,
   "id": "80bb8da8-2ac9-4176-8864-6b7e9e4ee837",
   "metadata": {},
   "outputs": [],
   "source": [
    "n_iter =0"
   ]
  },
  {
   "cell_type": "markdown",
   "id": "49cc1490-2014-4786-a04f-1dc64ab6ec51",
   "metadata": {},
   "source": [
    "`KFold` 객체의 `split()`은 fold별 학습/검증 테스트의 low index를 array로 반환해준다."
   ]
  },
  {
   "cell_type": "code",
   "execution_count": null,
   "id": "51ca27be-f77b-4897-8935-b756168923b5",
   "metadata": {},
   "outputs": [],
   "source": [
    "for train_index"
   ]
  }
 ],
 "metadata": {
  "kernelspec": {
   "display_name": "Python 3",
   "language": "python",
   "name": "python3"
  },
  "language_info": {
   "codemirror_mode": {
    "name": "ipython",
    "version": 3
   },
   "file_extension": ".py",
   "mimetype": "text/x-python",
   "name": "python",
   "nbconvert_exporter": "python",
   "pygments_lexer": "ipython3",
   "version": "3.8.8"
  }
 },
 "nbformat": 4,
 "nbformat_minor": 5
}
