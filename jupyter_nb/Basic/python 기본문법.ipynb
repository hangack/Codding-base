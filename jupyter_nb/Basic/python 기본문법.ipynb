{
 "cells": [
  {
   "cell_type": "markdown",
   "metadata": {},
   "source": []
  },
  {
   "cell_type": "markdown",
   "metadata": {},
   "source": [
    "## 파이썬의 자료형"
   ]
  },
  {
   "cell_type": "code",
   "execution_count": 1,
   "metadata": {},
   "outputs": [],
   "source": [
    "int_data = 3 #정수형 자료(integer data)"
   ]
  },
  {
   "cell_type": "markdown",
   "metadata": {},
   "source": [
    "### float = 실수"
   ]
  },
  {
   "cell_type": "code",
   "execution_count": 2,
   "metadata": {},
   "outputs": [],
   "source": [
    "float_data = 3.14 #실수형 자료(floating point data)"
   ]
  },
  {
   "cell_type": "code",
   "execution_count": 3,
   "metadata": {},
   "outputs": [],
   "source": [
    "float_data2 = 3"
   ]
  },
  {
   "cell_type": "code",
   "execution_count": 4,
   "metadata": {},
   "outputs": [],
   "source": [
    "float_data2 = 3."
   ]
  },
  {
   "cell_type": "markdown",
   "metadata": {},
   "source": [
    "### string = 문자형"
   ]
  },
  {
   "cell_type": "code",
   "execution_count": 5,
   "metadata": {},
   "outputs": [],
   "source": [
    "complex_data = 1+5j"
   ]
  },
  {
   "cell_type": "code",
   "execution_count": 6,
   "metadata": {},
   "outputs": [],
   "source": [
    "str_data1 ='hello world'"
   ]
  },
  {
   "cell_type": "markdown",
   "metadata": {},
   "source": [
    "### list [ ] 변경 가능 / tuple ( ) 변경 불가 / dict {}"
   ]
  },
  {
   "cell_type": "code",
   "execution_count": 7,
   "metadata": {},
   "outputs": [],
   "source": [
    "list_data = [1,2,3,4,5,6,7,8,9,10] #list data type"
   ]
  },
  {
   "cell_type": "code",
   "execution_count": 8,
   "metadata": {},
   "outputs": [],
   "source": [
    "tuple_data = (1,2,3,4,5,6,7,8,9,10) #tuple data type"
   ]
  },
  {
   "cell_type": "code",
   "execution_count": 9,
   "metadata": {},
   "outputs": [],
   "source": [
    "dict_data = {0:'toy',1:'book'} #dictionary data"
   ]
  },
  {
   "cell_type": "code",
   "execution_count": 10,
   "metadata": {},
   "outputs": [
    {
     "name": "stdout",
     "output_type": "stream",
     "text": [
      "Variable       Type       Data/Info\n",
      "-----------------------------------\n",
      "complex_data   complex    (1+5j)\n",
      "dict_data      dict       n=2\n",
      "float_data     float      3.14\n",
      "float_data2    float      3.0\n",
      "int_data       int        3\n",
      "list_data      list       n=10\n",
      "str_data1      str        hello world\n",
      "tuple_data     tuple      n=10\n"
     ]
    }
   ],
   "source": [
    "whos"
   ]
  },
  {
   "cell_type": "code",
   "execution_count": 11,
   "metadata": {},
   "outputs": [],
   "source": [
    "#정수형\n",
    "a=123\n",
    "a=-1123\n",
    "a=0\n",
    "#실수형\n",
    "a=1.2\n",
    "a=4.24E10   #4.12*10^10\n",
    "a=4.24e10   #4.12*10^10\n",
    "b=4.24e-10  #4.12*10^(-10)"
   ]
  },
  {
   "cell_type": "code",
   "execution_count": 12,
   "metadata": {},
   "outputs": [
    {
     "name": "stdout",
     "output_type": "stream",
     "text": [
      "Variable       Type       Data/Info\n",
      "-----------------------------------\n",
      "a              float      42400000000.0\n",
      "b              float      4.24e-10\n",
      "complex_data   complex    (1+5j)\n",
      "dict_data      dict       n=2\n",
      "float_data     float      3.14\n",
      "float_data2    float      3.0\n",
      "int_data       int        3\n",
      "list_data      list       n=10\n",
      "str_data1      str        hello world\n",
      "tuple_data     tuple      n=10\n"
     ]
    }
   ],
   "source": [
    "whos"
   ]
  },
  {
   "cell_type": "code",
   "execution_count": 13,
   "metadata": {},
   "outputs": [
    {
     "name": "stdout",
     "output_type": "stream",
     "text": [
      "Once deleted, variables cannot be recovered. Proceed (y/[n])? y\n"
     ]
    }
   ],
   "source": [
    "reset"
   ]
  },
  {
   "cell_type": "code",
   "execution_count": 14,
   "metadata": {},
   "outputs": [
    {
     "name": "stdout",
     "output_type": "stream",
     "text": [
      "Interactive namespace is empty.\n"
     ]
    }
   ],
   "source": [
    "whos"
   ]
  },
  {
   "cell_type": "code",
   "execution_count": 15,
   "metadata": {},
   "outputs": [
    {
     "name": "stdout",
     "output_type": "stream",
     "text": [
      "7\n",
      "1\n"
     ]
    }
   ],
   "source": [
    "a=3\n",
    "b=4\n",
    "print(a+b) #사칙연산 : +, -, *, /     \n",
    "print(7%3) # 제곱(^) : **    # 나머지 : %"
   ]
  },
  {
   "cell_type": "markdown",
   "metadata": {},
   "source": [
    "### 문자열"
   ]
  },
  {
   "cell_type": "code",
   "execution_count": 16,
   "metadata": {},
   "outputs": [],
   "source": [
    "a= \"hello 'my' world\"\n",
    "b= 'hello \"my\" world' #동일한 따음표가 내부에 있으면 오류가 발생한다."
   ]
  },
  {
   "cell_type": "code",
   "execution_count": 17,
   "metadata": {},
   "outputs": [
    {
     "name": "stdout",
     "output_type": "stream",
     "text": [
      "Variable   Type    Data/Info\n",
      "----------------------------\n",
      "a          str     hello 'my' world\n",
      "b          str     hello \"my\" world\n"
     ]
    }
   ],
   "source": [
    "whos"
   ]
  },
  {
   "cell_type": "code",
   "execution_count": 18,
   "metadata": {},
   "outputs": [
    {
     "name": "stdout",
     "output_type": "stream",
     "text": [
      "\n",
      "P\n",
      "\"\"\n",
      "'O'\n",
      "\"\"\n",
      "\n"
     ]
    }
   ],
   "source": [
    "a= \"\"\"\n",
    "P\n",
    "\"\"\n",
    "'O'\n",
    "\"\"\n",
    "\"\"\"\n",
    "print(a)"
   ]
  },
  {
   "cell_type": "code",
   "execution_count": 19,
   "metadata": {},
   "outputs": [
    {
     "name": "stdout",
     "output_type": "stream",
     "text": [
      "my_note\n"
     ]
    }
   ],
   "source": [
    "a=\"my\"\n",
    "b=\"note\"\n",
    "c=a+\"_\"+b\n",
    "print(c)"
   ]
  },
  {
   "cell_type": "code",
   "execution_count": 20,
   "metadata": {},
   "outputs": [
    {
     "name": "stdout",
     "output_type": "stream",
     "text": [
      "my_note/my_note/my_note/my_note/my_note/\n"
     ]
    }
   ],
   "source": [
    "print((c+\"/\")*5)"
   ]
  },
  {
   "cell_type": "code",
   "execution_count": 21,
   "metadata": {},
   "outputs": [
    {
     "name": "stdout",
     "output_type": "stream",
     "text": [
      "2\n"
     ]
    }
   ],
   "source": [
    "print(len(a)) # len = Lenth(길이)"
   ]
  },
  {
   "cell_type": "markdown",
   "metadata": {},
   "source": [
    "## 리스트(list)\n",
    "### 여러개의 자료를 하나의 변수에 담기 위한 자료형. 순서가 존재한다.\n",
    "##### c 언어 배열과 동일하게 첫번째 자료의 할당 번호는 '0'번이다.\n",
    "##### 반면 list의 자료형의 형태는 자유롭다. (실수 정수 문자형 동일한 리스트에서 사용 가능)"
   ]
  },
  {
   "cell_type": "code",
   "execution_count": 22,
   "metadata": {},
   "outputs": [],
   "source": [
    "a = [1,3,5,7,9]"
   ]
  },
  {
   "cell_type": "code",
   "execution_count": 23,
   "metadata": {},
   "outputs": [
    {
     "name": "stdout",
     "output_type": "stream",
     "text": [
      "[1, 3, 5, 7, 9]\n",
      "1 7\n"
     ]
    }
   ],
   "source": [
    "print(a)\n",
    "print(a[0],a[3]) #변수_이름[요소_번호]"
   ]
  },
  {
   "cell_type": "code",
   "execution_count": 24,
   "metadata": {},
   "outputs": [],
   "source": [
    "b= a[2]"
   ]
  },
  {
   "cell_type": "code",
   "execution_count": 25,
   "metadata": {},
   "outputs": [
    {
     "name": "stdout",
     "output_type": "stream",
     "text": [
      "Variable   Type    Data/Info\n",
      "----------------------------\n",
      "a          list    n=5\n",
      "b          int     5\n",
      "c          str     my_note\n"
     ]
    }
   ],
   "source": [
    "whos"
   ]
  },
  {
   "cell_type": "code",
   "execution_count": 26,
   "metadata": {},
   "outputs": [
    {
     "data": {
      "text/plain": [
       "[1, 3, 5, 7, 9]"
      ]
     },
     "execution_count": 26,
     "metadata": {},
     "output_type": "execute_result"
    }
   ],
   "source": [
    "a"
   ]
  },
  {
   "cell_type": "code",
   "execution_count": 27,
   "metadata": {},
   "outputs": [
    {
     "data": {
      "text/plain": [
       "[1, 3]"
      ]
     },
     "execution_count": 27,
     "metadata": {},
     "output_type": "execute_result"
    }
   ],
   "source": [
    "#리스트에서 자료를 뽑아내는 방식 1: 인덱싱  /  2: 슬라이싱\n",
    "a[0:2] #  #:#의 의미는 0 <= x < 2"
   ]
  },
  {
   "cell_type": "code",
   "execution_count": 28,
   "metadata": {},
   "outputs": [
    {
     "name": "stdout",
     "output_type": "stream",
     "text": [
      "[1, 3]\n"
     ]
    }
   ],
   "source": [
    "b=a[0:2]\n",
    "print(b)"
   ]
  },
  {
   "cell_type": "code",
   "execution_count": 29,
   "metadata": {},
   "outputs": [
    {
     "data": {
      "text/plain": [
       "[1, 3.5, 'n o t e', [1, 2, 3]]"
      ]
     },
     "execution_count": 29,
     "metadata": {},
     "output_type": "execute_result"
    }
   ],
   "source": [
    "a=[1, 3.5 , \"n o t e\", [1,2,3]]\n",
    "a"
   ]
  },
  {
   "cell_type": "code",
   "execution_count": 30,
   "metadata": {},
   "outputs": [
    {
     "name": "stdout",
     "output_type": "stream",
     "text": [
      "Variable   Type    Data/Info\n",
      "----------------------------\n",
      "a          list    n=4\n",
      "b          list    n=2\n",
      "c          str     my_note\n"
     ]
    }
   ],
   "source": [
    "whos"
   ]
  },
  {
   "cell_type": "code",
   "execution_count": 31,
   "metadata": {},
   "outputs": [
    {
     "name": "stdout",
     "output_type": "stream",
     "text": [
      "[1, 2, 3, 4, 5, 6]\n"
     ]
    }
   ],
   "source": [
    "# 덧셈\n",
    "a = [1,2,3]\n",
    "b = [4,5,6]\n",
    "print(a+b)"
   ]
  },
  {
   "cell_type": "code",
   "execution_count": 32,
   "metadata": {},
   "outputs": [
    {
     "name": "stdout",
     "output_type": "stream",
     "text": [
      "[1, 2, 3, 1, 2, 3, 1, 2, 3]\n"
     ]
    }
   ],
   "source": [
    "# 곱셈 (반복)\n",
    "print(a*3)"
   ]
  },
  {
   "cell_type": "code",
   "execution_count": 33,
   "metadata": {},
   "outputs": [
    {
     "data": {
      "text/plain": [
       "3"
      ]
     },
     "execution_count": 33,
     "metadata": {},
     "output_type": "execute_result"
    }
   ],
   "source": [
    "# 리스트 길이 구하기\n",
    "len(a)"
   ]
  },
  {
   "cell_type": "code",
   "execution_count": 34,
   "metadata": {},
   "outputs": [
    {
     "name": "stdout",
     "output_type": "stream",
     "text": [
      "[1, 2, 4]\n"
     ]
    }
   ],
   "source": [
    "# 리스트 요소 수정 <-> 튜플 (Tuple) : 수정될 수 없다.\n",
    "a = [1,2,3]\n",
    "a[2] = 4\n",
    "print(a)"
   ]
  },
  {
   "cell_type": "code",
   "execution_count": null,
   "metadata": {},
   "outputs": [],
   "source": []
  },
  {
   "cell_type": "code",
   "execution_count": 35,
   "metadata": {
    "scrolled": true
   },
   "outputs": [
    {
     "data": {
      "text/plain": [
       "'4hi'"
      ]
     },
     "execution_count": 35,
     "metadata": {},
     "output_type": "execute_result"
    }
   ],
   "source": [
    "## -->>  ### str(   ) 문자로 변경\n",
    "str(a[2])+\"hi\""
   ]
  },
  {
   "cell_type": "code",
   "execution_count": 36,
   "metadata": {},
   "outputs": [
    {
     "data": {
      "text/plain": [
       "3"
      ]
     },
     "execution_count": 36,
     "metadata": {},
     "output_type": "execute_result"
    }
   ],
   "source": [
    "int(3.6)"
   ]
  },
  {
   "cell_type": "code",
   "execution_count": 37,
   "metadata": {},
   "outputs": [
    {
     "name": "stdout",
     "output_type": "stream",
     "text": [
      "['apple', 'banana', 'cherry']\n",
      "apple\n",
      "a\n",
      "banana\n"
     ]
    }
   ],
   "source": [
    "# 리스트 내의 리스트\n",
    "a = [['apple','banana','cherry']]\n",
    "\n",
    "print(a[0])\n",
    "print(a[0][0])    # 0번 리스트 안의 0번 속성\n",
    "print(a[0][1][3]) # 0번 리스트 안의 1번 속성의 3번 word\n",
    "print(a[0][1])"
   ]
  },
  {
   "cell_type": "code",
   "execution_count": 38,
   "metadata": {},
   "outputs": [
    {
     "name": "stdout",
     "output_type": "stream",
     "text": [
      "[1, 2]\n",
      "[1, 2, 4, 5]\n"
     ]
    }
   ],
   "source": [
    "# 리스트 요소 삭제 1\n",
    "a = [1,2,3,4,5]\n",
    "del a[2:]  ##슬라이싱에서 끝 값을 비웠을 경우 리스트의 끝 값까지 선택된다.\n",
    "print(a)\n",
    "\n",
    "# 리스트 요소 삭제 2\n",
    "a = [1,2,4,3,5]\n",
    "a.remove(3)  ## '.' 이후 Tab 키를 누르면 해당 변수에 사용 할 수 있는 명령어 list를 알려준다.\n",
    "print(a)"
   ]
  },
  {
   "cell_type": "markdown",
   "metadata": {},
   "source": [
    "### a=[1,2,3,4,5] 라고 쓰면, a 변수는 번지수(이름표) / 실제 a 번지에 들어가 있는 내용물 : 객체(Object)"
   ]
  },
  {
   "cell_type": "markdown",
   "metadata": {},
   "source": [
    "#### 리스트 명령어\n",
    "URL: [List method](https://docs.python.org/ko/3/tutorial/datastructures.html)"
   ]
  },
  {
   "cell_type": "code",
   "execution_count": 39,
   "metadata": {},
   "outputs": [
    {
     "name": "stdout",
     "output_type": "stream",
     "text": [
      "[1, 2, 3, 4]\n",
      "[4, 1, 2, 3]\n"
     ]
    }
   ],
   "source": [
    "# 리스트 요소 추가 1 (append)\n",
    "a =[1,2,3]\n",
    "a.append(4)\n",
    "print(a)\n",
    "\n",
    "# 리스트 요소 추가 2 (insert)\n",
    "a =[1,2,3]\n",
    "a.insert(0,4)  ## insert(A,B) A번 항목에 B 삽입\n",
    "print(a)"
   ]
  },
  {
   "cell_type": "code",
   "execution_count": 40,
   "metadata": {},
   "outputs": [
    {
     "name": "stdout",
     "output_type": "stream",
     "text": [
      "[1, 2, 3, 4]\n",
      "['a', 'b', 'c']\n"
     ]
    }
   ],
   "source": [
    "# 리스트 오름차순 정렬 (sort)\n",
    "a=[1,4,3,2]\n",
    "a.sort()\n",
    "print(a)\n",
    "\n",
    "a=['a','c','b']\n",
    "a.sort()\n",
    "print(a)"
   ]
  },
  {
   "cell_type": "code",
   "execution_count": 41,
   "metadata": {},
   "outputs": [
    {
     "name": "stdout",
     "output_type": "stream",
     "text": [
      "['b', 'c', 'a']\n"
     ]
    }
   ],
   "source": [
    "# 리스트 뒤집기 (reverse)\n",
    "a=['a','c','b']\n",
    "a.reverse()\n",
    "print(a)"
   ]
  },
  {
   "cell_type": "code",
   "execution_count": 42,
   "metadata": {},
   "outputs": [
    {
     "name": "stdout",
     "output_type": "stream",
     "text": [
      "2\n"
     ]
    },
    {
     "data": {
      "text/plain": [
       "3"
      ]
     },
     "execution_count": 42,
     "metadata": {},
     "output_type": "execute_result"
    }
   ],
   "source": [
    "# 해당자료는 리스트에서 몇번째 자료인가? (index)\n",
    "a=[1,2,3]\n",
    "print(a.index(3))\n",
    "z=[1,2,3,'haha']\n",
    "(z.index('haha'))"
   ]
  },
  {
   "cell_type": "code",
   "execution_count": 43,
   "metadata": {},
   "outputs": [
    {
     "name": "stdout",
     "output_type": "stream",
     "text": [
      "[1, 2, 3]\n",
      "3\n",
      "[1, 2]\n"
     ]
    }
   ],
   "source": [
    "# 리스트에서 끄집어내자: 팝: (pop) --- 구조적으로 변화시킨다\n",
    "a=[1,2,3,4]\n",
    "a.pop()\n",
    "print(a)\n",
    "print(a.pop())\n",
    "print(a)"
   ]
  },
  {
   "cell_type": "code",
   "execution_count": 44,
   "metadata": {},
   "outputs": [
    {
     "data": {
      "text/plain": [
       "3"
      ]
     },
     "execution_count": 44,
     "metadata": {},
     "output_type": "execute_result"
    }
   ],
   "source": [
    "a=[1,2,3,4]\n",
    "a.pop(2)"
   ]
  },
  {
   "cell_type": "code",
   "execution_count": 45,
   "metadata": {},
   "outputs": [
    {
     "data": {
      "text/plain": [
       "2"
      ]
     },
     "execution_count": 45,
     "metadata": {},
     "output_type": "execute_result"
    }
   ],
   "source": [
    "# 지정된 값이 몇개인지 (count)\n",
    "a=[1,2,3,1]\n",
    "a.count(1)"
   ]
  },
  {
   "cell_type": "code",
   "execution_count": 46,
   "metadata": {},
   "outputs": [
    {
     "name": "stdout",
     "output_type": "stream",
     "text": [
      "[1, 2, 3, 4, 5, 3]\n"
     ]
    }
   ],
   "source": [
    "# 확장 (extend)\n",
    "a=[1,2,3]\n",
    "a.extend([4,5,3])\n",
    "print(a)"
   ]
  },
  {
   "cell_type": "markdown",
   "metadata": {},
   "source": [
    "## 튜플(tuple)\n",
    "#### 튜플은 리스트와 달리 수정이 불가능하다.\n",
    "#### 리스트는 []로 둘러싸지만 튜플은 ()로 둘러싼다.\n",
    "#### 리스트는 값의 생성, 삭제, 수정이 가능하지만 튜플은 불가능하다.\n",
    "#### 프로그램이 실행되는 동안 그 값이 항상 변하지 않기를 바를 때 사용한다."
   ]
  },
  {
   "cell_type": "code",
   "execution_count": 47,
   "metadata": {},
   "outputs": [],
   "source": [
    "reset -f"
   ]
  },
  {
   "cell_type": "code",
   "execution_count": 48,
   "metadata": {},
   "outputs": [],
   "source": [
    "t1 = ()\n",
    "t2 = (1,) # 요소가 1개일 경우 반드시 콤마(,)를 넣어야한다.\n",
    "t3 = (1,2,3)\n",
    "t4 = 1,2,3 # 괄호 생략 가능\n",
    "t5 = ('a','b',('ab','cd')) # 튜플 내부에 튜플 삽입 가능. 단, 리스트는 변경 가능 변수이므로 삽입할 수 없다."
   ]
  },
  {
   "cell_type": "code",
   "execution_count": 49,
   "metadata": {},
   "outputs": [
    {
     "name": "stdout",
     "output_type": "stream",
     "text": [
      "Variable   Type     Data/Info\n",
      "-----------------------------\n",
      "t1         tuple    n=0\n",
      "t2         tuple    n=1\n",
      "t3         tuple    n=3\n",
      "t4         tuple    n=3\n",
      "t5         tuple    n=3\n"
     ]
    }
   ],
   "source": [
    "whos"
   ]
  },
  {
   "cell_type": "code",
   "execution_count": 50,
   "metadata": {},
   "outputs": [
    {
     "name": "stdout",
     "output_type": "stream",
     "text": [
      "1\n",
      "b\n",
      "(2, 'a', 'b')\n",
      "(1, 2, 'a', 'b', 3, 4)\n",
      "(3, 4, 3, 4, 3, 4)\n"
     ]
    }
   ],
   "source": [
    "# 인덱싱\n",
    "t1 =(1,2,'a','b')\n",
    "print(t1[0])\n",
    "print(t1[3])\n",
    "# 슬라이싱\n",
    "print(t1[1:])\n",
    "# 덧셈\n",
    "t2 =(3,4)\n",
    "print(t1+t2)\n",
    "# 곱셈\n",
    "print(t2*3)"
   ]
  },
  {
   "cell_type": "markdown",
   "metadata": {},
   "source": [
    "## 딕셔너리 (Dictionary)\n",
    "#### '이름'='홍길동, '생일'='n월n일'과 같이 대응 관계를 나타낼 수 있는 자료형 (연관배열, 해시)\n",
    "#### {key1:Value1, key2:Value2, key3:Value3} --> {} 로 둘러싸여 있고, 쉼표로 구분\n",
    "#### 열쇠(key)가 있어야 값(value)을 얻는다."
   ]
  },
  {
   "cell_type": "code",
   "execution_count": 51,
   "metadata": {},
   "outputs": [],
   "source": [
    "reset -f"
   ]
  },
  {
   "cell_type": "code",
   "execution_count": 52,
   "metadata": {},
   "outputs": [],
   "source": [
    "dict = {'name':'pei','birth':'1118'}"
   ]
  },
  {
   "cell_type": "code",
   "execution_count": 53,
   "metadata": {},
   "outputs": [
    {
     "name": "stdout",
     "output_type": "stream",
     "text": [
      "Variable   Type    Data/Info\n",
      "----------------------------\n",
      "dict       dict    n=2\n"
     ]
    }
   ],
   "source": [
    "whos"
   ]
  },
  {
   "cell_type": "code",
   "execution_count": 54,
   "metadata": {},
   "outputs": [],
   "source": [
    "a = {'a':[1,2,3]} # Value에 리스트도 넣을 수 있다."
   ]
  },
  {
   "cell_type": "code",
   "execution_count": 55,
   "metadata": {},
   "outputs": [
    {
     "name": "stdout",
     "output_type": "stream",
     "text": [
      "{1: 'a'}\n",
      "{1: 'a', 2: 'b'}\n",
      "{1: 'a', 2: 'b', 3: [1, 2, 3]}\n",
      "{1: 'a', 2: 'b', 3: [1, 2, 3], 'name': 'pay'}\n"
     ]
    }
   ],
   "source": [
    "# 딕셔너리 추가\n",
    "a = {1:'a'}\n",
    "print(a)\n",
    "\n",
    "a[2] = 'b' # a[ 2 ]에서 2는 몇번째 요소의 의미가 아니라 key 값을 의미한다.\n",
    "print(a)\n",
    "\n",
    "a[3] = [1,2,3]\n",
    "print(a)\n",
    "\n",
    "a['name'] = 'pay'\n",
    "print(a)"
   ]
  },
  {
   "cell_type": "code",
   "execution_count": 56,
   "metadata": {},
   "outputs": [
    {
     "name": "stdout",
     "output_type": "stream",
     "text": [
      "{1: 'a', 2: 'b', 3: [1, 2, 3]}\n"
     ]
    }
   ],
   "source": [
    "# 삭제 del\n",
    "del a['name']\n",
    "print(a)"
   ]
  },
  {
   "cell_type": "code",
   "execution_count": 57,
   "metadata": {},
   "outputs": [
    {
     "name": "stdout",
     "output_type": "stream",
     "text": [
      "{1: 'b'}\n"
     ]
    }
   ],
   "source": [
    "# 딕셔너리 주의사항 : key 값이 중복될 경우 기존 값을 대체한다.\n",
    "a={1:'a',1:'b'}\n",
    "print(a)"
   ]
  },
  {
   "cell_type": "code",
   "execution_count": 58,
   "metadata": {},
   "outputs": [
    {
     "name": "stdout",
     "output_type": "stream",
     "text": [
      "dict_keys(['name', 'phone', 'birth'])\n",
      "['name', 'phone', 'birth']\n"
     ]
    }
   ],
   "source": [
    "# 딕셔너리 관련 함수\n",
    "\n",
    "# key 리스트 생성\n",
    "a = {'name':'pey','phone':'01012345678','birth':'1118'}\n",
    "print(a.keys()) #딕셔너리의 key 만을 모아 딕셔너리(dict_keys)로 만듦\n",
    "print(list(a.keys()))"
   ]
  },
  {
   "cell_type": "code",
   "execution_count": 59,
   "metadata": {},
   "outputs": [
    {
     "name": "stdout",
     "output_type": "stream",
     "text": [
      "dict_values(['pey', '01012345678', '1118'])\n",
      "dict_items([('name', 'pey'), ('phone', '01012345678'), ('birth', '1118')])\n",
      "None\n"
     ]
    }
   ],
   "source": [
    "# Value 리스트 만들기 (values)\n",
    "print(a.values())\n",
    "# key, value 쌍 얻기 (items)\n",
    "print(a.items())\n",
    "# key, value 쌍 모두 지우기 (clear)\n",
    "print(a.clear())"
   ]
  },
  {
   "cell_type": "code",
   "execution_count": 60,
   "metadata": {},
   "outputs": [
    {
     "name": "stdout",
     "output_type": "stream",
     "text": [
      "pey\n"
     ]
    },
    {
     "data": {
      "text/plain": [
       "'pey'"
      ]
     },
     "execution_count": 60,
     "metadata": {},
     "output_type": "execute_result"
    }
   ],
   "source": [
    "# key로 value 얻기 (get)\n",
    "a = {'name':'pey','phone':'01012345678','birth':'1118'}\n",
    "print(a.get('name'))\n",
    "a['name'] ## get 대체로 index를 이용 가능"
   ]
  },
  {
   "cell_type": "markdown",
   "metadata": {},
   "source": [
    "## 불 자료형 (bool)\n",
    "#### 참(Ture), 거짓(False) 2가지 값만 가진다."
   ]
  },
  {
   "cell_type": "code",
   "execution_count": 61,
   "metadata": {},
   "outputs": [],
   "source": [
    "# 따옴표로 감싸지 않아도 변수 지정이 된다.\n",
    "a = True #참\n",
    "b = False #거짓"
   ]
  },
  {
   "cell_type": "code",
   "execution_count": 62,
   "metadata": {},
   "outputs": [
    {
     "data": {
      "text/plain": [
       "bool"
      ]
     },
     "execution_count": 62,
     "metadata": {},
     "output_type": "execute_result"
    }
   ],
   "source": [
    "type(a)"
   ]
  },
  {
   "cell_type": "code",
   "execution_count": 63,
   "metadata": {},
   "outputs": [
    {
     "data": {
      "text/plain": [
       "bool"
      ]
     },
     "execution_count": 63,
     "metadata": {},
     "output_type": "execute_result"
    }
   ],
   "source": [
    "type(b)"
   ]
  },
  {
   "cell_type": "code",
   "execution_count": 64,
   "metadata": {},
   "outputs": [
    {
     "name": "stdout",
     "output_type": "stream",
     "text": [
      "True\n"
     ]
    }
   ],
   "source": [
    "a = 1 == 1  # '=' : 할당 , '==' : equal , '!=' : 같지 않다.\n",
    "print(a)"
   ]
  },
  {
   "cell_type": "markdown",
   "metadata": {},
   "source": [
    "### 자료형의 참과 거짓\n",
    "#### 문자형이나 리스트, 튜플 등은 비어 있으면 거짓(False)가 되고, 비어 있지 않으면 참(True)이 된다. 숫자에서는 그 값이 0이 될 때 거짓이 된다.\n",
    "\n",
    "#### [문자열] \n",
    "    \"python\" = Ture\n",
    "    \"\" = False\n",
    "#### [리스트]\n",
    "    [1,2,3] = Ture\n",
    "    [] = False\n",
    "\n",
    "#### [튜플]\n",
    "    (1,2,3) = Ture \n",
    "    () = False\n",
    "\n",
    "#### [딕셔너리] \n",
    "    {1,2,3} = Ture \n",
    "    {} = False\n",
    "\n",
    "#### [숫자형] \n",
    "    0이 아닌 수 = Ture \n",
    "    0 = False\n"
   ]
  },
  {
   "cell_type": "code",
   "execution_count": 65,
   "metadata": {
    "scrolled": true
   },
   "outputs": [
    {
     "name": "stdout",
     "output_type": "stream",
     "text": [
      "4\n",
      "3\n",
      "2\n",
      "1\n"
     ]
    }
   ],
   "source": [
    "# bool 자료형 활용 예시\n",
    "# while 조건문:\n",
    "#  수행할 문장\n",
    "\n",
    "a=[1,2,3,4]\n",
    "while a:                  # a가 참이 동안\n",
    "    print(a.pop())              # 리스트 마지막 요소를 하나씩 꺼낸다"
   ]
  },
  {
   "cell_type": "code",
   "execution_count": 66,
   "metadata": {},
   "outputs": [
    {
     "name": "stdout",
     "output_type": "stream",
     "text": [
      "False\n",
      "Ture\n"
     ]
    }
   ],
   "source": [
    "# 예시 2\n",
    "\n",
    "if []:                  #만약 [ ] 가 참이면,\n",
    "    print(\"Ture\")             # '참' 문자열 출력\n",
    "else:                   # 만약 [ ] 가 거짓이면,\n",
    "    print(\"False\")            # '거짓' 문자열 출력\n",
    "    \n",
    "if [1,2,3]:      \n",
    "    print(\"Ture\") \n",
    "else:                \n",
    "    print(\"False\")  "
   ]
  },
  {
   "cell_type": "markdown",
   "metadata": {},
   "source": [
    "## 변수(Variable), 객체(Object), 자료(Data), 자료형(Data type)\n",
    "    자료는 우리가 컴퓨터 메모리에 입력할 컴퓨터 외부에 존재하는 수, 문자 등을 의미\n",
    "    자료를 컴퓨터에 입력하기 위해서 일정한 규칙이 필요하고 그 규칙은 자료형으로 규정된다.\n",
    "    컴퓨터 외부에 존재하는 자료를 컴퓨터 머리에 입력하는 독특한 방식은 '=' 기호를 쓰고 주로 '변수 = 자료' 형태를 취한다\n",
    "    일단 컴퓨터 메모리에 자료를 입력하면 그 자료는 '자료'라 부르지 않고 파이썬에선 '객체(Object)'라 칭한다.\n",
    "    변수란 컴퓨터 메모리 어딘가에 존재하는 객체가 어디에 있는지를 알려주는 주소 개념이다.\n",
    "    타 프로그래밍 언어인 C나 Java에선 자료형(Data type)이 무엇인지 친절히 알려줘야한다.\n",
    "    반면, 파이썬은 자료를 스스로 살펴보고 자료형이 무엇인지 판단한다. 따라사 그 과정이 필요 없다.\n",
    "    변수를 만들 때는 반드시 '='(assignment) 기호를 사용한다.\n",
    "    예 : a = [1,2,3] 이면, [1,2,3] 값을 가지는 리스트 자료형(객체)은 메모리에 자동생성되고 변수 a는 리스트가 저장된 메모리 주소를 가리킨다."
   ]
  },
  {
   "cell_type": "code",
   "execution_count": 67,
   "metadata": {},
   "outputs": [
    {
     "data": {
      "text/plain": [
       "2456107858688"
      ]
     },
     "execution_count": 67,
     "metadata": {},
     "output_type": "execute_result"
    }
   ],
   "source": [
    "a = [1,2,3]\n",
    "id(a)            # id() : 변수가 가리키고 있는 객체의 주고 값을 돌려주는 함수"
   ]
  },
  {
   "cell_type": "code",
   "execution_count": 68,
   "metadata": {},
   "outputs": [
    {
     "name": "stdout",
     "output_type": "stream",
     "text": [
      "1\n",
      "2\n"
     ]
    }
   ],
   "source": [
    "# 여러 변수 한번에 만들기\n",
    "a, b  = 1, 2\n",
    "print(a)\n",
    "print(b)"
   ]
  },
  {
   "cell_type": "code",
   "execution_count": 69,
   "metadata": {},
   "outputs": [
    {
     "name": "stdout",
     "output_type": "stream",
     "text": [
      "None\n"
     ]
    },
    {
     "data": {
      "text/plain": [
       "NoneType"
      ]
     },
     "execution_count": 69,
     "metadata": {},
     "output_type": "execute_result"
    }
   ],
   "source": [
    "# null 변수 만들기\n",
    "a = None\n",
    "print(a)\n",
    "type(a)"
   ]
  },
  {
   "cell_type": "code",
   "execution_count": 70,
   "metadata": {},
   "outputs": [
    {
     "name": "stdout",
     "output_type": "stream",
     "text": [
      "None\n",
      "None\n",
      "140715255699584\n",
      "140715255699584\n"
     ]
    }
   ],
   "source": [
    "# 변수에 변수를 할당할 경우\n",
    "b = a              ## 주소값 공유\n",
    "print(a)\n",
    "print(b)\n",
    "print(id(a))\n",
    "print(id(b))"
   ]
  },
  {
   "cell_type": "code",
   "execution_count": 71,
   "metadata": {},
   "outputs": [
    {
     "data": {
      "text/plain": [
       "True"
      ]
     },
     "execution_count": 71,
     "metadata": {},
     "output_type": "execute_result"
    }
   ],
   "source": [
    "# a와 b가 가리키는 객체가 동일한지 묻는 방법 (is)\n",
    "a is b"
   ]
  },
  {
   "cell_type": "code",
   "execution_count": 72,
   "metadata": {},
   "outputs": [
    {
     "ename": "TypeError",
     "evalue": "'NoneType' object does not support item assignment",
     "output_type": "error",
     "traceback": [
      "\u001b[1;31m---------------------------------------------------------------------------\u001b[0m",
      "\u001b[1;31mTypeError\u001b[0m                                 Traceback (most recent call last)",
      "\u001b[1;32m<ipython-input-72-a5aa4d30ec01>\u001b[0m in \u001b[0;36m<module>\u001b[1;34m\u001b[0m\n\u001b[0;32m      1\u001b[0m \u001b[1;31m# * 주의 *\u001b[0m\u001b[1;33m\u001b[0m\u001b[1;33m\u001b[0m\u001b[1;33m\u001b[0m\u001b[0m\n\u001b[1;32m----> 2\u001b[1;33m \u001b[0ma\u001b[0m\u001b[1;33m[\u001b[0m\u001b[1;36m1\u001b[0m\u001b[1;33m]\u001b[0m \u001b[1;33m=\u001b[0m \u001b[1;36m4\u001b[0m\u001b[1;33m\u001b[0m\u001b[1;33m\u001b[0m\u001b[0m\n\u001b[0m\u001b[0;32m      3\u001b[0m \u001b[0mprint\u001b[0m\u001b[1;33m(\u001b[0m\u001b[0ma\u001b[0m\u001b[1;33m)\u001b[0m\u001b[1;33m\u001b[0m\u001b[1;33m\u001b[0m\u001b[0m\n\u001b[0;32m      4\u001b[0m \u001b[0mprint\u001b[0m\u001b[1;33m(\u001b[0m\u001b[0mb\u001b[0m\u001b[1;33m)\u001b[0m\u001b[1;33m\u001b[0m\u001b[1;33m\u001b[0m\u001b[0m\n\u001b[0;32m      5\u001b[0m \u001b[1;31m## 주소값 공유란, 자료를 복사하는 것이 아니라 메모리 주소를 서로 공유한다는 것.\u001b[0m\u001b[1;33m\u001b[0m\u001b[1;33m\u001b[0m\u001b[1;33m\u001b[0m\u001b[0m\n",
      "\u001b[1;31mTypeError\u001b[0m: 'NoneType' object does not support item assignment"
     ]
    }
   ],
   "source": [
    "# * 주의 *\n",
    "a[1] = 4\n",
    "print(a)\n",
    "print(b)\n",
    "## 주소값 공유란, 자료를 복사하는 것이 아니라 메모리 주소를 서로 공유한다는 것."
   ]
  },
  {
   "cell_type": "code",
   "execution_count": 73,
   "metadata": {},
   "outputs": [
    {
     "name": "stdout",
     "output_type": "stream",
     "text": [
      "[1, 4, 3]\n",
      "[1, 2, 3]\n"
     ]
    },
    {
     "data": {
      "text/plain": [
       "False"
      ]
     },
     "execution_count": 73,
     "metadata": {},
     "output_type": "execute_result"
    }
   ],
   "source": [
    "# [:] 사용\n",
    "\n",
    "a = [1,2,3]\n",
    "b = a[:]\n",
    "a[1] = 4\n",
    "print(a)\n",
    "print(b)\n",
    "## [:]는 리스트 전체를 가리키는 방법이기에 자료를 복사하는 경우다.\n",
    "a is b"
   ]
  },
  {
   "cell_type": "code",
   "execution_count": 74,
   "metadata": {},
   "outputs": [
    {
     "name": "stdout",
     "output_type": "stream",
     "text": [
      "1\n"
     ]
    }
   ],
   "source": [
    "#1 자연수 a 홀수 짝수 판별\n",
    "a = 13\n",
    "b = a%2\n",
    "print(b)       # print 값이 0일 경우 짝수, 1일 경우 홀수"
   ]
  },
  {
   "cell_type": "code",
   "execution_count": 75,
   "metadata": {},
   "outputs": [
    {
     "name": "stdout",
     "output_type": "stream",
     "text": [
      "010101 - 1234567\n"
     ]
    }
   ],
   "source": [
    "#2 주민등록번호 13자리를 생년월일(YYMMDD)과 그 외 숫자로 분류\n",
    "a = \"0101011234567\"\n",
    "print(a[:6],\"-\",a[6:])    ## a[:6] : 0 =< print < 6  , a[6:] : 6 =< print "
   ]
  },
  {
   "cell_type": "code",
   "execution_count": 76,
   "metadata": {},
   "outputs": [
    {
     "name": "stdout",
     "output_type": "stream",
     "text": [
      "[5, 4, 3, 2, 1]\n"
     ]
    }
   ],
   "source": [
    "#3 [1,3,5,4,2] 리스트를 [5,4,3,2,1]로 변경 ## 오름차순 내림차순\n",
    "a = [1,3,5,4,2]\n",
    "a.sort()\n",
    "a.reverse()\n",
    "print(a)"
   ]
  },
  {
   "cell_type": "markdown",
   "metadata": {},
   "source": [
    "## 제어문\n",
    "    파이썬 프로그래밍의 첫번째 단계 : 변수(variable)를 선언해서 객체(object)를 메모리에 담는 것\n",
    "    파이썬 프로그래밍의 두번째 단계 : 객체로 뭔가 컴퓨터가 일을 하게 만든다.\n",
    "    컴퓨터가 할 수 있는 일은 크게 나누어 판단과 반복 밖에 없음을 기억한다.\n",
    "    1) 판단 : 컴퓨터가 객체들을 비교하여 판단하게 만들기 : if 문\n",
    "    2) 반복 : 사람보다 수만배 빠른 두뇌회전 속도를 이용하여 반복계산 시키기 : for 문\n",
    "    3) 판단 + 반복 : 두 과정을 결합하여 조건이 맞는 동안만 반복하기 : while 문"
   ]
  },
  {
   "cell_type": "markdown",
   "metadata": {},
   "source": [
    "# if 문"
   ]
  },
  {
   "cell_type": "code",
   "execution_count": 77,
   "metadata": {},
   "outputs": [
    {
     "name": "stdout",
     "output_type": "stream",
     "text": [
      "택시를 타고 가라\n"
     ]
    }
   ],
   "source": [
    "# ex1\n",
    "money = True          ## 불(bool) 타입: True or False ; 판단에 쓰이는 자료이기에 매우 중요하다.\n",
    "if money:                             ## if 다음 불(bool)이 나온다.\n",
    "    print(\"택시를 타고 가라\")         ## 실행문에는 반드시 들여쓰기를 해줘야 한다.\n",
    "else:\n",
    "    print(\"걸어 가라\")                ## **동일한 수행 동작은 줄을 맞춰야한다.**     ## Tab 이용"
   ]
  },
  {
   "cell_type": "markdown",
   "metadata": {},
   "source": [
    "        money에 True를 입력했으므로 money는 참이다. 따라서 if문 다음 문장이 수행되어 '택시를 타고 가라'가 출력된다."
   ]
  },
  {
   "cell_type": "code",
   "execution_count": 78,
   "metadata": {},
   "outputs": [
    {
     "data": {
      "text/plain": [
       "'\\n\\nif 조건문:\\n    수행할 문장1    ## 조건문 = ture 일 경우 수행 문장\\n    수행할 문장2\\n    ...\\nelse:\\n    수행할 문장A    ## 조건문 = false 일 경우 수행 문장\\n    수행할 문장B\\n    ...\\n'"
      ]
     },
     "execution_count": 78,
     "metadata": {},
     "output_type": "execute_result"
    }
   ],
   "source": [
    "# if 문 기본구조\n",
    "'''\n",
    "\n",
    "if 조건문:\n",
    "    수행할 문장1    ## 조건문 = ture 일 경우 수행 문장\n",
    "    수행할 문장2\n",
    "    ...\n",
    "else:\n",
    "    수행할 문장A    ## 조건문 = false 일 경우 수행 문장\n",
    "    수행할 문장B\n",
    "    ...\n",
    "'''\n"
   ]
  },
  {
   "cell_type": "markdown",
   "metadata": {},
   "source": [
    "## 비교 연산자\n",
    "\n",
    "        <   작다\n",
    "        >   크다\n",
    "        ==  같다\n",
    "        !=  같지 않다\n",
    "        >=  크거나 같다\n",
    "        <=  작거나 같다\n",
    "비교 연산 결과는 반드시 bool(참 or 거짓)이 되야한다.\n",
    "        \n",
    "        x or y     둘 중 하나만 참이면 된다.\n",
    "        x and y    둘 모두 참일 경우\n",
    "        not x      x가 거짓이면 참이다"
   ]
  },
  {
   "cell_type": "code",
   "execution_count": 79,
   "metadata": {},
   "outputs": [
    {
     "data": {
      "text/plain": [
       "False"
      ]
     },
     "execution_count": 79,
     "metadata": {},
     "output_type": "execute_result"
    }
   ],
   "source": [
    "# ex\n",
    "1>3 and 2<4  ## false and ture"
   ]
  },
  {
   "cell_type": "code",
   "execution_count": 80,
   "metadata": {},
   "outputs": [
    {
     "data": {
      "text/plain": [
       "True"
      ]
     },
     "execution_count": 80,
     "metadata": {},
     "output_type": "execute_result"
    }
   ],
   "source": [
    "True and False or True or False and True   ## 연산은 왼쪽부터 수행한다."
   ]
  },
  {
   "cell_type": "code",
   "execution_count": 81,
   "metadata": {},
   "outputs": [
    {
     "data": {
      "text/plain": [
       "True"
      ]
     },
     "execution_count": 81,
     "metadata": {},
     "output_type": "execute_result"
    }
   ],
   "source": [
    "not False"
   ]
  },
  {
   "cell_type": "code",
   "execution_count": 82,
   "metadata": {},
   "outputs": [
    {
     "data": {
      "text/plain": [
       "True"
      ]
     },
     "execution_count": 82,
     "metadata": {},
     "output_type": "execute_result"
    }
   ],
   "source": [
    "not False or not True"
   ]
  },
  {
   "cell_type": "code",
   "execution_count": 83,
   "metadata": {},
   "outputs": [
    {
     "data": {
      "text/plain": [
       "1"
      ]
     },
     "execution_count": 83,
     "metadata": {},
     "output_type": "execute_result"
    }
   ],
   "source": [
    "1 or 0 or -1       ## 0 : 거짓(0) , 0 이외 : 참(1 혹은 다른 수)"
   ]
  },
  {
   "cell_type": "code",
   "execution_count": 84,
   "metadata": {},
   "outputs": [
    {
     "data": {
      "text/plain": [
       "True"
      ]
     },
     "execution_count": 84,
     "metadata": {},
     "output_type": "execute_result"
    }
   ],
   "source": [
    "bool(5)         ## bool 값으로 변경"
   ]
  },
  {
   "cell_type": "markdown",
   "metadata": {},
   "source": [
    "### x in s , x not in s\n",
    "\n",
    "    x in list,튜플,문자열 / x not in list,튜플,문자열\n",
    "    \n",
    "    : list,튜플,문자열 안에 x가 있는가?"
   ]
  },
  {
   "cell_type": "code",
   "execution_count": 85,
   "metadata": {},
   "outputs": [
    {
     "data": {
      "text/plain": [
       "True"
      ]
     },
     "execution_count": 85,
     "metadata": {},
     "output_type": "execute_result"
    }
   ],
   "source": [
    "1 in [1,2,3]      ## 존재하면 ture 하지 않으면 false"
   ]
  },
  {
   "cell_type": "code",
   "execution_count": 86,
   "metadata": {},
   "outputs": [
    {
     "data": {
      "text/plain": [
       "False"
      ]
     },
     "execution_count": 86,
     "metadata": {},
     "output_type": "execute_result"
    }
   ],
   "source": [
    "'a' not in ['a','b']"
   ]
  },
  {
   "cell_type": "code",
   "execution_count": 87,
   "metadata": {},
   "outputs": [
    {
     "data": {
      "text/plain": [
       "True"
      ]
     },
     "execution_count": 87,
     "metadata": {},
     "output_type": "execute_result"
    }
   ],
   "source": [
    "'t' in 'pythone'    ## 문자열 같은 경우 해당 문자가 존재하는가로 결정"
   ]
  },
  {
   "cell_type": "code",
   "execution_count": 88,
   "metadata": {},
   "outputs": [
    {
     "name": "stdout",
     "output_type": "stream",
     "text": [
      "택시\n"
     ]
    }
   ],
   "source": [
    "pocket = ['phone','money','card']\n",
    "\n",
    "if ('money' in pocket) or ('card' in pocket):        ## 괄호 설정으로 확실히하기\n",
    "    print(\"택시\")\n",
    "else:\n",
    "    print(\"보도\")"
   ]
  },
  {
   "cell_type": "code",
   "execution_count": 89,
   "metadata": {},
   "outputs": [
    {
     "name": "stdout",
     "output_type": "stream",
     "text": [
      "택시\n"
     ]
    }
   ],
   "source": [
    "pocket = ['phone','money','card']\n",
    "\n",
    "if not ('money' in pocket) or not ('card' in pocket):\n",
    "    print(\"보도\")\n",
    "else:\n",
    "    print(\"택시\")"
   ]
  },
  {
   "cell_type": "code",
   "execution_count": 90,
   "metadata": {},
   "outputs": [
    {
     "name": "stdout",
     "output_type": "stream",
     "text": [
      "택시 by card\n"
     ]
    }
   ],
   "source": [
    "# elif (else if)   elif 문 사용 수에 제한은 없다.\n",
    "\n",
    "pocket = ['phone','card']\n",
    "\n",
    "if 'money' in pocket: print(\"택시 by money\")    ## 수행문이 1줄일 경우 줄이기 가능\n",
    "elif 'card' in pocket: print(\"택시 by card\")\n",
    "else: print(\"보도\")"
   ]
  },
  {
   "cell_type": "markdown",
   "metadata": {},
   "source": [
    "## FOR 문 (반복문)"
   ]
  },
  {
   "cell_type": "code",
   "execution_count": 91,
   "metadata": {},
   "outputs": [
    {
     "name": "stdout",
     "output_type": "stream",
     "text": [
      "one\n",
      "two\n",
      "three\n"
     ]
    }
   ],
   "source": [
    "# for\n",
    "\n",
    "test_list = ['one','two','three']\n",
    "\n",
    "for i in test_list:\n",
    "    print(i)"
   ]
  },
  {
   "cell_type": "code",
   "execution_count": 92,
   "metadata": {},
   "outputs": [
    {
     "name": "stdout",
     "output_type": "stream",
     "text": [
      "1 <class 'int'>\n",
      "2 <class 'str'>\n",
      "3 <class 'int'>\n"
     ]
    }
   ],
   "source": [
    "x = [1,'2',3]\n",
    "for i in x:\n",
    "    print(i,type(i))"
   ]
  },
  {
   "cell_type": "code",
   "execution_count": 93,
   "metadata": {},
   "outputs": [
    {
     "name": "stdout",
     "output_type": "stream",
     "text": [
      "1 2\n",
      "3 4\n",
      "5 6\n"
     ]
    }
   ],
   "source": [
    "a = [(1,2),(3,4),(5,6)]\n",
    "\n",
    "for (first, last) in a:\n",
    "    print(first,last)"
   ]
  },
  {
   "cell_type": "code",
   "execution_count": 94,
   "metadata": {},
   "outputs": [
    {
     "name": "stdout",
     "output_type": "stream",
     "text": [
      "(1, 2)\n",
      "3\n",
      "(3, 4)\n",
      "7\n",
      "(5, 6)\n",
      "11\n"
     ]
    }
   ],
   "source": [
    "a = [(1,2),(3,4),(5,6)]\n",
    "\n",
    "for i in a:\n",
    "    print(i)\n",
    "    print(i[0]+i[1])        ## a : 튜플 [ ]"
   ]
  },
  {
   "cell_type": "markdown",
   "metadata": {},
   "source": [
    "### formatted print %a\n",
    "\n",
    "    %d : 정수 , %f : 실수 , %s : 문자\n",
    "    \n",
    "    %#d : # 만큼의 칸을 변수에 할당한다.\n",
    "    %#.?f  : # 만큼의 칸을 할당하고 ?만큼의 소수점 이하 자리를 표현한다. '.'도 #의 칸 수에 해당한다."
   ]
  },
  {
   "cell_type": "code",
   "execution_count": 95,
   "metadata": {},
   "outputs": [
    {
     "name": "stdout",
     "output_type": "stream",
     "text": [
      "   1번 학생은 합격입니다.\n",
      "2번 학생은 불합격입니다.\n",
      "   3번 학생은 합격입니다.\n",
      "4번 학생은 불합격입니다.\n",
      "   5번 학생은 합격입니다.\n"
     ]
    }
   ],
   "source": [
    "# 응용\n",
    "\n",
    "# '총 5명의 학생이 시험을 보았는대 60점이 넘으면 합격 아니면 불합격'\n",
    "\n",
    "marks =[90,25,97,45,80]\n",
    "\n",
    "number = 0\n",
    "for mark in marks:\n",
    "    number = number + 1    ## x = x + 1\n",
    "    if mark >= 60:\n",
    "        print(\"%4d번 학생은 합격입니다.\" % number)           ## 문자열 외부에 % (변수) 지정\n",
    "    else:\n",
    "        print(\"%d번 학생은 불합격입니다.\" % number)"
   ]
  },
  {
   "cell_type": "code",
   "execution_count": 96,
   "metadata": {},
   "outputs": [
    {
     "name": "stdout",
     "output_type": "stream",
     "text": [
      "55\n"
     ]
    }
   ],
   "source": [
    "# range(시작 수, 끝 수) 함수. 단 끝 수는 해당하지 않는다. (시작 수 =< range < 끝 수)\n",
    "# 시작 수 생략 가능 ex) range(6) == (0,1,2,3,4,5)\n",
    "\n",
    "add = 0\n",
    "for i in range(1,11):\n",
    "    add = add + i\n",
    "    \n",
    "print(add)"
   ]
  },
  {
   "cell_type": "code",
   "execution_count": 97,
   "metadata": {},
   "outputs": [
    {
     "name": "stdout",
     "output_type": "stream",
     "text": [
      "1번 학생 합격\n",
      "3번 학생 합격\n",
      "5번 학생 합격\n"
     ]
    }
   ],
   "source": [
    "marks = [90,25,67,45,80]\n",
    "for mark in marks:\n",
    "    if mark >= 60:\n",
    "        print(\"%d번 학생 합격\" %(marks.index(mark)+1))       ## '+1' index의 경우 0번부터 시작하기 때문에"
   ]
  },
  {
   "cell_type": "code",
   "execution_count": 98,
   "metadata": {},
   "outputs": [
    {
     "name": "stdout",
     "output_type": "stream",
     "text": [
      "1번 학생 합격\n",
      "3번 학생 합격\n",
      "5번 학생 합격\n"
     ]
    }
   ],
   "source": [
    "marks = [90,25,67,45,80]\n",
    "for number in range(len(marks)):    ## for number in range(5) -> (0,1,2,3,4)\n",
    "    if marks[number] < 60:\n",
    "        continue                   ## 아무 작업을 하지 않고 'for'문으로 돌아간다.\n",
    "    print(\"%d번 학생 합격\" %(number+1))"
   ]
  },
  {
   "cell_type": "code",
   "execution_count": 99,
   "metadata": {},
   "outputs": [
    {
     "name": "stdout",
     "output_type": "stream",
     "text": [
      "2\n",
      "4\n",
      "6\n",
      "8\n",
      "\n",
      "3\n",
      "6\n",
      "9\n",
      "12\n",
      "\n",
      "4\n",
      "8\n",
      "12\n",
      "16\n",
      "\n"
     ]
    }
   ],
   "source": [
    "# 2중 루프\n",
    "\n",
    "for i in range(2,5):\n",
    "    for j in range(1,5):\n",
    "        print(i*j)\n",
    "    print('')"
   ]
  },
  {
   "cell_type": "code",
   "execution_count": 100,
   "metadata": {},
   "outputs": [
    {
     "name": "stdout",
     "output_type": "stream",
     "text": [
      "2 4 6 8 \n",
      "3 6 9 12 \n",
      "4 8 12 16 \n"
     ]
    }
   ],
   "source": [
    "# 2중 루프\n",
    "\n",
    "for i in range(2,5):\n",
    "    for j in range(1,5):\n",
    "        print(i*j,end=' ')       ## end = ''  이 문장에 끝은 \\n이 아닌 '' 내부 문자로 대신한다.\n",
    "    print('')"
   ]
  },
  {
   "cell_type": "code",
   "execution_count": 101,
   "metadata": {},
   "outputs": [
    {
     "name": "stdout",
     "output_type": "stream",
     "text": [
      "[2, 4, 6, 8, 10, 12, 14, 16, 18, 3, 6, 9, 12, 15, 18, 21, 24, 27, 4, 8, 12, 16, 20, 24, 28, 32, 36, 5, 10, 15, 20, 25, 30, 35, 40, 45, 6, 12, 18, 24, 30, 36, 42, 48, 54, 7, 14, 21, 28, 35, 42, 49, 56, 63, 8, 16, 24, 32, 40, 48, 56, 64, 72, 9, 18, 27, 36, 45, 54, 63, 72, 81]\n",
      "<class 'range'>\n",
      "[1, 3, 5, 7, 9, 11, 13, 15, 17, 19, 21, 23, 25, 27, 29]\n"
     ]
    }
   ],
   "source": [
    "#for 구문  ## range(#1,#2,#3) 를 이용한 리스트 만들기  #1 : 시작값 / #2 : 종료값 / #3 : 간격\n",
    "\n",
    "result = [x*y for x in range(2,10)\n",
    "          for y in range(1,10)]\n",
    "\n",
    "print(result)\n",
    "\n",
    "\n",
    "\n",
    "range(1,30,2)\n",
    "print(type(range(1,30,2)))\n",
    "print(list(range(1,30,2)))    ### range 는 list 와 비슷한 형식이다.\n"
   ]
  },
  {
   "cell_type": "markdown",
   "metadata": {},
   "source": [
    "## While 문 (조건과 반복의 콤비네이션)\n",
    "        조건이 참인 동안에 while 문 아래의 문장이 반복 수행된다."
   ]
  },
  {
   "cell_type": "code",
   "execution_count": 102,
   "metadata": {},
   "outputs": [
    {
     "name": "stdout",
     "output_type": "stream",
     "text": [
      "나무를 1번 찍었습니다\n",
      "나무를 2번 찍었습니다\n",
      "나무를 3번 찍었습니다\n",
      "나무를 4번 찍었습니다\n",
      "나무를 5번 찍었습니다\n",
      "나무를 6번 찍었습니다\n",
      "나무를 7번 찍었습니다\n",
      "나무를 8번 찍었습니다\n",
      "나무를 9번 찍었습니다\n",
      "나무를 10번 찍었습니다\n",
      "나무가 넘어갑니다\n"
     ]
    }
   ],
   "source": [
    "# while 문의 기본 구조\n",
    "\n",
    "\"\"\"\n",
    "\n",
    "while <조건문>:\n",
    "    <수행 문장1>\n",
    "    <수행 문장2>\n",
    "    <수행 문장3>\n",
    "    ...\n",
    "\n",
    "\n",
    "\"\"\"\n",
    "\n",
    "treehit = 0\n",
    "\n",
    "while treehit <10:                 ## 조건이 ture 일 경우에 실행된다. -> fulse일 경우 중단\n",
    "    treehit = treehit + 1\n",
    "    print(\"나무를 %d번 찍었습니다\" %treehit)\n",
    "    if treehit == 10: print(\"나무가 넘어갑니다\")"
   ]
  },
  {
   "cell_type": "code",
   "execution_count": 103,
   "metadata": {},
   "outputs": [],
   "source": [
    "prompt = \"\"\"\n",
    "    1. Add\n",
    "    2. Del\n",
    "    3. List\n",
    "    4. Quit\n",
    "    \n",
    "    Enter number:\"\"\"\n"
   ]
  },
  {
   "cell_type": "code",
   "execution_count": 104,
   "metadata": {},
   "outputs": [
    {
     "name": "stdout",
     "output_type": "stream",
     "text": [
      "\n",
      "    1. Add\n",
      "    2. Del\n",
      "    3. List\n",
      "    4. Quit\n",
      "    \n",
      "    Enter number:\n",
      "1\n",
      "\n",
      "    1. Add\n",
      "    2. Del\n",
      "    3. List\n",
      "    4. Quit\n",
      "    \n",
      "    Enter number:\n",
      "1\n",
      "\n",
      "    1. Add\n",
      "    2. Del\n",
      "    3. List\n",
      "    4. Quit\n",
      "    \n",
      "    Enter number:\n",
      "3\n",
      "\n",
      "    1. Add\n",
      "    2. Del\n",
      "    3. List\n",
      "    4. Quit\n",
      "    \n",
      "    Enter number:\n",
      "2\n",
      "\n",
      "    1. Add\n",
      "    2. Del\n",
      "    3. List\n",
      "    4. Quit\n",
      "    \n",
      "    Enter number:\n",
      "4\n"
     ]
    }
   ],
   "source": [
    "\n",
    "num = 0\n",
    "while num != 4:\n",
    "    print(prompt)\n",
    "    num = int(input())"
   ]
  },
  {
   "cell_type": "markdown",
   "metadata": {},
   "source": [
    "        quit 의미의 4를 입력하지 않으면 계속 prompt를 출력하는 형식\n",
    "        여기서 input()은 사용자의 입력을 받는 함수"
   ]
  },
  {
   "cell_type": "code",
   "execution_count": 105,
   "metadata": {},
   "outputs": [
    {
     "name": "stdout",
     "output_type": "stream",
     "text": [
      "1000\n",
      "커피\n",
      "거스름돈 700원\n",
      "10\n",
      "잔액부족\n",
      "300\n",
      "커피\n",
      "301\n",
      "커피\n",
      "거스름돈 1원\n",
      "500\n",
      "재고부족\n"
     ]
    }
   ],
   "source": [
    "# while 문 :커피머신\n",
    "\n",
    "coffee = 3\n",
    "\n",
    "while True:       ## while 문 무한반복 문구\n",
    "    money = int(input())\n",
    "    if money >= 300 and coffee != 0: ##커피를 뽑기에 충분한 돈인지 판단\n",
    "        coffee = coffee - 1\n",
    "        if money > 300:\n",
    "            print(\"커피\")\n",
    "            print(\"거스름돈 %d원\" %(money - 300))\n",
    "        else : print(\"커피\")\n",
    "    elif money < 300 :\n",
    "        print(\"잔액부족\")\n",
    "    elif coffee == 0 :\n",
    "        print(\"재고부족\")\n",
    "        break     ##if 특정조건이면 while을 빠져나가자 (break) <-> continue"
   ]
  },
  {
   "cell_type": "code",
   "execution_count": 106,
   "metadata": {
    "scrolled": true
   },
   "outputs": [
    {
     "name": "stdout",
     "output_type": "stream",
     "text": [
      "1\n",
      "3\n",
      "5\n",
      "7\n",
      "9\n",
      "\n",
      "[0, 1, 2, 3, 4]\n",
      "1\n",
      "3\n",
      "5\n",
      "7\n",
      "9\n",
      "\n",
      "1\n",
      "3\n",
      "5\n",
      "7\n",
      "9\n"
     ]
    }
   ],
   "source": [
    "# 홀수만 출력하는 while 문\n",
    "a=0\n",
    "while a<10:\n",
    "    a=a+1\n",
    "    if a%2==0:continue\n",
    "    print(a)\n",
    "print(\"\")\n",
    "\n",
    "x= list(range(1,10,2))\n",
    "print(list(range(5)))\n",
    "for i in range(5):\n",
    "    print(x[i])\n",
    "print(\"\")\n",
    "\n",
    "a=1\n",
    "while True:\n",
    "    print(a)\n",
    "    a=a+2\n",
    "    if a> 10:\n",
    "        break"
   ]
  },
  {
   "cell_type": "markdown",
   "metadata": {},
   "source": [
    "## 함수\n",
    "        반복적으로 사용되는 가치 있는 부분을 한 뭉치로 묶어 불필요한 반복을 줄일 수 있다.\n",
    "        '어떤 입력값을 주었을 때 어떤 결과값을 돌려준다.' 라는 식의 함수를 작성하는 것이 유리하다."
   ]
  },
  {
   "cell_type": "code",
   "execution_count": 107,
   "metadata": {},
   "outputs": [
    {
     "data": {
      "text/plain": [
       "'\\ndef 함수 이름(매개변수들):\\n    수행할 문장1\\n    수행할 문장2\\n    ...\\n\\n    return 결과값\\n\\n'"
      ]
     },
     "execution_count": 107,
     "metadata": {},
     "output_type": "execute_result"
    }
   ],
   "source": [
    "# 파이썬 함수 구조\n",
    "\"\"\"\n",
    "def 함수 이름(매개변수들):\n",
    "    수행할 문장1\n",
    "    수행할 문장2\n",
    "    ...\n",
    "\n",
    "    return 결과값\n",
    "\n",
    "\"\"\""
   ]
  },
  {
   "cell_type": "code",
   "execution_count": 108,
   "metadata": {},
   "outputs": [
    {
     "name": "stdout",
     "output_type": "stream",
     "text": [
      "7\n",
      "7\n",
      "7\n"
     ]
    }
   ],
   "source": [
    "# 함수\n",
    "\n",
    "def add(a,b):         ## a 와 b는 add라는 함수를 작동시키기 위한 변수\n",
    "    return a+b       ## 함수 이름은 ad고 입력으로 2개의 값을 받으며, 결과값은 2개의 입력값을 더한 값이다.\n",
    "\n",
    "\n",
    "\n",
    "# 메인 프로그램\n",
    "\n",
    "a=3\n",
    "b=4\n",
    "c=add(a,b)\n",
    "print(c)\n",
    "\n",
    "# Or\n",
    "\n",
    "result=add(a=3,b=4)\n",
    "print(result)\n",
    "\n",
    "# Or\n",
    "\n",
    "result=add(b=3,a=4)    ## 변수 이름만 맞추면 변수 순서가 바뀌어도 작동된다.\n",
    "print(result)"
   ]
  },
  {
   "cell_type": "code",
   "execution_count": 109,
   "metadata": {},
   "outputs": [],
   "source": [
    "# 입력값이 없는 함수\n",
    "\n",
    "def say():\n",
    "    return 'Hi'"
   ]
  },
  {
   "cell_type": "code",
   "execution_count": 110,
   "metadata": {},
   "outputs": [
    {
     "name": "stdout",
     "output_type": "stream",
     "text": [
      "Hi\n"
     ]
    }
   ],
   "source": [
    "a=say()\n",
    "print(a)"
   ]
  },
  {
   "cell_type": "code",
   "execution_count": 111,
   "metadata": {},
   "outputs": [],
   "source": [
    "# retrun(결과값)이 없는 함수\n",
    "def add(a,b):\n",
    "    print(\"%d + %d = %d\"%(a,b,a+b))"
   ]
  },
  {
   "cell_type": "code",
   "execution_count": 112,
   "metadata": {},
   "outputs": [
    {
     "name": "stdout",
     "output_type": "stream",
     "text": [
      "3 + 4 = 7\n"
     ]
    }
   ],
   "source": [
    "add(3,4)"
   ]
  },
  {
   "cell_type": "code",
   "execution_count": 113,
   "metadata": {},
   "outputs": [],
   "source": [
    "# 입력값이 몇 개가 될지 모를 때는?\n",
    "\n",
    "# 여러 개의 입력값을 받는 함수\n",
    "\n",
    "def add_many(*arg):       # '*' 는 임의의 여러 변수 지정\n",
    "    result=0\n",
    "    for i in arg:\n",
    "        result=result+i   # *arg에 입력받는 모든 값을 더한다.\n",
    "    return result"
   ]
  },
  {
   "cell_type": "code",
   "execution_count": 114,
   "metadata": {},
   "outputs": [
    {
     "name": "stdout",
     "output_type": "stream",
     "text": [
      "15\n"
     ]
    }
   ],
   "source": [
    "result = add_many(1,2,3,4,5)\n",
    "print(result)"
   ]
  },
  {
   "cell_type": "code",
   "execution_count": 115,
   "metadata": {},
   "outputs": [],
   "source": [
    "# 사칙 연산 선택 가능\n",
    "\n",
    "def add_mul(choice, *args) :\n",
    "    if choice =='add':          ## choice 매개변수가 add 일 경우\n",
    "        result = 0\n",
    "        for i in args:\n",
    "            result = result+i\n",
    "    elif choice =='mul':    ## choice 매개변수가 mul 일 경우\n",
    "        result = 1\n",
    "        for i in args:\n",
    "            result = result*i\n",
    "    return result"
   ]
  },
  {
   "cell_type": "code",
   "execution_count": 116,
   "metadata": {
    "scrolled": true
   },
   "outputs": [
    {
     "name": "stdout",
     "output_type": "stream",
     "text": [
      "10\n",
      "24\n"
     ]
    }
   ],
   "source": [
    "result = add_mul('add',1,2,3,4)\n",
    "print(result)\n",
    "\n",
    "result2 = add_mul('mul',1,2,3,4)\n",
    "print(result2)"
   ]
  },
  {
   "cell_type": "code",
   "execution_count": 117,
   "metadata": {},
   "outputs": [
    {
     "name": "stdout",
     "output_type": "stream",
     "text": [
      "(7, 12)\n"
     ]
    }
   ],
   "source": [
    "# 함수의 결과값은 항상 하나  # 함수 결과값은 언제나 하나이기에 오류가 나는 것이 아니라 (7,12)라는 하나의 튜플 값으로 돌려준다.\n",
    "def add_mul (a,b):\n",
    "    return a+b,a*b\n",
    "\n",
    "result = add_mul(3,4)\n",
    "print(result)"
   ]
  },
  {
   "cell_type": "code",
   "execution_count": 118,
   "metadata": {},
   "outputs": [],
   "source": [
    "# 매개변수에 초기값 미리 정하기\n",
    "\n",
    "def sayself(name,old,man=True):        ## 초기값 \"Ture(or something)\" 의 경우 변수 가장 끝에 지정하지 않으면 에러가 발생한다.\n",
    "    print(\"이름 %s\" %name)\n",
    "    print(\"나이 %d\" %old)\n",
    "    if man:\n",
    "        print(\"남성\")\n",
    "    else:\n",
    "        print(\"여성\")"
   ]
  },
  {
   "cell_type": "code",
   "execution_count": 119,
   "metadata": {},
   "outputs": [
    {
     "name": "stdout",
     "output_type": "stream",
     "text": [
      "이름 박응\n",
      "나이 27\n",
      "남성\n"
     ]
    }
   ],
   "source": [
    "sayself(\"박응\",27,True)"
   ]
  },
  {
   "cell_type": "code",
   "execution_count": 120,
   "metadata": {},
   "outputs": [
    {
     "name": "stdout",
     "output_type": "stream",
     "text": [
      "이름 박선\n",
      "나이 27\n",
      "여성\n"
     ]
    }
   ],
   "source": [
    "sayself(\"박선\",27,False)"
   ]
  },
  {
   "cell_type": "code",
   "execution_count": 121,
   "metadata": {},
   "outputs": [
    {
     "name": "stdout",
     "output_type": "stream",
     "text": [
      "이름 박응\n",
      "나이 27\n",
      "남성\n"
     ]
    }
   ],
   "source": [
    "sayself(\"박응\",27)           ## 초기값이 True로 설정되어있다."
   ]
  },
  {
   "cell_type": "markdown",
   "metadata": {},
   "source": [
    "### 함수에서 매우 중요한 부분"
   ]
  },
  {
   "cell_type": "code",
   "execution_count": 122,
   "metadata": {},
   "outputs": [
    {
     "name": "stdout",
     "output_type": "stream",
     "text": [
      "1\n"
     ]
    }
   ],
   "source": [
    "# 함수 안에서 선언한 변수의 효력 범위\n",
    "\n",
    "a = 1                # 함수 밖의 변수 a\n",
    "def vartest(a):     # 여기서 a는 함수 안에서 a라서 함수 안에서만 작동한다. 함수 밖과는 다른 셀이다.\n",
    "    a=a+1\n",
    "    \n",
    "vartest(a)          # 여기서 입력값 a는 함수 바깥 a=1을 입력한다는 의미\n",
    "print(a)            # 함수에서 a+1 = 2 가 되었지만 retrun도 없고 함수 안에서의 a만 a=2이 되었다. 메인 셀에서 a는 여전히 1이다."
   ]
  },
  {
   "cell_type": "code",
   "execution_count": 123,
   "metadata": {},
   "outputs": [
    {
     "name": "stdout",
     "output_type": "stream",
     "text": [
      "2\n"
     ]
    }
   ],
   "source": [
    "# 함수 안에서 함수 밖의 변수를 변경하는 법\n",
    "\n",
    "a = 1                \n",
    "def vartest(a):     \n",
    "    a=a+1\n",
    "    return a            # 메인 프로그램 지정변수에 결과값을 돌려준다.\n",
    "    \n",
    "a = vartest(a)          # 결과값을 지정변수 a에 대입\n",
    "print(a)            "
   ]
  },
  {
   "cell_type": "code",
   "execution_count": 124,
   "metadata": {},
   "outputs": [
    {
     "name": "stdout",
     "output_type": "stream",
     "text": [
      "7\n"
     ]
    }
   ],
   "source": [
    "# lambda (한줄 함수)\n",
    "'lambda 매개변수1,매개변수2, ...: 매개변수를 사용한 표현식'\n",
    "\n",
    "add = lambda a,b: a+b\n",
    "result=add(3,4)\n",
    "print(result)"
   ]
  },
  {
   "cell_type": "code",
   "execution_count": 125,
   "metadata": {},
   "outputs": [
    {
     "name": "stdout",
     "output_type": "stream",
     "text": [
      "1 2 3 4 5 6 7 8 9 10 11 12 13 14 15 16 17 18 19 20 21 22 23 24 25 26 27 28 29 30 31 32 33 34 35 36 37 38 39 40 41 42 43 44 45 46 47 48 49 50 51 52 53 54 55 56 57 58 59 60 61 62 63 64 65 66 67 68 69 70 71 72 73 74 75 76 77 78 79 80 81 82 83 84 85 86 87 88 89 90 91 92 93 94 95 96 97 98 99 100 \n",
      "1 2 3 4 5 6 7 8 9 10 11 12 13 14 15 16 17 18 19 20 21 22 23 24 25 26 27 28 29 30 31 32 33 34 35 36 37 38 39 40 41 42 43 44 45 46 47 48 49 50 51 52 53 54 55 56 57 58 59 60 61 62 63 64 65 66 67 68 69 70 71 72 73 74 75 76 77 78 79 80 81 82 83 84 85 86 87 88 89 90 91 92 93 94 95 96 97 98 99 100 "
     ]
    }
   ],
   "source": [
    "#1 for문, while문, if문 등 제어문을 사용하여 1부터 100까지의 숫자를 출력\n",
    "a=0\n",
    "while a<100:\n",
    "    a=a+1\n",
    "    print(a,end=' ')\n",
    "print()\n",
    "    \n",
    "for i in range(0,100):print(i+1,end=\" \")"
   ]
  },
  {
   "cell_type": "code",
   "execution_count": 126,
   "metadata": {},
   "outputs": [
    {
     "name": "stdout",
     "output_type": "stream",
     "text": [
      "79.0\n"
     ]
    }
   ],
   "source": [
    "#2 A학급에 총 10명의 학생이 있다. 이 학생들의 중간고사 점수는 다음과 같다.\n",
    "#      [ 70, 60, 55, 75, 95, 90, 80, 80, 85, 100 ]\n",
    "#  제어문(반복문)을 사용하여 A학급의 평균 점수를 구하라.\n",
    "\n",
    "score = [ 70, 60, 55, 75, 95, 90, 80, 80, 85, 100 ]\n",
    "\n",
    "score_sum = 0\n",
    "\n",
    "for i in range(0,len(score)):\n",
    "    score_sum = score_sum + score[i]\n",
    "    i=i+1\n",
    "    \n",
    "score_avg = score_sum/len(score)\n",
    "\n",
    "print(score_avg)"
   ]
  },
  {
   "cell_type": "code",
   "execution_count": 127,
   "metadata": {},
   "outputs": [],
   "source": [
    "# 메모리 : 내부 입출력 장치 (Internal I/O) -> 전원과 동시에 소멸\n",
    "# 하드 : 외부 입력 장치 (External I/O) -> 지속\n",
    "#file (파일)"
   ]
  },
  {
   "cell_type": "markdown",
   "metadata": {},
   "source": [
    "## 입력"
   ]
  },
  {
   "cell_type": "code",
   "execution_count": 128,
   "metadata": {},
   "outputs": [
    {
     "name": "stdout",
     "output_type": "stream",
     "text": [
      "3\n",
      "3\n",
      "<class 'str'>\n",
      "3\n",
      "<class 'int'>\n",
      "13\n"
     ]
    }
   ],
   "source": [
    "# input : input 에 입력되는 모든 것을 문자열로 취급한다 (내부입력 : 메모리로부터 자료를 읽어옴)\n",
    "\n",
    "a = input()  # input 함수의 출력 타입 'str'\n",
    "\n",
    "print(a)\n",
    "print(type(a))\n",
    "\n",
    "a = int(a)   # type : str -> int\n",
    "print(a)\n",
    "print(type(a))   \n",
    "# 일단 str 타입으로 받아들인 후 type 전환을 통해 변수 가공\n",
    "print(10+a)"
   ]
  },
  {
   "cell_type": "code",
   "execution_count": 129,
   "metadata": {},
   "outputs": [
    {
     "name": "stdout",
     "output_type": "stream",
     "text": [
      "숫자를 입력하세요 : 3\n"
     ]
    }
   ],
   "source": [
    "# 프롬프트 값을 띄워서 사용자 입력받기\n",
    "\n",
    "number = input(\"숫자를 입력하세요 : \")"
   ]
  },
  {
   "cell_type": "code",
   "execution_count": 130,
   "metadata": {},
   "outputs": [
    {
     "name": "stdout",
     "output_type": "stream",
     "text": [
      "3\n"
     ]
    }
   ],
   "source": [
    "print(number)"
   ]
  },
  {
   "cell_type": "code",
   "execution_count": 131,
   "metadata": {},
   "outputs": [
    {
     "name": "stdout",
     "output_type": "stream",
     "text": [
      "숫자 두개를 입력하세요: 5 7\n",
      "12\n"
     ]
    }
   ],
   "source": [
    "# split: value 나누기\n",
    "a,b = input('숫자 두개를 입력하세요: ').split()\n",
    "a = int(a)\n",
    "b = int(b)\n",
    "\n",
    "print(a+b)"
   ]
  },
  {
   "cell_type": "code",
   "execution_count": 132,
   "metadata": {},
   "outputs": [
    {
     "name": "stdout",
     "output_type": "stream",
     "text": [
      "1920 * 1000\n"
     ]
    }
   ],
   "source": [
    "# sep(separator): 변수 사이값(구분) 지정\n",
    "print(1920,1000,sep=' * ')"
   ]
  },
  {
   "cell_type": "code",
   "execution_count": 133,
   "metadata": {},
   "outputs": [
    {
     "name": "stdout",
     "output_type": "stream",
     "text": [
      "2468\n",
      "36912\n",
      "481216\n"
     ]
    }
   ],
   "source": [
    "# end: print 끝 값 임의로 지정(default: \\n)\n",
    "for i in range(2,5):\n",
    "    for j in range(1,5):\n",
    "        print(i*j,end='')       ## end = ''  이 문장에 끝은 \\n이 아닌 '' 내부 문자로 대신한다.\n",
    "    print()"
   ]
  },
  {
   "cell_type": "markdown",
   "metadata": {},
   "source": [
    "## 출력"
   ]
  },
  {
   "cell_type": "code",
   "execution_count": 134,
   "metadata": {},
   "outputs": [
    {
     "name": "stdout",
     "output_type": "stream",
     "text": [
      "123\n",
      "Python\n",
      "[1, 2, 3]\n",
      "이번달은 11 월 입니다.\n",
      "오늘은 11 월 11 일 입니다.\n",
      "시험 성적은 85.2점 입니다.\n"
     ]
    }
   ],
   "source": [
    "# print : 입력 자료형을 출력 (내부출력)\n",
    "a = 123\n",
    "print(a)\n",
    "\n",
    "a = \"Python\"\n",
    "print(a)\n",
    "\n",
    "a = [1,2,3]\n",
    "print(a)\n",
    "\n",
    "a = \"이번달은 %d 월 입니다.\" %11\n",
    "print(a)\n",
    "\n",
    "a = \"오늘은 %d 월 %d 일 입니다.\" %(11,11)\n",
    "print(a)\n",
    "\n",
    "a = \"시험 성적은 %3.1f점 입니다.\" %85.2345  ## 기말test :\n",
    "print(a)\n"
   ]
  },
  {
   "cell_type": "code",
   "execution_count": 135,
   "metadata": {},
   "outputs": [
    {
     "name": "stdout",
     "output_type": "stream",
     "text": [
      "Lifeistoo stort\n",
      "Lifeistoo stort\n",
      "Life is too stort\n",
      "Life is too stort\n"
     ]
    }
   ],
   "source": [
    "print(\"Life\" + \"is\" + \"too stort\")\n",
    "print(\"Life\" \"is\" \"too stort\")       # 큰 따옴표 문자열 연산은 + 와 동일\n",
    "print(\"Life \" \"is \" \"too stort\")\n",
    "print(\"Life\", \"is\", \"too stort\")     # 문자열 띄어쓰기는 콤마(,)로 가능"
   ]
  },
  {
   "cell_type": "code",
   "execution_count": 136,
   "metadata": {},
   "outputs": [
    {
     "name": "stdout",
     "output_type": "stream",
     "text": [
      "0 1 2 3 4 5 6 7 8 9 "
     ]
    }
   ],
   "source": [
    "# 한 줄에 결과값 출력하기\n",
    "\n",
    "for i in range(10) :\n",
    "    print(i, end=' ')"
   ]
  },
  {
   "cell_type": "markdown",
   "metadata": {},
   "source": [
    "## 파일 생성\n",
    "### 파일 객체 = open(파일 이름, *파일 열기 모드)\n",
    "#### [파일 열기 모드]\n",
    "    r : 읽기 모드\n",
    "    w : 쓰기 모드\n",
    "    a : 추가 모드 (파일의 마지막에 새로운 내용을 추가할 때 사용)  , append"
   ]
  },
  {
   "cell_type": "code",
   "execution_count": 137,
   "metadata": {},
   "outputs": [
    {
     "data": {
      "text/plain": [
       "<function TextIOWrapper.close()>"
      ]
     },
     "execution_count": 137,
     "metadata": {},
     "output_type": "execute_result"
    }
   ],
   "source": [
    "# open 명령어 : 파일에 작업을 한다.\n",
    "\n",
    "f = open(\"새파일.txt\", 'w')     # w 모드로 파일을 열면 기존 파일의 내용을 전부 지우고 처음부터 작업한다. 추가 입력은 a\n",
    "f.close     # 작업 이후 반드시 close로 파일과 연결을 끊어줘야 함"
   ]
  },
  {
   "cell_type": "code",
   "execution_count": 138,
   "metadata": {},
   "outputs": [],
   "source": [
    "# 파일 쓰기 모드로 출력값 입력\n",
    "\n",
    "f = open(\"새파일.txt\", 'w')\n",
    "for i in range(1,11): # 1부터 10까지 i에 대입\n",
    "    data = \"%d번째 줄입니다. \\n\" %i       #formatted str         # \\n은 줄바꿈 기호\n",
    "    f.write(data)      # data를 파일 객체 f에 입력\n",
    "f.close()"
   ]
  },
  {
   "cell_type": "markdown",
   "metadata": {},
   "source": [
    "### 프로그램 외부에 저장된 파일을 읽는 방법"
   ]
  },
  {
   "cell_type": "code",
   "execution_count": 139,
   "metadata": {},
   "outputs": [
    {
     "name": "stdout",
     "output_type": "stream",
     "text": [
      "1번째 줄입니다. \n",
      "\n"
     ]
    }
   ],
   "source": [
    "# readline 함수\n",
    "\n",
    "f = open(\"새파일.txt\", 'r')\n",
    "line = f.readline()   # 파일의 첫 줄을 읽는다.\n",
    "print(line)\n",
    "f.close()"
   ]
  },
  {
   "cell_type": "code",
   "execution_count": 140,
   "metadata": {},
   "outputs": [
    {
     "name": "stdout",
     "output_type": "stream",
     "text": [
      "1번째 줄입니다. \n",
      "\n",
      "2번째 줄입니다. \n",
      "\n",
      "3번째 줄입니다. \n",
      "\n",
      "4번째 줄입니다. \n",
      "\n",
      "5번째 줄입니다. \n",
      "\n",
      "6번째 줄입니다. \n",
      "\n",
      "7번째 줄입니다. \n",
      "\n",
      "8번째 줄입니다. \n",
      "\n",
      "9번째 줄입니다. \n",
      "\n",
      "10번째 줄입니다. \n",
      "\n"
     ]
    }
   ],
   "source": [
    "f = open(\"새파일.txt\", 'r')\n",
    "while True:\n",
    "    line = f.readline()\n",
    "    if not line: break         # line(str) 인 경우 공백이면 fulse , 글자인 경우 true\n",
    "    print(line)\n",
    "f.close()"
   ]
  },
  {
   "cell_type": "code",
   "execution_count": 141,
   "metadata": {},
   "outputs": [
    {
     "name": "stdout",
     "output_type": "stream",
     "text": [
      "['1번째 줄입니다. \\n', '2번째 줄입니다. \\n', '3번째 줄입니다. \\n', '4번째 줄입니다. \\n', '5번째 줄입니다. \\n', '6번째 줄입니다. \\n', '7번째 줄입니다. \\n', '8번째 줄입니다. \\n', '9번째 줄입니다. \\n', '10번째 줄입니다. \\n']\n",
      "1번째 줄입니다. \n",
      "\n",
      "2번째 줄입니다. \n",
      "\n",
      "3번째 줄입니다. \n",
      "\n",
      "4번째 줄입니다. \n",
      "\n",
      "5번째 줄입니다. \n",
      "\n",
      "6번째 줄입니다. \n",
      "\n",
      "7번째 줄입니다. \n",
      "\n",
      "8번째 줄입니다. \n",
      "\n",
      "9번째 줄입니다. \n",
      "\n",
      "10번째 줄입니다. \n",
      "\n"
     ]
    }
   ],
   "source": [
    "f = open(\"새파일.txt\", 'r')\n",
    "lines = f.readlines()\n",
    "f.close()\n",
    "print(lines)\n",
    "for i in range(1,11):\n",
    "    print(lines[i-1])"
   ]
  },
  {
   "cell_type": "code",
   "execution_count": 142,
   "metadata": {},
   "outputs": [
    {
     "name": "stdout",
     "output_type": "stream",
     "text": [
      "1번째 줄입니다. \n",
      "2번째 줄입니다. \n",
      "3번째 줄입니다. \n",
      "4번째 줄입니다. \n",
      "5번째 줄입니다. \n",
      "6번째 줄입니다. \n",
      "7번째 줄입니다. \n",
      "8번째 줄입니다. \n",
      "9번째 줄입니다. \n",
      "10번째 줄입니다. \n",
      "\n",
      "<class 'str'>\n"
     ]
    }
   ],
   "source": [
    "# read 함수 사용하기\n",
    "f = open(\"새파일.txt\", 'r')\n",
    "data = f.read()\n",
    "print(data)\n",
    "print(type(data))\n",
    "f.close()"
   ]
  },
  {
   "cell_type": "markdown",
   "metadata": {},
   "source": [
    "### 파일에 새로운 내용 추가하기"
   ]
  },
  {
   "cell_type": "code",
   "execution_count": 143,
   "metadata": {},
   "outputs": [],
   "source": [
    "f = open(\"새파일.txt\", 'a')\n",
    "for i in range(11,20): \n",
    "    data = \"%d번째 줄입니다. \\n\" %i     \n",
    "    f.write(data)   \n",
    "f.close()"
   ]
  },
  {
   "cell_type": "markdown",
   "metadata": {},
   "source": [
    "### write문과 함께 사용하기"
   ]
  },
  {
   "cell_type": "code",
   "execution_count": 144,
   "metadata": {},
   "outputs": [],
   "source": [
    "f = open(\"foo.txt\",'w')\n",
    "f.write(\"Life is too short\")\n",
    "f.close()"
   ]
  },
  {
   "cell_type": "code",
   "execution_count": 145,
   "metadata": {},
   "outputs": [],
   "source": [
    "# with 문\n",
    "with open(\"foo.txt\",'w') as f:\n",
    "    f.write(\"Life is too short\")        # 자동으로 close 되는 문장"
   ]
  },
  {
   "cell_type": "markdown",
   "metadata": {},
   "source": [
    "## 모듈\n",
    "    함수나 변수를 모아 놓은 파이썬 파일 (파일명(.py) = 모듈명\n",
    "    다른 파이썬 프로그램에서 불러와 사용할 수 있게끔 나든 파이썬 파일\n",
    "    여러 모듈을 묶어서 편리하게 관리하기 위해 패키지(디렉토리) 안에 넣어둘 수 있다.\n",
    "    패키지 내부 모듈 안의 특정 함수를 사용하기 위해서는 '패키지.모듈명.특정함수명' 형태로 사용한다.\n",
    "    불러들이는 명령어 : import"
   ]
  },
  {
   "cell_type": "code",
   "execution_count": 146,
   "metadata": {},
   "outputs": [
    {
     "data": {
      "text/plain": [
       "[<matplotlib.lines.Line2D at 0x23bdd9b5880>]"
      ]
     },
     "execution_count": 146,
     "metadata": {},
     "output_type": "execute_result"
    },
    {
     "data": {
      "image/png": "[encoded data removed]",
      "text/plain": [
       "<Figure size 432x288 with 1 Axes>"
      ]
     },
     "metadata": {
      "needs_background": "light"
     },
     "output_type": "display_data"
    }
   ],
   "source": [
    "import matplotlib.pyplot as plt   # matplotlib (패키지)  pyplot (모듈)      # A as B  -> 변수 A를 B로 설정\n",
    "#여기서 plt는 object 이다.   /    object(객체)는 .을 찍을 수 있다.\n",
    "\n",
    "plt.plot([1,2,3,4])"
   ]
  },
  {
   "cell_type": "code",
   "execution_count": 2,
   "metadata": {},
   "outputs": [
    {
     "name": "stdout",
     "output_type": "stream",
     "text": [
      "120\n"
     ]
    }
   ],
   "source": [
    "# import '모듈 이름' : 모듈 불러오는 명령어\n",
    "\n",
    "import math            # amth 는 객체  - . 을 찍을 수 있다.\n",
    "# 수학 작업을 할 때 :  math library(파이썬 내장) 혹은 numpy library(외부 다운로드)\n",
    "n = math.factorial(5)\n",
    "print(n)"
   ]
  },
  {
   "cell_type": "code",
   "execution_count": 148,
   "metadata": {
    "scrolled": true
   },
   "outputs": [
    {
     "name": "stdout",
     "output_type": "stream",
     "text": [
      "Overwriting my_module.py\n"
     ]
    }
   ],
   "source": [
    "%%writefile my_module.py\n",
    "my_variable = 10\n",
    "def my_factorial(n) :\n",
    "    x=1\n",
    "    for i in range(1,n+1):\n",
    "        x=x*i\n",
    "    return(x)"
   ]
  },
  {
   "cell_type": "code",
   "execution_count": 149,
   "metadata": {},
   "outputs": [
    {
     "name": "stdout",
     "output_type": "stream",
     "text": [
      "10\n"
     ]
    }
   ],
   "source": [
    "import my_module as math_lib        ## 원하는 이름으로 변경\n",
    "print(math_lib.my_variable)"
   ]
  },
  {
   "cell_type": "code",
   "execution_count": 150,
   "metadata": {},
   "outputs": [
    {
     "name": "stdout",
     "output_type": "stream",
     "text": [
      "20.0\n"
     ]
    }
   ],
   "source": [
    "# from '모듈 이름' import '함수 이름' : factorial 함수만 import\n",
    "\n",
    "from math import factorial             ## math.factorial -> factorial\n",
    "n = factorial(5)/factorial(3)\n",
    "print(n)"
   ]
  },
  {
   "cell_type": "code",
   "execution_count": 151,
   "metadata": {},
   "outputs": [
    {
     "name": "stdout",
     "output_type": "stream",
     "text": [
      "6.0\n",
      "14.73606797749979\n"
     ]
    }
   ],
   "source": [
    "# 여러 함수를 import\n",
    "\n",
    "from math import (factorial, acos, pi, sin)\n",
    "n = factorial(3) + acos(1)\n",
    "print(n)\n",
    "\n",
    "\n",
    "# 모든 함수를 import, * : 모든 것\n",
    "\n",
    "from math import *\n",
    "n = sqrt(5) + fabs(-12.5)   ## sqrt : 루트 / fabs : 절대값\n",
    "print(n)"
   ]
  },
  {
   "cell_type": "markdown",
   "metadata": {},
   "source": [
    "### 모듈 만들기"
   ]
  },
  {
   "cell_type": "code",
   "execution_count": 152,
   "metadata": {},
   "outputs": [
    {
     "name": "stdout",
     "output_type": "stream",
     "text": [
      "Overwriting mod1.py\n"
     ]
    }
   ],
   "source": [
    "%%writefile mod1.py\n",
    "\n",
    "def add(x,y):\n",
    "    return x+y\n",
    "\n",
    "def sub(x,y):\n",
    "    return x-y"
   ]
  },
  {
   "cell_type": "code",
   "execution_count": 153,
   "metadata": {},
   "outputs": [
    {
     "name": "stdout",
     "output_type": "stream",
     "text": [
      "7\n"
     ]
    }
   ],
   "source": [
    "import mod1\n",
    "i = mod1.add(3,4)\n",
    "print(i)"
   ]
  },
  {
   "cell_type": "code",
   "execution_count": 154,
   "metadata": {},
   "outputs": [
    {
     "name": "stdout",
     "output_type": "stream",
     "text": [
      "7\n"
     ]
    }
   ],
   "source": [
    "from mod1 import *\n",
    "i = add(3,4)\n",
    "print(i)"
   ]
  },
  {
   "cell_type": "code",
   "execution_count": 155,
   "metadata": {},
   "outputs": [
    {
     "name": "stdout",
     "output_type": "stream",
     "text": [
      "2\n"
     ]
    }
   ],
   "source": [
    "i = mod1.sub(4,2)\n",
    "print(i)"
   ]
  },
  {
   "cell_type": "code",
   "execution_count": 156,
   "metadata": {},
   "outputs": [
    {
     "name": "stdout",
     "output_type": "stream",
     "text": [
      "Overwriting mod2.py\n"
     ]
    }
   ],
   "source": [
    "%%writefile mod2.py\n",
    "\n",
    "PI = 3.141592\n",
    "\n",
    "def add(x,y):\n",
    "    return x+y\n",
    "\n",
    "# 모듈에 변수 포함 가능"
   ]
  },
  {
   "cell_type": "code",
   "execution_count": 157,
   "metadata": {},
   "outputs": [
    {
     "name": "stdout",
     "output_type": "stream",
     "text": [
      "3.141592\n"
     ]
    }
   ],
   "source": [
    "import mod2\n",
    "print(mod2.PI)"
   ]
  },
  {
   "cell_type": "markdown",
   "metadata": {},
   "source": [
    "**파이썬 추가 기본 문법** URL: [파이썬 코딩 도장](https://dojang.io/course/view.php?id=7)"
   ]
  },
  {
   "cell_type": "markdown",
   "metadata": {},
   "source": [
    "## pyplot tutorial"
   ]
  },
  {
   "cell_type": "code",
   "execution_count": 158,
   "metadata": {},
   "outputs": [
    {
     "data": {
      "text/plain": [
       "Text(0, 0.5, 'some numbers')"
      ]
     },
     "execution_count": 158,
     "metadata": {},
     "output_type": "execute_result"
    },
    {
     "data": {
      "image/png": "[encoded data removed]",
      "text/plain": [
       "<Figure size 432x288 with 1 Axes>"
      ]
     },
     "metadata": {
      "needs_background": "light"
     },
     "output_type": "display_data"
    }
   ],
   "source": [
    "import matplotlib.pyplot as plt\n",
    "\n",
    "plt.plot([1,2,3,4])\n",
    "plt.ylabel('some numbers')\n",
    "# plt.show()  ## 쥬피터 노트북은 생략 가능"
   ]
  },
  {
   "cell_type": "code",
   "execution_count": 159,
   "metadata": {},
   "outputs": [
    {
     "data": {
      "text/plain": [
       "[<matplotlib.lines.Line2D at 0x23bddaffd90>]"
      ]
     },
     "execution_count": 159,
     "metadata": {},
     "output_type": "execute_result"
    },
    {
     "data": {
      "image/png": "[encoded data removed]",
      "text/plain": [
       "<Figure size 432x288 with 1 Axes>"
      ]
     },
     "metadata": {
      "needs_background": "light"
     },
     "output_type": "display_data"
    }
   ],
   "source": [
    "plt.plot([1,2,3,4],[1,4,9,16])"
   ]
  },
  {
   "cell_type": "code",
   "execution_count": 160,
   "metadata": {},
   "outputs": [
    {
     "data": {
      "text/plain": [
       "Text(0.5, 0, 'time')"
      ]
     },
     "execution_count": 160,
     "metadata": {},
     "output_type": "execute_result"
    },
    {
     "data": {
      "image/png": "[encoded data removed]",
      "text/plain": [
       "<Figure size 432x288 with 1 Axes>"
      ]
     },
     "metadata": {
      "needs_background": "light"
     },
     "output_type": "display_data"
    }
   ],
   "source": [
    "plt.plot([1,2,3,4],[1,4,9,16],'ro--')   ## r : 붉은색,  o : 동그라미 - : 실선 -- : 점선   ### matplotlib.org\n",
    "plt.axis([0,6,0,20])         ## axis : 그래프 범위 x(0~6) y(0~20)\n",
    "\n",
    "plt.ylabel('y')\n",
    "plt.xlabel('time')"
   ]
  },
  {
   "cell_type": "code",
   "execution_count": 161,
   "metadata": {
    "scrolled": true
   },
   "outputs": [
    {
     "data": {
      "text/plain": [
       "[<matplotlib.lines.Line2D at 0x23bddbc47f0>,\n",
       " <matplotlib.lines.Line2D at 0x23bddbc46a0>,\n",
       " <matplotlib.lines.Line2D at 0x23bddbc48e0>]"
      ]
     },
     "execution_count": 161,
     "metadata": {},
     "output_type": "execute_result"
    },
    {
     "data": {
      "image/png": "[encoded data removed]",
      "text/plain": [
       "<Figure size 432x288 with 1 Axes>"
      ]
     },
     "metadata": {
      "needs_background": "light"
     },
     "output_type": "display_data"
    }
   ],
   "source": [
    "import numpy as np    # numpy 는 numerical python의 약자\n",
    "\n",
    "# evenly sampled time as 200ms intervals\n",
    "t = np.arange(0.,5.,0.2)         ## 0~5 까지 0.2 간격으로 범위 지정\n",
    "\n",
    "# red dashes, bule squares and green triangles\n",
    "plt.plot(t,t,'r--',t,t**2,'bs',t,t**3,'g^')"
   ]
  },
  {
   "cell_type": "code",
   "execution_count": 162,
   "metadata": {
    "scrolled": false
   },
   "outputs": [
    {
     "data": {
      "text/plain": [
       "Text(0.5, 0.98, 'Figures')"
      ]
     },
     "execution_count": 162,
     "metadata": {},
     "output_type": "execute_result"
    },
    {
     "data": {
      "image/png": "[encoded data removed]",
      "text/plain": [
       "<Figure size 648x216 with 3 Axes>"
      ]
     },
     "metadata": {
      "needs_background": "light"
     },
     "output_type": "display_data"
    }
   ],
   "source": [
    "names = ['group_a','group_b','group_c']\n",
    "values = [1,10,100]\n",
    "\n",
    "plt.figure(figsize=(9,3))         ## pythone 은 행렬을 따질 때 항상 Row, Column (RC 규칙)\n",
    "\n",
    "plt.subplot(131)\n",
    "plt.bar(names,values)\n",
    "plt.title('bar Plotting')\n",
    "plt.subplot(132)\n",
    "plt.scatter(names,values)\n",
    "plt.title('Scatter Plotting')\n",
    "plt.subplot(133)\n",
    "plt.plot(names,values)\n",
    "plt.title('Categorical Plotting')\n",
    "\n",
    "plt.suptitle('Figures')     ## 전체 타이틀"
   ]
  },
  {
   "cell_type": "code",
   "execution_count": null,
   "metadata": {},
   "outputs": [],
   "source": []
  }
 ],
 "metadata": {
  "kernelspec": {
   "display_name": "Python 3",
   "language": "python",
   "name": "python3"
  },
  "language_info": {
   "codemirror_mode": {
    "name": "ipython",
    "version": 3
   },
   "file_extension": ".py",
   "mimetype": "text/x-python",
   "name": "python",
   "nbconvert_exporter": "python",
   "pygments_lexer": "ipython3",
   "version": "3.8.8"
  }
 },
 "nbformat": 4,
 "nbformat_minor": 4
}
