{
 "cells": [
  {
   "cell_type": "markdown",
   "metadata": {
    "id": "dXSDc8J331l0"
   },
   "source": [
    "## 개요\n",
    "- 교과목: 빅데이터 분석 및 시각화\n",
    "- 능력단위: 머신러닝 기반 데이터 분석\n",
    "- 훈련교사명: 정지훈 강사\n",
    "- 수강생명: 홍길동\n",
    "- 평가방법: 기타(작업형)\n",
    "- 평가예정일: 2021년 12월 9일 목요일 (1시간)"
   ]
  },
  {
   "cell_type": "markdown",
   "metadata": {
    "id": "Jr2z5WL84kOs"
   },
   "source": [
    "## 평가\n",
    "- 다음은 파이썬을 활용한 머신러닝 코드 예제입니다. \n",
    "- 빈칸에 `# 코드 입력`란에 적당한 코드를 작성하시기를 바랍니다. \n",
    "- 각 빈칸당 10점입니다. "
   ]
  },
  {
   "cell_type": "markdown",
   "metadata": {
    "id": "kiBvIyQt5DXB"
   },
   "source": [
    "### 라이브러리 및 데이터 불러오기"
   ]
  },
  {
   "cell_type": "code",
   "execution_count": 1,
   "metadata": {
    "colab": {
     "base_uri": "https://localhost:8080/"
    },
    "executionInfo": {
     "elapsed": 322,
     "status": "ok",
     "timestamp": 1638512141736,
     "user": {
      "displayName": "Ji-hoon Jung",
      "photoUrl": "https://lh3.googleusercontent.com/a/default-user=s64",
      "userId": "03169308685755834042"
     },
     "user_tz": -540
    },
    "id": "5CM75Tky3shY",
    "outputId": "4cc7c96f-6906-46ad-c2f5-0bc188af897d"
   },
   "outputs": [
    {
     "name": "stdout",
     "output_type": "stream",
     "text": [
      "iris target 값: [0 0 0 0 0 0 0 0 0 0 0 0 0 0 0 0 0 0 0 0 0 0 0 0 0 0 0 0 0 0 0 0 0 0 0 0 0\n",
      " 0 0 0 0 0 0 0 0 0 0 0 0 0 1 1 1 1 1 1 1 1 1 1 1 1 1 1 1 1 1 1 1 1 1 1 1 1\n",
      " 1 1 1 1 1 1 1 1 1 1 1 1 1 1 1 1 1 1 1 1 1 1 1 1 1 1 2 2 2 2 2 2 2 2 2 2 2\n",
      " 2 2 2 2 2 2 2 2 2 2 2 2 2 2 2 2 2 2 2 2 2 2 2 2 2 2 2 2 2 2 2 2 2 2 2 2 2\n",
      " 2 2]\n",
      "iris target 명: ['setosa' 'versicolor' 'virginica']\n"
     ]
    }
   ],
   "source": [
    "from sklearn.datasets import load_iris\n",
    "\n",
    "# 붓꽃 데이터 세트 불러오기\n",
    "# (1) 코드 작성 바랍니다. \n",
    "iris = load_iris()\n",
    "\n",
    "# 독립변수 & 종속변수 데이터 불러오기\n",
    "iris_data = iris.data\n",
    "iris_target = iris.target\n",
    "\n",
    "\n",
    "# 아래 예시\n",
    "print(\"iris target 값:\", iris_target)\n",
    "print(\"iris target 명:\", iris.target_names)"
   ]
  },
  {
   "cell_type": "markdown",
   "metadata": {
    "id": "fh8mjgWE7AZo"
   },
   "source": [
    "## 데이터 시각화 화기\n",
    "- 종별로 구분이 가능한 변수간 산점도를 작성한다. "
   ]
  },
  {
   "cell_type": "code",
   "execution_count": 2,
   "metadata": {
    "colab": {
     "base_uri": "https://localhost:8080/",
     "height": 206
    },
    "executionInfo": {
     "elapsed": 333,
     "status": "ok",
     "timestamp": 1638512632865,
     "user": {
      "displayName": "Ji-hoon Jung",
      "photoUrl": "https://lh3.googleusercontent.com/a/default-user=s64",
      "userId": "03169308685755834042"
     },
     "user_tz": -540
    },
    "id": "Atc-Vp5v7Exn",
    "outputId": "19bb81bd-b555-4eba-f4f9-7380efc1f257"
   },
   "outputs": [
    {
     "data": {
      "text/html": [
       "<div>\n",
       "<style scoped>\n",
       "    .dataframe tbody tr th:only-of-type {\n",
       "        vertical-align: middle;\n",
       "    }\n",
       "\n",
       "    .dataframe tbody tr th {\n",
       "        vertical-align: top;\n",
       "    }\n",
       "\n",
       "    .dataframe thead th {\n",
       "        text-align: right;\n",
       "    }\n",
       "</style>\n",
       "<table border=\"1\" class=\"dataframe\">\n",
       "  <thead>\n",
       "    <tr style=\"text-align: right;\">\n",
       "      <th></th>\n",
       "      <th>sepal length</th>\n",
       "      <th>sepal width</th>\n",
       "      <th>petal length</th>\n",
       "      <th>petal width</th>\n",
       "      <th>target</th>\n",
       "    </tr>\n",
       "  </thead>\n",
       "  <tbody>\n",
       "    <tr>\n",
       "      <th>0</th>\n",
       "      <td>5.1</td>\n",
       "      <td>3.5</td>\n",
       "      <td>1.4</td>\n",
       "      <td>0.2</td>\n",
       "      <td>0</td>\n",
       "    </tr>\n",
       "    <tr>\n",
       "      <th>1</th>\n",
       "      <td>4.9</td>\n",
       "      <td>3.0</td>\n",
       "      <td>1.4</td>\n",
       "      <td>0.2</td>\n",
       "      <td>0</td>\n",
       "    </tr>\n",
       "    <tr>\n",
       "      <th>2</th>\n",
       "      <td>4.7</td>\n",
       "      <td>3.2</td>\n",
       "      <td>1.3</td>\n",
       "      <td>0.2</td>\n",
       "      <td>0</td>\n",
       "    </tr>\n",
       "    <tr>\n",
       "      <th>3</th>\n",
       "      <td>4.6</td>\n",
       "      <td>3.1</td>\n",
       "      <td>1.5</td>\n",
       "      <td>0.2</td>\n",
       "      <td>0</td>\n",
       "    </tr>\n",
       "    <tr>\n",
       "      <th>4</th>\n",
       "      <td>5.0</td>\n",
       "      <td>3.6</td>\n",
       "      <td>1.4</td>\n",
       "      <td>0.2</td>\n",
       "      <td>0</td>\n",
       "    </tr>\n",
       "  </tbody>\n",
       "</table>\n",
       "</div>"
      ],
      "text/plain": [
       "   sepal length  sepal width  petal length  petal width  target\n",
       "0           5.1          3.5           1.4          0.2       0\n",
       "1           4.9          3.0           1.4          0.2       0\n",
       "2           4.7          3.2           1.3          0.2       0\n",
       "3           4.6          3.1           1.5          0.2       0\n",
       "4           5.0          3.6           1.4          0.2       0"
      ]
     },
     "execution_count": 2,
     "metadata": {},
     "output_type": "execute_result"
    }
   ],
   "source": [
    "# pandas 라이브러리 불러오기\n",
    "# (2) 코드 작성 바랍니다. \n",
    "import pandas as pd\n",
    "\n",
    "# 배열을 데이터프레임으로 변환하기\n",
    "df_iris = pd.DataFrame(data = iris_data, columns=['sepal length','sepal width','petal length','petal width'])\n",
    "df_iris['target'] = iris.target\n",
    "\n",
    "# replace를 활용하여 0, 1, 2를 순차적으로 setosa, versicolor, virginica로 바꾼다. \n",
    "# (3) 코드 작성\n",
    "df_iris.head()"
   ]
  },
  {
   "cell_type": "code",
   "execution_count": 3,
   "metadata": {
    "colab": {
     "base_uri": "https://localhost:8080/",
     "height": 283
    },
    "executionInfo": {
     "elapsed": 463,
     "status": "ok",
     "timestamp": 1638512689142,
     "user": {
      "displayName": "Ji-hoon Jung",
      "photoUrl": "https://lh3.googleusercontent.com/a/default-user=s64",
      "userId": "03169308685755834042"
     },
     "user_tz": -540
    },
    "id": "ADSH3RPa7gg2",
    "outputId": "7c0f098f-229c-4be0-a2e2-9324bf09b649"
   },
   "outputs": [
    {
     "data": {
      "image/png": "[encoded data removed]",
      "text/plain": [
       "<Figure size 432x288 with 1 Axes>"
      ]
     },
     "metadata": {
      "needs_background": "light"
     },
     "output_type": "display_data"
    }
   ],
   "source": [
    "import matplotlib.pyplot as plt \n",
    "\n",
    "# 산점도 코드를 작성한다.  \n",
    "setosa = df_iris[df_iris['target'] ==0]\n",
    "versicolor = df_iris[df_iris['target'] ==1]\n",
    "virginica = df_iris[df_iris['target'] ==2]\n",
    "\n",
    "\n",
    "setosa_sc = plt.scatter(setosa['sepal length'],setosa['sepal width'], color='green')\n",
    "versicolor_sc = plt.scatter(versicolor['sepal length'],versicolor['sepal width'], color='blue')\n",
    "virginica_sc = plt.scatter(virginica['sepal length'],virginica['sepal width'],color='red')\n",
    "\n",
    "\n",
    "plt.legend((setosa_sc,versicolor_sc,virginica_sc), ('setosa','versicolor','virginica'))\n",
    "\n",
    "plt.show()"
   ]
  },
  {
   "cell_type": "markdown",
   "metadata": {
    "id": "hFE7cc9z_qrf"
   },
   "source": [
    "## 데이터셋 분리 \n",
    "- 머신러닝 모형 학습을 위해서는 훈련 데이터셋과 테스트셋으로 구분해야 합니다. "
   ]
  },
  {
   "cell_type": "code",
   "execution_count": 4,
   "metadata": {
    "id": "p5__96bjAXoS"
   },
   "outputs": [],
   "source": [
    "from sklearn.model_selection import train_test_split\n",
    "\n",
    "# 머신러닝 모형을 학습하기 위해 주어진 데이터를 X_train, X_test, y_train, y_test 분리하는 코드를 작성한다. \n",
    "# (5)\n",
    "x_train, x_test, y_train, y_test = train_test_split(iris_data, iris_target, test_size=0.3, random_state=11)"
   ]
  },
  {
   "cell_type": "markdown",
   "metadata": {
    "id": "ceBpotIoEbKq"
   },
   "source": [
    "## Decision Tree 객체 생성\n",
    "- 의사결정 트리 모형을 생성한다. "
   ]
  },
  {
   "cell_type": "code",
   "execution_count": 5,
   "metadata": {
    "id": "wY_W0XWdEeSC"
   },
   "outputs": [],
   "source": [
    "# 분류 모형 객체 생성을 위해 라이브러리 및 객체 생성을 정의한다.  \n",
    "\n",
    "# (6)\n",
    "from sklearn.tree import DecisionTreeClassifier\n",
    "# (7)\n",
    "dt_dtc = DecisionTreeClassifier(random_state=11)"
   ]
  },
  {
   "cell_type": "markdown",
   "metadata": {
    "id": "FWXkBSEyErvN"
   },
   "source": [
    "## 학습 수행\n",
    "- 이렇게 학습된 DecisionTreeClassifier 객체를 이용해 예측 수행. "
   ]
  },
  {
   "cell_type": "code",
   "execution_count": 9,
   "metadata": {
    "colab": {
     "base_uri": "https://localhost:8080/"
    },
    "executionInfo": {
     "elapsed": 5,
     "status": "ok",
     "timestamp": 1638514755525,
     "user": {
      "displayName": "Ji-hoon Jung",
      "photoUrl": "https://lh3.googleusercontent.com/a/default-user=s64",
      "userId": "03169308685755834042"
     },
     "user_tz": -540
    },
    "id": "Bb4jjLQtEqWF",
    "outputId": "a9145ba9-822d-41d4-8a83-3ec9e02cfd37"
   },
   "outputs": [
    {
     "data": {
      "text/plain": [
       "DecisionTreeClassifier(random_state=11)"
      ]
     },
     "execution_count": 9,
     "metadata": {},
     "output_type": "execute_result"
    }
   ],
   "source": [
    "# 모형 학습 코드 생성\n",
    "# (8)\n",
    "dt_dtc.fit(x_train,y_train)"
   ]
  },
  {
   "cell_type": "markdown",
   "metadata": {
    "id": "wKaOd_TnFx1o"
   },
   "source": [
    "## 테스트\n",
    "- 테스트 데이터 세트로 예측을 수행한다. "
   ]
  },
  {
   "cell_type": "code",
   "execution_count": 7,
   "metadata": {
    "colab": {
     "base_uri": "https://localhost:8080/"
    },
    "executionInfo": {
     "elapsed": 356,
     "status": "ok",
     "timestamp": 1638514798499,
     "user": {
      "displayName": "Ji-hoon Jung",
      "photoUrl": "https://lh3.googleusercontent.com/a/default-user=s64",
      "userId": "03169308685755834042"
     },
     "user_tz": -540
    },
    "id": "Lo0xFlroF2xZ",
    "outputId": "3887e175-fee6-4c76-e292-ffc1fd31e948"
   },
   "outputs": [
    {
     "data": {
      "text/plain": [
       "array([2, 2, 1, 1, 2, 0, 1, 0, 0, 1, 1, 1, 1, 2, 2, 0, 2, 1, 2, 2, 1, 0,\n",
       "       0, 1, 0, 0, 2, 1, 0, 1, 0, 2, 2, 0, 0, 2, 2, 2, 0, 2, 1, 2, 0, 1,\n",
       "       2])"
      ]
     },
     "execution_count": 7,
     "metadata": {},
     "output_type": "execute_result"
    }
   ],
   "source": [
    "# 모형 학습 후 예측 값 설정\n",
    "# (9) \n",
    "pred = dt_dtc.predict(x_test)\n",
    "pred"
   ]
  },
  {
   "cell_type": "markdown",
   "metadata": {
    "id": "R9GtI7wVF7r0"
   },
   "source": [
    "## 예측 정확도\n",
    "- 예측 데이터가 산출이 되면, 그 다음부터는 예측 성능을 평가하도록 한다. "
   ]
  },
  {
   "cell_type": "code",
   "execution_count": 8,
   "metadata": {
    "colab": {
     "base_uri": "https://localhost:8080/"
    },
    "executionInfo": {
     "elapsed": 335,
     "status": "ok",
     "timestamp": 1638514943602,
     "user": {
      "displayName": "Ji-hoon Jung",
      "photoUrl": "https://lh3.googleusercontent.com/a/default-user=s64",
      "userId": "03169308685755834042"
     },
     "user_tz": -540
    },
    "id": "gPaD9VwfGQ4C",
    "outputId": "708c7cc8-5bda-4ea9-b2b9-c762cc69360d"
   },
   "outputs": [
    {
     "name": "stdout",
     "output_type": "stream",
     "text": [
      "accuracy: 0.9111111111111111\n"
     ]
    }
   ],
   "source": [
    "from sklearn.metrics import accuracy_score\n",
    "\n",
    "# 예측 정확도를 산출한다. \n",
    "# (10)\n",
    "print(\"accuracy:\",accuracy_score(y_test,pred))"
   ]
  }
 ],
 "metadata": {
  "colab": {
   "authorship_tag": "ABX9TyNqlQB3x0o9QCiSgS8FndPQ",
   "collapsed_sections": [],
   "name": "머신러닝기반 데이터분석 문제.ipynb",
   "provenance": []
  },
  "kernelspec": {
   "display_name": "Python 3",
   "language": "python",
   "name": "python3"
  },
  "language_info": {
   "codemirror_mode": {
    "name": "ipython",
    "version": 3
   },
   "file_extension": ".py",
   "mimetype": "text/x-python",
   "name": "python",
   "nbconvert_exporter": "python",
   "pygments_lexer": "ipython3",
   "version": "3.8.8"
  }
 },
 "nbformat": 4,
 "nbformat_minor": 4
}
