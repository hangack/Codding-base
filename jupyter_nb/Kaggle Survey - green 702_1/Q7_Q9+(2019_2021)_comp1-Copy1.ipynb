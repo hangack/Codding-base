{
 "cells": [
  {
   "cell_type": "markdown",
   "metadata": {},
   "source": [
    "## import 모듈"
   ]
  },
  {
   "cell_type": "code",
   "execution_count": 1,
   "metadata": {
    "execution": {
     "iopub.execute_input": "2021-11-16T02:32:23.233348Z",
     "iopub.status.busy": "2021-11-16T02:32:23.232587Z",
     "iopub.status.idle": "2021-11-16T02:32:24.809451Z",
     "shell.execute_reply": "2021-11-16T02:32:24.808742Z",
     "shell.execute_reply.started": "2021-11-16T02:32:23.233308Z"
    }
   },
   "outputs": [],
   "source": [
    "import numpy as np\n",
    "import pandas as pd\n",
    "import matplotlib.pyplot as plt\n",
    "import plotly.express as px\n",
    "import plotly.graph_objects as go\n",
    "from plotly.subplots import make_subplots\n",
    "from warnings import filterwarnings\n",
    "filterwarnings('ignore')\n",
    "\n",
    "colors = ['#B1EDED','#B1B2ED','#1DE7ED','#1DA5ED','#1D50ED','#16548E']\n",
    "gen_colors = ['#4169E1','#B2182B','#81007F','#D1B2FF','#EFE4E2']\n",
    "jp_colors = ['#D90B0B','#F24444','#EFE4E2','#FCCE88','#64807F']\n",
    "cn_colors = ['#E0201B','#FFCE3F','#A63F03','#04BF33','#F2E6D8']"
   ]
  },
  {
   "cell_type": "markdown",
   "metadata": {},
   "source": [
    "## import data"
   ]
  },
  {
   "cell_type": "code",
   "execution_count": 2,
   "metadata": {
    "execution": {
     "iopub.execute_input": "2021-11-16T03:01:13.831628Z",
     "iopub.status.busy": "2021-11-16T03:01:13.831361Z",
     "iopub.status.idle": "2021-11-16T03:01:15.564199Z",
     "shell.execute_reply": "2021-11-16T03:01:15.563355Z",
     "shell.execute_reply.started": "2021-11-16T03:01:13.831601Z"
    }
   },
   "outputs": [],
   "source": [
    "df21 = pd.read_csv(\"https://raw.githubusercontent.com/hangack/project-green/main/Kaggle_Survey-2021/data/kaggle-survey-2021/kaggle_survey_2021_responses.csv\", dtype='unicode')\n",
    "df19 = pd.read_csv(\"https://raw.githubusercontent.com/hangack/project-green/main/Kaggle_Survey-2021/data/kaggle-survey-2019/multiple_choice_responses.csv\", dtype='unicode')\n",
    "\n",
    "#df21 = pd.read_csv(\"D:/_Bdata/Codding-base-Python/jupyter_nb/Kaggle Survey - 2021 Analysis - Plotly/kaggle_survey_2021_responses.csv\", dtype='unicode')\n",
    "#df19 = pd.read_csv(\"D:/_Bdata/Codding-base-Python/jupyter_nb/Kaggle Survey - 2021 Analysis - Plotly/multiple_choice_responses.csv\", dtype='unicode')\n",
    "\n",
    "#df21 = pd.read_csv(\"E:/Fear/Univ/Big_data/Training/Github/Codding-base-Python/jupyter_nb/Kaggle Survey - 2021 Analysis - Plotly/kaggle_survey_2021_responses.csv\", dtype='unicode')\n",
    "#df19 = pd.read_csv(\"E:/Fear/Univ/Big_data/Training/Github/Codding-base-Python/jupyter_nb/Kaggle Survey - 2021 Analysis - Plotly/multiple_choice_responses.csv\", dtype='unicode')\n",
    "\n",
    "#df21 = pd.read_csv(\"../input/kaggle-survey-2021/kaggle_survey_2021_responses.csv\", dtype='unicode')\n",
    "#df19 = pd.read_csv(\"../input/kaggle-survey-2019/multiple_choice_responses.csv\", dtype='unicode')"
   ]
  },
  {
   "cell_type": "markdown",
   "metadata": {},
   "source": [
    "## Japan & China: Programming_Languages"
   ]
  },
  {
   "cell_type": "markdown",
   "metadata": {},
   "source": [
    "### 2021 Japan & China total\n",
    "2021년 Q3(Country) 일본 중국 추출 dataframe"
   ]
  },
  {
   "cell_type": "code",
   "execution_count": 3,
   "metadata": {
    "execution": {
     "iopub.execute_input": "2021-11-16T03:02:03.395745Z",
     "iopub.status.busy": "2021-11-16T03:02:03.395449Z",
     "iopub.status.idle": "2021-11-16T03:02:03.445303Z",
     "shell.execute_reply": "2021-11-16T03:02:03.444410Z",
     "shell.execute_reply.started": "2021-11-16T03:02:03.395712Z"
    }
   },
   "outputs": [],
   "source": [
    "df21_ChJp = df21[df21.Q3.isin([\"Japan\",\"China\"])]"
   ]
  },
  {
   "cell_type": "markdown",
   "metadata": {},
   "source": [
    "### 2019 Japan & China total\n",
    "2021년 Q3(Country) 일본 중국 추출 dataframe"
   ]
  },
  {
   "cell_type": "code",
   "execution_count": 4,
   "metadata": {
    "execution": {
     "iopub.execute_input": "2021-11-16T03:05:24.066145Z",
     "iopub.status.busy": "2021-11-16T03:05:24.065498Z",
     "iopub.status.idle": "2021-11-16T03:05:24.101809Z",
     "shell.execute_reply": "2021-11-16T03:05:24.100944Z",
     "shell.execute_reply.started": "2021-11-16T03:05:24.066106Z"
    }
   },
   "outputs": [],
   "source": [
    "df19_ChJp = df19[df19.Q3.isin([\"Japan\",\"China\"])]"
   ]
  },
  {
   "cell_type": "markdown",
   "metadata": {},
   "source": [
    "### Split Country\n",
    "\n",
    "나라별 value_counts를 위해 각 나라로 dataframe 분리"
   ]
  },
  {
   "cell_type": "markdown",
   "metadata": {},
   "source": [
    "#### 2021"
   ]
  },
  {
   "cell_type": "code",
   "execution_count": 5,
   "metadata": {},
   "outputs": [
    {
     "ename": "IndexError",
     "evalue": "index 0 is out of bounds for axis 0 with size 0",
     "output_type": "error",
     "traceback": [
      "\u001b[1;31m---------------------------------------------------------------------------\u001b[0m",
      "\u001b[1;31mIndexError\u001b[0m                                Traceback (most recent call last)",
      "\u001b[1;32m<ipython-input-5-89d86f0a4d0b>\u001b[0m in \u001b[0;36m<module>\u001b[1;34m\u001b[0m\n\u001b[0;32m     11\u001b[0m \u001b[1;31m## Q7(Program_Language): 칼럼번호 8~20 - others\u001b[0m\u001b[1;33m\u001b[0m\u001b[1;33m\u001b[0m\u001b[1;33m\u001b[0m\u001b[0m\n\u001b[0;32m     12\u001b[0m \u001b[0mdf21_Ch_PL\u001b[0m \u001b[1;33m=\u001b[0m \u001b[0mpd\u001b[0m\u001b[1;33m.\u001b[0m\u001b[0mDataFrame\u001b[0m\u001b[1;33m(\u001b[0m\u001b[1;33m)\u001b[0m\u001b[1;33m\u001b[0m\u001b[1;33m\u001b[0m\u001b[0m\n\u001b[1;32m---> 13\u001b[1;33m \u001b[0mdf21_Ch_PL\u001b[0m\u001b[1;33m[\u001b[0m\u001b[1;34m'Program_Language'\u001b[0m\u001b[1;33m]\u001b[0m \u001b[1;33m=\u001b[0m \u001b[1;33m[\u001b[0m\u001b[0mdf21_Ch\u001b[0m\u001b[1;33m[\u001b[0m\u001b[0mcol\u001b[0m\u001b[1;33m]\u001b[0m\u001b[1;33m[\u001b[0m\u001b[1;36m1\u001b[0m\u001b[1;33m:\u001b[0m\u001b[1;33m]\u001b[0m\u001b[1;33m.\u001b[0m\u001b[0mvalue_counts\u001b[0m\u001b[1;33m(\u001b[0m\u001b[1;33m)\u001b[0m \u001b[1;33m.\u001b[0m\u001b[0mindex\u001b[0m\u001b[1;33m[\u001b[0m\u001b[1;36m0\u001b[0m\u001b[1;33m]\u001b[0m \u001b[1;32mfor\u001b[0m \u001b[0mcol\u001b[0m \u001b[1;32min\u001b[0m \u001b[0mdf21_Ch\u001b[0m\u001b[1;33m.\u001b[0m\u001b[0mcolumns\u001b[0m\u001b[1;33m[\u001b[0m\u001b[1;36m7\u001b[0m\u001b[1;33m:\u001b[0m\u001b[1;36m20\u001b[0m\u001b[1;33m]\u001b[0m\u001b[1;33m]\u001b[0m\u001b[1;33m\u001b[0m\u001b[1;33m\u001b[0m\u001b[0m\n\u001b[0m\u001b[0;32m     14\u001b[0m \u001b[0mdf21_Ch_PL\u001b[0m\u001b[1;33m[\u001b[0m\u001b[1;34m'counts'\u001b[0m\u001b[1;33m]\u001b[0m \u001b[1;33m=\u001b[0m \u001b[1;33m[\u001b[0m\u001b[0mdf21_Ch\u001b[0m\u001b[1;33m[\u001b[0m\u001b[0mcol\u001b[0m\u001b[1;33m]\u001b[0m\u001b[1;33m[\u001b[0m\u001b[1;36m1\u001b[0m\u001b[1;33m:\u001b[0m\u001b[1;33m]\u001b[0m\u001b[1;33m.\u001b[0m\u001b[0mvalue_counts\u001b[0m\u001b[1;33m(\u001b[0m\u001b[1;33m)\u001b[0m \u001b[1;33m.\u001b[0m\u001b[0mvalues\u001b[0m\u001b[1;33m[\u001b[0m\u001b[1;36m0\u001b[0m\u001b[1;33m]\u001b[0m \u001b[1;32mfor\u001b[0m \u001b[0mcol\u001b[0m \u001b[1;32min\u001b[0m \u001b[0mdf21_Ch\u001b[0m\u001b[1;33m.\u001b[0m\u001b[0mcolumns\u001b[0m\u001b[1;33m[\u001b[0m\u001b[1;36m7\u001b[0m\u001b[1;33m:\u001b[0m\u001b[1;36m20\u001b[0m\u001b[1;33m]\u001b[0m\u001b[1;33m]\u001b[0m\u001b[1;33m\u001b[0m\u001b[1;33m\u001b[0m\u001b[0m\n\u001b[0;32m     15\u001b[0m \u001b[1;33m\u001b[0m\u001b[0m\n",
      "\u001b[1;32m<ipython-input-5-89d86f0a4d0b>\u001b[0m in \u001b[0;36m<listcomp>\u001b[1;34m(.0)\u001b[0m\n\u001b[0;32m     11\u001b[0m \u001b[1;31m## Q7(Program_Language): 칼럼번호 8~20 - others\u001b[0m\u001b[1;33m\u001b[0m\u001b[1;33m\u001b[0m\u001b[1;33m\u001b[0m\u001b[0m\n\u001b[0;32m     12\u001b[0m \u001b[0mdf21_Ch_PL\u001b[0m \u001b[1;33m=\u001b[0m \u001b[0mpd\u001b[0m\u001b[1;33m.\u001b[0m\u001b[0mDataFrame\u001b[0m\u001b[1;33m(\u001b[0m\u001b[1;33m)\u001b[0m\u001b[1;33m\u001b[0m\u001b[1;33m\u001b[0m\u001b[0m\n\u001b[1;32m---> 13\u001b[1;33m \u001b[0mdf21_Ch_PL\u001b[0m\u001b[1;33m[\u001b[0m\u001b[1;34m'Program_Language'\u001b[0m\u001b[1;33m]\u001b[0m \u001b[1;33m=\u001b[0m \u001b[1;33m[\u001b[0m\u001b[0mdf21_Ch\u001b[0m\u001b[1;33m[\u001b[0m\u001b[0mcol\u001b[0m\u001b[1;33m]\u001b[0m\u001b[1;33m[\u001b[0m\u001b[1;36m1\u001b[0m\u001b[1;33m:\u001b[0m\u001b[1;33m]\u001b[0m\u001b[1;33m.\u001b[0m\u001b[0mvalue_counts\u001b[0m\u001b[1;33m(\u001b[0m\u001b[1;33m)\u001b[0m \u001b[1;33m.\u001b[0m\u001b[0mindex\u001b[0m\u001b[1;33m[\u001b[0m\u001b[1;36m0\u001b[0m\u001b[1;33m]\u001b[0m \u001b[1;32mfor\u001b[0m \u001b[0mcol\u001b[0m \u001b[1;32min\u001b[0m \u001b[0mdf21_Ch\u001b[0m\u001b[1;33m.\u001b[0m\u001b[0mcolumns\u001b[0m\u001b[1;33m[\u001b[0m\u001b[1;36m7\u001b[0m\u001b[1;33m:\u001b[0m\u001b[1;36m20\u001b[0m\u001b[1;33m]\u001b[0m\u001b[1;33m]\u001b[0m\u001b[1;33m\u001b[0m\u001b[1;33m\u001b[0m\u001b[0m\n\u001b[0m\u001b[0;32m     14\u001b[0m \u001b[0mdf21_Ch_PL\u001b[0m\u001b[1;33m[\u001b[0m\u001b[1;34m'counts'\u001b[0m\u001b[1;33m]\u001b[0m \u001b[1;33m=\u001b[0m \u001b[1;33m[\u001b[0m\u001b[0mdf21_Ch\u001b[0m\u001b[1;33m[\u001b[0m\u001b[0mcol\u001b[0m\u001b[1;33m]\u001b[0m\u001b[1;33m[\u001b[0m\u001b[1;36m1\u001b[0m\u001b[1;33m:\u001b[0m\u001b[1;33m]\u001b[0m\u001b[1;33m.\u001b[0m\u001b[0mvalue_counts\u001b[0m\u001b[1;33m(\u001b[0m\u001b[1;33m)\u001b[0m \u001b[1;33m.\u001b[0m\u001b[0mvalues\u001b[0m\u001b[1;33m[\u001b[0m\u001b[1;36m0\u001b[0m\u001b[1;33m]\u001b[0m \u001b[1;32mfor\u001b[0m \u001b[0mcol\u001b[0m \u001b[1;32min\u001b[0m \u001b[0mdf21_Ch\u001b[0m\u001b[1;33m.\u001b[0m\u001b[0mcolumns\u001b[0m\u001b[1;33m[\u001b[0m\u001b[1;36m7\u001b[0m\u001b[1;33m:\u001b[0m\u001b[1;36m20\u001b[0m\u001b[1;33m]\u001b[0m\u001b[1;33m]\u001b[0m\u001b[1;33m\u001b[0m\u001b[1;33m\u001b[0m\u001b[0m\n\u001b[0;32m     15\u001b[0m \u001b[1;33m\u001b[0m\u001b[0m\n",
      "\u001b[1;32mD:\\anaconda3\\lib\\site-packages\\pandas\\core\\indexes\\base.py\u001b[0m in \u001b[0;36m__getitem__\u001b[1;34m(self, key)\u001b[0m\n\u001b[0;32m   4295\u001b[0m         \u001b[1;32mif\u001b[0m \u001b[0mis_scalar\u001b[0m\u001b[1;33m(\u001b[0m\u001b[0mkey\u001b[0m\u001b[1;33m)\u001b[0m\u001b[1;33m:\u001b[0m\u001b[1;33m\u001b[0m\u001b[1;33m\u001b[0m\u001b[0m\n\u001b[0;32m   4296\u001b[0m             \u001b[0mkey\u001b[0m \u001b[1;33m=\u001b[0m \u001b[0mcom\u001b[0m\u001b[1;33m.\u001b[0m\u001b[0mcast_scalar_indexer\u001b[0m\u001b[1;33m(\u001b[0m\u001b[0mkey\u001b[0m\u001b[1;33m,\u001b[0m \u001b[0mwarn_float\u001b[0m\u001b[1;33m=\u001b[0m\u001b[1;32mTrue\u001b[0m\u001b[1;33m)\u001b[0m\u001b[1;33m\u001b[0m\u001b[1;33m\u001b[0m\u001b[0m\n\u001b[1;32m-> 4297\u001b[1;33m             \u001b[1;32mreturn\u001b[0m \u001b[0mgetitem\u001b[0m\u001b[1;33m(\u001b[0m\u001b[0mkey\u001b[0m\u001b[1;33m)\u001b[0m\u001b[1;33m\u001b[0m\u001b[1;33m\u001b[0m\u001b[0m\n\u001b[0m\u001b[0;32m   4298\u001b[0m \u001b[1;33m\u001b[0m\u001b[0m\n\u001b[0;32m   4299\u001b[0m         \u001b[1;32mif\u001b[0m \u001b[0misinstance\u001b[0m\u001b[1;33m(\u001b[0m\u001b[0mkey\u001b[0m\u001b[1;33m,\u001b[0m \u001b[0mslice\u001b[0m\u001b[1;33m)\u001b[0m\u001b[1;33m:\u001b[0m\u001b[1;33m\u001b[0m\u001b[1;33m\u001b[0m\u001b[0m\n",
      "\u001b[1;31mIndexError\u001b[0m: index 0 is out of bounds for axis 0 with size 0"
     ]
    }
   ],
   "source": [
    "df21_Ch = df21_ChJp[df21_ChJp.Q3.isin([\"China\"])]\n",
    "df21_Jp = df21_ChJp[df21_ChJp.Q3.isin([\"Japan\"])]\n",
    "\n",
    "\n",
    "## Q7(Program_Language): 칼럼번호 8~20 - others\n",
    "df21_Jp_PL = pd.DataFrame()\n",
    "df21_Jp_PL['Program_Language'] = [df21_Jp[col][1:].value_counts().index[0] for col in df21_Jp.columns[7:20]]\n",
    "df21_Jp_PL['counts'] = [df21_Jp[col][1:].value_counts().values[0] for col in df21_Jp.columns[7:20]]\n",
    "\n",
    "\n",
    "## Q7(Program_Language): 칼럼번호 8~20 - others\n",
    "df21_Ch_PL = pd.DataFrame()\n",
    "df21_Ch_PL['Program_Language'] = [df21_Ch[col][1:].value_counts() .index[0] for col in df21_Ch.columns[7:20]]\n",
    "df21_Ch_PL['counts'] = [df21_Ch[col][1:].value_counts() .values[0] for col in df21_Ch.columns[7:20]]\n",
    "\n",
    "\n",
    "\n",
    "## 제거된 나라 칼럼과 value를 각각 삽입 및 통합\n",
    "df21_Jp_PL.insert(0, 'Country',  'Japan')\n",
    "df21_Ch_PL.insert(0, 'Country',  'China')\n",
    "\n",
    "df21_PL_JnC = pd.concat([df21_Jp_PL,df21_Ch_PL], ignore_index=True)"
   ]
  },
  {
   "cell_type": "markdown",
   "metadata": {},
   "source": [
    "##### 결측 column 식별 및 제거"
   ]
  },
  {
   "cell_type": "markdown",
   "metadata": {},
   "source": [
    "***IndexError**: index 0 is out of bounds for axis 0 with size 0\n",
    "오류가 식별됐다.\n",
    "아마 China, Program_Language의 특정 응답이 없어서 발생한거같다."
   ]
  },
  {
   "cell_type": "markdown",
   "metadata": {},
   "source": [
    "N/A 개수를 식별해보자"
   ]
  },
  {
   "cell_type": "code",
   "execution_count": 8,
   "metadata": {},
   "outputs": [
    {
     "name": "stdout",
     "output_type": "stream",
     "text": [
      "df21_Ch's rows_num: 814\n",
      "Q7_Part_1      76\n",
      "Q7_Part_2     729\n",
      "Q7_Part_3     599\n",
      "Q7_Part_4     588\n",
      "Q7_Part_5     546\n",
      "Q7_Part_6     602\n",
      "Q7_Part_7     728\n",
      "Q7_Part_8     810\n",
      "Q7_Part_9     809\n",
      "Q7_Part_10    783\n",
      "Q7_Part_11    645\n",
      "Q7_Part_12    814\n",
      "Q7_OTHER      787\n",
      "dtype: int64\n"
     ]
    }
   ],
   "source": [
    "print(\"df21_Ch\\'s rows_num:\",len(df21_Ch))\n",
    "print(df21_Ch.isnull().sum().iloc[7:20])"
   ]
  },
  {
   "cell_type": "markdown",
   "metadata": {},
   "source": [
    "찾았다. Q7_Part_12 이 녀석이 문제였다.\n",
    " - 행 개수는 814개고 Part_12의 N/A 개수도 814개이다."
   ]
  },
  {
   "cell_type": "markdown",
   "metadata": {},
   "source": [
    "#####"
   ]
  },
  {
   "cell_type": "markdown",
   "metadata": {},
   "source": [
    "위 식별 과정의 시행 횟수가 많아진다면 if 문을 사용한 define을 사용해도 되겠지만 일단은 직접 제거하겠다."
   ]
  },
  {
   "cell_type": "code",
   "execution_count": null,
   "metadata": {
    "execution": {
     "iopub.execute_input": "2021-11-16T03:22:25.909396Z",
     "iopub.status.busy": "2021-11-16T03:22:25.909131Z",
     "iopub.status.idle": "2021-11-16T03:22:25.969634Z",
     "shell.execute_reply": "2021-11-16T03:22:25.968842Z",
     "shell.execute_reply.started": "2021-11-16T03:22:25.909369Z"
    }
   },
   "outputs": [],
   "source": [
    "df21_Ch = df21_ChJp[df21_ChJp.Q3.isin([\"China\"])]\n",
    "df21_Jp = df21_ChJp[df21_ChJp.Q3.isin([\"Japan\"])]\n",
    "\n",
    "\n",
    "## Q7(Program_Language): 칼럼번호 8~20 - others\n",
    "df21_Jp_PL = pd.DataFrame()\n",
    "df21_Jp_PL['Program_Language'] = [df21_Jp[col][1:].value_counts().index[0] for col in df21_Jp.columns[7:19]]\n",
    "df21_Jp_PL['counts'] = [df21_Jp[col][1:].value_counts().values[0] for col in df21_Jp.columns[7:19]]\n",
    "\n",
    "\n",
    "## 2021 China: Q7_Part12(None) value == 0이므로 결측값 제거\n",
    "df21_Ch_rmQ07P12 = df21_Ch.drop(['Q7_Part_12'], axis='columns')\n",
    "\n",
    "## Q7(Program_Language): 칼럼번호 8~20 - others - Q7_Part12(None)\n",
    "df21_Ch_PL = pd.DataFrame()\n",
    "df21_Ch_PL['Program_Language'] = [df21_Ch_rmQ07P12[col][1:].value_counts() .index[0] for col in df21_Ch_rmQ07P12.columns[7:18]]\n",
    "df21_Ch_PL['counts'] = [df21_Ch_rmQ07P12[col][1:].value_counts() .values[0] for col in df21_Ch_rmQ07P12.columns[7:18]]\n",
    "\n",
    "\n",
    "## 제거된 나라 칼럼과 value를 각각 삽입 및 통합\n",
    "df21_Jp_PL.insert(0, 'Country',  'Japan')\n",
    "df21_Ch_PL.insert(0, 'Country',  'China')\n",
    "\n",
    "df21_PL_JnC = pd.concat([df21_Jp_PL,df21_Ch_PL], ignore_index=True)"
   ]
  },
  {
   "cell_type": "markdown",
   "metadata": {},
   "source": [
    "#### 2019\n",
    "위와 동일 과정"
   ]
  },
  {
   "cell_type": "code",
   "execution_count": null,
   "metadata": {
    "execution": {
     "iopub.execute_input": "2021-11-16T03:23:51.069192Z",
     "iopub.status.busy": "2021-11-16T03:23:51.068897Z",
     "iopub.status.idle": "2021-11-16T03:23:51.114749Z",
     "shell.execute_reply": "2021-11-16T03:23:51.113900Z",
     "shell.execute_reply.started": "2021-11-16T03:23:51.069159Z"
    }
   },
   "outputs": [],
   "source": [
    "df19_Ch = df19_ChJp[df19_ChJp.Q3.isin([\"China\"])]\n",
    "df19_Jp = df19_ChJp[df19_ChJp.Q3.isin([\"Japan\"])]\n",
    "\n",
    "\n",
    "## Q18(Program_Language): 칼럼번호 83~95 - others\n",
    "df19_Jp_PL = pd.DataFrame()\n",
    "df19_Jp_PL['Program_Language'] = [df19_Jp[col][1:].value_counts().index[0] for col in df19_Jp.columns[82:94]]\n",
    "df19_Jp_PL['counts'] = [df19_Jp[col][1:].value_counts().values[0] for col in df19_Jp.columns[82:94]]\n",
    "\n",
    "\n",
    "## 2019 China Q18_Part11(None) 결측값 제거\n",
    "df19_Ch_rmQ18P11 = df19_Ch.drop(['Q18_Part_11'], axis='columns')\n",
    "\n",
    "## Q18(Program_Language): 칼럼번호 83~95 - others - Q18_Part11(None)\n",
    "df19_Ch_PL = pd.DataFrame()\n",
    "df19_Ch_PL['Program_Language'] = [df19_Ch_rmQ18P11[col][1:].value_counts() .index[0] for col in df19_Ch_rmQ18P11.columns[82:93]]\n",
    "df19_Ch_PL['counts'] = [df19_Ch_rmQ18P11[col][1:].value_counts() .values[0] for col in df19_Ch_rmQ18P11.columns[82:93]]\n",
    "\n",
    "\n",
    "\n",
    "df19_Jp_PL.insert(0, 'Country',  'Japan')\n",
    "df19_Ch_PL.insert(0, 'Country',  'China')\n",
    "\n",
    "df19_PL_JnC = pd.concat([df19_Jp_PL,df19_Ch_PL], ignore_index=True)"
   ]
  },
  {
   "cell_type": "code",
   "execution_count": null,
   "metadata": {},
   "outputs": [],
   "source": [
    "df19_Ch = df19_ChJp[df19_ChJp.Q3.isin([\"China\"])]\n",
    "df19_Jp = df19_ChJp[df19_ChJp.Q3.isin([\"Japan\"])]\n",
    "\n",
    "\n",
    "## Q18(Program_Language): 칼럼번호 83~95 - others & other(text)\n",
    "df19_Jp_PL = pd.DataFrame()\n",
    "df19_Jp_PL['Program_Language'] = [df19_Jp[col][1:].value_counts().index[0] for col in df19_Jp.columns[82:93]]\n",
    "df19_Jp_PL['counts'] = [df19_Jp[col][1:].value_counts().values[0] for col in df19_Jp.columns[82:93]]\n",
    "\n",
    "\n",
    "## 2019 China Q18_Part11(None) 결측값 제거\n",
    "df19_Ch_rmQ18P11 = df19_Ch.drop(['Q18_Part_11'], axis='columns')\n",
    "\n",
    "## Q18(Program_Language): 칼럼번호 83~95 - others & other(text) - Q18_Part11(None)\n",
    "df19_Ch_PL = pd.DataFrame()\n",
    "df19_Ch_PL['Program_Language'] = [df19_Ch_rmQ18P11[col][1:].value_counts() .index[0] for col in df19_Ch_rmQ18P11.columns[82:92]]\n",
    "df19_Ch_PL['counts'] = [df19_Ch_rmQ18P11[col][1:].value_counts() .values[0] for col in df19_Ch_rmQ18P11.columns[82:92]]\n",
    "\n",
    "\n",
    "\n",
    "df19_Jp_PL.insert(0, 'Country',  'Japan')\n",
    "df19_Ch_PL.insert(0, 'Country',  'China')\n",
    "\n",
    "df19_PL_JnC = pd.concat([df19_Jp_PL,df19_Ch_PL], ignore_index=True)"
   ]
  },
  {
   "cell_type": "markdown",
   "metadata": {},
   "source": [
    "### Split year{Country}\n",
    "\n",
    "다른 csv인 2019자료와 2021자료 통합"
   ]
  },
  {
   "cell_type": "code",
   "execution_count": null,
   "metadata": {},
   "outputs": [],
   "source": [
    "df21_PL_JnC.insert(0, 'year',  '2021')\n",
    "df19_PL_JnC.insert(0, 'year',  '2019')\n",
    "\n",
    "df_PL_JnC_21n19 = pd.concat([df21_PL_JnC,df19_PL_JnC], ignore_index=True)"
   ]
  },
  {
   "cell_type": "markdown",
   "metadata": {},
   "source": [
    "Program_Language의 19년도 21년도 통합 value_counts의 정렬(연도 - 언어 - 나라)\n",
    "\n",
    "values는 Program_Language의 value_counts\n",
    "\n",
    "color 기준: country"
   ]
  },
  {
   "cell_type": "code",
   "execution_count": null,
   "metadata": {
    "scrolled": false
   },
   "outputs": [],
   "source": [
    "fig = px.treemap(df_PL_JnC_21n19, path=[px.Constant(\"2019n2021\"),'year','Program_Language','Country'],\n",
    "                values='counts', color='Country',\n",
    "                  color_discrete_map={'(?)':'lightgrey', 'China':'gold', 'Japan':'darkblue'})\n",
    "\n",
    "fig.data[0].textinfo = 'label+percent parent+value'\n",
    "\n",
    "fig.update_layout(margin = dict(t=50, l=25, r=25, b=25))\n",
    "\n",
    "fig.show()"
   ]
  },
  {
   "cell_type": "markdown",
   "metadata": {},
   "source": [
    "## Japan & China: IDE's\n",
    "\n",
    "Program_Language과정과 동일"
   ]
  },
  {
   "cell_type": "markdown",
   "metadata": {},
   "source": [
    "### Split Country"
   ]
  },
  {
   "cell_type": "markdown",
   "metadata": {},
   "source": [
    "#### 2021"
   ]
  },
  {
   "cell_type": "code",
   "execution_count": null,
   "metadata": {
    "execution": {
     "iopub.execute_input": "2021-11-16T03:29:13.477736Z",
     "iopub.status.busy": "2021-11-16T03:29:13.477429Z",
     "iopub.status.idle": "2021-11-16T03:29:13.534874Z",
     "shell.execute_reply": "2021-11-16T03:29:13.533835Z",
     "shell.execute_reply.started": "2021-11-16T03:29:13.477703Z"
    }
   },
   "outputs": [],
   "source": [
    "## 앞선 Program_Language에서 선언된 객체로 주석처리\n",
    "#df21_Ch = df21_ChJp[df21_ChJp.Q3.isin([\"China\"])]\n",
    "#df21_Jp = df21_ChJp[df21_ChJp.Q3.isin([\"Japan\"])]\n",
    "\n",
    "\n",
    "## Q9(IDE's): 칼럼번호 22~34 - others\n",
    "df21_Jp_IDEs = pd.DataFrame()\n",
    "df21_Jp_IDEs['IDE\\'s'] = [df21_Jp[col][1:].value_counts().index[0] for col in df21_Jp.columns[21:33]]\n",
    "df21_Jp_IDEs['counts'] = [df21_Jp[col][1:].value_counts().values[0] for col in df21_Jp.columns[21:33]]\n",
    "\n",
    "\n",
    "df21_Ch_IDEs = pd.DataFrame()\n",
    "df21_Ch_IDEs['IDE\\'s'] = [df21_Ch[col][1:].value_counts().index[0] for col in df21_Ch.columns[21:33]]\n",
    "df21_Ch_IDEs['counts'] = [df21_Ch[col][1:].value_counts().values[0] for col in df21_Ch.columns[21:33]]\n",
    "\n",
    "\n",
    "\n",
    "df21_Ch_IDEs.insert(0, 'Country',  'China')\n",
    "df21_Jp_IDEs.insert(0, 'Country',  'Japan')\n",
    "\n",
    "df21_IDEs_JnC = pd.concat([df21_Jp_IDEs,df21_Ch_IDEs], ignore_index=True)"
   ]
  },
  {
   "cell_type": "markdown",
   "metadata": {},
   "source": [
    "#### 2019"
   ]
  },
  {
   "cell_type": "code",
   "execution_count": null,
   "metadata": {
    "execution": {
     "iopub.execute_input": "2021-11-16T03:32:30.883237Z",
     "iopub.status.busy": "2021-11-16T03:32:30.882954Z",
     "iopub.status.idle": "2021-11-16T03:32:30.931665Z",
     "shell.execute_reply": "2021-11-16T03:32:30.930799Z",
     "shell.execute_reply.started": "2021-11-16T03:32:30.883209Z"
    }
   },
   "outputs": [],
   "source": [
    "#df19_Ch = df19_ChJp[df19.Q3.isin([\"China\"])]\n",
    "#df19_Jp = df19_ChJp[df19.Q3.isin([\"Japan\"])]\n",
    "\n",
    "\n",
    "## Q16(IDE's): 칼럼번호 57~69 - others\n",
    "df19_Jp_IDEs = pd.DataFrame()\n",
    "df19_Jp_IDEs['IDE\\'s'] = [df19_Jp[col][1:].value_counts().index[0] for col in df19_Jp.columns[56:68]]\n",
    "df19_Jp_IDEs['counts'] = [df19_Jp[col][1:].value_counts().values[0] for col in df19_Jp.columns[56:68]]\n",
    "\n",
    "\n",
    "df19_Ch_IDEs = pd.DataFrame()\n",
    "df19_Ch_IDEs['IDE\\'s'] = [df19_Ch[col][1:].value_counts().index[0] for col in df19_Ch.columns[56:68]]\n",
    "df19_Ch_IDEs['counts'] = [df19_Ch[col][1:].value_counts().values[0] for col in df19_Ch.columns[56:68]]\n",
    "\n",
    "\n",
    "\n",
    "df19_Jp_IDEs.insert(0, 'Country',  'China')\n",
    "df19_Ch_IDEs.insert(0, 'Country',  'Japan')\n",
    "\n",
    "df19_IDEs_JnC = pd.concat([df19_Jp_IDEs,df19_Ch_IDEs], ignore_index=True)"
   ]
  },
  {
   "cell_type": "code",
   "execution_count": null,
   "metadata": {},
   "outputs": [],
   "source": [
    "#df19_Ch = df19_ChJp[df19.Q3.isin([\"China\"])]\n",
    "#df19_Jp = df19_ChJp[df19.Q3.isin([\"Japan\"])]\n",
    "\n",
    "\n",
    "## Q16(IDE's): 칼럼번호 57~69 - others & other(text)\n",
    "df19_Jp_IDEs = pd.DataFrame()\n",
    "df19_Jp_IDEs['IDE\\'s'] = [df19_Jp[col][1:].value_counts().index[0] for col in df19_Jp.columns[56:67]]\n",
    "df19_Jp_IDEs['counts'] = [df19_Jp[col][1:].value_counts().values[0] for col in df19_Jp.columns[56:67]]\n",
    "\n",
    "\n",
    "df19_Ch_IDEs = pd.DataFrame()\n",
    "df19_Ch_IDEs['IDE\\'s'] = [df19_Ch[col][1:].value_counts().index[0] for col in df19_Ch.columns[56:67]]\n",
    "df19_Ch_IDEs['counts'] = [df19_Ch[col][1:].value_counts().values[0] for col in df19_Ch.columns[56:67]]\n",
    "\n",
    "\n",
    "\n",
    "df19_Jp_IDEs.insert(0, 'Country',  'China')\n",
    "df19_Ch_IDEs.insert(0, 'Country',  'Japan')\n",
    "\n",
    "df19_IDEs_JnC = pd.concat([df19_Jp_IDEs,df19_Ch_IDEs], ignore_index=True)"
   ]
  },
  {
   "cell_type": "markdown",
   "metadata": {},
   "source": [
    "### Split year{Country}"
   ]
  },
  {
   "cell_type": "code",
   "execution_count": null,
   "metadata": {},
   "outputs": [],
   "source": [
    "df21_IDEs_JnC.insert(0, 'year',  '2021')\n",
    "#df21_JCQ9.rename(columns={'Q9':'IDE'}, inplace = True)\n",
    "df19_IDEs_JnC.insert(0, 'year',  '2019')\n",
    "#df19_JCQ9.rename(columns={'Q16':'IDE'}, inplace = True)\n",
    "\n",
    "df_IDEs_JnC_21n19 = pd.concat([df21_IDEs_JnC,df19_IDEs_JnC], ignore_index=True)"
   ]
  },
  {
   "cell_type": "markdown",
   "metadata": {},
   "source": [
    "IDE's 요소명 간랸화\n",
    "\n",
    "[pandas replace](https://pandas.pydata.org/docs/reference/api/pandas.DataFrame.replace.html)"
   ]
  },
  {
   "cell_type": "code",
   "execution_count": null,
   "metadata": {},
   "outputs": [],
   "source": [
    "#df_IDEs_JnC_21n19.replace('Jupyter (JupyterLab, Jupyter Notebooks, etc)', 'Jupyter', inplace = True)\n",
    "#df_IDEs_JnC_21n19.replace('Visual Studio / Visual Studio Code', 'VS / VSCode', inplace = True)\n",
    "#df_IDEs_JnC_21n19.replace(regex = 'Jupyter (JupyterLab, Jupyter Notebooks, etc) ', value = 'Jupyter', inplace = True)\n",
    "df_IDEs_JnC_21n19.replace(to_replace = 'Jupyter (JupyterLab, Jupyter Notebooks, etc) ', value = 'Jupyter', inplace = True)\n",
    "df_IDEs_JnC_21n19.replace(to_replace = 'Visual Studio / Visual Studio Code', value = 'VS / VSCode', inplace = True, regex = True)"
   ]
  },
  {
   "cell_type": "code",
   "execution_count": null,
   "metadata": {
    "scrolled": false
   },
   "outputs": [],
   "source": [
    "fig = px.treemap(df_IDEs_JnC_21n19, path=[px.Constant(\"2019n2021\"),'year','IDE\\'s','Country'],\n",
    "                values='counts', color='Country',\n",
    "                  color_discrete_map={'(?)':'lightgrey', 'China':'gold', 'Japan':'darkblue'})\n",
    "\n",
    "fig.data[0].textinfo = 'label+percent parent+value'\n",
    "\n",
    "fig.update_layout(margin = dict(t=50, l=25, r=25, b=25))\n",
    "\n",
    "fig.show()"
   ]
  },
  {
   "cell_type": "markdown",
   "metadata": {},
   "source": [
    "### 외부링크\n",
    "\n",
    " - [데이터프레임 합치기](https://yganalyst.github.io/data_handling/Pd_12/)\n",
    " - [행열 이름 변경](https://mizykk.tistory.com/131)\n",
    " - [pd insert](https://pandas.pydata.org/docs/reference/api/pandas.DataFrame.insert.html)\n",
    "     - [Ex1](https://www.delftstack.com/ko/howto/python-pandas/how-to-add-new-column-to-existing-dataframe-in-python-pandas/)\n",
    "     - [Ex2](https://m.blog.naver.com/PostView.naver?isHttpsRedirect=true&blogId=rising_n_falling&logNo=221631637822)"
   ]
  },
  {
   "cell_type": "markdown",
   "metadata": {},
   "source": [
    "## ML(machine learning) frameworks"
   ]
  },
  {
   "cell_type": "code",
   "execution_count": null,
   "metadata": {},
   "outputs": [],
   "source": [
    "df21_ChJp = df21[df21.Q3.isin([\"Japan\",\"China\"])]\n",
    "\n",
    "df21_ChJp_total_ML = pd.DataFrame()\n",
    "df21_ChJp_total_ML['ML'] = [df21_ChJp[col][1:].value_counts().index[0] for col in df21_ChJp.columns[72:91]]\n",
    "df21_ChJp_total_ML['counts'] = [df21_ChJp[col][1:].value_counts().values[0] for col in df21_ChJp.columns[72:91]]"
   ]
  },
  {
   "cell_type": "code",
   "execution_count": null,
   "metadata": {},
   "outputs": [],
   "source": [
    "fig = px.treemap(df21_ChJp_total_ML, path=[px.Constant(\"2021: Jp+Ch\"),'ML'],\n",
    "                values='counts', color='counts')\n",
    "\n",
    "fig.data[0].textinfo = 'label+percent parent'\n",
    "\n",
    "fig.show()"
   ]
  },
  {
   "cell_type": "code",
   "execution_count": null,
   "metadata": {},
   "outputs": [],
   "source": [
    "df19_ChJp = df19[df19.Q3.isin([\"Japan\",\"China\"])]\n",
    "\n",
    "df19_ChJp_total_ML = pd.DataFrame()\n",
    "df19_ChJp_total_ML['ML'] = [df19_ChJp[col][1:].value_counts().index[0] for col in df19_ChJp.columns[155:168]]\n",
    "df19_ChJp_total_ML['counts'] = [df19_ChJp[col][1:].value_counts().values[0] for col in df19_ChJp.columns[155:168]]"
   ]
  },
  {
   "cell_type": "code",
   "execution_count": null,
   "metadata": {},
   "outputs": [],
   "source": [
    "fig = px.treemap(df19_ChJp_total_ML, path=[px.Constant(\"2019: Jp+Ch\"),'ML'],\n",
    "                values='counts', color='counts')\n",
    "\n",
    "fig.data[0].textinfo = 'label+percent parent'\n",
    "\n",
    "fig.show()"
   ]
  }
 ],
 "metadata": {
  "kernelspec": {
   "display_name": "Python 3",
   "language": "python",
   "name": "python3"
  },
  "language_info": {
   "codemirror_mode": {
    "name": "ipython",
    "version": 3
   },
   "file_extension": ".py",
   "mimetype": "text/x-python",
   "name": "python",
   "nbconvert_exporter": "python",
   "pygments_lexer": "ipython3",
   "version": "3.8.8"
  }
 },
 "nbformat": 4,
 "nbformat_minor": 4
}
